{
 "cells": [
  {
   "metadata": {},
   "cell_type": "markdown",
   "source": [
    "    A Minimalist Computation Graph Framework \n",
    "https://github.com/davidrosenberg/mlcourse/blob/gh-pages/Notebooks/computation-graph/computation-graph-framework.ipynb"
   ],
   "id": "aa3edf2027219f10"
  },
  {
   "metadata": {
    "ExecuteTime": {
     "end_time": "2024-05-16T00:51:08.299263Z",
     "start_time": "2024-05-16T00:51:08.165456Z"
    }
   },
   "cell_type": "code",
   "source": [
    "import numpy as np\n",
    "from IPython.display import Image"
   ],
   "id": "add648b5a82620e8",
   "outputs": [],
   "execution_count": 2
  },
  {
   "metadata": {},
   "cell_type": "markdown",
   "source": [
    "We start with a completely trival example by making a computation graph with a single node,  representing a scalar value $x$. To represent $x$, we'll use a node called a \"value node\", since it takes no input, but its output is the value of $x$.  Later, in machine learning contexts, we'll use nodes of this type to represent inputs, outcomes, and parameters.\n",
    "\n",
    "We will interpret this single-node computation graph as representing the function $f(x)=x$.  Thus the \"graph output\", i.e the scalar-valued output of the function our computation graph represents, is also the scalar $x$.  We will refer to the node whose output is the graph output as the \"graph output node\".  Our computation graphs are only designed to represent scalar-valued functions, since our goal is to find inputs that minimize of maximize the function, and it's not clear what that means for a vector-valued function.\n",
    "\n",
    "We will represent value nodes by instances of the class `ValueNode`, defined below:"
   ],
   "id": "423fc3f1c9dd1b9"
  },
  {
   "metadata": {
    "ExecuteTime": {
     "end_time": "2024-05-16T00:51:12.826196Z",
     "start_time": "2024-05-16T00:51:12.822800Z"
    }
   },
   "cell_type": "code",
   "source": [
    "class ValueNode(object):\n",
    "    \"\"\"Computation graph node having no input but simply holding a value\"\"\"\n",
    "    def __init__(self, node_name):\n",
    "        self.node_name = node_name\n",
    "        self.out = None\n",
    "        self.d_out = None\n",
    "    \n",
    "    def forward(self):\n",
    "        self.d_out = np.zeros(self.out.shape)\n",
    "        return self.out\n",
    "    \n",
    "    def backward(self):\n",
    "        return self.d_out\n",
    "    \n",
    "    def get_predecessors(self):\n",
    "        return []\n",
    "    "
   ],
   "id": "35e3c174ed38cfc1",
   "outputs": [],
   "execution_count": 3
  },
  {
   "metadata": {},
   "cell_type": "markdown",
   "source": "To give a `ValueNode` a particular output value, we directly set it.  It should always be a numpy array. For example, for a scalar value we can set it as follows:",
   "id": "926d7e1834591fbe"
  },
  {
   "metadata": {
    "ExecuteTime": {
     "end_time": "2024-05-16T00:51:20.599917Z",
     "start_time": "2024-05-16T00:51:20.596797Z"
    }
   },
   "cell_type": "code",
   "source": [
    "x = ValueNode(\"x\")\n",
    "x.out = np.array(3)"
   ],
   "id": "8cfde1fa6d1689d9",
   "outputs": [],
   "execution_count": 4
  },
  {
   "metadata": {},
   "cell_type": "markdown",
   "source": [
    "In backpropagation, we compute the partial derivative of the graph output with respect to the outputs of every node in the graph. Every node in the graph contains an instance variable called out, witch is a numpy array representing the output of that node.\n",
    "\n",
    "Every node also has an instance variable d_out, which during backpropagation is set to contain the partial derivatives of the graph output with respect to the entries of out of the same node. In general, a variable named d_X wil be used tO represent the derivative of the graph output with respect to X. So ir we use J to represent the sacalar-valued graph output as we commonly do, then d_out, d_x, and d_y should be undenstood to represent $\\frac{\\partial J}{\\partial \\text{out}}$, $\\frac{\\partial J}{\\partial \\text{x}}$, and $\\frac{\\partial J}{\\partial \\text{y}}$, respectively. \n",
    "\n",
    " In any node, `d_out` will always be a `numpy` array of the same shape as `out`.\n",
    "\n",
    "Backpropagation always starts by setting `d_out` for the graph output node to the scalar `1`, since it is the partial derivative of the graph output with repect to itself.\n",
    "\n",
    "Let's do that for the node in our trivial example.  Note that for a `ValueNode`, the `backward` function just returns `d_out`."
   ],
   "id": "632b6a2f850874ec"
  },
  {
   "metadata": {},
   "cell_type": "markdown",
   "source": "",
   "id": "d950e9c5cacfffe8"
  },
  {
   "metadata": {
    "ExecuteTime": {
     "end_time": "2024-05-16T00:51:29.272856Z",
     "start_time": "2024-05-16T00:51:29.269136Z"
    }
   },
   "cell_type": "code",
   "source": [
    "x = ValueNode(\"x\")\n",
    "x.out = np.array(3) # set the value of x\n",
    "print(x.forward()) # both the node output and the graph output\n",
    "x.d_out = np.array(1) # initialize backpropagation\n",
    "print(x.backward()) # the partial derivative of the graph output w.r.t. the output of x"
   ],
   "id": "db58fbd71641dc96",
   "outputs": [
    {
     "name": "stdout",
     "output_type": "stream",
     "text": [
      "3\n",
      "1\n"
     ]
    }
   ],
   "execution_count": 5
  },
  {
   "metadata": {},
   "cell_type": "markdown",
   "source": [
    "Implementation of $ f(x) = x^2 $\n",
    "\n",
    "Let's now consider our first nontrivial function: $f(x)=x^2$.\n",
    "The scalar value of the graph output will be $ J = f(x) $. An illustration of a computation graph for this function is shown bellow."
   ],
   "id": "57d805d1244f88df"
  },
  {
   "metadata": {
    "ExecuteTime": {
     "end_time": "2024-05-15T19:52:41.859320Z",
     "start_time": "2024-05-15T19:52:41.855324Z"
    }
   },
   "cell_type": "code",
   "source": "Image(\"images/comp-graph-xSquared.png\")",
   "id": "ecc262fc2b6693ce",
   "outputs": [
    {
     "data": {
      "image/png": "[encoded data removed]",
      "text/plain": [
       "<IPython.core.display.Image object>"
      ]
     },
     "execution_count": 8,
     "metadata": {},
     "output_type": "execute_result"
    }
   ],
   "execution_count": 8
  },
  {
   "metadata": {},
   "cell_type": "markdown",
   "source": [
    "Note that $f_{in}$ and $x_{out}$ are always equal in this graph, so you may be wondering why we give two separate names. In more complicated graphs (such as our next example), $x_{out}$ may serve as input to multiple nodes, ande we will neeed to consider that happens when we change $f_{in}$ independently of the oter node inputs connected to $x_{out}$. \n",
    "\n",
    "To represent this computation graph in code, we will use two nodes. The first node will be the same ValueNode x defined abobe. For the second node, f, we will create a new node type for the squaring computation. The code is as follows:"
   ],
   "id": "58732ae11ccd0653"
  },
  {
   "metadata": {
    "ExecuteTime": {
     "end_time": "2024-05-16T00:51:34.579326Z",
     "start_time": "2024-05-16T00:51:34.575567Z"
    }
   },
   "cell_type": "code",
   "source": [
    "class SquareNode(object):\n",
    "    \"\"\"Node for squaring a scalar\"\"\"\n",
    "    def __init__(self, x, node_name):\n",
    "        \"\"\"\n",
    "         Parameters:\n",
    "        :param x: a node producing a scalar as a numpy array\n",
    "        :param node_name: node's name (string)\n",
    "        \"\"\"\n",
    "        self.node_name = node_name\n",
    "        self.out = None\n",
    "        self.d_out = None\n",
    "        self.x = x # Store a reference to node providing input to this node\n",
    "        \n",
    "    def forward(self):\n",
    "        self.out = self.x.out ** 2\n",
    "        self.d_out = np.zeros(self.out.shape)\n",
    "        return self.out\n",
    "    \n",
    "    def backward(self):\n",
    "        # Preconditions: self.d_out contains the partial derivatives of the graph output w.r.t. self.out\n",
    "        d_x = self.d_out*2*self.x.out\n",
    "        self.x.d_out += d_x\n",
    "        return self.d_out\n",
    "    \n",
    "    def get_predecessors(self):\n",
    "        \"\"\"Get ist of node's predecessors\"\"\"\n",
    "        return [self.x]\n",
    "            \n",
    "            "
   ],
   "id": "ccff528651f35a17",
   "outputs": [],
   "execution_count": 6
  },
  {
   "metadata": {},
   "cell_type": "markdown",
   "source": [
    "Note that in the `SquareNode` object `f`, the instance variables `self.x` and `self.out` correspond to $f_\\text{in}$ and $f_\\text{out}$, respectively, while `self.d_out` corresponds to $\\frac{\\partial J}{\\partial f_\\text{out}}$.\n",
    "\n",
    "Let's walk through the code for `backward`.  First, before `backward` is called, we assume that `self.d_out` contains the value $\\frac{\\partial J}{\\partial f_\\text{out}}$.  In the first line of code of `backward`, we are doing the following computation:\n",
    "\n",
    "$$\n",
    "\\frac{\\partial J}{\\partial f_\\text{in}} = \\left(\\frac{\\partial J}{\\partial f_\\text{out}}\\right)\\left(\\frac{\\partial f_\\text{out}}{\\partial f_\\text{in}}\\right)\\\\ = \\left(\\mathtt{self.d\\_out}\\right)\\left(2 \\cdot \\mathtt{self.x.out} \\right)\n",
    "$$\n",
    "\n",
    "We store the resulting value in `d_x`.  Next, we increment `self.x.d_out` so that value will contain $\\frac{\\partial{J}}{\\partial{\\mathtt{x_{out}}}}$.   In this particular situation, we could also have just set `self.x.d_out = d_x`, but in cases that the node `self.x` serves as input to multiple nodes, recall that we must add up gradient contributions from all of its children.  We'll revisit this when we get to a more complicated example.\n",
    "\n",
    "Let's now construct the computation graph and evaluate it for a particular input value.  To do this, we construct the `ValueNode` `x`, which will contain our function input, and then `SquareNode` `f`, which gets a reference to `ValueNode` `x`, which essentially \"connects\" the nodes.  To evaluate the graph for a particular value, we first directly set the `out` field of the `ValueNode` `x`.  Then we call `forward` on `x` and then `f`.  After this \"forward pass\", the `out` variable in `f`, the graph output node, will contain the graph output.\n"
   ],
   "id": "168d3788bfbf0e32"
  },
  {
   "metadata": {
    "ExecuteTime": {
     "end_time": "2024-05-16T00:51:45.578959Z",
     "start_time": "2024-05-16T00:51:45.573586Z"
    }
   },
   "cell_type": "code",
   "source": [
    "# Construct the computation graph\n",
    "x = ValueNode(\"x\") # a graph input node\n",
    "f = SquareNode(x, \"Squaring Node\")  #graph output node\n",
    "# Set the input value\n",
    "x.out = np.array(7) \n",
    "# Compute a forward pass\n",
    "x.forward() \n",
    "f.forward() # returns the graph output"
   ],
   "id": "e7452dcf0abba37f",
   "outputs": [
    {
     "data": {
      "text/plain": [
       "49"
      ]
     },
     "execution_count": 7,
     "metadata": {},
     "output_type": "execute_result"
    }
   ],
   "execution_count": 7
  },
  {
   "metadata": {},
   "cell_type": "code",
   "outputs": [],
   "execution_count": null,
   "source": "",
   "id": "8c76494eb7600597"
  }
 ],
 "metadata": {
  "kernelspec": {
   "display_name": "Python 3",
   "language": "python",
   "name": "python3"
  },
  "language_info": {
   "codemirror_mode": {
    "name": "ipython",
    "version": 2
   },
   "file_extension": ".py",
   "mimetype": "text/x-python",
   "name": "python",
   "nbconvert_exporter": "python",
   "pygments_lexer": "ipython2",
   "version": "2.7.6"
  }
 },
 "nbformat": 4,
 "nbformat_minor": 5
}
