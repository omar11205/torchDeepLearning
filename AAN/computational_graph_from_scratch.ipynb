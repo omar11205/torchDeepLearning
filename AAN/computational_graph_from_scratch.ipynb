{
 "cells": [
  {
   "metadata": {},
   "cell_type": "markdown",
   "source": [
    "    A Minimalist Computation Graph Framework \n",
    "https://github.com/davidrosenberg/mlcourse/blob/gh-pages/Notebooks/computation-graph/computation-graph-framework.ipynb"
   ],
   "id": "aa3edf2027219f10"
  },
  {
   "metadata": {
    "ExecuteTime": {
     "end_time": "2024-05-22T22:54:48.251752Z",
     "start_time": "2024-05-22T22:54:48.161349Z"
    }
   },
   "cell_type": "code",
   "source": [
    "import numpy as np\n",
    "from IPython.display import Image"
   ],
   "id": "add648b5a82620e8",
   "outputs": [],
   "execution_count": 1
  },
  {
   "metadata": {},
   "cell_type": "markdown",
   "source": [
    "We start with a completely trival example by making a computation graph with a single node,  representing a scalar value $x$. To represent $x$, we'll use a node called a \"value node\", since it takes no input, but its output is the value of $x$.  Later, in machine learning contexts, we'll use nodes of this type to represent inputs, outcomes, and parameters.\n",
    "\n",
    "We will interpret this single-node computation graph as representing the function $f(x)=x$.  Thus the \"graph output\", i.e the scalar-valued output of the function our computation graph represents, is also the scalar $x$.  We will refer to the node whose output is the graph output as the \"graph output node\".  Our computation graphs are only designed to represent scalar-valued functions, since our goal is to find inputs that minimize of maximize the function, and it's not clear what that means for a vector-valued function.\n",
    "\n",
    "We will represent value nodes by instances of the class `ValueNode`, defined below:"
   ],
   "id": "423fc3f1c9dd1b9"
  },
  {
   "metadata": {
    "ExecuteTime": {
     "end_time": "2024-05-22T22:54:48.255856Z",
     "start_time": "2024-05-22T22:54:48.252760Z"
    }
   },
   "cell_type": "code",
   "source": [
    "class ValueNode(object):\n",
    "    \"\"\"Computation graph node having no input but simply holding a value\"\"\"\n",
    "    def __init__(self, node_name):\n",
    "        self.node_name = node_name\n",
    "        self.out = None\n",
    "        self.d_out = None\n",
    "    \n",
    "    def forward(self):\n",
    "        self.d_out = np.zeros(self.out.shape)\n",
    "        return self.out\n",
    "    \n",
    "    def backward(self):\n",
    "        return self.d_out\n",
    "    \n",
    "    def get_predecessors(self):\n",
    "        return []\n",
    "    "
   ],
   "id": "35e3c174ed38cfc1",
   "outputs": [],
   "execution_count": 2
  },
  {
   "metadata": {},
   "cell_type": "markdown",
   "source": "To give a `ValueNode` a particular output value, we directly set it.  It should always be a numpy array. For example, for a scalar value we can set it as follows:",
   "id": "926d7e1834591fbe"
  },
  {
   "metadata": {
    "ExecuteTime": {
     "end_time": "2024-05-22T22:54:48.258864Z",
     "start_time": "2024-05-22T22:54:48.256863Z"
    }
   },
   "cell_type": "code",
   "source": [
    "x = ValueNode(\"x\")\n",
    "x.out = np.array(3)"
   ],
   "id": "8cfde1fa6d1689d9",
   "outputs": [],
   "execution_count": 3
  },
  {
   "metadata": {},
   "cell_type": "markdown",
   "source": [
    "In backpropagation, we compute the partial derivative of the graph output with respect to the outputs of every node in the graph. Every node in the graph contains an instance variable called out, witch is a numpy array representing the output of that node.\n",
    "\n",
    "Every node also has an instance variable d_out, which during backpropagation is set to contain the partial derivatives of the graph output with respect to the entries of out of the same node. In general, a variable named d_X wil be used tO represent the derivative of the graph output with respect to X. So ir we use J to represent the sacalar-valued graph output as we commonly do, then d_out, d_x, and d_y should be undenstood to represent $\\frac{\\partial J}{\\partial \\text{out}}$, $\\frac{\\partial J}{\\partial \\text{x}}$, and $\\frac{\\partial J}{\\partial \\text{y}}$, respectively. \n",
    "\n",
    " In any node, `d_out` will always be a `numpy` array of the same shape as `out`.\n",
    "\n",
    "Backpropagation always starts by setting `d_out` for the graph output node to the scalar `1`, since it is the partial derivative of the graph output with repect to itself.\n",
    "\n",
    "Let's do that for the node in our trivial example.  Note that for a `ValueNode`, the `backward` function just returns `d_out`."
   ],
   "id": "632b6a2f850874ec"
  },
  {
   "metadata": {},
   "cell_type": "markdown",
   "source": "",
   "id": "d950e9c5cacfffe8"
  },
  {
   "metadata": {
    "ExecuteTime": {
     "end_time": "2024-05-22T22:54:48.262164Z",
     "start_time": "2024-05-22T22:54:48.258864Z"
    }
   },
   "cell_type": "code",
   "source": [
    "x = ValueNode(\"x\")\n",
    "x.out = np.array(3) # set the value of x\n",
    "print(x.forward()) # both the node output and the graph output\n",
    "x.d_out = np.array(1) # initialize backpropagation\n",
    "print(x.backward()) # the partial derivative of the graph output w.r.t. the output of x"
   ],
   "id": "db58fbd71641dc96",
   "outputs": [
    {
     "name": "stdout",
     "output_type": "stream",
     "text": [
      "3\n",
      "1\n"
     ]
    }
   ],
   "execution_count": 4
  },
  {
   "metadata": {},
   "cell_type": "markdown",
   "source": [
    "Implementation of $ f(x) = x^2 $\n",
    "\n",
    "Let's now consider our first nontrivial function: $f(x)=x^2$.\n",
    "The scalar value of the graph output will be $ J = f(x) $. An illustration of a computation graph for this function is shown bellow."
   ],
   "id": "57d805d1244f88df"
  },
  {
   "metadata": {
    "ExecuteTime": {
     "end_time": "2024-05-22T22:54:48.268176Z",
     "start_time": "2024-05-22T22:54:48.263169Z"
    }
   },
   "cell_type": "code",
   "source": "Image(\"images/comp-graph-xSquared.png\")",
   "id": "ecc262fc2b6693ce",
   "outputs": [
    {
     "data": {
      "image/png": "[encoded data removed]",
      "text/plain": [
       "<IPython.core.display.Image object>"
      ]
     },
     "execution_count": 5,
     "metadata": {},
     "output_type": "execute_result"
    }
   ],
   "execution_count": 5
  },
  {
   "metadata": {},
   "cell_type": "markdown",
   "source": [
    "Note that $f_{in}$ and $x_{out}$ are always equal in this graph, so you may be wondering why we give two separate names. In more complicated graphs (such as our next example), $x_{out}$ may serve as input to multiple nodes, ande we will neeed to consider that happens when we change $f_{in}$ independently of the oter node inputs connected to $x_{out}$. \n",
    "\n",
    "To represent this computation graph in code, we will use two nodes. The first node will be the same ValueNode x defined abobe. For the second node, f, we will create a new node type for the squaring computation. The code is as follows:"
   ],
   "id": "58732ae11ccd0653"
  },
  {
   "metadata": {
    "ExecuteTime": {
     "end_time": "2024-05-22T22:54:48.271766Z",
     "start_time": "2024-05-22T22:54:48.268176Z"
    }
   },
   "cell_type": "code",
   "source": [
    "class SquareNode(object):\n",
    "    \"\"\"Node for squaring a scalar\"\"\"\n",
    "    def __init__(self, x, node_name):\n",
    "        \"\"\"\n",
    "         Parameters:\n",
    "        :param x: a node producing a scalar as a numpy array\n",
    "        :param node_name: node's name (string)\n",
    "        \"\"\"\n",
    "        self.node_name = node_name\n",
    "        self.out = None\n",
    "        self.d_out = None\n",
    "        self.x = x # Store a reference to node providing input to this node\n",
    "        \n",
    "    def forward(self):\n",
    "        self.out = self.x.out ** 2\n",
    "        self.d_out = np.zeros(self.out.shape)\n",
    "        return self.out\n",
    "    \n",
    "    def backward(self):\n",
    "        # Preconditions: self.d_out contains the partial derivatives of the graph output w.r.t. self.out\n",
    "        d_x = self.d_out*2*self.x.out\n",
    "        self.x.d_out += d_x\n",
    "        return self.d_out\n",
    "    \n",
    "    def get_predecessors(self):\n",
    "        \"\"\"Get ist of node's predecessors\"\"\"\n",
    "        return [self.x]\n",
    "            \n",
    "            "
   ],
   "id": "ccff528651f35a17",
   "outputs": [],
   "execution_count": 6
  },
  {
   "metadata": {},
   "cell_type": "markdown",
   "source": [
    "Note that in the `SquareNode` object `f`, the instance variables `self.x` and `self.out` correspond to $f_\\text{in}$ and $f_\\text{out}$, respectively, while `self.d_out` corresponds to $\\frac{\\partial J}{\\partial f_\\text{out}}$.\n",
    "\n",
    "Let's walk through the code for `backward`.  First, before `backward` is called, we assume that `self.d_out` contains the value $\\frac{\\partial J}{\\partial f_\\text{out}}$.  In the first line of code of `backward`, we are doing the following computation:\n",
    "\n",
    "$$\n",
    "\\frac{\\partial J}{\\partial f_\\text{in}} = \\left(\\frac{\\partial J}{\\partial f_\\text{out}}\\right)\\left(\\frac{\\partial f_\\text{out}}{\\partial f_\\text{in}}\\right)\\\\ = \\left(\\mathtt{self.d\\_out}\\right)\\left(2 \\cdot \\mathtt{self.x.out} \\right)\n",
    "$$\n",
    "\n",
    "We store the resulting value in `d_x`.  Next, we increment `self.x.d_out` so that value will contain $\\frac{\\partial{J}}{\\partial{\\mathtt{x_{out}}}}$.   In this particular situation, we could also have just set `self.x.d_out = d_x`, but in cases that the node `self.x` serves as input to multiple nodes, recall that we must add up gradient contributions from all of its children.  We'll revisit this when we get to a more complicated example.\n",
    "\n",
    "Let's now construct the computation graph and evaluate it for a particular input value.  To do this, we construct the `ValueNode` `x`, which will contain our function input, and then `SquareNode` `f`, which gets a reference to `ValueNode` `x`, which essentially \"connects\" the nodes.  To evaluate the graph for a particular value, we first directly set the `out` field of the `ValueNode` `x`.  Then we call `forward` on `x` and then `f`.  After this \"forward pass\", the `out` variable in `f`, the graph output node, will contain the graph output.\n"
   ],
   "id": "168d3788bfbf0e32"
  },
  {
   "metadata": {
    "ExecuteTime": {
     "end_time": "2024-05-22T22:54:48.275486Z",
     "start_time": "2024-05-22T22:54:48.271766Z"
    }
   },
   "cell_type": "code",
   "source": [
    "# Construct the computation graph\n",
    "x = ValueNode(\"x\") # a graph input node\n",
    "f = SquareNode(x, \"Squaring Node\")  #graph output node\n",
    "# Set the input value\n",
    "x.out = np.array(7) \n",
    "# Compute a forward pass\n",
    "x.forward() \n",
    "f.forward() # returns the graph output"
   ],
   "id": "e7452dcf0abba37f",
   "outputs": [
    {
     "data": {
      "text/plain": [
       "49"
      ]
     },
     "execution_count": 7,
     "metadata": {},
     "output_type": "execute_result"
    }
   ],
   "execution_count": 7
  },
  {
   "metadata": {},
   "cell_type": "markdown",
   "source": "To run backpropagation, we start, as always, by setting `d_out` for the graph output node to be the scalar `1`.  Then we run `backward` on each node in a reverse topological order (i.e. children before parents). ",
   "id": "1036a3c4ddb1b9c0"
  },
  {
   "metadata": {
    "ExecuteTime": {
     "end_time": "2024-05-22T22:54:48.279207Z",
     "start_time": "2024-05-22T22:54:48.275486Z"
    }
   },
   "cell_type": "code",
   "source": [
    "f.d_out = np.array(1)\n",
    "f.backward()\n",
    "x.backward()"
   ],
   "id": "3003a7008dde4d44",
   "outputs": [
    {
     "data": {
      "text/plain": [
       "array(14.)"
      ]
     },
     "execution_count": 8,
     "metadata": {},
     "output_type": "execute_result"
    }
   ],
   "execution_count": 8
  },
  {
   "metadata": {},
   "cell_type": "markdown",
   "source": "### Gradient descent with a computation graph",
   "id": "5a34cf3ad0dab3b1"
  },
  {
   "metadata": {
    "ExecuteTime": {
     "end_time": "2024-05-22T22:54:48.283614Z",
     "start_time": "2024-05-22T22:54:48.279207Z"
    }
   },
   "cell_type": "code",
   "source": [
    "obj_vals = []\n",
    "x_vals = []\n",
    "num_steps = 15\n",
    "step_size = 0.3\n",
    "x.out = np.array(3) # x = [3]\n",
    "for step_num in range(num_steps):\n",
    "    x_vals.append(x.out) # save input values at each step\n",
    "    # forward pass\n",
    "    x.forward()\n",
    "    J = f.forward() # objective function value (\"graph output\")\n",
    "    print(\"x =\", x.out, \"J(x) =\",J)\n",
    "    obj_vals.append(J) # save objective value at each step\n",
    "    # Backward pass\n",
    "    f.d_out = np.array(1) #initialize backpropagation\n",
    "    f.backward()\n",
    "    x_grad = x.backward() # save gradient with respect to x\n",
    "    # take gradient step\n",
    "    x.out =x.out - step_size*x_grad #gradient descend algorithm"
   ],
   "id": "f7b2133b2c420448",
   "outputs": [
    {
     "name": "stdout",
     "output_type": "stream",
     "text": [
      "x = 3 J(x) = 9\n",
      "x = 1.2000000000000002 J(x) = 1.4400000000000004\n",
      "x = 0.4800000000000001 J(x) = 0.23040000000000008\n",
      "x = 0.19200000000000006 J(x) = 0.03686400000000002\n",
      "x = 0.07680000000000003 J(x) = 0.005898240000000005\n",
      "x = 0.030720000000000018 J(x) = 0.0009437184000000011\n",
      "x = 0.012288000000000007 J(x) = 0.00015099494400000018\n",
      "x = 0.004915200000000003 J(x) = 2.4159191040000033e-05\n",
      "x = 0.0019660800000000016 J(x) = 3.865470566400006e-06\n",
      "x = 0.0007864320000000008 J(x) = 6.184752906240012e-07\n",
      "x = 0.0003145728000000003 J(x) = 9.89560464998402e-08\n",
      "x = 0.00012582912000000013 J(x) = 1.5832967439974433e-08\n",
      "x = 5.0331648000000057e-05 J(x) = 2.5332747903959096e-09\n",
      "x = 2.0132659200000023e-05 J(x) = 4.0532396646334556e-10\n",
      "x = 8.05306368000001e-06 J(x) = 6.48518346341353e-11\n"
     ]
    }
   ],
   "execution_count": 9
  },
  {
   "metadata": {},
   "cell_type": "markdown",
   "source": "## A Computation Graph with Shared Input",
   "id": "9378655d85a25d02"
  },
  {
   "metadata": {},
   "cell_type": "markdown",
   "source": [
    "Now we'll move on to a somewhat more complicated function: $J(x)=x^2e^x$.  This function is simple enough that we can calculate its derivative directly.  But in the spirit of computation graphs, we'll represent this function by a series of function compositions, which we'll then write as a computation graph.  We'll let\n",
    "\n",
    "$$\n",
    "\n",
    "f(x)  =  x^{2}\\\\\n",
    "g(x)  =  e^{x}\\\\\n",
    "h(x,y)  =  xy\\\\\n",
    "J(x)  =  h(f(x),g(x))\n",
    "\n",
    "$$\n",
    "\n",
    "We'll write this as a computation graph with a `ValueNode` for $x$, and regular computation nodes for the functions $f$, $g$, and $h$:"
   ],
   "id": "81d566d25cfbec21"
  },
  {
   "metadata": {
    "ExecuteTime": {
     "end_time": "2024-05-22T22:54:48.292695Z",
     "start_time": "2024-05-22T22:54:48.283614Z"
    }
   },
   "cell_type": "code",
   "source": "Image(\"images/sharedinput.png\")",
   "id": "f4ff6c72dcee1c5c",
   "outputs": [
    {
     "data": {
      "image/png": "[encoded data removed]",
      "text/plain": [
       "<IPython.core.display.Image object>"
      ]
     },
     "execution_count": 10,
     "metadata": {},
     "output_type": "execute_result"
    }
   ],
   "execution_count": 10
  },
  {
   "metadata": {},
   "cell_type": "markdown",
   "source": [
    "Note that nodes `f` and `g` share the input from node `x`.  Being able to handle this stucture is essential for coding more advanced neural network structures, such as convolutional neural networks and recurrent neural networks, though one can avoid it for standard multilayer perceptrons.\n",
    "\n",
    "To implement this computation graph, we need two more node types, which we'll define now and walk through later:"
   ],
   "id": "f903e36e49957d4"
  },
  {
   "metadata": {
    "ExecuteTime": {
     "end_time": "2024-05-22T22:54:48.296467Z",
     "start_time": "2024-05-22T22:54:48.292695Z"
    }
   },
   "cell_type": "code",
   "source": [
    "class ExpNode(object):\n",
    "    \"\"\"Node for computing e^x for a scalar x\"\"\"\n",
    "    def __init__(self, x, node_name):\n",
    "        \"\"\"\n",
    "        parameters:\n",
    "        :param x: a node producing a scalar\n",
    "        :param node_name: node's name (a string) \n",
    "        \"\"\"\n",
    "        self.node_name = node_name\n",
    "        self.out = None\n",
    "        self.d_out = None\n",
    "        self.x = x # store a reference to node providing input to this node\n",
    "    def forward(self):\n",
    "        self.out = np.exp(self.x.out) # compute and set the node output\n",
    "        self.d_out = np.zeros(self.out.shape)\n",
    "        return self.out\n",
    "    \n",
    "    def backward(self):\n",
    "        # Preconditions:\n",
    "        # self.out contains the output value of the node, namely e^(x.out)\n",
    "        # self.d_out contains the partial derivatives of the graph output with respect to self.out\n",
    "        d_x = self.d_out*self.out # partial of graph output with respect to node input x\n",
    "        self.x.d_out += d_x\n",
    "        return self.d_out\n",
    "    \n",
    "    def get_predecessors(self):\n",
    "        \"\"\"Get list of node's predecessors\"\"\"\n",
    "        return [self.x]\n",
    "        "
   ],
   "id": "2c9594d45a561efe",
   "outputs": [],
   "execution_count": 11
  },
  {
   "metadata": {
    "ExecuteTime": {
     "end_time": "2024-05-22T22:54:48.300590Z",
     "start_time": "2024-05-22T22:54:48.296467Z"
    }
   },
   "cell_type": "code",
   "source": [
    "class ProductNode(object):\n",
    "    \"\"\"Node for computing the product of two scalars\"\"\"\n",
    "    def __init__(self, x, y, node_name):\n",
    "        \"\"\"\n",
    "        parameters:\n",
    "        :param x: a node producing a length-1 vector\n",
    "        :param node_name: node's name (a string)\n",
    "        \"\"\"\n",
    "        self.node_name = node_name\n",
    "        self.out = None\n",
    "        self.d_out = None\n",
    "        self.x = x # store a reference to node providing input to this node\n",
    "        self.y = y # store a reference to node providing input to this node\n",
    "        \n",
    "    def forward(self):\n",
    "        self.out = self.x.out * self.y.out # compute and set the node output\n",
    "        self.d_out = np.zeros(self.out.shape)\n",
    "        return self.out\n",
    "    \n",
    "    def backward(self):\n",
    "        # preconditions: self.d_out contains the partial derivatives of the graph output with respect to self.out\n",
    "        d_x = self.d_out*self.y.out #partial of graph output with respect to node input x\n",
    "        d_y = self.d_out*self.x.out\n",
    "        self.x.d_out += d_x\n",
    "        self.y.d_out += d_y\n",
    "        return self.d_out\n",
    "    \n",
    "    def get_predecessors(self):\n",
    "        \"\"\"Get ist of node's predecessors\"\"\"\n",
    "        return [self.x, self.y]\n",
    "        \n",
    "    "
   ],
   "id": "a68ed37e65367b95",
   "outputs": [],
   "execution_count": 12
  },
  {
   "metadata": {},
   "cell_type": "markdown",
   "source": "Define the computation graph and start a forward pass",
   "id": "6186a647223e05e8"
  },
  {
   "metadata": {
    "ExecuteTime": {
     "end_time": "2024-05-22T22:54:48.304613Z",
     "start_time": "2024-05-22T22:54:48.300590Z"
    }
   },
   "cell_type": "code",
   "source": [
    "x = ValueNode(\"x\")\n",
    "f = SquareNode(x, \"Squaring Node\")\n",
    "g = ExpNode(x, \"Exponentiation Node\")\n",
    "h = ProductNode(f, g, \"Product Node\")\n",
    "\n",
    "x.out = np.array(7) # x.out = 7\n",
    "# forward pass\n",
    "x.forward()\n",
    "f.forward()\n",
    "g.forward()\n",
    "h.forward()\n",
    "\n",
    "print(\"x =\", x.out)\n",
    "print(\"f(x) = x^2 =\", f.out)\n",
    "print(\"g(x) = e^x =\", g.out)\n",
    "print(\"J = h(f(x), g(x)) = x^2*e^x =\", h.out)"
   ],
   "id": "fef3ac54f2c9e9e0",
   "outputs": [
    {
     "name": "stdout",
     "output_type": "stream",
     "text": [
      "x = 7\n",
      "f(x) = x^2 = 49\n",
      "g(x) = e^x = 1096.6331584284585\n",
      "J = h(f(x), g(x)) = x^2*e^x = 53735.024762994464\n"
     ]
    }
   ],
   "execution_count": 13
  },
  {
   "metadata": {},
   "cell_type": "markdown",
   "source": [
    "In a backward pass, we compute the partial derivative of the graph output $J$ with respect to the output of every node.  We'll illustrate how the backward pass works by showing the calculations we would do by hand, and where in the code the corresponding computation is carried out.  \n",
    "\n",
    "We start out with $\\frac{\\partial J}{\\partial h_\\text{out}}=1$, which we set directly as the initialization of our backward pass:"
   ],
   "id": "457d4d2283b112ce"
  },
  {
   "metadata": {
    "ExecuteTime": {
     "end_time": "2024-05-22T22:54:48.308312Z",
     "start_time": "2024-05-22T22:54:48.305621Z"
    }
   },
   "cell_type": "code",
   "source": "h.d_out = np.array(1) #initialize backpropagation",
   "id": "2f8fecf9ea6af0ce",
   "outputs": [],
   "execution_count": 14
  },
  {
   "metadata": {},
   "cell_type": "markdown",
   "source": [
    "Working backwards, we now want to compute $\\frac{\\partial J}{\\partial h_{\\text{in}}^{(1)}}$ and $\\frac{\\partial J}{\\partial h_{\\text{in}}^{(2)}}$ By the chain rule, we have\n",
    "$$\n",
    "\n",
    "\\frac{\\partial J}{\\partial h_{\\text{in}}^{(1)}} = \\left(\\frac{\\partial J}{\\partial h_{\\text{out}}}\\right)\\left(\\frac{\\partial h_{\\text{out}}}{\\partial h_{\\text{in}}^{(1)}}\\right)\\\\ = \\left(\\frac{\\partial J}{\\partial h_{\\text{out}}}\\right)h_{\\text{in}}^{(2)}.\n",
    "\n",
    "$$\n",
    "\n",
    "This is computed when we call `h.backward()`, specifically in the line `d_y = np.multiply(self.d_out, self.x.out)` of the `backward` method in `ProductNode`. `self.d_out` corresponds to $\\frac{\\partial J}{\\partial h_{\\text{out}}}$, which is $1$ in our case, and `self.x.out` is the input corresponding to $h_{\\text{in}}^{(2)}$.  To see the correspondence between `x` and $h_{\\text{in}}^{(2)}$ and between `y` and $h_{\\text{in}}^{(1)}$, you need to look at the construction `h = ProductNode(f, g, \"Product Node\")` and the signature `__init__(self, x, y, node_name)` in `ProductNode`, and also cross-reference with the computation graph diagram.\n",
    "\n",
    "Similarly\n",
    "$$\n",
    "\n",
    "\\frac{\\partial J}{\\partial h_{\\text{in}}^{(2)}} = \\left(\\frac{\\partial J}{\\partial h_{\\text{out}}}\\right)h_{\\text{in}}^{(1)} \n",
    "\n",
    "$$\n",
    "is implemented in `d_x = np.multiply(self.d_out, self.y.out)`.\n",
    "\n",
    "Next let's compute the partials w.r.t. the output of $f$.  We have\n",
    "$$\\frac{\\partial J}{\\partial f_{\\text{out }}}=\\left(\\frac{\\partial J}{\\partial h_{\\text{in}}^{(2)}}\\right)\\underbrace{\\left(\\frac{\\partial h_{\\text{in}}^{(2)}}{\\partial f_{\\text{out}}}\\right)}_{=1}= \\frac{\\partial J}{\\partial h_{\\text{in}}^{(2)}}\n",
    "$$\n",
    "We set this partial derivative in the code `self.x.d_out += d_x`, also in the `backward` method in `ProductNode`.  Recall that `x` is the local name for the node `f`.  Since `f.d_out` is initialized to `0`, this line of code is equivalent to setting `f.d_out = d_x`.  \n",
    "\n",
    "Similarly, \n",
    "$$\\frac{\\partial J}{\\partial g_{\\text{out }}}=\\left(\\frac{\\partial J}{\\partial h_{\\text{in}}^{(1)}}\\right)\\underbrace{\\left(\\frac{\\partial h_{\\text{in}}^{(1)}}{\\partial g_{\\text{out}}}\\right)}_{=1}=\\frac{\\partial J}{\\partial h_{\\text{in}}^{(1)}},\n",
    "$$\n",
    "is implemented in the line `self.y.d_out += d_y`. \n",
    "\n",
    "We'll now continue the backward pass on $h$ and show how to check the outcome numerically:"
   ],
   "id": "5a27ab572334674c"
  },
  {
   "metadata": {
    "ExecuteTime": {
     "end_time": "2024-05-22T22:54:48.311982Z",
     "start_time": "2024-05-22T22:54:48.308312Z"
    }
   },
   "cell_type": "code",
   "source": [
    "h.backward()\n",
    "# Save some values for later\n",
    "f_x = f.out  # store output of f(x) for later\n",
    "g_x = g.out  # store output of g(x) for later\n",
    "J = h.out # store J(f(x),g(x))\n",
    "dJdf = f.d_out\n",
    "dJdg = g.d_out\n",
    "print(\"At x=\",x.out,\" we have f(x)=\",f_x,\", g(x)=\",g_x,\", h(x)=\",J)\n",
    "print(\"At those values, we have: \")\n",
    "print(\"dJ/d[f(x)] =\",dJdf)\n",
    "print(\"dJ/d[g(x)] =\", dJdg)"
   ],
   "id": "dcc7c3784198a8c",
   "outputs": [
    {
     "name": "stdout",
     "output_type": "stream",
     "text": [
      "At x= 7  we have f(x)= 49 , g(x)= 1096.6331584284585 , h(x)= 53735.024762994464\n",
      "At those values, we have: \n",
      "dJ/d[f(x)] = 1096.6331584284585\n",
      "dJ/d[g(x)] = 49.0\n"
     ]
    }
   ],
   "execution_count": 15
  },
  {
   "metadata": {},
   "cell_type": "markdown",
   "source": "### Numerically checking the gradient",
   "id": "189822e188c04b2"
  },
  {
   "metadata": {},
   "cell_type": "markdown",
   "source": "By definition of gradient, this means that if we change the value of $f(x)$ by a small value $\\delta$, with everything else held fixed, then we would expect the graph output $J$ to change by approximately $\\delta \\frac{\\partial J}{\\partial f(x)}$.  We can check this directly by  manipulating `f.out` and seeing the effect on the graph output `J=h.out`:",
   "id": "e2383837dc049d16"
  },
  {
   "metadata": {
    "ExecuteTime": {
     "end_time": "2024-05-22T22:54:48.315518Z",
     "start_time": "2024-05-22T22:54:48.311982Z"
    }
   },
   "cell_type": "code",
   "source": [
    "delta = np.random.randn()/100000  #choose a random perturbation (we can rerun this several times)\n",
    "J_first_order_change_f = np.dot(delta, dJdf) #predicted change using derivative with respect to f\n",
    "f.out = f_x + delta # change f.out by delta\n",
    "h.forward() # compute J_new=h(f(x)+delta, g(x))\n",
    "J_new = h.out\n",
    "J_actual_change_f = J_new - J\n",
    "print(\"For delta=\",delta,\", J(f(x)+delta, g(x)) - J(f(x),g(x)) = \", J_new - J)\n",
    "print(\"First order prediction of J(f(x)+delta, g(x)) - J(f(x),g(x)) = \", J_first_order_change_f)"
   ],
   "id": "76659fc6ddc6e08a",
   "outputs": [
    {
     "name": "stdout",
     "output_type": "stream",
     "text": [
      "For delta= 5.836648706264947e-06 , J(f(x)+delta, g(x)) - J(f(x),g(x)) =  0.00640066250343807\n",
      "First order prediction of J(f(x)+delta, g(x)) - J(f(x),g(x)) =  0.006400662505388705\n"
     ]
    }
   ],
   "execution_count": 16
  },
  {
   "metadata": {
    "ExecuteTime": {
     "end_time": "2024-05-22T22:54:48.319014Z",
     "start_time": "2024-05-22T22:54:48.315518Z"
    }
   },
   "cell_type": "code",
   "source": [
    "delta = np.random.randn()/100000  #choose a random perturbation (we can rerun this several times)\n",
    "J_first_order_change_g = np.dot(delta, dJdg) #predicted change using derivative with respect to g\n",
    "g.out = g_x + delta # change g.out by delta\n",
    "h.forward() # compute J_new=h(f(x), g(x)+delta)\n",
    "J_new = h.out\n",
    "J_actual_change_g = J_new - J\n",
    "print(\"For delta=\",delta,\", J(f(x), g(x)+delta) - J(f(x),g(x)) = \", J_new - J)\n",
    "print(\"First order prediction of J(f(x), g(x)+delta) - J(f(x),g(x)) = \", J_first_order_change_g)"
   ],
   "id": "8d8bd7e73ab0ff",
   "outputs": [
    {
     "name": "stdout",
     "output_type": "stream",
     "text": [
      "For delta= 1.7283610737009153e-05 , J(f(x), g(x)+delta) - J(f(x),g(x)) =  0.007247559529787395\n",
      "First order prediction of J(f(x), g(x)+delta) - J(f(x),g(x)) =  0.0008468969261134485\n"
     ]
    }
   ],
   "execution_count": 17
  },
  {
   "metadata": {},
   "cell_type": "markdown",
   "source": "So we see a close match.  In fact, $J$ changes linearly with $f(x)$, when everything else is held fixed.  So  only numerical error is keeping the two numbers from being exactly equal. In the other way, $J$ changes exponentially with $g(x)$ when everything else is held fixed. And the error is two grades of magnitude greater. ",
   "id": "3c91c77671673917"
  },
  {
   "metadata": {},
   "cell_type": "markdown",
   "source": "### Back to complete the backpropagation analysis",
   "id": "3ff63d1981c64049"
  },
  {
   "metadata": {},
   "cell_type": "markdown",
   "source": [
    "Next let's  compute $\\frac{\\partial J}{\\partial f_{in}}$.  By the chain rule,\n",
    "$$\n",
    "\n",
    "\\frac{\\partial J}{\\partial f_{\\text{in}}}  =  \\left(\\frac{\\partial J}{\\partial f_{\\text{out}}}\\right)\\left(\\frac{\\partial f_{\\text{out}}}{\\partial f_{\\text{in}}}\\right)\\\\\n",
    "  =  \\left(\\frac{\\partial J}{\\partial f_{\\text{out}}}\\right)\\left(2f_{\\text{in}}\\right)\n",
    "\n",
    "$$\n",
    "The pattern should start to be clear: The partial of $J$ w.r.t. the input of a node is the partial w.r.t. the output or a node (which we will already have computed) times the derivative of the function the node is calculating, i.e. $\\frac{\\partial f_{\\text{out}}}{\\partial f_{\\text{in}}}$.\n",
    "\n",
    "The above will be computed when we call `f.backward()`, specifically in the code `d_x = np.multiply(self.d_out, 2 * self.x.out)` in `backward()` of `SquareNode`."
   ],
   "id": "c2b4dcc37ffd0611"
  },
  {
   "metadata": {},
   "cell_type": "markdown",
   "source": [
    "It's much the same for $\\frac{\\partial J}{\\partial g_{\\text{in}}}$:\n",
    "$$\n",
    "\n",
    "\\frac{\\partial J}{\\partial g_{\\text{in}}}  =  \\left(\\frac{\\partial J}{\\partial g_{\\text{out}}}\\right)\\left(\\frac{\\partial g_{\\text{out}}}{\\partial g_{\\text{in}}}\\right)\\\\\n",
    "  = \\left(\\frac{\\partial J}{\\partial g_{\\text{out}}}\\right)e^{g_{\\text{in}}}\\\\\n",
    "  = \\left(\\frac{\\partial J}{\\partial g_{\\text{out}}}\\right)g_{\\text{out}}\n",
    "\n",
    "$$\n",
    "\n",
    "One interesting thing that happens here is that, in the last line we notice that the derivative of the node function $e^{g_\\text{in}}$ has already been computed and stored, since it's just the output value of the node.  This is a fairly common occurrence and is worth noting: computations that happen during the forward pass are often needed again during the backward pass, so it is worth caching these values in the forward pass so they can be used without recomputation in the backward pass.  In this case, `self.out` happens to be the factor we need in the backward pass. The computation above happens when we call `g.backward()`, specifically in the code `d_x = np.multiply(self.d_out, self.out)` in `backward()` of `SquareNode`.\n",
    "\n",
    "Let's re-run the forward pass from scratch, and then run the backward pass through to `f` and `g`, and pick up the discussion from there."
   ],
   "id": "566935b26b0e0a5"
  },
  {
   "metadata": {
    "ExecuteTime": {
     "end_time": "2024-05-22T22:54:48.322968Z",
     "start_time": "2024-05-22T22:54:48.319014Z"
    }
   },
   "cell_type": "code",
   "source": [
    "x.out = np.array(7) #Set the value of the input node\n",
    "# Forward pass -- call forward() on nodes in topological order (parents before children)\n",
    "x.forward()\n",
    "f.forward()  \n",
    "g.forward()\n",
    "h.forward()\n",
    "# Backward pass -- call backward() on nodes in reverse topological order (children before parents)\n",
    "h.d_out = np.array(1) #initialize backpropagation\n",
    "h.backward() \n",
    "f.backward()\n",
    "g.backward()\n"
   ],
   "id": "2723ccdad9d51094",
   "outputs": [
    {
     "data": {
      "text/plain": [
       "array(49.)"
      ]
     },
     "execution_count": 18,
     "metadata": {},
     "output_type": "execute_result"
    }
   ],
   "execution_count": 18
  },
  {
   "metadata": {},
   "cell_type": "markdown",
   "source": "## Handling the shared input",
   "id": "e25cb7ce853c960a"
  },
  {
   "metadata": {},
   "cell_type": "markdown",
   "source": [
    "We've finally to the last, and most interesting, step of backpropagation.  As usual, we use the chain rule, although this time we have two paths between input and output to sum over:\n",
    "$$\n",
    "\n",
    "\\frac{\\partial J}{\\partial x_{\\text{out}}} = \\frac{\\partial J}{\\partial f_{\\text{in}}}\\underbrace{\\frac{\\partial f_{\\text{in}}}{\\partial x_{\\text{out}}}}_{=1}+\\frac{\\partial J}{\\partial g_{\\text{in}}}\\underbrace{\\frac{\\partial g_{\\text{in}}}{\\partial x_{\\text{out}}}}_{=1}\\\\\n",
    " =  \\frac{\\partial J}{\\partial f_{\\text{in}}}+\\frac{\\partial J}{\\partial g_{\\text{in}}}\n",
    "\n",
    "$$\n",
    "So this is, of course, the sum of two things we have already computed.  The way this happens in code is as follows: During the forwared pass, `x.d_out` is initialized to `0`.  When we call `f.backward()`, the line `self.x.d_out += d_x` in the `SquareNode` class adds $\\frac{\\partial J}{\\partial f_\\text{in}}$, to `x.d_out`. When we call `g.backward()`, the same line `self.x.d_out += d_x` in the `ExpNode` class adds $\\frac{\\partial J}{\\partial g_\\text{in}}$ to `x.d_out`.  Thus after calling backward on `f` and `g`, `x.d_out` indeed has the value $\\frac{\\partial J}{\\partial x_{\\text{out}}}$.  By the time we get to run `backward` on `x`, there's nothing left to do.  Indeed, `x.backward()` just returns `self.d_out`."
   ],
   "id": "ba0f84ed260b8465"
  },
  {
   "metadata": {},
   "cell_type": "markdown",
   "source": [
    "## Automating the forward and bakcward passes\n",
    "\n",
    "In the demonstrations above, we called the forward and backward functions on each node manually, and in the correct order. While this helps ensure one understands all the details, it can easily be automated. The key is that each node can return a list of its parent nodes through the `get predecesors` method. Given the graph output node, we can collect all the ancestors and, moreover, produce a list of these nodes in a topological ordering (each parent coming before its children). The following function does exactly that. The graph output node is referred to as the sink node in this context."
   ],
   "id": "d06d165357d74e6a"
  },
  {
   "metadata": {
    "ExecuteTime": {
     "end_time": "2024-05-22T22:54:48.326371Z",
     "start_time": "2024-05-22T22:54:48.322968Z"
    }
   },
   "cell_type": "code",
   "source": [
    "def sort_topological(sink):\n",
    "    \"\"\"Returns a list of the sink node and all its ancestors in a topologically sorted order.\n",
    "    Subgraph of these nodes must form a DAG\"\"\"\n",
    "    L = [] # empty list that will contain the sorted nodes\n",
    "    T = set() # set of empty temporarily marked nodes\n",
    "    P = set() # set of permanently marked nodes\n",
    "    \n",
    "    def visit(node):\n",
    "        if node in P:\n",
    "            return\n",
    "        if node in T:\n",
    "            raise 'Your graph is not a DAG'\n",
    "        T.add(node) # mark node temporarily\n",
    "        for predecessor in node.get_predecessors():\n",
    "            visit(predecessor)\n",
    "        P.add(node) # mark node permanently\n",
    "        L.append(node)\n",
    "        \n",
    "    visit(sink)\n",
    "    return L"
   ],
   "id": "18b677a2720c90b2",
   "outputs": [],
   "execution_count": 19
  },
  {
   "metadata": {
    "ExecuteTime": {
     "end_time": "2024-05-22T23:33:00.926785Z",
     "start_time": "2024-05-22T23:26:32.913666Z"
    }
   },
   "cell_type": "code",
   "source": [
    "for node in sort_topological(h):\n",
    "    print(node.node_name, \":  \", node)"
   ],
   "id": "6ddab6345d81d55c",
   "outputs": [
    {
     "name": "stdout",
     "output_type": "stream",
     "text": [
      "x :   <__main__.ValueNode object at 0x0000020E6EE5DEB0>\n",
      "Squaring Node :   <__main__.SquareNode object at 0x0000020E7E5AD190>\n",
      "Exponentiation Node :   <__main__.ExpNode object at 0x0000020E7E393380>\n",
      "Product Node :   <__main__.ProductNode object at 0x0000020E700D8590>\n"
     ]
    }
   ],
   "execution_count": 24
  },
  {
   "metadata": {},
   "cell_type": "code",
   "outputs": [],
   "execution_count": null,
   "source": "",
   "id": "da624423ee8abbad"
  }
 ],
 "metadata": {
  "kernelspec": {
   "display_name": "Python 3",
   "language": "python",
   "name": "python3"
  },
  "language_info": {
   "codemirror_mode": {
    "name": "ipython",
    "version": 2
   },
   "file_extension": ".py",
   "mimetype": "text/x-python",
   "name": "python",
   "nbconvert_exporter": "python",
   "pygments_lexer": "ipython2",
   "version": "2.7.6"
  }
 },
 "nbformat": 4,
 "nbformat_minor": 5
}
