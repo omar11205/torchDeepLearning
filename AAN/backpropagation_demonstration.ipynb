{
 "cells": [
  {
   "metadata": {
    "ExecuteTime": {
     "end_time": "2024-05-31T16:32:45.201857Z",
     "start_time": "2024-05-31T16:32:45.199161Z"
    }
   },
   "cell_type": "code",
   "source": [
    "from IPython.display import Image\n",
    "import sympy as sp"
   ],
   "id": "15c51d9a30628ad6",
   "outputs": [],
   "execution_count": 5
  },
  {
   "metadata": {},
   "cell_type": "markdown",
   "source": [
    "Backpropagation theory, complete demonstration\n",
    "http://neuralnetworksanddeeplearning.com/chap2.html"
   ],
   "id": "2432910c5a5974a5"
  },
  {
   "metadata": {},
   "cell_type": "markdown",
   "source": "## Computing the output (Activation) from a neural network",
   "id": "9e3ca0eceb1afdd6"
  },
  {
   "metadata": {},
   "cell_type": "markdown",
   "source": [
    "The activation $a_{j}^{i}$ of the $j^{th}$ neuron in the $l^{th}$ layer is related to the activations in the $(l-1)^{th}$ layer by the equation \n",
    "$$\n",
    "\\begin{eqnarray} \n",
    "  a^{l}_j = \\sigma\\left( \\sum_k w^{l}_{jk} a^{l-1}_k + b^l_j \\right), \\tag{Eq. 1}\n",
    "\\end{eqnarray}\n",
    "$$\n",
    "\n",
    "$w^l_{jk}$: the weight for the connection from the $k^{\\rm th}$ neuron in the $(l-1)^{th}$ layer to the $j^{th}$ neuron in the $l^{th}$ layer\n",
    "\n",
    "$a^{l-1}_{j}$: the activation of the $j^{th}$ neuron in the $(l-1)^{th}$ layer\n",
    "\n",
    "$b^l_j$: the bias of the $j^{\\rm th}$ neuron in the $l^{\\rm th}$ layer\n",
    "\n",
    "$\\begin{eqnarray} \n",
    "  \\sigma(z) \\equiv \\frac{1}{1+e^{-z}}.\n",
    "\\end{eqnarray}$, sigmoid activation function"
   ],
   "id": "7ef8c7a612986d88"
  },
  {
   "metadata": {},
   "cell_type": "markdown",
   "source": [
    "In compact vector form the Eq.1:\n",
    "$$\n",
    "\\begin{eqnarray} \n",
    "  a^{l} = \\sigma(w^l a^{l-1}+b^l),\n",
    "\\tag{Eq.2}\\end{eqnarray}\n",
    "$$\n",
    "\n",
    "$w^l$: a matrix of weights connecting to the $l^{\\rm th}$ layer of neurons: $j = rows$, $k = columns$ in $w^l_{jk}$"
   ],
   "id": "10880c07c83c25b4"
  },
  {
   "metadata": {},
   "cell_type": "markdown",
   "source": [
    "Defining as Weighted Input the expression $z_{j}^{l}$:\n",
    "$$\n",
    "z^l_j\n",
    "= \\sum_k w^l_{jk} a^{l-1}_k+b^l_j\n",
    "$$\n",
    "\n",
    "And in vector form:\n",
    "$$\n",
    "z^l \\equiv w^l a^{l-1}+b^l\n",
    "$$\n",
    "\n",
    "The Eq. 2 in terms of the weighted input: \n",
    "$$a^l =\n",
    "\\sigma(z^l)\n",
    "$$"
   ],
   "id": "699eccb0f591067d"
  },
  {
   "metadata": {},
   "cell_type": "markdown",
   "source": "## Backpropagation starting with the General Quadratic Cost Function",
   "id": "4a586ccc271eae59"
  },
  {
   "metadata": {},
   "cell_type": "markdown",
   "source": [
    "$$\n",
    "\\begin{eqnarray}  C(w,b) =\n",
    "  \\frac{1}{2n} \\sum_x \\| y(x) - a^{L}\\|^2.\n",
    "\\tag{3}\\end{eqnarray}\n",
    "$$\n",
    "\n",
    "$y = y(x)$: desired output\n",
    "\n",
    "$x$: training inputs, (sum over the training inputs)\n",
    "\n",
    "$a^{L}$: vector of activation output (in the output layer L)\n",
    "\n",
    "$n$: total number of training inputs"
   ],
   "id": "494569cf1e7e7850"
  },
  {
   "metadata": {},
   "cell_type": "markdown",
   "source": [
    "The cost function in terms of an average:\n",
    "$$\n",
    "C = \\frac{1}{n} \\sum_x C_x\n",
    "$$\n",
    "\n",
    "then $C_x =\n",
    "\\frac{1}{2} \\|y-a^L \\|^2$\n",
    "\n",
    "The goal of backpropagation is to compute the partial derivatives $\\partial C / \\partial w$ and $\\partial C / \\partial b$ of the cost function, so until now we have: $\\partial C_x / \\partial w$ and $\\partial C_x / \\partial b$. For notation purposes we will use: $\\partial C_x / \\partial w = \\partial C / \\partial w$ , $\\partial C_x / \\partial b = \\partial C / \\partial b$ and $C =\n",
    "\\frac{1}{2} \\|y-a^L \\|^2$"
   ],
   "id": "66bfda117375a092"
  },
  {
   "metadata": {},
   "cell_type": "markdown",
   "source": "For backpropagation purposes the cost function MUST be written as a function of the outputs ($a^L$) from the neural network",
   "id": "568ecc3dd7b6c75b"
  },
  {
   "metadata": {
    "ExecuteTime": {
     "end_time": "2024-05-31T15:49:27.632077Z",
     "start_time": "2024-05-31T15:49:27.626078Z"
    }
   },
   "cell_type": "code",
   "source": "Image(\"images/cost_function_outputs.png\")",
   "id": "11d501d23688f0b9",
   "outputs": [
    {
     "data": {
      "image/png": "[encoded data removed]",
      "text/plain": [
       "<IPython.core.display.Image object>"
      ]
     },
     "execution_count": 2,
     "metadata": {},
     "output_type": "execute_result"
    }
   ],
   "execution_count": 2
  },
  {
   "metadata": {},
   "cell_type": "markdown",
   "source": [
    "In this case, the quadratic cost function CAN be expressed as function of the outputs of the NN in a single training example (x) as follows:\n",
    "$$\n",
    "\\begin{eqnarray}\n",
    "  C = \\frac{1}{2} \\|y-a^L\\|^2 = \\frac{1}{2} \\sum_j (y_j-a^L_j)^2,\n",
    "\\tag{4}\\end{eqnarray}\n",
    "$$"
   ],
   "id": "b17e4676adde97ed"
  },
  {
   "metadata": {},
   "cell_type": "markdown",
   "source": [
    "Defining an \"error like\" helping term $\\delta^l_j$ as the partial derivative of the cost with respect of Weighed input $z^l_j$:\n",
    "\n",
    "$$\n",
    "\\begin{eqnarray} \n",
    "  \\delta^l_j \\equiv \\frac{\\partial C}{\\partial z^l_j}.\n",
    "\\tag{5}\\end{eqnarray}\n",
    "$$\n",
    "\n",
    "and a vector of errors of the $l$ layer following the Eq. 5 is: $\\delta^l = \\frac{\\partial C}{\\partial z^l}$\n",
    " \n",
    "\n",
    "\n"
   ],
   "id": "b3e1c56636ad6ec"
  },
  {
   "metadata": {},
   "cell_type": "markdown",
   "source": "### An equation for the error in the output layer, $\\delta^L$",
   "id": "bb9fc715e99aca76"
  },
  {
   "metadata": {},
   "cell_type": "markdown",
   "source": [
    "The components of $\\delta^L$ vector are given by:\n",
    "\n",
    "$$\n",
    "\\begin{eqnarray} \n",
    "  \\delta^L_j = \\frac{\\partial C}{\\partial a^L_j} \\sigma'(z^L_j),\n",
    "\\tag{BP1}\\end{eqnarray}\n",
    "$$"
   ],
   "id": "cd9df65047e181a1"
  },
  {
   "metadata": {},
   "cell_type": "markdown",
   "source": "Derivative of sigmoid function",
   "id": "ae59ed7ad544976"
  },
  {
   "metadata": {
    "ExecuteTime": {
     "end_time": "2024-05-31T16:36:24.882046Z",
     "start_time": "2024-05-31T16:36:24.872680Z"
    }
   },
   "cell_type": "code",
   "source": [
    "# Define the variable\n",
    "z = sp.symbols('z')\n",
    "\n",
    "# Define the sigmoid function\n",
    "sigmoid = 1 / (1 + sp.exp(-z))\n",
    "\n",
    "# Compute the derivative of the sigmoid function with respect to z\n",
    "sigmoid_derivative = sp.diff(sigmoid, z)\n",
    "\n",
    "# Display the result\n",
    "sigmoid_derivative"
   ],
   "id": "98262288ca184674",
   "outputs": [
    {
     "data": {
      "text/plain": [
       "exp(-z)/(1 + exp(-z))**2"
      ],
      "text/latex": "$\\displaystyle \\frac{e^{- z}}{\\left(1 + e^{- z}\\right)^{2}}$"
     },
     "execution_count": 7,
     "metadata": {},
     "output_type": "execute_result"
    }
   ],
   "execution_count": 7
  },
  {
   "metadata": {},
   "cell_type": "markdown",
   "source": [
    "In generalized vector form: \n",
    "$$\\sigma'(z^L) = \\frac{e^{- z^L}}{\\left(1 + e^{- z^L}\\right)^{2}}$$\n",
    "$$ = \\frac{1}{(1 + e^{- z^L})}-\\frac{1}{(1 + e^{- z^L})^2}$$\n",
    "$$ = \\frac{1}{(1 + e^{- z^L})} \\left ( 1 -  \\frac{1}{(1 + e^{- z^L})} \\right )$$\n",
    "$$\\sigma'(z^L) = \\sigma(z^L)\\left ( 1-\\sigma(z^L) \\right )$$"
   ],
   "id": "56e8be162aef2c47"
  },
  {
   "metadata": {},
   "cell_type": "markdown",
   "source": [
    "Derivative of the quadratic cost function\n",
    " $$C = \\frac{1}{2} \\sum_j (y_j-a^L_j)^2$$ \n",
    " $$\\frac{\\partial C}{\\partial a^L_j} = \\frac{\\partial}{\\partial a^L_j}\\frac{1}{2} \\sum_j (y_j-a^L_j)^2$$\n",
    " $$ = \\frac{1}{2} \\sum_j \\frac{\\partial}{\\partial a^L_j} (y_j-a^L_j)^2$$\n",
    " $$ = \\frac{1}{2} \\sum_j  -2(y_j-a^L_j)$$\n",
    "  $$ = \\frac{-2}{2} \\sum_j (y_j-a^L_j)$$\n",
    "  $$ = - \\sum_j (y_j-a^L_j)$$\n",
    "  $$ \\frac{\\partial C}{\\partial a^L_j} = \\sum_j (a^L_j-y_j)$$\n",
    "  In vector form: $\\frac{\\partial C}{\\partial a^L_j}$ = $\\nabla_a C = (a^L-y)$\n"
   ],
   "id": "288ac8649721ebc4"
  },
  {
   "metadata": {},
   "cell_type": "markdown",
   "source": [
    "In terms of an element by element operations (elementwise operations), also called as Hadamard Product ($\\odot$) in matrix form (suitable for numpy) $\\delta^L$:\n",
    "\n",
    "$$\\begin{eqnarray} \n",
    "  \\delta^L = \\nabla_a C \\odot \\sigma'(z^L),\n",
    "\\tag{BP1a}\\end{eqnarray}$$\n",
    "\n",
    "With sigmoid function and quadratic cost function in matrix form:\n",
    "\n",
    "$$\\begin{eqnarray} \\delta^L = (a^L-y) \\odot \\sigma(z^L)\\left ( 1-\\sigma(z^L) \\right )\\end{eqnarray}$$"
   ],
   "id": "e04f8e271146a5e9"
  },
  {
   "metadata": {},
   "cell_type": "markdown",
   "source": "### An equaation for the error $\\delta^l$ in terms of the error in the next layer, ",
   "id": "795e63b73a19cbce"
  },
  {
   "metadata": {},
   "cell_type": "markdown",
   "source": "",
   "id": "36bf447ba47cfe0d"
  }
 ],
 "metadata": {
  "kernelspec": {
   "display_name": "Python 3",
   "language": "python",
   "name": "python3"
  },
  "language_info": {
   "codemirror_mode": {
    "name": "ipython",
    "version": 2
   },
   "file_extension": ".py",
   "mimetype": "text/x-python",
   "name": "python",
   "nbconvert_exporter": "python",
   "pygments_lexer": "ipython2",
   "version": "2.7.6"
  }
 },
 "nbformat": 4,
 "nbformat_minor": 5
}
