{
 "cells": [
  {
   "metadata": {},
   "cell_type": "markdown",
   "source": [
    "Backpropagation theory complete demonstration\n",
    "http://neuralnetworksanddeeplearning.com/chap2.html"
   ],
   "id": "2432910c5a5974a5"
  },
  {
   "metadata": {},
   "cell_type": "markdown",
   "source": "## Computing the output (Activation) from a neural network",
   "id": "9e3ca0eceb1afdd6"
  },
  {
   "metadata": {},
   "cell_type": "markdown",
   "source": [
    "The activation $a_{j}^{i}$ of the $j^{th}$ neuron in the $l^{th}$ layer is related to the activations in the $(l-1)^{th}$ layer by the equation \n",
    "$$\n",
    "\\begin{eqnarray} \n",
    "  a^{l}_j = \\sigma\\left( \\sum_k w^{l}_{jk} a^{l-1}_k + b^l_j \\right), \\tag{Eq. 1}\n",
    "\\end{eqnarray}\n",
    "$$"
   ],
   "id": "7ef8c7a612986d88"
  },
  {
   "metadata": {},
   "cell_type": "markdown",
   "source": [
    "$w^l_{jk}$: the weight for the connection from the $k^{\\rm th}$ in the $(l-1)^{th}$ layer to the $j^{th}$ in the $l^{th}$ layer\n",
    "\n",
    "$a^{l-1}_{j}$: the activation of the $j^{th}$ neuron in the $(l-1)^{th}$ layer\n",
    "\n",
    "$b^l_j$: the bias of the $j^{\\rm th}$ neuron in the $l^{\\rm th}$ layer\n",
    "\n",
    "$\\begin{eqnarray} \n",
    "  \\sigma(z) \\equiv \\frac{1}{1+e^{-z}}.\n",
    "\\end{eqnarray}$"
   ],
   "id": "d9420b4623e9dff2"
  },
  {
   "metadata": {},
   "cell_type": "markdown",
   "source": [
    "In compact vector form the Eq.1:\n",
    "$$\n",
    "\\begin{eqnarray} \n",
    "  a^{l} = \\sigma(w^l a^{l-1}+b^l),\n",
    "\\tag{Eq.2}\\end{eqnarray}\n",
    "$$\n",
    "\n",
    "$w^l$: a matrix of weights connecting to the $l^{\\rm th}$ layer of neurons: $j = rows$, $k = columns$ in $w^l_{jk}$"
   ],
   "id": "10880c07c83c25b4"
  },
  {
   "metadata": {},
   "cell_type": "markdown",
   "source": [
    "Defining as Weighted Input the expression $z_{j}^{l}$:\n",
    "$$\n",
    "z^l_j\n",
    "= \\sum_k w^l_{jk} a^{l-1}_k+b^l_j\n",
    "$$\n",
    "\n",
    "And in vector form:\n",
    "$$\n",
    "z^l \\equiv w^l a^{l-1}+b^l\n",
    "$$\n",
    "\n",
    "The Eq. 2 in terms of the weighted input: \n",
    "$$a^l =\n",
    "\\sigma(z^l)\n",
    "$$"
   ],
   "id": "699eccb0f591067d"
  },
  {
   "metadata": {},
   "cell_type": "markdown",
   "source": "## Cost Function",
   "id": "4a586ccc271eae59"
  },
  {
   "metadata": {},
   "cell_type": "markdown",
   "source": "",
   "id": "494569cf1e7e7850"
  }
 ],
 "metadata": {
  "kernelspec": {
   "display_name": "Python 3",
   "language": "python",
   "name": "python3"
  },
  "language_info": {
   "codemirror_mode": {
    "name": "ipython",
    "version": 2
   },
   "file_extension": ".py",
   "mimetype": "text/x-python",
   "name": "python",
   "nbconvert_exporter": "python",
   "pygments_lexer": "ipython2",
   "version": "2.7.6"
  }
 },
 "nbformat": 4,
 "nbformat_minor": 5
}
