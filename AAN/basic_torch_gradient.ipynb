{
 "cells": [
  {
   "cell_type": "code",
   "id": "initial_id",
   "metadata": {
    "collapsed": true,
    "ExecuteTime": {
     "end_time": "2024-06-07T18:32:29.529403Z",
     "start_time": "2024-06-07T18:32:27.312872Z"
    }
   },
   "source": "import torch",
   "outputs": [],
   "execution_count": 2
  },
  {
   "metadata": {},
   "cell_type": "markdown",
   "source": "requires_grad = True sets up the computational tracking on the tensor",
   "id": "4dbde81515df7a70"
  },
  {
   "metadata": {
    "ExecuteTime": {
     "end_time": "2024-06-07T18:32:33.417469Z",
     "start_time": "2024-06-07T18:32:33.410507Z"
    }
   },
   "cell_type": "code",
   "source": "x = torch.tensor(2.0, requires_grad=True)",
   "id": "1edaf774ef67e3cd",
   "outputs": [],
   "execution_count": 3
  },
  {
   "metadata": {},
   "cell_type": "markdown",
   "source": "Example function 1: $y(x) = 2 x^{4} + x^{3} + 3 x^{2} + 5 x + 1$",
   "id": "acb34bcfff556271"
  },
  {
   "metadata": {
    "ExecuteTime": {
     "end_time": "2024-06-07T18:43:05.434324Z",
     "start_time": "2024-06-07T18:43:05.430277Z"
    }
   },
   "cell_type": "code",
   "source": [
    "y = 2*x**4 + x**3 + 3*x**2 + 5*x + 1\n",
    "print(y)"
   ],
   "id": "fd392085d4962bb0",
   "outputs": [
    {
     "name": "stdout",
     "output_type": "stream",
     "text": [
      "tensor(63., grad_fn=<AddBackward0>)\n"
     ]
    },
    {
     "data": {
      "text/plain": [
       "'AddBackward0'"
      ]
     },
     "execution_count": 6,
     "metadata": {},
     "output_type": "execute_result"
    }
   ],
   "execution_count": 6
  },
  {
   "metadata": {},
   "cell_type": "markdown",
   "source": [
    "The backward method of the tensor `object y` set by default the derivative of the y function with respect to x evaluated in 2.0 in the property .grad of the `x object`\n",
    "$$\\frac{dy}{dx}=8(x)^3+3(x)^2+6(x)+5 $$\n",
    "$$\\left. \\frac{dy}{dx} \\right|_{x=2}=8(2)^3+3(2)^2+6(2)+5 = 64+12+12+5 = 93$$"
   ],
   "id": "266dfcc468f96f65"
  },
  {
   "metadata": {
    "ExecuteTime": {
     "end_time": "2024-06-07T18:59:54.903093Z",
     "start_time": "2024-06-07T18:59:54.851411Z"
    }
   },
   "cell_type": "code",
   "source": [
    "y.backward()\n",
    "print(x.grad)"
   ],
   "id": "8adb6df1f35292a5",
   "outputs": [
    {
     "name": "stdout",
     "output_type": "stream",
     "text": [
      "tensor(93.)\n"
     ]
    }
   ],
   "execution_count": 7
  },
  {
   "metadata": {},
   "cell_type": "markdown",
   "source": "### Multistep backpropagation",
   "id": "8486f16286ed56fe"
  },
  {
   "metadata": {
    "ExecuteTime": {
     "end_time": "2024-06-07T19:25:25.199432Z",
     "start_time": "2024-06-07T19:25:25.194793Z"
    }
   },
   "cell_type": "code",
   "source": [
    "x = torch.tensor([[1.,2,3],[3 ,2 ,1]], requires_grad=True)\n",
    "print(x)"
   ],
   "id": "fa4138407c8435b4",
   "outputs": [
    {
     "name": "stdout",
     "output_type": "stream",
     "text": [
      "tensor([[1., 2., 3.],\n",
      "        [3., 2., 1.]], requires_grad=True)\n"
     ]
    }
   ],
   "execution_count": 8
  },
  {
   "metadata": {},
   "cell_type": "code",
   "outputs": [],
   "execution_count": null,
   "source": "",
   "id": "5d90588651c150b3"
  }
 ],
 "metadata": {
  "kernelspec": {
   "display_name": "Python 3",
   "language": "python",
   "name": "python3"
  },
  "language_info": {
   "codemirror_mode": {
    "name": "ipython",
    "version": 2
   },
   "file_extension": ".py",
   "mimetype": "text/x-python",
   "name": "python",
   "nbconvert_exporter": "python",
   "pygments_lexer": "ipython2",
   "version": "2.7.6"
  }
 },
 "nbformat": 4,
 "nbformat_minor": 5
}
