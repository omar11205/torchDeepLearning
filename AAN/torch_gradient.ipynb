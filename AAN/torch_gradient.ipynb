{
 "cells": [
  {
   "cell_type": "code",
   "id": "initial_id",
   "metadata": {
    "collapsed": true,
    "ExecuteTime": {
     "end_time": "2024-05-01T03:30:29.229203Z",
     "start_time": "2024-05-01T03:30:27.391796Z"
    }
   },
   "source": [
    "import torch\n",
    "import numpy as np\n",
    "import matplotlib.pyplot as plt"
   ],
   "outputs": [],
   "execution_count": 1
  },
  {
   "metadata": {
    "ExecuteTime": {
     "end_time": "2024-05-01T03:30:29.232842Z",
     "start_time": "2024-05-01T03:30:29.230211Z"
    }
   },
   "cell_type": "code",
   "source": [
    "# computational dynamic graph is a ds that helps tracking changes in a tensor using graphs ds. The next code sets up computational tracking on a tensor\n",
    "x = torch.tensor(2.0, requires_grad=True)"
   ],
   "id": "d55e197a08ac6edb",
   "outputs": [],
   "execution_count": 2
  },
  {
   "metadata": {
    "ExecuteTime": {
     "end_time": "2024-05-01T03:30:29.238364Z",
     "start_time": "2024-05-01T03:30:29.232842Z"
    }
   },
   "cell_type": "code",
   "source": [
    "# defining a tensorial function \n",
    "y = 2*x**4 + x**3 + 3*x**2 + 5*x + 1\n",
    "print(y)"
   ],
   "id": "4900d1b1486f139a",
   "outputs": [
    {
     "name": "stdout",
     "output_type": "stream",
     "text": [
      "tensor(63., grad_fn=<AddBackward0>)\n"
     ]
    }
   ],
   "execution_count": 3
  },
  {
   "metadata": {},
   "cell_type": "code",
   "outputs": [],
   "execution_count": null,
   "source": [
    "x = torch.tensor(3.0, requires_grad=True)\n",
    "y = "
   ],
   "id": "3fd805e804dfdc06"
  }
 ],
 "metadata": {
  "kernelspec": {
   "display_name": "Python 3",
   "language": "python",
   "name": "python3"
  },
  "language_info": {
   "codemirror_mode": {
    "name": "ipython",
    "version": 2
   },
   "file_extension": ".py",
   "mimetype": "text/x-python",
   "name": "python",
   "nbconvert_exporter": "python",
   "pygments_lexer": "ipython2",
   "version": "2.7.6"
  }
 },
 "nbformat": 4,
 "nbformat_minor": 5
}
