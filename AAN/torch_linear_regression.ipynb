{
 "cells": [
  {
   "cell_type": "code",
   "id": "initial_id",
   "metadata": {
    "collapsed": true,
    "ExecuteTime": {
     "end_time": "2024-06-24T00:11:18.939271Z",
     "start_time": "2024-06-24T00:11:17.249366Z"
    }
   },
   "source": [
    "import torch\n",
    "import numpy as np\n",
    "import matplotlib.pyplot as plt\n",
    "import torch.nn as nn"
   ],
   "outputs": [],
   "execution_count": 1
  },
  {
   "metadata": {},
   "cell_type": "markdown",
   "source": "### Dataset for linear regression",
   "id": "64ac7808783eebae"
  },
  {
   "metadata": {
    "ExecuteTime": {
     "end_time": "2024-06-24T00:11:18.944545Z",
     "start_time": "2024-06-24T00:11:18.940276Z"
    }
   },
   "cell_type": "code",
   "source": [
    "# creating a column matrix of 50 linearly spaced elements\n",
    "X = torch.linspace(1, 50, 50).reshape(-1, 1)\n",
    "print(X)"
   ],
   "id": "8d51ce0e976c4f9a",
   "outputs": [
    {
     "name": "stdout",
     "output_type": "stream",
     "text": [
      "tensor([[ 1.],\n",
      "        [ 2.],\n",
      "        [ 3.],\n",
      "        [ 4.],\n",
      "        [ 5.],\n",
      "        [ 6.],\n",
      "        [ 7.],\n",
      "        [ 8.],\n",
      "        [ 9.],\n",
      "        [10.],\n",
      "        [11.],\n",
      "        [12.],\n",
      "        [13.],\n",
      "        [14.],\n",
      "        [15.],\n",
      "        [16.],\n",
      "        [17.],\n",
      "        [18.],\n",
      "        [19.],\n",
      "        [20.],\n",
      "        [21.],\n",
      "        [22.],\n",
      "        [23.],\n",
      "        [24.],\n",
      "        [25.],\n",
      "        [26.],\n",
      "        [27.],\n",
      "        [28.],\n",
      "        [29.],\n",
      "        [30.],\n",
      "        [31.],\n",
      "        [32.],\n",
      "        [33.],\n",
      "        [34.],\n",
      "        [35.],\n",
      "        [36.],\n",
      "        [37.],\n",
      "        [38.],\n",
      "        [39.],\n",
      "        [40.],\n",
      "        [41.],\n",
      "        [42.],\n",
      "        [43.],\n",
      "        [44.],\n",
      "        [45.],\n",
      "        [46.],\n",
      "        [47.],\n",
      "        [48.],\n",
      "        [49.],\n",
      "        [50.]])\n"
     ]
    }
   ],
   "execution_count": 2
  },
  {
   "metadata": {
    "ExecuteTime": {
     "end_time": "2024-06-24T00:11:18.950462Z",
     "start_time": "2024-06-24T00:11:18.944545Z"
    }
   },
   "cell_type": "code",
   "source": [
    "# creating a random array of error values of the same shape of the X column matrix (50,1)\n",
    "torch.manual_seed(71)\n",
    "e = torch.randint(-8, 9, (50,1), dtype=torch.float)\n",
    "print(e)"
   ],
   "id": "80767556c1fc445f",
   "outputs": [
    {
     "name": "stdout",
     "output_type": "stream",
     "text": [
      "tensor([[ 2.],\n",
      "        [ 7.],\n",
      "        [ 2.],\n",
      "        [ 6.],\n",
      "        [ 2.],\n",
      "        [-4.],\n",
      "        [ 2.],\n",
      "        [-5.],\n",
      "        [ 4.],\n",
      "        [ 1.],\n",
      "        [ 2.],\n",
      "        [ 3.],\n",
      "        [ 1.],\n",
      "        [-8.],\n",
      "        [ 5.],\n",
      "        [ 5.],\n",
      "        [-6.],\n",
      "        [ 0.],\n",
      "        [-7.],\n",
      "        [-8.],\n",
      "        [-3.],\n",
      "        [-1.],\n",
      "        [ 2.],\n",
      "        [-6.],\n",
      "        [-3.],\n",
      "        [ 3.],\n",
      "        [ 2.],\n",
      "        [ 3.],\n",
      "        [ 4.],\n",
      "        [ 5.],\n",
      "        [ 1.],\n",
      "        [ 7.],\n",
      "        [ 6.],\n",
      "        [-1.],\n",
      "        [-6.],\n",
      "        [-5.],\n",
      "        [-3.],\n",
      "        [ 7.],\n",
      "        [ 0.],\n",
      "        [ 8.],\n",
      "        [-1.],\n",
      "        [-2.],\n",
      "        [ 2.],\n",
      "        [-8.],\n",
      "        [-1.],\n",
      "        [ 6.],\n",
      "        [-8.],\n",
      "        [-3.],\n",
      "        [-7.],\n",
      "        [-2.]])\n"
     ]
    }
   ],
   "execution_count": 3
  },
  {
   "metadata": {
    "ExecuteTime": {
     "end_time": "2024-06-24T00:11:18.955603Z",
     "start_time": "2024-06-24T00:11:18.951467Z"
    }
   },
   "cell_type": "code",
   "source": [
    "# creating a tensor y(x) = 2*x + 1 plus an random error e (noise)\n",
    "y = 2*X + 1 + e\n",
    "y.shape"
   ],
   "id": "23d5cc9c28eb80cb",
   "outputs": [
    {
     "data": {
      "text/plain": [
       "torch.Size([50, 1])"
      ]
     },
     "execution_count": 4,
     "metadata": {},
     "output_type": "execute_result"
    }
   ],
   "execution_count": 4
  },
  {
   "metadata": {
    "ExecuteTime": {
     "end_time": "2024-06-24T00:11:19.043871Z",
     "start_time": "2024-06-24T00:11:18.955603Z"
    }
   },
   "cell_type": "code",
   "source": [
    "# in order to plot, first convert the tensors into numpy arrays\n",
    "plt.scatter(X.numpy(), y.numpy())"
   ],
   "id": "69f5685877c63712",
   "outputs": [
    {
     "data": {
      "text/plain": [
       "<matplotlib.collections.PathCollection at 0x1e40d503d10>"
      ]
     },
     "execution_count": 5,
     "metadata": {},
     "output_type": "execute_result"
    },
    {
     "data": {
      "text/plain": [
       "<Figure size 640x480 with 1 Axes>"
      ],
      "image/png": "[encoded data removed]"
     },
     "metadata": {},
     "output_type": "display_data"
    }
   ],
   "execution_count": 5
  },
  {
   "metadata": {},
   "cell_type": "markdown",
   "source": "### Training algorithm for linear regression",
   "id": "cd72b42cfeec760b"
  },
  {
   "metadata": {
    "ExecuteTime": {
     "end_time": "2024-06-24T00:11:19.048991Z",
     "start_time": "2024-06-24T00:11:19.043871Z"
    }
   },
   "cell_type": "code",
   "source": "torch.manual_seed(59)",
   "id": "3db14c4a52c4f5f5",
   "outputs": [
    {
     "data": {
      "text/plain": [
       "<torch._C.Generator at 0x1e47ed65290>"
      ]
     },
     "execution_count": 6,
     "metadata": {},
     "output_type": "execute_result"
    }
   ],
   "execution_count": 6
  },
  {
   "metadata": {
    "ExecuteTime": {
     "end_time": "2024-06-24T00:11:19.052348Z",
     "start_time": "2024-06-24T00:11:19.048991Z"
    }
   },
   "cell_type": "code",
   "source": [
    "class Model(nn.Module):\n",
    "    def __init__(self, in_features, out_features):\n",
    "        super().__init__() #inherits the constructor method of the superior object (nn.Module)\n",
    "        self.linear = nn.Linear(in_features, out_features) # the type of neural network layer that is employed here: Linear is a fully connected or Dense layer \n",
    "    \n",
    "    def forward(self, x):\n",
    "        y_pred = self.linear(x)\n",
    "        return y_pred"
   ],
   "id": "6da3ed3850cbe901",
   "outputs": [],
   "execution_count": 7
  },
  {
   "metadata": {
    "ExecuteTime": {
     "end_time": "2024-06-24T00:11:19.058833Z",
     "start_time": "2024-06-24T00:11:19.052348Z"
    }
   },
   "cell_type": "code",
   "source": [
    "torch.manual_seed(59)\n",
    "\n",
    "model = Model(1,1) # one simple feature x, one simple out feature y\n",
    "print(model.linear.weight)\n",
    "print(model.linear.bias)"
   ],
   "id": "60988ff1dd4ffd29",
   "outputs": [
    {
     "name": "stdout",
     "output_type": "stream",
     "text": [
      "Parameter containing:\n",
      "tensor([[0.1060]], requires_grad=True)\n",
      "Parameter containing:\n",
      "tensor([0.9638], requires_grad=True)\n"
     ]
    }
   ],
   "execution_count": 8
  },
  {
   "metadata": {
    "ExecuteTime": {
     "end_time": "2024-06-24T00:11:19.061832Z",
     "start_time": "2024-06-24T00:11:19.058833Z"
    }
   },
   "cell_type": "code",
   "source": [
    "# setting the loss function: mean square error loss (the target function for the optimization)\n",
    "criterion = nn.MSELoss()\n",
    "print(criterion.type)"
   ],
   "id": "848f81e4746805e1",
   "outputs": [
    {
     "name": "stdout",
     "output_type": "stream",
     "text": [
      "<bound method Module.type of MSELoss()>\n"
     ]
    }
   ],
   "execution_count": 9
  },
  {
   "metadata": {
    "ExecuteTime": {
     "end_time": "2024-06-24T00:11:19.820441Z",
     "start_time": "2024-06-24T00:11:19.062842Z"
    }
   },
   "cell_type": "code",
   "source": [
    "# setting the learning rate as stochastic gradient descend, learning rate, lr = 0.01\n",
    "# this is used to update the weights and biases \n",
    "optimizer = torch.optim.SGD(model.parameters(), lr=0.001)"
   ],
   "id": "952f577074cd19d6",
   "outputs": [],
   "execution_count": 10
  },
  {
   "metadata": {
    "ExecuteTime": {
     "end_time": "2024-06-24T00:11:19.834397Z",
     "start_time": "2024-06-24T00:11:19.820441Z"
    }
   },
   "cell_type": "code",
   "source": [
    "# epochs: entire pass or entire processing of the dataset that ends updating the biases and weights of the network. With this update, the next epoch will be closer and closer to the optimization. In order to reach an optimum number of epochs we need to track the losses\n",
    "epochs = 25\n",
    "losses = []\n",
    "for epoch in range(epochs):\n",
    "    epoch += 1\n",
    "    \n",
    "    # prediction of y (forward pass)\n",
    "    y_pred = model.forward(X)\n",
    "    \n",
    "    # calculate the loss (error)\n",
    "    loss = criterion(y_pred, y)\n",
    "    \n",
    "    # record the error\n",
    "    losses.append(loss.detach().numpy())\n",
    "    \n",
    "    print(f'epoch: {epoch}, loss: {loss.item()}, weight: {model.linear.weight.item()}, bias {model.linear.bias.item()}')\n",
    "    \n",
    "    #to prevent the accumulation of the gradients steps in the next epoch\n",
    "    #starting \"fresh\" for the next epoch\n",
    "    optimizer.zero_grad()\n",
    "    \n",
    "    #find the derivatives with respect to the loss function (backward step)\n",
    "    loss.backward()\n",
    "    \n",
    "    #updating the weights and biases\n",
    "    optimizer.step()"
   ],
   "id": "b88ebf5d8fb79ac",
   "outputs": [
    {
     "name": "stdout",
     "output_type": "stream",
     "text": [
      "epoch: 1, loss: 3057.216796875, weight: 0.10597813129425049, bias 0.9637961387634277\n",
      "epoch: 2, loss: 1588.5311279296875, weight: 3.334900379180908, bias 1.0604636669158936\n",
      "epoch: 3, loss: 830.2999877929688, weight: 1.0148327350616455, bias 0.9922628402709961\n",
      "epoch: 4, loss: 438.8524169921875, weight: 2.6817996501922607, bias 1.0425218343734741\n",
      "epoch: 5, loss: 236.7615203857422, weight: 1.4840211868286133, bias 1.0076650381088257\n",
      "epoch: 6, loss: 132.4291229248047, weight: 2.3446059226989746, bias 1.0339646339416504\n",
      "epoch: 7, loss: 78.56572723388672, weight: 1.7262253761291504, bias 1.0163217782974243\n",
      "epoch: 8, loss: 50.75775909423828, weight: 2.170504093170166, bias 1.0302516222000122\n",
      "epoch: 9, loss: 36.4012565612793, weight: 1.851245641708374, bias 1.0214954614639282\n",
      "epoch: 10, loss: 28.989229202270508, weight: 2.0806007385253906, bias 1.029038906097412\n",
      "epoch: 11, loss: 25.162382125854492, weight: 1.9157683849334717, bias 1.0248701572418213\n",
      "epoch: 12, loss: 23.186473846435547, weight: 2.034165620803833, bias 1.0291162729263306\n",
      "epoch: 13, loss: 22.166126251220703, weight: 1.9490584135055542, bias 1.027315616607666\n",
      "epoch: 14, loss: 21.639110565185547, weight: 2.010172128677368, bias 1.0298590660095215\n",
      "epoch: 15, loss: 21.366771697998047, weight: 1.9662237167358398, bias 1.0292805433273315\n",
      "epoch: 16, loss: 21.22591781616211, weight: 1.997764229774475, bias 1.030944585800171\n",
      "epoch: 17, loss: 21.15294647216797, weight: 1.9750648736953735, bias 1.0309966802597046\n",
      "epoch: 18, loss: 21.115009307861328, weight: 1.991337537765503, bias 1.032206416130066\n",
      "epoch: 19, loss: 21.095176696777344, weight: 1.9796085357666016, bias 1.0325838327407837\n",
      "epoch: 20, loss: 21.084684371948242, weight: 1.9879988431930542, bias 1.0335586071014404\n",
      "epoch: 21, loss: 21.07901382446289, weight: 1.981933355331421, bias 1.034103512763977\n",
      "epoch: 22, loss: 21.075830459594727, weight: 1.9862544536590576, bias 1.034956693649292\n",
      "epoch: 23, loss: 21.073938369750977, weight: 1.9831126928329468, bias 1.0355877876281738\n",
      "epoch: 24, loss: 21.07270050048828, weight: 1.9853330850601196, bias 1.0363779067993164\n",
      "epoch: 25, loss: 21.071819305419922, weight: 1.9837009906768799, bias 1.037053108215332\n"
     ]
    }
   ],
   "execution_count": 11
  },
  {
   "metadata": {
    "ExecuteTime": {
     "end_time": "2024-06-24T00:11:19.913637Z",
     "start_time": "2024-06-24T00:11:19.834397Z"
    }
   },
   "cell_type": "code",
   "source": [
    "plt.plot(range(epochs), losses)\n",
    "plt.ylabel('MSE Loss')\n",
    "plt.xlabel('Epoch')"
   ],
   "id": "77199fbf08b9c05c",
   "outputs": [
    {
     "data": {
      "text/plain": [
       "Text(0.5, 0, 'Epoch')"
      ]
     },
     "execution_count": 12,
     "metadata": {},
     "output_type": "execute_result"
    },
    {
     "data": {
      "text/plain": [
       "<Figure size 640x480 with 1 Axes>"
      ],
      "image/png": "[encoded data removed]"
     },
     "metadata": {},
     "output_type": "display_data"
    }
   ],
   "execution_count": 12
  },
  {
   "metadata": {
    "ExecuteTime": {
     "end_time": "2024-06-24T00:17:14.344580Z",
     "start_time": "2024-06-24T00:17:14.341174Z"
    }
   },
   "cell_type": "code",
   "source": [
    "x = np.linspace(0, 50, 50)\n",
    "current_weight = model.linear.weight.item()\n",
    "current_bias = model.linear.bias.item()\n",
    "predicted_y = current_weight*x + current_bias"
   ],
   "id": "da91190edec4e59f",
   "outputs": [],
   "execution_count": 13
  },
  {
   "metadata": {
    "ExecuteTime": {
     "end_time": "2024-06-24T00:17:16.600866Z",
     "start_time": "2024-06-24T00:17:16.523028Z"
    }
   },
   "cell_type": "code",
   "source": [
    "plt.scatter(X.numpy(), y.numpy())\n",
    "plt.plot(x, predicted_y, 'r')"
   ],
   "id": "3e808d17535ca4b",
   "outputs": [
    {
     "data": {
      "text/plain": [
       "[<matplotlib.lines.Line2D at 0x1e418bd4ce0>]"
      ]
     },
     "execution_count": 14,
     "metadata": {},
     "output_type": "execute_result"
    },
    {
     "data": {
      "text/plain": [
       "<Figure size 640x480 with 1 Axes>"
      ],
      "image/png": "[encoded data removed]"
     },
     "metadata": {},
     "output_type": "display_data"
    }
   ],
   "execution_count": 14
  },
  {
   "metadata": {},
   "cell_type": "code",
   "outputs": [],
   "execution_count": null,
   "source": "",
   "id": "642e19d70fc9c425"
  }
 ],
 "metadata": {
  "kernelspec": {
   "display_name": "Python 3",
   "language": "python",
   "name": "python3"
  },
  "language_info": {
   "codemirror_mode": {
    "name": "ipython",
    "version": 2
   },
   "file_extension": ".py",
   "mimetype": "text/x-python",
   "name": "python",
   "nbconvert_exporter": "python",
   "pygments_lexer": "ipython2",
   "version": "2.7.6"
  }
 },
 "nbformat": 4,
 "nbformat_minor": 5
}
