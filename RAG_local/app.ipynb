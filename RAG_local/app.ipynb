{
 "cells": [
  {
   "cell_type": "markdown",
   "metadata": {},
   "source": [
    "### RAG for debtors\n",
    "\n",
    "- Local model server: Ollama\n",
    "- Model: llama3.1:8b"
   ]
  },
  {
   "cell_type": "code",
   "execution_count": 1,
   "metadata": {},
   "outputs": [],
   "source": [
    "import json\n",
    "import time\n",
    "from langchain_ollama import ChatOllama\n",
    "from langchain_community.vectorstores import Chroma\n",
    "from langchain_huggingface import HuggingFaceEmbeddings\n",
    "from langchain.prompts import ChatPromptTemplate\n",
    "from langchain.text_splitter import RecursiveCharacterTextSplitter\n",
    "from langchain.schema import Document  # For handling document structure"
   ]
  },
  {
   "cell_type": "markdown",
   "metadata": {},
   "source": [
    "#### Conversation by conversation  loading\n",
    "\n",
    "The next code reads the `conversation_1.json` file and loads it as a Python dictionary. The JSON contains information about the debtor, co-borrower, credits, payment history, and prior conversations."
   ]
  },
  {
   "cell_type": "code",
   "execution_count": 2,
   "metadata": {},
   "outputs": [],
   "source": [
    "# Load the JSON data\n",
    "with open('conversation_1.json', 'r', encoding='utf-8') as file:\n",
    "    data = json.load(file)"
   ]
  },
  {
   "cell_type": "markdown",
   "metadata": {},
   "source": [
    "#### Extracting information\n",
    "- `debtor_info`: Extracts debtor-related financial information (debtor's name, address, credits, etc.).\n",
    "\n",
    "- `conversation_logs`: Retrieves past conversations between the agent and the debtor.\n",
    "\n",
    "- `debtor_plan`: Extracts the communication guidelines that the agent must follow when interacting with the debtor."
   ]
  },
  {
   "cell_type": "code",
   "execution_count": 3,
   "metadata": {},
   "outputs": [
    {
     "name": "stdout",
     "output_type": "stream",
     "text": [
      "{'debtor': {'name': 'Mauricio Sanabria', 'address': 'Carrera 2X # 75-8 Este\\nEtapa 6 apartamento 7\\n504343\\nVistahermosa, Meta', 'phone_number': '7740221', 'email': 'qarrieta@example.net', 'identification': '76293883', 'identificacion': '74720362'}, 'co_borrower': {'name': 'Marina Andrea Caicedo Jaramillo', 'address': 'Av. Rojas # 5-2 Sur\\n134697\\nEl Peñón, Bolívar', 'email': 'amayagloria@example.org', 'phone_number': '+57 602 983 40 62', 'identification': '31468585'}, 'credits': [{'credit_status': 'active', 'credit_start_date': '2023-09-16', 'credit_due_date': '2024-09-10', 'credit_type': 'libre inversión', 'credit_use': 'Renovación de vivienda', 'credit_enterprise': 'Credito Mujer', 'amount': 6039634.21, 'delinquency': 30, 'last_payment': '2023-06-01', 'payments_made': 1500, 'interest': 500, 'interest_rate': 0.05, 'outstanding_balance': 503302.85}], 'payment_history': [{'date': '2023-10-16', 'amount': 503302.85, 'method': 'transfer', 'credit_name': 'Renovación de vivienda'}, {'date': '2023-11-15', 'amount': 503302.85, 'method': 'transfer', 'credit_name': 'Renovación de vivienda'}, {'date': '2023-12-15', 'amount': 503302.85, 'method': 'transfer', 'credit_name': 'Renovación de vivienda'}], 'calls': [{'date': '2024-09-19', 'agent': 'Eduardo García', 'notes': 'Cliente no contesta'}, {'date': '2024-09-06', 'agent': 'María Esther Martínez', 'notes': 'Cliente no contesta'}, {'date': '2024-09-26', 'agent': 'Lilia Maribel Mejía Soto', 'notes': 'Cliente no contesta'}, {'date': '2024-09-24', 'agent': 'Fidel Caicedo Gutiérrez', 'notes': 'Cliente no contesta'}, {'date': '2024-09-15', 'agent': 'Ivonne Marcela Álvarez', 'notes': 'Cliente no contesta'}]}\n",
      "[{'input': 'hola', 'expected_output': 'Muy buenos días, estoy buscando al señor Mauricio Sanabria'}, {'input': 'si con el', 'expected_output': 'Señor Mauricio permítame me presento. Soy Gabriela y trabajo para Cumplir S.A.S en representación de Banco Mundo Mujer. Como se encuentra el día de hoy?'}, {'input': 'bien gracias', 'expected_output': 'Me alegro mucho. El motivo de mi llamada es recordarle que tiene una obligación pendiente de pago por un valor de 301981. Podemos contar con este pago antes del día lunes ?'}, {'input': 'si yo se, es que no he tenido tiempo pero ya hago el pago', 'expected_output': 'Muchas gracias, dejo registrado un acuerdo de pago para el dia 2024-09-07 por un valor de 301981 pesos. Que tenga un buen día'}]\n",
      "8\n"
     ]
    }
   ],
   "source": [
    "# Extract relevant pieces of information for the RAG system\n",
    "debtor_info = data[\"metadata\"][\"debtor_info\"][\"debt_info\"]\n",
    "conversation_logs = data[\"conversation\"]\n",
    "debtor_plan = data[\"metadata\"][\"debtor_info\"][\"debtor_plan\"]\n",
    "\n",
    "print(debtor_info)\n",
    "print(conversation_logs)\n",
    "print(len(debtor_plan))"
   ]
  },
  {
   "cell_type": "markdown",
   "metadata": {},
   "source": [
    "#### Convert Text into Document Objects\n",
    "Here, all the information is organized into Document objects. These objects are structured with the page_content attribute, which is needed by LangChain’s `split_documents()` method.\n",
    "\n",
    "LangChain works with document objects to efficiently retrieve relevant pieces of information based on user queries."
   ]
  },
  {
   "cell_type": "code",
   "execution_count": 5,
   "metadata": {},
   "outputs": [
    {
     "name": "stdout",
     "output_type": "stream",
     "text": [
      "245\n"
     ]
    }
   ],
   "source": [
    "# Prepare the text as Document objects\n",
    "documents = [\n",
    "    Document(page_content=f\"Debtor: {debtor_info['debtor']}\"),\n",
    "    Document(page_content=f\"Co-borrower: {debtor_info['co_borrower']}\"),\n",
    "    Document(page_content=f\"Credit Information: {debtor_info['credits']}\"),\n",
    "    Document(page_content=f\"Payment History: {debtor_info['payment_history']}\"),\n",
    "    Document(page_content=f\"Calls: {debtor_info['calls']}\"),\n",
    "    Document(page_content=f\"Debtor Plan: {debtor_plan}\"),\n",
    "    Document(page_content=f\"Conversation: {conversation_logs}\")\n",
    "]\n",
    "len_debtor = len(f\"Debtor: {debtor_info['debtor']}\")\n",
    "print(len_debtor)"
   ]
  },
  {
   "cell_type": "markdown",
   "metadata": {},
   "source": [
    "#### Split the documents into Chunks\n",
    "\n",
    "The `RecursiveCharacterTextSplitter` breaks the large text documents into smaller chunks of 200 characters with a 20-character overlap. This allows more efficient retrieval of smaller text pieces when a user asks a question.\n",
    "\n",
    "Chunking is important because it prevents large, irrelevant portions of text from being returned during retrieval."
   ]
  },
  {
   "cell_type": "code",
   "execution_count": 12,
   "metadata": {},
   "outputs": [
    {
     "name": "stdout",
     "output_type": "stream",
     "text": [
      "Total chunk lenght: 22\n",
      "All the text chunks: \n",
      "page_content='Debtor: {'name': 'Mauricio Sanabria', 'address': 'Carrera 2X # 75-8 Este\\nEtapa 6 apartamento 7\\n504343\\nVistahermosa, Meta', 'phone_number': '7740221', 'email': 'qarrieta@example.net','\n",
      "page_content=''identification': '76293883', 'identificacion': '74720362'}'\n",
      "page_content='Co-borrower: {'name': 'Marina Andrea Caicedo Jaramillo', 'address': 'Av. Rojas # 5-2 Sur\\n134697\\nEl Peñón, Bolívar', 'email': 'amayagloria@example.org', 'phone_number': '+57 602 983 40 62','\n",
      "page_content='602 983 40 62', 'identification': '31468585'}'\n",
      "page_content='Credit Information: [{'credit_status': 'active', 'credit_start_date': '2023-09-16', 'credit_due_date': '2024-09-10', 'credit_type': 'libre inversión', 'credit_use': 'Renovación de vivienda','\n",
      "page_content='de vivienda', 'credit_enterprise': 'Credito Mujer', 'amount': 6039634.21, 'delinquency': 30, 'last_payment': '2023-06-01', 'payments_made': 1500, 'interest': 500, 'interest_rate': 0.05,'\n",
      "page_content='0.05, 'outstanding_balance': 503302.85}]'\n",
      "page_content='Payment History: [{'date': '2023-10-16', 'amount': 503302.85, 'method': 'transfer', 'credit_name': 'Renovación de vivienda'}, {'date': '2023-11-15', 'amount': 503302.85, 'method': 'transfer','\n",
      "page_content=''transfer', 'credit_name': 'Renovación de vivienda'}, {'date': '2023-12-15', 'amount': 503302.85, 'method': 'transfer', 'credit_name': 'Renovación de vivienda'}]'\n",
      "page_content='Calls: [{'date': '2024-09-19', 'agent': 'Eduardo García', 'notes': 'Cliente no contesta'}, {'date': '2024-09-06', 'agent': 'María Esther Martínez', 'notes': 'Cliente no contesta'}, {'date':'\n",
      "page_content='{'date': '2024-09-26', 'agent': 'Lilia Maribel Mejía Soto', 'notes': 'Cliente no contesta'}, {'date': '2024-09-24', 'agent': 'Fidel Caicedo Gutiérrez', 'notes': 'Cliente no contesta'}, {'date':'\n",
      "page_content='{'date': '2024-09-15', 'agent': 'Ivonne Marcela Álvarez', 'notes': 'Cliente no contesta'}]'\n",
      "page_content='Debtor Plan: ['Informar al usuario acerca de su deuda y Responder cualquier pregunta que tenga el deudor siempre enfocado hacia un acuerdo de pagos.', 'Informar acerca de las llamadas anteriores'\n",
      "page_content='llamadas anteriores realizadas y algunas notas indicando que no ha sido posible llegar a un acuerdo con el que el deudor pueda cumplir.', 'Informar que Lo importante es iniciar los pagos porque si no'\n",
      "page_content='pagos porque si no la deuda sigue aumentando por los intereses.', 'Informar al usuario de la consecuencias por no pago', 'Informar al usuario de las promociones', 'Informar al usuario de los'\n",
      "page_content='al usuario de los descuentos para poder saldar su deuda.', 'Entregar la mejor solución de acuerdo a las promociones y descuentos para no realizar las acciones en caso de no pago, de una manera cortes'\n",
      "page_content='una manera cortes y conciliatoria.', 'De acuerdo al monto de la deuda hacer los calculos de cuanto deberia pagar mensualmente para saldar su deuda completa.']'\n",
      "page_content='Conversation: [{'input': 'hola', 'expected_output': 'Muy buenos días, estoy buscando al señor Mauricio Sanabria'}, {'input': 'si con el', 'expected_output': 'Señor Mauricio permítame me presento. Soy'\n",
      "page_content='me presento. Soy Gabriela y trabajo para Cumplir S.A.S en representación de Banco Mundo Mujer. Como se encuentra el día de hoy?'}, {'input': 'bien gracias', 'expected_output': 'Me alegro mucho. El'\n",
      "page_content='alegro mucho. El motivo de mi llamada es recordarle que tiene una obligación pendiente de pago por un valor de 301981. Podemos contar con este pago antes del día lunes ?'}, {'input': 'si yo se, es'\n",
      "page_content=''si yo se, es que no he tenido tiempo pero ya hago el pago', 'expected_output': 'Muchas gracias, dejo registrado un acuerdo de pago para el dia 2024-09-07 por un valor de 301981 pesos. Que tenga un'\n",
      "page_content='pesos. Que tenga un buen día'}]'\n"
     ]
    }
   ],
   "source": [
    "text_splitter = RecursiveCharacterTextSplitter(chunk_size=200, chunk_overlap=20)\n",
    "doc_chunks = text_splitter.split_documents(documents)\n",
    "\n",
    "print(\"Total chunk lenght:\", len(doc_chunks))\n",
    "print(\"All the text chunks: \")\n",
    "for chunk in doc_chunks:\n",
    "    print(chunk)"
   ]
  },
  {
   "cell_type": "markdown",
   "metadata": {},
   "source": [
    "#### Create Embeddings and Store them in Chroma\n",
    "\n",
    "Embeddings are vector representations of text, which allow the RAG system to compare the semantic meaning of a user's query to chunks of text from the documents.\n",
    "\n",
    "The `HuggingFaceEmbeddings` class converts each chunk of text into embeddings using the \"all-MiniLM-L6-v2\" model from HuggingFace.\n",
    "\n",
    "These embeddings are stored in the Chroma vector store, which is a database optimized for fast similarity searches. It will later help retrieve relevant document chunks based on the user query."
   ]
  },
  {
   "cell_type": "code",
   "execution_count": 13,
   "metadata": {},
   "outputs": [
    {
     "name": "stderr",
     "output_type": "stream",
     "text": [
      "/home/ombolanos/anaconda3/envs/llama_env/lib/python3.11/site-packages/sentence_transformers/cross_encoder/CrossEncoder.py:13: TqdmWarning: IProgress not found. Please update jupyter and ipywidgets. See https://ipywidgets.readthedocs.io/en/stable/user_install.html\n",
      "  from tqdm.autonotebook import tqdm, trange\n"
     ]
    }
   ],
   "source": [
    "embeddings = HuggingFaceEmbeddings(model_name=\"all-MiniLM-L6-v2\")\n",
    "vectorstore = Chroma.from_documents(doc_chunks, embedding=embeddings)"
   ]
  },
  {
   "cell_type": "markdown",
   "metadata": {},
   "source": [
    "#### Define the LLM and Create a Prompt Template\n",
    "\n",
    "The Prompt Template provides a structure for the LLM, specifying that it should answer the user’s question while considering the relevant context (retrieved document chunks)."
   ]
  },
  {
   "cell_type": "code",
   "execution_count": 29,
   "metadata": {},
   "outputs": [],
   "source": [
    "llm = ChatOllama(model=\"llama3.1:8b\", temperature=0)\n",
    "\n",
    "prompt_template = ChatPromptTemplate.from_template(\"\"\"\n",
    "    For this chat you are a bank assistant. Use the following context to recognize if the person is client of the bank and, if it is client, answer according to the rest of the context and tell him if it has debt or not:\n",
    "    {context}\n",
    "    \"\"\")"
   ]
  },
  {
   "cell_type": "markdown",
   "metadata": {},
   "source": [
    "#### Retrieve Context and Generate a Response\n",
    "\n",
    "- Retriever: The retriever fetches the top 3 relevant document chunks from Chroma based on the user's query.\n",
    "- Context: The retrieved document chunks are concatenated into a context string, which provides background information for generating an informed response.\n",
    "- Prompt: The context and user query are combined into a prompt for the LLaMA model.\n",
    "- LLM Generation: The LLaMA model generates a response based on the query and retrieved context."
   ]
  },
  {
   "cell_type": "code",
   "execution_count": 27,
   "metadata": {},
   "outputs": [],
   "source": [
    "def generate_response(user_query, k):\n",
    "    # Retrieve relevant documents based on the user's query    \n",
    "    retriever = vectorstore.as_retriever(k=k)\n",
    "    retrieved_docs = retriever.get_relevant_documents(user_query)\n",
    "\n",
    "    # Combine the retrieved documents into a single context\n",
    "    context = \"\\n\\n\".join([doc.page_content for doc in retrieved_docs])\n",
    "\n",
    "    # Generate the AI response using the LLaMA model\n",
    "    prompt = prompt_template.format(context=context)\n",
    "\n",
    "    # Time the generation process\n",
    "    start_time = time.time()\n",
    "    response = llm.invoke([(\"system\", prompt), (\"human\", user_query)])\n",
    "    end_time = time.time()\n",
    "\n",
    "    # Calculate tokens per second\n",
    "    num_tokens = len(response.content.split())\n",
    "    time_taken = end_time - start_time\n",
    "    tokens_per_second = num_tokens / time_taken\n",
    "\n",
    "    print(f\"Response: {response.content}\")\n",
    "    print(f\"Tokens: {num_tokens}, Time Taken: {time_taken:.2f} sec, Tokens/sec: {tokens_per_second:.2f}\")\n",
    "    print(\"\\nRetrieved Docs:\" , retrieved_docs)"
   ]
  },
  {
   "cell_type": "code",
   "execution_count": 41,
   "metadata": {},
   "outputs": [
    {
     "data": {
      "text/plain": [
       "'¿En qué puedo ayudarte?'"
      ]
     },
     "execution_count": 41,
     "metadata": {},
     "output_type": "execute_result"
    }
   ],
   "source": [
    "response = llm.invoke([(\"system\", \"Nombre deudor: Hector Cifuentes. Empresa Banco Mundo Mujer.\"), (\"human\", \"Hola\")])\n",
    "response.content"
   ]
  },
  {
   "cell_type": "code",
   "execution_count": 40,
   "metadata": {},
   "outputs": [
    {
     "data": {
      "text/plain": [
       "'Hola, soy el señor Gómez, agente de cobranzas del Banco Mundo Mujer. Estoy llamando a Hector Cifuentes en relación con una cuenta pendiente que tiene con nuestra institución. ¿Es usted el señor Cifuentes?'"
      ]
     },
     "execution_count": 40,
     "metadata": {},
     "output_type": "execute_result"
    }
   ],
   "source": [
    "response = llm.invoke([(\"system\", \"Nombre deudor: Hector Cifuentes. Estas en una conversación telefónica y eres un agente de Cobranzas de la empresa Banco Mundo Mujer. Necesitas encontrar al deudor.\"), (\"human\", \"Hola\")])\n",
    "response.content"
   ]
  },
  {
   "cell_type": "markdown",
   "metadata": {},
   "source": [
    "#### Testing with an user query:\n",
    "\n",
    "The system retrieves the relevant context from the JSON data and generates a response using the LLaMA model."
   ]
  },
  {
   "cell_type": "code",
   "execution_count": 35,
   "metadata": {},
   "outputs": [
    {
     "name": "stdout",
     "output_type": "stream",
     "text": [
      "Response: ¡Hola Mauricio! Me alegra atenderlo. Sí, según nuestros registros, usted es un cliente activo del Banco Mundo Mujer. ¿En qué puedo ayudarlo hoy?\n",
      "Tokens: 23, Time Taken: 2.47 sec, Tokens/sec: 9.31\n",
      "\n",
      "Retrieved Docs: [Document(metadata={}, page_content=\"me presento. Soy Gabriela y trabajo para Cumplir S.A.S en representación de Banco Mundo Mujer. Como se encuentra el día de hoy?'}, {'input': 'bien gracias', 'expected_output': 'Me alegro mucho. El\"), Document(metadata={}, page_content=\"pesos. Que tenga un buen día'}]\"), Document(metadata={}, page_content=\"Debtor: {'name': 'Mauricio Sanabria', 'address': 'Carrera 2X # 75-8 Este\\\\nEtapa 6 apartamento 7\\\\n504343\\\\nVistahermosa, Meta', 'phone_number': '7740221', 'email': 'qarrieta@example.net',\"), Document(metadata={}, page_content=\"una manera cortes y conciliatoria.', 'De acuerdo al monto de la deuda hacer los calculos de cuanto deberia pagar mensualmente para saldar su deuda completa.']\")]\n"
     ]
    }
   ],
   "source": [
    "user_query = \"Hola , buen día Mi nombre es Mauricio Sanabria, soy cliente de su banco?\"\n",
    "generate_response(user_query, k=3)"
   ]
  }
 ],
 "metadata": {
  "kernelspec": {
   "display_name": "llama_env",
   "language": "python",
   "name": "python3"
  },
  "language_info": {
   "codemirror_mode": {
    "name": "ipython",
    "version": 3
   },
   "file_extension": ".py",
   "mimetype": "text/x-python",
   "name": "python",
   "nbconvert_exporter": "python",
   "pygments_lexer": "ipython3",
   "version": "3.11.10"
  }
 },
 "nbformat": 4,
 "nbformat_minor": 2
}
