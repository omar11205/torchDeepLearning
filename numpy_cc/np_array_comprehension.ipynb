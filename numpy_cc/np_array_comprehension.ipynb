{
 "cells": [
  {
   "metadata": {},
   "cell_type": "markdown",
   "source": [
    "## Array Comprehension\n",
    "It is important to clarify that while the term \"list comprehension\" is commonly used, it's actually more accurate to refer to them as array comprehensions when working with Numpy. This is because Numpy arrays are different from Python lists in terms of memory layout and performance optimizations.\n",
    "\n",
    "### Basic Array Comprehension"
   ],
   "id": "3cf0ac895e077fb3"
  },
  {
   "metadata": {
    "ExecuteTime": {
     "end_time": "2024-07-27T21:33:50.348017Z",
     "start_time": "2024-07-27T21:33:50.078795Z"
    }
   },
   "cell_type": "code",
   "source": "import numpy as np",
   "id": "a598974b034eae22",
   "outputs": [],
   "execution_count": 2
  },
  {
   "metadata": {
    "ExecuteTime": {
     "end_time": "2024-07-27T21:53:28.248313Z",
     "start_time": "2024-07-27T21:53:28.213089Z"
    }
   },
   "cell_type": "code",
   "source": [
    "array = np.array([x**2 for x in range (10)])\n",
    "print(array)"
   ],
   "id": "3cb34b26d8654b4d",
   "outputs": [
    {
     "name": "stdout",
     "output_type": "stream",
     "text": [
      "[ 0  1  4  9 16 25 36 49 64 81]\n"
     ]
    }
   ],
   "execution_count": 4
  },
  {
   "metadata": {},
   "cell_type": "code",
   "outputs": [],
   "execution_count": null,
   "source": "",
   "id": "b746420870d0ac7d"
  }
 ],
 "metadata": {
  "kernelspec": {
   "display_name": "Python 3",
   "language": "python",
   "name": "python3"
  },
  "language_info": {
   "codemirror_mode": {
    "name": "ipython",
    "version": 2
   },
   "file_extension": ".py",
   "mimetype": "text/x-python",
   "name": "python",
   "nbconvert_exporter": "python",
   "pygments_lexer": "ipython2",
   "version": "2.7.6"
  }
 },
 "nbformat": 4,
 "nbformat_minor": 5
}
