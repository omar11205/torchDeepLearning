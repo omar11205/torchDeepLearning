{
 "cells": [
  {
   "cell_type": "code",
   "id": "initial_id",
   "metadata": {
    "collapsed": true,
    "ExecuteTime": {
     "end_time": "2024-08-18T22:20:23.045406Z",
     "start_time": "2024-08-18T22:20:23.031290Z"
    }
   },
   "source": "import numpy as np",
   "outputs": [],
   "execution_count": 44
  },
  {
   "metadata": {},
   "cell_type": "markdown",
   "source": "Convert From python list to numpy Array",
   "id": "ac3ea613f50e184f"
  },
  {
   "metadata": {
    "ExecuteTime": {
     "end_time": "2024-08-18T22:20:23.165672Z",
     "start_time": "2024-08-18T22:20:23.158877Z"
    }
   },
   "cell_type": "code",
   "source": [
    "mylist = [1, 2, 3]\n",
    "type(mylist)"
   ],
   "id": "b283b474d117b1d9",
   "outputs": [
    {
     "data": {
      "text/plain": [
       "list"
      ]
     },
     "execution_count": 45,
     "metadata": {},
     "output_type": "execute_result"
    }
   ],
   "execution_count": 45
  },
  {
   "metadata": {
    "ExecuteTime": {
     "end_time": "2024-08-18T22:20:23.184545Z",
     "start_time": "2024-08-18T22:20:23.173200Z"
    }
   },
   "cell_type": "code",
   "source": [
    "np_arr = np.array(mylist)\n",
    "type(np_arr)"
   ],
   "id": "5d70e03e7fb94122",
   "outputs": [
    {
     "data": {
      "text/plain": [
       "numpy.ndarray"
      ]
     },
     "execution_count": 46,
     "metadata": {},
     "output_type": "execute_result"
    }
   ],
   "execution_count": 46
  },
  {
   "metadata": {},
   "cell_type": "markdown",
   "source": "Create numpy matrices from python list of lists",
   "id": "445e39fd00957c6f"
  },
  {
   "metadata": {
    "ExecuteTime": {
     "end_time": "2024-08-18T22:20:23.212502Z",
     "start_time": "2024-08-18T22:20:23.204750Z"
    }
   },
   "cell_type": "code",
   "source": [
    "# A list o tree lists in python becomes a 3x3 matrix with np.array\n",
    "my_list = [[1,2,3],[4,5,6],[7,8,9]]\n",
    "np_matrix = np.array(my_list)\n",
    "print(np_matrix)"
   ],
   "id": "6f9210f780a675ae",
   "outputs": [
    {
     "name": "stdout",
     "output_type": "stream",
     "text": [
      "[[1 2 3]\n",
      " [4 5 6]\n",
      " [7 8 9]]\n"
     ]
    }
   ],
   "execution_count": 47
  },
  {
   "metadata": {
    "ExecuteTime": {
     "end_time": "2024-08-18T22:20:23.282444Z",
     "start_time": "2024-08-18T22:20:23.267497Z"
    }
   },
   "cell_type": "code",
   "source": "np_matrix.shape",
   "id": "fa2fa2a595171c61",
   "outputs": [
    {
     "data": {
      "text/plain": [
       "(3, 3)"
      ]
     },
     "execution_count": 48,
     "metadata": {},
     "output_type": "execute_result"
    }
   ],
   "execution_count": 48
  },
  {
   "metadata": {},
   "cell_type": "markdown",
   "source": "Create a np array from 0 to 11 ",
   "id": "9582d99e6dca43a1"
  },
  {
   "metadata": {
    "ExecuteTime": {
     "end_time": "2024-08-18T22:20:23.307592Z",
     "start_time": "2024-08-18T22:20:23.299097Z"
    }
   },
   "cell_type": "code",
   "source": [
    "# numpy array from 0 to 11 [0, 12) excluding 12 including 0\n",
    "arrange = np.arange(0, 12, 1)\n",
    "print(arrange)"
   ],
   "id": "74a9b3d64d2cfab3",
   "outputs": [
    {
     "name": "stdout",
     "output_type": "stream",
     "text": [
      "[ 0  1  2  3  4  5  6  7  8  9 10 11]\n"
     ]
    }
   ],
   "execution_count": 49
  },
  {
   "metadata": {},
   "cell_type": "markdown",
   "source": "Create an array of zeroes ",
   "id": "a275957ad8c42760"
  },
  {
   "metadata": {
    "ExecuteTime": {
     "end_time": "2024-08-18T22:20:23.335120Z",
     "start_time": "2024-08-18T22:20:23.315100Z"
    }
   },
   "cell_type": "code",
   "source": [
    "# type of zeros is float\n",
    "npz = np.zeros((2,2))\n",
    "print(npz)\n",
    "print(type(npz[0][0]))"
   ],
   "id": "1eed98447cb061ae",
   "outputs": [
    {
     "name": "stdout",
     "output_type": "stream",
     "text": [
      "[[0. 0.]\n",
      " [0. 0.]]\n",
      "<class 'numpy.float64'>\n"
     ]
    }
   ],
   "execution_count": 50
  },
  {
   "metadata": {},
   "cell_type": "markdown",
   "source": "Creating an array of ones",
   "id": "b740ad20ab246c02"
  },
  {
   "metadata": {
    "ExecuteTime": {
     "end_time": "2024-08-18T22:20:23.396360Z",
     "start_time": "2024-08-18T22:20:23.377900Z"
    }
   },
   "cell_type": "code",
   "source": [
    "np_ones = np.ones((2,2))\n",
    "print(np_ones)"
   ],
   "id": "b08ef6149886d4e",
   "outputs": [
    {
     "name": "stdout",
     "output_type": "stream",
     "text": [
      "[[1. 1.]\n",
      " [1. 1.]]\n"
     ]
    }
   ],
   "execution_count": 51
  },
  {
   "metadata": {},
   "cell_type": "markdown",
   "source": "Numpy broadcasting",
   "id": "4b9702f7e3cceeca"
  },
  {
   "metadata": {
    "ExecuteTime": {
     "end_time": "2024-08-18T22:20:23.420163Z",
     "start_time": "2024-08-18T22:20:23.409369Z"
    }
   },
   "cell_type": "code",
   "source": "np.ones((3,3))*4",
   "id": "31539daf91e4bd45",
   "outputs": [
    {
     "data": {
      "text/plain": [
       "array([[4., 4., 4.],\n",
       "       [4., 4., 4.],\n",
       "       [4., 4., 4.]])"
      ]
     },
     "execution_count": 52,
     "metadata": {},
     "output_type": "execute_result"
    }
   ],
   "execution_count": 52
  },
  {
   "metadata": {},
   "cell_type": "markdown",
   "source": "Evenly spaced np array",
   "id": "624f753f4f1515b6"
  },
  {
   "metadata": {
    "ExecuteTime": {
     "end_time": "2024-08-18T22:20:23.456448Z",
     "start_time": "2024-08-18T22:20:23.440806Z"
    }
   },
   "cell_type": "code",
   "source": "np.linspace(0,10,11) ",
   "id": "1996f3dea4427516",
   "outputs": [
    {
     "data": {
      "text/plain": [
       "array([ 0.,  1.,  2.,  3.,  4.,  5.,  6.,  7.,  8.,  9., 10.])"
      ]
     },
     "execution_count": 53,
     "metadata": {},
     "output_type": "execute_result"
    }
   ],
   "execution_count": 53
  },
  {
   "metadata": {},
   "cell_type": "markdown",
   "source": "Create an identity matrix",
   "id": "5d94f8bdf9ff4cea"
  },
  {
   "metadata": {
    "ExecuteTime": {
     "end_time": "2024-08-18T22:20:23.482717Z",
     "start_time": "2024-08-18T22:20:23.472405Z"
    }
   },
   "cell_type": "code",
   "source": "np.eye(3)",
   "id": "54f3f1a7c97434dc",
   "outputs": [
    {
     "data": {
      "text/plain": [
       "array([[1., 0., 0.],\n",
       "       [0., 1., 0.],\n",
       "       [0., 0., 1.]])"
      ]
     },
     "execution_count": 54,
     "metadata": {},
     "output_type": "execute_result"
    }
   ],
   "execution_count": 54
  },
  {
   "metadata": {},
   "cell_type": "markdown",
   "source": [
    "\n",
    "Random sample of floats from a uniform distribution over zero and one. Every number between 0, and 1 has the same probability of getting chosen"
   ],
   "id": "f058a86c31fdeeff"
  },
  {
   "metadata": {
    "ExecuteTime": {
     "end_time": "2024-08-18T22:20:23.526318Z",
     "start_time": "2024-08-18T22:20:23.508481Z"
    }
   },
   "cell_type": "code",
   "source": "np.random.rand(4,4)",
   "id": "374dd0a236fe0d78",
   "outputs": [
    {
     "data": {
      "text/plain": [
       "array([[0.83031113, 0.57900048, 0.96421047, 0.82977121],\n",
       "       [0.45194114, 0.38333013, 0.76713805, 0.63828502],\n",
       "       [0.12196189, 0.72504519, 0.99527577, 0.89670107],\n",
       "       [0.76063332, 0.91004796, 0.45748529, 0.91182629]])"
      ]
     },
     "execution_count": 55,
     "metadata": {},
     "output_type": "execute_result"
    }
   ],
   "execution_count": 55
  },
  {
   "metadata": {},
   "cell_type": "markdown",
   "source": "Create a random sample from a normal distribution over zero and one. A normal distribution has a mean of (0) and standard deviation at 1. This means that the numbers returned are between -1 and 1.",
   "id": "4df9fccd1b040758"
  },
  {
   "metadata": {
    "ExecuteTime": {
     "end_time": "2024-08-18T22:20:23.562344Z",
     "start_time": "2024-08-18T22:20:23.539824Z"
    }
   },
   "cell_type": "code",
   "source": "np.random.randn(3,3)",
   "id": "187f9283b522bbe9",
   "outputs": [
    {
     "data": {
      "text/plain": [
       "array([[-0.10117109, -0.83377584,  0.44472989],\n",
       "       [ 0.06571121,  0.82880156, -1.73733678],\n",
       "       [-0.04585798,  1.19008352,  0.71591051]])"
      ]
     },
     "execution_count": 56,
     "metadata": {},
     "output_type": "execute_result"
    }
   ],
   "execution_count": 56
  },
  {
   "metadata": {},
   "cell_type": "markdown",
   "source": "Random numpy array of integers ",
   "id": "5dee706cdb313b52"
  },
  {
   "metadata": {
    "ExecuteTime": {
     "end_time": "2024-08-18T22:20:23.602276Z",
     "start_time": "2024-08-18T22:20:23.589092Z"
    }
   },
   "cell_type": "code",
   "source": [
    "arr = np.random.randint(0, 50, 25)\n",
    "arr"
   ],
   "id": "2ebcdfa8ab837774",
   "outputs": [
    {
     "data": {
      "text/plain": [
       "array([27, 34, 13, 11, 19,  9, 45, 31, 35, 20, 22, 19, 47, 13,  7, 46, 38,\n",
       "       37, 36, 38, 43, 20,  5, 31,  0])"
      ]
     },
     "execution_count": 57,
     "metadata": {},
     "output_type": "execute_result"
    }
   ],
   "execution_count": 57
  },
  {
   "metadata": {},
   "cell_type": "markdown",
   "source": " Reshaping the 1D integers array to (a, b) matrix (rows, cols)",
   "id": "b66a571743393464"
  },
  {
   "metadata": {
    "ExecuteTime": {
     "end_time": "2024-08-18T22:20:23.627938Z",
     "start_time": "2024-08-18T22:20:23.619452Z"
    }
   },
   "cell_type": "code",
   "source": [
    "arr_m = arr.reshape(5, 5)\n",
    "print(arr_m)"
   ],
   "id": "e41452c776e8e865",
   "outputs": [
    {
     "name": "stdout",
     "output_type": "stream",
     "text": [
      "[[27 34 13 11 19]\n",
      " [ 9 45 31 35 20]\n",
      " [22 19 47 13  7]\n",
      " [46 38 37 36 38]\n",
      " [43 20  5 31  0]]\n"
     ]
    }
   ],
   "execution_count": 58
  },
  {
   "metadata": {},
   "cell_type": "markdown",
   "source": "Return the maximum value of an array",
   "id": "99cbb291d82fe06e"
  },
  {
   "metadata": {
    "ExecuteTime": {
     "end_time": "2024-08-18T22:20:23.681937Z",
     "start_time": "2024-08-18T22:20:23.672806Z"
    }
   },
   "cell_type": "code",
   "source": "arr.max()",
   "id": "e4f69c8046e69fe7",
   "outputs": [
    {
     "data": {
      "text/plain": [
       "47"
      ]
     },
     "execution_count": 59,
     "metadata": {},
     "output_type": "execute_result"
    }
   ],
   "execution_count": 59
  },
  {
   "metadata": {},
   "cell_type": "markdown",
   "source": "Return the minimum value of an array",
   "id": "55c619cd1d210a86"
  },
  {
   "metadata": {
    "ExecuteTime": {
     "end_time": "2024-08-18T22:20:23.711603Z",
     "start_time": "2024-08-18T22:20:23.704121Z"
    }
   },
   "cell_type": "code",
   "source": "arr.min()",
   "id": "730f6565ac85ed6c",
   "outputs": [
    {
     "data": {
      "text/plain": [
       "0"
      ]
     },
     "execution_count": 60,
     "metadata": {},
     "output_type": "execute_result"
    }
   ],
   "execution_count": 60
  },
  {
   "metadata": {},
   "cell_type": "markdown",
   "source": "Return the datatype of the values contained in an array",
   "id": "7f789820cbd5404c"
  },
  {
   "metadata": {
    "ExecuteTime": {
     "end_time": "2024-08-18T22:20:23.759980Z",
     "start_time": "2024-08-18T22:20:23.751368Z"
    }
   },
   "cell_type": "code",
   "source": "arr.dtype",
   "id": "c9bac09ae77cf281",
   "outputs": [
    {
     "data": {
      "text/plain": [
       "dtype('int32')"
      ]
     },
     "execution_count": 61,
     "metadata": {},
     "output_type": "execute_result"
    }
   ],
   "execution_count": 61
  },
  {
   "metadata": {},
   "cell_type": "markdown",
   "source": "Selecting elements by index (1D)",
   "id": "8494500517c7d907"
  },
  {
   "metadata": {
    "ExecuteTime": {
     "end_time": "2024-08-18T22:20:23.780976Z",
     "start_time": "2024-08-18T22:20:23.767499Z"
    }
   },
   "cell_type": "code",
   "source": [
    "# array index notation\n",
    "print(arr)\n",
    "print(arr[10])"
   ],
   "id": "8b237b545b1175b1",
   "outputs": [
    {
     "name": "stdout",
     "output_type": "stream",
     "text": [
      "[27 34 13 11 19  9 45 31 35 20 22 19 47 13  7 46 38 37 36 38 43 20  5 31\n",
      "  0]\n",
      "22\n"
     ]
    }
   ],
   "execution_count": 62
  },
  {
   "metadata": {
    "ExecuteTime": {
     "end_time": "2024-08-18T22:20:23.799642Z",
     "start_time": "2024-08-18T22:20:23.783488Z"
    }
   },
   "cell_type": "code",
   "source": [
    "# first ten elements\n",
    "print(arr)\n",
    "print(arr[0:10])"
   ],
   "id": "ac9f4708ff3c9638",
   "outputs": [
    {
     "name": "stdout",
     "output_type": "stream",
     "text": [
      "[27 34 13 11 19  9 45 31 35 20 22 19 47 13  7 46 38 37 36 38 43 20  5 31\n",
      "  0]\n",
      "[27 34 13 11 19  9 45 31 35 20]\n"
     ]
    }
   ],
   "execution_count": 63
  },
  {
   "metadata": {
    "ExecuteTime": {
     "end_time": "2024-08-18T22:20:23.827769Z",
     "start_time": "2024-08-18T22:20:23.815149Z"
    }
   },
   "cell_type": "code",
   "source": [
    "# last five elements\n",
    "print(arr[20:]) "
   ],
   "id": "cb9a3ad0dc33693",
   "outputs": [
    {
     "name": "stdout",
     "output_type": "stream",
     "text": [
      "[43 20  5 31  0]\n"
     ]
    }
   ],
   "execution_count": 64
  },
  {
   "metadata": {},
   "cell_type": "markdown",
   "source": "Selecting elements by index (2D)",
   "id": "2efa14629c5dd4bc"
  },
  {
   "metadata": {
    "ExecuteTime": {
     "end_time": "2024-08-18T22:20:23.849477Z",
     "start_time": "2024-08-18T22:20:23.842644Z"
    }
   },
   "cell_type": "code",
   "source": "arr55 = np.random.randint(0, 50, 25).reshape(5,5)",
   "id": "3447504fc2833226",
   "outputs": [],
   "execution_count": 65
  },
  {
   "metadata": {
    "ExecuteTime": {
     "end_time": "2024-08-18T22:20:23.894478Z",
     "start_time": "2024-08-18T22:20:23.889747Z"
    }
   },
   "cell_type": "code",
   "source": "print(arr55)",
   "id": "cf138519f24f14ec",
   "outputs": [
    {
     "name": "stdout",
     "output_type": "stream",
     "text": [
      "[[ 6 30  0  1 34]\n",
      " [ 7 11 34 32 17]\n",
      " [20 11 37 28 27]\n",
      " [18  1 38 41 16]\n",
      " [ 0 23 18 22 22]]\n"
     ]
    }
   ],
   "execution_count": 66
  },
  {
   "metadata": {
    "ExecuteTime": {
     "end_time": "2024-08-18T22:20:23.925856Z",
     "start_time": "2024-08-18T22:20:23.905503Z"
    }
   },
   "cell_type": "code",
   "source": [
    "# numpy row column selection arr[row][col] arr[row, col]\n",
    "arr55[0,3]"
   ],
   "id": "3b971c3483ca2040",
   "outputs": [
    {
     "data": {
      "text/plain": [
       "1"
      ]
     },
     "execution_count": 67,
     "metadata": {},
     "output_type": "execute_result"
    }
   ],
   "execution_count": 67
  },
  {
   "metadata": {
    "ExecuteTime": {
     "end_time": "2024-08-18T22:20:23.934513Z",
     "start_time": "2024-08-18T22:20:23.925856Z"
    }
   },
   "cell_type": "code",
   "source": [
    "# slice with row col selection\n",
    "arrsele = arr55[:2,1:]\n",
    "print(arrsele)"
   ],
   "id": "e696091e5d15ab23",
   "outputs": [
    {
     "name": "stdout",
     "output_type": "stream",
     "text": [
      "[[30  0  1 34]\n",
      " [11 34 32 17]]\n"
     ]
    }
   ],
   "execution_count": 68
  },
  {
   "metadata": {},
   "cell_type": "markdown",
   "source": "Selecting elements by conditionals",
   "id": "291250fa8a06a211"
  },
  {
   "metadata": {
    "ExecuteTime": {
     "end_time": "2024-08-18T22:20:23.963489Z",
     "start_time": "2024-08-18T22:20:23.952655Z"
    }
   },
   "cell_type": "code",
   "source": [
    "# conditional selection\n",
    "print(arr > 4)"
   ],
   "id": "b7748d7af9f210b2",
   "outputs": [
    {
     "name": "stdout",
     "output_type": "stream",
     "text": [
      "[ True  True  True  True  True  True  True  True  True  True  True  True\n",
      "  True  True  True  True  True  True  True  True  True  True  True  True\n",
      " False]\n"
     ]
    }
   ],
   "execution_count": 69
  },
  {
   "metadata": {
    "ExecuteTime": {
     "end_time": "2024-08-18T22:20:23.984080Z",
     "start_time": "2024-08-18T22:20:23.968502Z"
    }
   },
   "cell_type": "code",
   "source": [
    "bool_arr = arr < 6\n",
    "arr[bool_arr]"
   ],
   "id": "b2f19b4e4eb1c676",
   "outputs": [
    {
     "data": {
      "text/plain": [
       "array([5, 0])"
      ]
     },
     "execution_count": 70,
     "metadata": {},
     "output_type": "execute_result"
    }
   ],
   "execution_count": 70
  }
 ],
 "metadata": {
  "kernelspec": {
   "display_name": "Python 3",
   "language": "python",
   "name": "python3"
  },
  "language_info": {
   "codemirror_mode": {
    "name": "ipython",
    "version": 2
   },
   "file_extension": ".py",
   "mimetype": "text/x-python",
   "name": "python",
   "nbconvert_exporter": "python",
   "pygments_lexer": "ipython2",
   "version": "2.7.6"
  }
 },
 "nbformat": 4,
 "nbformat_minor": 5
}
