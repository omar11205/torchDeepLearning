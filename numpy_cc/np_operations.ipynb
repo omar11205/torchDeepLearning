{
 "cells": [
  {
   "cell_type": "code",
   "id": "initial_id",
   "metadata": {
    "collapsed": true,
    "ExecuteTime": {
     "end_time": "2024-04-20T17:05:02.511248Z",
     "start_time": "2024-04-20T17:05:02.442948Z"
    }
   },
   "source": "import numpy as np",
   "outputs": [],
   "execution_count": 1
  },
  {
   "metadata": {
    "ExecuteTime": {
     "end_time": "2024-04-20T17:06:03.747664Z",
     "start_time": "2024-04-20T17:06:03.745092Z"
    }
   },
   "cell_type": "code",
   "source": "arr = np.arange(0, 11)",
   "id": "28f44cff2e518688",
   "outputs": [],
   "execution_count": 2
  },
  {
   "metadata": {
    "ExecuteTime": {
     "end_time": "2024-04-20T17:06:30.702236Z",
     "start_time": "2024-04-20T17:06:30.699250Z"
    }
   },
   "cell_type": "code",
   "source": "print(arr**2)",
   "id": "87b1878f84b003e2",
   "outputs": [
    {
     "name": "stdout",
     "output_type": "stream",
     "text": [
      "[  0   1   4   9  16  25  36  49  64  81 100]\n"
     ]
    }
   ],
   "execution_count": 3
  },
  {
   "metadata": {
    "ExecuteTime": {
     "end_time": "2024-04-20T17:08:44.519431Z",
     "start_time": "2024-04-20T17:08:44.512629Z"
    }
   },
   "cell_type": "code",
   "source": [
    "# numpy returns 1/0 as infinity not as an error\n",
    "1/arr"
   ],
   "id": "79a76566a220e818",
   "outputs": [
    {
     "name": "stderr",
     "output_type": "stream",
     "text": [
      "C:\\Users\\usuario\\AppData\\Local\\Temp\\ipykernel_5852\\1163317758.py:2: RuntimeWarning: divide by zero encountered in divide\n",
      "  1/arr\n"
     ]
    },
    {
     "data": {
      "text/plain": [
       "array([       inf, 1.        , 0.5       , 0.33333333, 0.25      ,\n",
       "       0.2       , 0.16666667, 0.14285714, 0.125     , 0.11111111,\n",
       "       0.1       ])"
      ]
     },
     "execution_count": 4,
     "metadata": {},
     "output_type": "execute_result"
    }
   ],
   "execution_count": 4
  },
  {
   "metadata": {
    "ExecuteTime": {
     "end_time": "2024-04-20T17:09:22.145641Z",
     "start_time": "2024-04-20T17:09:22.141631Z"
    }
   },
   "cell_type": "code",
   "source": [
    "# numpy returns 0/0 as not a number nan\n",
    "arr/arr"
   ],
   "id": "1a911e5729fd4c55",
   "outputs": [
    {
     "name": "stderr",
     "output_type": "stream",
     "text": [
      "C:\\Users\\usuario\\AppData\\Local\\Temp\\ipykernel_5852\\4116947663.py:2: RuntimeWarning: invalid value encountered in divide\n",
      "  arr/arr\n"
     ]
    },
    {
     "data": {
      "text/plain": [
       "array([nan,  1.,  1.,  1.,  1.,  1.,  1.,  1.,  1.,  1.,  1.])"
      ]
     },
     "execution_count": 5,
     "metadata": {},
     "output_type": "execute_result"
    }
   ],
   "execution_count": 5
  },
  {
   "metadata": {
    "ExecuteTime": {
     "end_time": "2024-04-20T17:10:01.407522Z",
     "start_time": "2024-04-20T17:10:01.403531Z"
    }
   },
   "cell_type": "code",
   "source": "np.sqrt(arr)",
   "id": "9891892e00dbe0cc",
   "outputs": [
    {
     "data": {
      "text/plain": [
       "array([0.        , 1.        , 1.41421356, 1.73205081, 2.        ,\n",
       "       2.23606798, 2.44948974, 2.64575131, 2.82842712, 3.        ,\n",
       "       3.16227766])"
      ]
     },
     "execution_count": 6,
     "metadata": {},
     "output_type": "execute_result"
    }
   ],
   "execution_count": 6
  },
  {
   "metadata": {
    "ExecuteTime": {
     "end_time": "2024-04-20T17:12:17.221291Z",
     "start_time": "2024-04-20T17:12:17.217718Z"
    }
   },
   "cell_type": "code",
   "source": [
    "# sum of all members\n",
    "arr.sum()"
   ],
   "id": "b24becdd18f1c7f3",
   "outputs": [
    {
     "data": {
      "text/plain": [
       "55"
      ]
     },
     "execution_count": 7,
     "metadata": {},
     "output_type": "execute_result"
    }
   ],
   "execution_count": 7
  },
  {
   "metadata": {
    "ExecuteTime": {
     "end_time": "2024-04-20T17:12:30.723830Z",
     "start_time": "2024-04-20T17:12:30.720183Z"
    }
   },
   "cell_type": "code",
   "source": "arr.mean()",
   "id": "75f9b45a99c9321c",
   "outputs": [
    {
     "data": {
      "text/plain": [
       "5.0"
      ]
     },
     "execution_count": 8,
     "metadata": {},
     "output_type": "execute_result"
    }
   ],
   "execution_count": 8
  },
  {
   "metadata": {
    "ExecuteTime": {
     "end_time": "2024-04-20T17:12:37.426389Z",
     "start_time": "2024-04-20T17:12:37.423253Z"
    }
   },
   "cell_type": "code",
   "source": "arr.max()",
   "id": "80b95fb2e08ed1ca",
   "outputs": [
    {
     "data": {
      "text/plain": [
       "10"
      ]
     },
     "execution_count": 9,
     "metadata": {},
     "output_type": "execute_result"
    }
   ],
   "execution_count": 9
  },
  {
   "metadata": {
    "ExecuteTime": {
     "end_time": "2024-04-20T17:17:03.614246Z",
     "start_time": "2024-04-20T17:17:03.611052Z"
    }
   },
   "cell_type": "code",
   "source": [
    "arr_2d = np.random.randint(0, 50, 12).reshape(3,4)\n",
    "print(arr_2d)"
   ],
   "id": "8f32acc2910a31a8",
   "outputs": [
    {
     "name": "stdout",
     "output_type": "stream",
     "text": [
      "[[ 8 21 40 19]\n",
      " [15 11  8 41]\n",
      " [34 43  6  9]]\n"
     ]
    }
   ],
   "execution_count": 13
  },
  {
   "metadata": {
    "ExecuteTime": {
     "end_time": "2024-04-20T17:16:34.412459Z",
     "start_time": "2024-04-20T17:16:34.408413Z"
    }
   },
   "cell_type": "code",
   "source": [
    "# sum of all members\n",
    "arr_2d.sum()"
   ],
   "id": "50ae7c4492c43f6c",
   "outputs": [
    {
     "data": {
      "text/plain": [
       "289"
      ]
     },
     "execution_count": 12,
     "metadata": {},
     "output_type": "execute_result"
    }
   ],
   "execution_count": 12
  },
  {
   "metadata": {
    "ExecuteTime": {
     "end_time": "2024-04-20T17:18:08.006756Z",
     "start_time": "2024-04-20T17:18:08.002146Z"
    }
   },
   "cell_type": "code",
   "source": [
    "# give the sum across the rows\n",
    "arr_2d.sum(axis=0)"
   ],
   "id": "ecc753b99fd66c84",
   "outputs": [
    {
     "data": {
      "text/plain": [
       "array([57, 75, 54, 69])"
      ]
     },
     "execution_count": 14,
     "metadata": {},
     "output_type": "execute_result"
    }
   ],
   "execution_count": 14
  },
  {
   "metadata": {
    "ExecuteTime": {
     "end_time": "2024-04-20T17:18:55.133051Z",
     "start_time": "2024-04-20T17:18:55.128697Z"
    }
   },
   "cell_type": "code",
   "source": [
    "# give the sum across the columns\n",
    "arr_2d.sum(axis=1)"
   ],
   "id": "7a5abfaf3242eb4",
   "outputs": [
    {
     "data": {
      "text/plain": [
       "array([88, 75, 92])"
      ]
     },
     "execution_count": 15,
     "metadata": {},
     "output_type": "execute_result"
    }
   ],
   "execution_count": 15
  },
  {
   "metadata": {},
   "cell_type": "code",
   "outputs": [],
   "execution_count": null,
   "source": "",
   "id": "ddb7153779d52c84"
  }
 ],
 "metadata": {
  "kernelspec": {
   "display_name": "Python 3",
   "language": "python",
   "name": "python3"
  },
  "language_info": {
   "codemirror_mode": {
    "name": "ipython",
    "version": 2
   },
   "file_extension": ".py",
   "mimetype": "text/x-python",
   "name": "python",
   "nbconvert_exporter": "python",
   "pygments_lexer": "ipython2",
   "version": "2.7.6"
  }
 },
 "nbformat": 4,
 "nbformat_minor": 5
}
