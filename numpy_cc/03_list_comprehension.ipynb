{
 "cells": [
  {
   "metadata": {
    "ExecuteTime": {
     "end_time": "2024-08-21T05:08:39.534306Z",
     "start_time": "2024-08-21T05:08:37.224796Z"
    }
   },
   "cell_type": "code",
   "source": [
    "import numpy as np\n",
    "import random\n",
    "import sympy as sp"
   ],
   "id": "afd8ce55fe169f00",
   "outputs": [],
   "execution_count": 24
  },
  {
   "metadata": {},
   "cell_type": "markdown",
   "source": [
    "## List and Array Comprehension\n",
    "In python list comprehension is a compact syntax that allow the population of python lists using loops in a single instruction. For numpy arrays exists the same syntax. With the C++ optimization of numpy the array comprehension operations are faster than the lists comprehension operations.  \n",
    "\n",
    "### Basic python list comprehension\n",
    "#### Squaring a list of numbers"
   ],
   "id": "3cf0ac895e077fb3"
  },
  {
   "metadata": {
    "ExecuteTime": {
     "end_time": "2024-08-20T23:06:19.732293Z",
     "start_time": "2024-08-20T23:06:19.709999Z"
    }
   },
   "cell_type": "code",
   "source": [
    "nums = [1, 2, 3, 4, 5, 6]\n",
    "squares = [x**2 for x in nums]\n",
    "squares"
   ],
   "id": "3cb34b26d8654b4d",
   "outputs": [
    {
     "data": {
      "text/plain": [
       "[1, 4, 9, 16, 25, 36]"
      ]
     },
     "execution_count": 1,
     "metadata": {},
     "output_type": "execute_result"
    }
   ],
   "execution_count": 1
  },
  {
   "metadata": {},
   "cell_type": "markdown",
   "source": [
    "#### Filtering Even Numbers from a list\n",
    "The lists can be filtered with the use of contidionals "
   ],
   "id": "bb7583f1178db9f3"
  },
  {
   "metadata": {
    "ExecuteTime": {
     "end_time": "2024-08-20T23:09:23.853287Z",
     "start_time": "2024-08-20T23:09:23.844609Z"
    }
   },
   "cell_type": "code",
   "source": [
    "nums = [1, 2, 3, 4, 5, 6, 7, 8, 9, 10]\n",
    "even_nums = [x for x in nums if x % 2 == 0]\n",
    "even_nums"
   ],
   "id": "b746420870d0ac7d",
   "outputs": [
    {
     "data": {
      "text/plain": [
       "[2, 4, 6, 8, 10]"
      ]
     },
     "execution_count": 2,
     "metadata": {},
     "output_type": "execute_result"
    }
   ],
   "execution_count": 2
  },
  {
   "metadata": {},
   "cell_type": "markdown",
   "source": [
    "#### Creating a list of tuples with list comprehension\n",
    "For the construction of lists of pairs (model_result, expected_result) list comprehension can be used along with ´zip()´."
   ],
   "id": "9841d753dbdc6316"
  },
  {
   "metadata": {
    "ExecuteTime": {
     "end_time": "2024-08-20T23:11:57.618168Z",
     "start_time": "2024-08-20T23:11:57.608830Z"
    }
   },
   "cell_type": "code",
   "source": [
    "letters = ['a', 'b', 'c', 'd']\n",
    "nums = [1, 2, 3, 4]\n",
    "pairs = [(letter, number) for letter, number in zip(letters, nums)]\n",
    "pairs"
   ],
   "id": "302c83050f0c1e25",
   "outputs": [
    {
     "data": {
      "text/plain": [
       "[('a', 1), ('b', 2), ('c', 3), ('d', 4)]"
      ]
     },
     "execution_count": 4,
     "metadata": {},
     "output_type": "execute_result"
    }
   ],
   "execution_count": 4
  },
  {
   "metadata": {},
   "cell_type": "markdown",
   "source": "#### Flattening a nested list into a single list",
   "id": "c952de99a71e2922"
  },
  {
   "metadata": {
    "ExecuteTime": {
     "end_time": "2024-08-20T23:20:17.675775Z",
     "start_time": "2024-08-20T23:20:17.663825Z"
    }
   },
   "cell_type": "code",
   "source": [
    "nested_list = [[1, 2], [3, 4], [5, 6]]\n",
    "flat_list = [item for sublist in nested_list for item in sublist]\n",
    "flat_list"
   ],
   "id": "116e0b3258d3a53e",
   "outputs": [
    {
     "data": {
      "text/plain": [
       "[1, 2, 3, 4, 5, 6]"
      ]
     },
     "execution_count": 5,
     "metadata": {},
     "output_type": "execute_result"
    }
   ],
   "execution_count": 5
  },
  {
   "metadata": {},
   "cell_type": "markdown",
   "source": "#### Mapping categorical data to binary values",
   "id": "af2e2452c3bce2ac"
  },
  {
   "metadata": {
    "ExecuteTime": {
     "end_time": "2024-08-21T05:02:24.894112Z",
     "start_time": "2024-08-21T05:02:24.871299Z"
    }
   },
   "cell_type": "code",
   "source": [
    "categories = ['cat', 'dog', 'horse', 'mouse', 'cat']\n",
    "binary_values = [1 if animal == 'cat' else 0 for animal in categories]\n",
    "binary_values"
   ],
   "id": "3adb8a91550ae34f",
   "outputs": [
    {
     "data": {
      "text/plain": [
       "[1, 0, 0, 0, 1]"
      ]
     },
     "execution_count": 22,
     "metadata": {},
     "output_type": "execute_result"
    }
   ],
   "execution_count": 22
  },
  {
   "metadata": {},
   "cell_type": "markdown",
   "source": "#### Mapping a function for each element of a list",
   "id": "f8fdc338ffdf7c43"
  },
  {
   "metadata": {
    "ExecuteTime": {
     "end_time": "2024-08-20T23:45:37.974621Z",
     "start_time": "2024-08-20T23:45:37.962972Z"
    }
   },
   "cell_type": "code",
   "source": [
    "def double(x):\n",
    "    return x * 2\n",
    "\n",
    "numbers = [1,2,3,4,5,6,7,8,9,10]\n",
    "doubled_nums = [double(x) for x in numbers]\n",
    "doubled_nums"
   ],
   "id": "f72c65b5a00fe989",
   "outputs": [
    {
     "data": {
      "text/plain": [
       "[2, 4, 6, 8, 10, 12, 14, 16, 18, 20]"
      ]
     },
     "execution_count": 6,
     "metadata": {},
     "output_type": "execute_result"
    }
   ],
   "execution_count": 6
  },
  {
   "metadata": {},
   "cell_type": "markdown",
   "source": "#### Applying a transformation based on a condition",
   "id": "2b46ff767bd1864f"
  },
  {
   "metadata": {
    "ExecuteTime": {
     "end_time": "2024-08-20T23:51:36.128977Z",
     "start_time": "2024-08-20T23:51:36.121022Z"
    }
   },
   "cell_type": "code",
   "source": [
    "nums = [1, -2, 3, -4, 5, 6, -7, 8, -9, -10]\n",
    "positive_squares = [x**2 if x > 0 else 0 for x in nums]\n",
    "positive_squares"
   ],
   "id": "722f352e3482dc6a",
   "outputs": [
    {
     "data": {
      "text/plain": [
       "[1, 0, 9, 0, 25, 36, 0, 64, 0, 0]"
      ]
     },
     "execution_count": 7,
     "metadata": {},
     "output_type": "execute_result"
    }
   ],
   "execution_count": 7
  },
  {
   "metadata": {},
   "cell_type": "markdown",
   "source": "#### Extracting values from a dictionary of lists",
   "id": "4fc7a93efad872e1"
  },
  {
   "metadata": {
    "ExecuteTime": {
     "end_time": "2024-08-20T23:55:55.122928Z",
     "start_time": "2024-08-20T23:55:55.107091Z"
    }
   },
   "cell_type": "code",
   "source": [
    "data = {'a': [1, 2, 3], 'b': [4, 5, 6], 'c': [7, 8, 9]}\n",
    "flat_data = [item for sublist in data.values() for item in sublist]\n",
    "flat_data"
   ],
   "id": "360aec1d91ba70a5",
   "outputs": [
    {
     "data": {
      "text/plain": [
       "[1, 2, 3, 4, 5, 6, 7, 8, 9]"
      ]
     },
     "execution_count": 8,
     "metadata": {},
     "output_type": "execute_result"
    }
   ],
   "execution_count": 8
  },
  {
   "metadata": {},
   "cell_type": "markdown",
   "source": "#### Filtering and Transforming simultaneously",
   "id": "3284907da7adfbf"
  },
  {
   "metadata": {
    "ExecuteTime": {
     "end_time": "2024-08-20T23:59:07.296862Z",
     "start_time": "2024-08-20T23:59:07.288892Z"
    }
   },
   "cell_type": "code",
   "source": [
    "numbers = list(range(10))\n",
    "even_squares = [x**2 for x in numbers if x % 2 == 0]\n",
    "even_squares"
   ],
   "id": "e3443093ca2cb35",
   "outputs": [
    {
     "data": {
      "text/plain": [
       "[0, 4, 16, 36, 64]"
      ]
     },
     "execution_count": 10,
     "metadata": {},
     "output_type": "execute_result"
    }
   ],
   "execution_count": 10
  },
  {
   "metadata": {},
   "cell_type": "markdown",
   "source": "#### Cartesian products with multiple loops",
   "id": "e7ec184c2a4f82b7"
  },
  {
   "metadata": {
    "ExecuteTime": {
     "end_time": "2024-08-21T00:03:44.639653Z",
     "start_time": "2024-08-21T00:03:44.627618Z"
    }
   },
   "cell_type": "code",
   "source": [
    "letters = ['a', 'b']\n",
    "numbers = [1, 2, 3]\n",
    "cartesian_product = [(letter, number) for letter in letters for number in numbers]\n",
    "cartesian_product"
   ],
   "id": "df1149b465318b70",
   "outputs": [
    {
     "data": {
      "text/plain": [
       "[('a', 1), ('a', 2), ('a', 3), ('b', 1), ('b', 2), ('b', 3)]"
      ]
     },
     "execution_count": 11,
     "metadata": {},
     "output_type": "execute_result"
    }
   ],
   "execution_count": 11
  },
  {
   "metadata": {},
   "cell_type": "markdown",
   "source": [
    "#### Feature normalization with list comprehension\n",
    "Normalizing the data in a scale from 0 to 1"
   ],
   "id": "2a9097602b65b22d"
  },
  {
   "metadata": {
    "ExecuteTime": {
     "end_time": "2024-08-21T00:44:08.774010Z",
     "start_time": "2024-08-21T00:44:08.748542Z"
    }
   },
   "cell_type": "code",
   "source": [
    "data = [34, 56, 23, 89, 90]\n",
    "min_val, max_val = min(data), max(data)\n",
    "normalized_data = [(x-min_val)/(max_val - min_val) for x in data]\n",
    "normalized_data"
   ],
   "id": "e1e17b8c3bda65c6",
   "outputs": [
    {
     "data": {
      "text/plain": [
       "[0.16417910447761194, 0.4925373134328358, 0.0, 0.9850746268656716, 1.0]"
      ]
     },
     "execution_count": 12,
     "metadata": {},
     "output_type": "execute_result"
    }
   ],
   "execution_count": 12
  },
  {
   "metadata": {},
   "cell_type": "markdown",
   "source": [
    "#### List of One-hot encoding Labels\n",
    "When working with categorical data, you often need to convert categorical labels into a one-hot encoded format "
   ],
   "id": "b1f3e4cf8f7798f3"
  },
  {
   "metadata": {
    "ExecuteTime": {
     "end_time": "2024-08-21T02:20:58.319885Z",
     "start_time": "2024-08-21T02:20:58.307540Z"
    }
   },
   "cell_type": "code",
   "source": [
    "labels = [0, 1, 2, 0, 1]\n",
    "n_classes = len(set(labels))\n",
    "one_hot_labels = [[1 if i == label else 0 for i in range(n_classes)] for label in labels]\n",
    "one_hot_labels"
   ],
   "id": "45cd741bf645e826",
   "outputs": [
    {
     "data": {
      "text/plain": [
       "[[1, 0, 0], [0, 1, 0], [0, 0, 1], [1, 0, 0], [0, 1, 0]]"
      ]
     },
     "execution_count": 14,
     "metadata": {},
     "output_type": "execute_result"
    }
   ],
   "execution_count": 14
  },
  {
   "metadata": {},
   "cell_type": "markdown",
   "source": "#### Generating synthetic (x, y) data for trainings",
   "id": "82c673731c15587a"
  },
  {
   "metadata": {
    "ExecuteTime": {
     "end_time": "2024-08-21T02:33:19.109542Z",
     "start_time": "2024-08-21T02:33:19.089999Z"
    }
   },
   "cell_type": "code",
   "source": [
    "x = [i for i in range(100)]\n",
    "y = [2*i + random.uniform(-10, 10) for i in x]\n",
    "print(x)\n",
    "print(y)"
   ],
   "id": "ba74510ea9b54450",
   "outputs": [
    {
     "name": "stdout",
     "output_type": "stream",
     "text": [
      "[0, 1, 2, 3, 4, 5, 6, 7, 8, 9, 10, 11, 12, 13, 14, 15, 16, 17, 18, 19, 20, 21, 22, 23, 24, 25, 26, 27, 28, 29, 30, 31, 32, 33, 34, 35, 36, 37, 38, 39, 40, 41, 42, 43, 44, 45, 46, 47, 48, 49, 50, 51, 52, 53, 54, 55, 56, 57, 58, 59, 60, 61, 62, 63, 64, 65, 66, 67, 68, 69, 70, 71, 72, 73, 74, 75, 76, 77, 78, 79, 80, 81, 82, 83, 84, 85, 86, 87, 88, 89, 90, 91, 92, 93, 94, 95, 96, 97, 98, 99]\n",
      "[3.044254621243283, 9.23258511263532, 2.3932027683228227, 13.009268914537728, 2.2481179664468716, 15.542011253811143, 4.524689112450278, 4.7840570237936255, 18.335017501920284, 14.211353788588003, 22.214769694884065, 26.296018888888202, 29.75178010126664, 25.30853930443319, 30.27692456079211, 32.09770303609123, 30.545023355827617, 36.930449548602006, 28.912689568349492, 39.58296377274885, 37.40049580745577, 45.58288747636053, 47.33469013729059, 52.48294332702211, 38.56312000341891, 49.91973781111079, 61.37352450512512, 62.8367505505436, 61.91570848065281, 53.277553142905596, 59.89902661447209, 60.253154108369586, 70.3739681737177, 64.65692221066601, 60.34757665075071, 66.33293673093881, 62.74058710461527, 72.3038956061711, 82.96213311001873, 69.63667591902991, 80.60630325612267, 78.77990412588619, 90.65203392235112, 82.91479160762997, 83.44630080985104, 90.59764995365164, 98.79879680322156, 103.00693244591432, 97.67666835620946, 95.2422018714492, 106.36527444834347, 111.86718103354336, 105.64831354413457, 106.70316699666657, 105.91066890819201, 107.68291867124165, 107.2628484369919, 117.9360104912484, 116.63463095849323, 122.8504432538533, 124.2371987491752, 123.42579139989063, 117.60056100915084, 116.22058523142518, 136.82001187822746, 124.76944208600233, 135.8533997335092, 140.33436266155186, 140.93133341727216, 141.26000133476566, 132.3151888090434, 149.0089808171652, 144.9868959203591, 141.00882413394623, 146.51039267047048, 147.21603520671476, 153.7170700527372, 153.18492068567014, 150.27560889389062, 158.88785372453012, 169.09392225010848, 160.90358721537567, 167.48935060451706, 163.12368077145237, 170.3644379483803, 179.1375940820565, 180.49633474271573, 168.73959849879927, 179.82820645219724, 169.66129202887376, 186.1628728734375, 184.45563282687576, 192.22509307699255, 191.75942656787927, 185.88363583023752, 193.57080526946766, 188.31298928580523, 188.07957322339678, 192.2990275486697, 195.51402230145598]\n"
     ]
    }
   ],
   "execution_count": 16
  },
  {
   "metadata": {},
   "cell_type": "markdown",
   "source": [
    "### Numpy Array comprehension\n",
    "\n",
    "#### Element-Wise multiplication\n",
    "Element-wise operations are element-by-element operations among arrays like the *Hadamard Product*"
   ],
   "id": "a1beb02ccbed292"
  },
  {
   "metadata": {
    "ExecuteTime": {
     "end_time": "2024-08-21T04:38:30.158798Z",
     "start_time": "2024-08-21T04:38:30.097467Z"
    }
   },
   "cell_type": "code",
   "source": [
    "array1 = np.array([1, 2, 3, 4, 5])\n",
    "array2 = np.array([5, 4, 3, 2, 1])\n",
    "product = np.array([x*y for x, y in zip(array1, array2)])\n",
    "product"
   ],
   "id": "995502a9372fb5e9",
   "outputs": [
    {
     "data": {
      "text/plain": [
       "array([5, 8, 9, 8, 5])"
      ]
     },
     "execution_count": 17,
     "metadata": {},
     "output_type": "execute_result"
    }
   ],
   "execution_count": 17
  },
  {
   "metadata": {},
   "cell_type": "markdown",
   "source": [
    "#### np.array filtering\n",
    "Like python lists the np.arrays can be filtered by conditions"
   ],
   "id": "d4127daec3cc72bf"
  },
  {
   "metadata": {
    "ExecuteTime": {
     "end_time": "2024-08-21T04:42:59.328332Z",
     "start_time": "2024-08-21T04:42:59.313352Z"
    }
   },
   "cell_type": "code",
   "source": [
    "numbers = np.array([1, 2, 3, 4, 5, 6, 7, 8, 9, 10])\n",
    "even_nums = np.array([x for x in numbers if x % 2 == 0])\n",
    "even_nums"
   ],
   "id": "c9de14241f3029d7",
   "outputs": [
    {
     "data": {
      "text/plain": [
       "array([ 2,  4,  6,  8, 10])"
      ]
     },
     "execution_count": 19,
     "metadata": {},
     "output_type": "execute_result"
    }
   ],
   "execution_count": 19
  },
  {
   "metadata": {},
   "cell_type": "markdown",
   "source": [
    "#### np.array comprehension for function mapping (vectorizing a function)\n",
    "Applies the ReLU activation function to the incoming vector input. "
   ],
   "id": "8408e2c5250ad187"
  },
  {
   "metadata": {
    "ExecuteTime": {
     "end_time": "2024-08-21T04:57:14.258070Z",
     "start_time": "2024-08-21T04:57:14.240446Z"
    }
   },
   "cell_type": "code",
   "source": [
    "def ReLU(x):\n",
    "    return np.maximum(0.0, x)\n",
    "\n",
    "input = np.random.uniform(-1.0, 1.0, 10)\n",
    "neuron_output = np.array([ReLU(x) for x in input])\n",
    "neuron_output"
   ],
   "id": "a281498ced534381",
   "outputs": [
    {
     "data": {
      "text/plain": [
       "array([0.        , 0.        , 0.        , 0.        , 0.83446335,\n",
       "       0.        , 0.04713061, 0.95246176, 0.88439251, 0.        ])"
      ]
     },
     "execution_count": 21,
     "metadata": {},
     "output_type": "execute_result"
    }
   ],
   "execution_count": 21
  },
  {
   "metadata": {},
   "cell_type": "markdown",
   "source": "#### Defining a identity matrix with array comprehension",
   "id": "8d53cd86349c84b9"
  },
  {
   "metadata": {
    "ExecuteTime": {
     "end_time": "2024-08-21T05:09:31.726485Z",
     "start_time": "2024-08-21T05:09:31.714369Z"
    }
   },
   "cell_type": "code",
   "source": [
    "size = 4\n",
    "identity_matrix = np.array([[1 if i == j else 0 for j in range(size)] for i in range(size)])\n",
    "\n",
    "sympy_matrix = sp.Matrix(identity_matrix)\n",
    "sympy_matrix"
   ],
   "id": "28a2e381317fba31",
   "outputs": [
    {
     "data": {
      "text/plain": [
       "Matrix([\n",
       "[1, 0, 0, 0],\n",
       "[0, 1, 0, 0],\n",
       "[0, 0, 1, 0],\n",
       "[0, 0, 0, 1]])"
      ],
      "text/latex": "$\\displaystyle \\left[\\begin{matrix}1 & 0 & 0 & 0\\\\0 & 1 & 0 & 0\\\\0 & 0 & 1 & 0\\\\0 & 0 & 0 & 1\\end{matrix}\\right]$"
     },
     "execution_count": 27,
     "metadata": {},
     "output_type": "execute_result"
    }
   ],
   "execution_count": 27
  },
  {
   "metadata": {},
   "cell_type": "markdown",
   "source": [
    "#### Normalizing an array\n",
    "Transform the data in a range from 0 to 1"
   ],
   "id": "5f7b329f63596ee2"
  },
  {
   "metadata": {
    "ExecuteTime": {
     "end_time": "2024-08-21T05:22:01.040363Z",
     "start_time": "2024-08-21T05:22:01.031518Z"
    }
   },
   "cell_type": "code",
   "source": [
    "data = np.array([1.0, 3.0, -2.4 , 4.5, -40.5, 0.4, 1.0, 3.5])\n",
    "min_val, max_val = data.min(), data.max()\n",
    "normalized_data = np.array([(x - min_val)/(max_val - min_val) for x in data])\n",
    "normalized_data"
   ],
   "id": "45f394a16040f960",
   "outputs": [
    {
     "data": {
      "text/plain": [
       "array([0.92222222, 0.96666667, 0.84666667, 1.        , 0.        ,\n",
       "       0.90888889, 0.92222222, 0.97777778])"
      ]
     },
     "execution_count": 28,
     "metadata": {},
     "output_type": "execute_result"
    }
   ],
   "execution_count": 28
  },
  {
   "metadata": {},
   "cell_type": "markdown",
   "source": [
    "#### Batch Processing Data\n",
    "For the training algorithms the data is usually splitted in batchs of data. In this case a flat np.array with 100 elements will be converted in a np.matrix of 10 samples."
   ],
   "id": "c3e0a42ed45c77bc"
  },
  {
   "metadata": {
    "ExecuteTime": {
     "end_time": "2024-08-21T05:28:39.287688Z",
     "start_time": "2024-08-21T05:28:39.275211Z"
    }
   },
   "cell_type": "code",
   "source": [
    "data = np.arange(100)\n",
    "batch_size = 10\n",
    "batches = np.array([data[i:i + batch_size] for i in range(0, len(data), batch_size)])\n",
    "# batches = np.array_split(batches, batch_size)\n",
    "batches"
   ],
   "id": "617a810ea76ff089",
   "outputs": [
    {
     "data": {
      "text/plain": [
       "array([[ 0,  1,  2,  3,  4,  5,  6,  7,  8,  9],\n",
       "       [10, 11, 12, 13, 14, 15, 16, 17, 18, 19],\n",
       "       [20, 21, 22, 23, 24, 25, 26, 27, 28, 29],\n",
       "       [30, 31, 32, 33, 34, 35, 36, 37, 38, 39],\n",
       "       [40, 41, 42, 43, 44, 45, 46, 47, 48, 49],\n",
       "       [50, 51, 52, 53, 54, 55, 56, 57, 58, 59],\n",
       "       [60, 61, 62, 63, 64, 65, 66, 67, 68, 69],\n",
       "       [70, 71, 72, 73, 74, 75, 76, 77, 78, 79],\n",
       "       [80, 81, 82, 83, 84, 85, 86, 87, 88, 89],\n",
       "       [90, 91, 92, 93, 94, 95, 96, 97, 98, 99]])"
      ]
     },
     "execution_count": 29,
     "metadata": {},
     "output_type": "execute_result"
    }
   ],
   "execution_count": 29
  },
  {
   "metadata": {},
   "cell_type": "markdown",
   "source": [
    "### Combining both list and array comprehension\n",
    "#### *Initializing Deep Neural Networks Parameters*\n",
    "For randomly set the values of the weights or the biases for a *Deep Neural Network* at the begining of a training task list comprehension can be used alog with numpy arrays"
   ],
   "id": "19cb28c7fca9ace6"
  },
  {
   "metadata": {
    "ExecuteTime": {
     "end_time": "2024-08-21T06:07:55.145241Z",
     "start_time": "2024-08-21T06:07:55.127291Z"
    }
   },
   "cell_type": "code",
   "source": [
    "# layers and number of neurons per layer\n",
    "first_layer = 6\n",
    "hidden_layer = 8\n",
    "output_layer = 10\n",
    "\n",
    "layer_sizes = [first_layer, hidden_layer, output_layer]\n",
    "\n",
    "weights = [np.random.randn(input_size, output_size) for input_size, output_size in zip( layer_sizes[:-1], layer_sizes[1:])]\n",
    "\n",
    "print(f'weights of the neuron #{1} in the {1} layer to the {2} layer: {weights[0][0]}')"
   ],
   "id": "50d2bcfdfee4c775",
   "outputs": [
    {
     "name": "stdout",
     "output_type": "stream",
     "text": [
      "weights of the neuron #1 in the 1 layer to the 2 layer: [ 0.27513782  0.32307218 -0.49031781  0.71647226 -0.73694017  1.16699559\n",
      "  1.23115957  1.41889196]\n"
     ]
    }
   ],
   "execution_count": 32
  },
  {
   "metadata": {},
   "cell_type": "code",
   "outputs": [],
   "execution_count": null,
   "source": "",
   "id": "cbb9504621078011"
  }
 ],
 "metadata": {
  "kernelspec": {
   "display_name": "Python 3",
   "language": "python",
   "name": "python3"
  },
  "language_info": {
   "codemirror_mode": {
    "name": "ipython",
    "version": 2
   },
   "file_extension": ".py",
   "mimetype": "text/x-python",
   "name": "python",
   "nbconvert_exporter": "python",
   "pygments_lexer": "ipython2",
   "version": "2.7.6"
  }
 },
 "nbformat": 4,
 "nbformat_minor": 5
}
