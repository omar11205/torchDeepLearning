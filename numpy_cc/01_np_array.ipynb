{
 "cells": [
  {
   "cell_type": "code",
   "id": "initial_id",
   "metadata": {
    "collapsed": true,
    "ExecuteTime": {
     "end_time": "2024-08-21T15:11:38.091062Z",
     "start_time": "2024-08-21T15:11:38.087972Z"
    }
   },
   "source": "import numpy as np",
   "outputs": [],
   "execution_count": 1
  },
  {
   "metadata": {},
   "cell_type": "markdown",
   "source": [
    "## Numpy basics\n",
    "#### Convert From python list to numpy Array"
   ],
   "id": "ac3ea613f50e184f"
  },
  {
   "metadata": {
    "ExecuteTime": {
     "end_time": "2024-08-21T15:11:38.100233Z",
     "start_time": "2024-08-21T15:11:38.093076Z"
    }
   },
   "cell_type": "code",
   "source": [
    "mylist = [1, 2, 3]\n",
    "type(mylist)"
   ],
   "id": "b283b474d117b1d9",
   "outputs": [
    {
     "data": {
      "text/plain": [
       "list"
      ]
     },
     "execution_count": 2,
     "metadata": {},
     "output_type": "execute_result"
    }
   ],
   "execution_count": 2
  },
  {
   "metadata": {
    "ExecuteTime": {
     "end_time": "2024-08-21T15:11:38.106987Z",
     "start_time": "2024-08-21T15:11:38.101371Z"
    }
   },
   "cell_type": "code",
   "source": [
    "np_arr = np.array(mylist)\n",
    "type(np_arr)"
   ],
   "id": "5d70e03e7fb94122",
   "outputs": [
    {
     "data": {
      "text/plain": [
       "numpy.ndarray"
      ]
     },
     "execution_count": 3,
     "metadata": {},
     "output_type": "execute_result"
    }
   ],
   "execution_count": 3
  },
  {
   "metadata": {},
   "cell_type": "markdown",
   "source": "#### Create numpy matrices from python list of lists",
   "id": "445e39fd00957c6f"
  },
  {
   "metadata": {
    "ExecuteTime": {
     "end_time": "2024-08-21T15:11:38.116272Z",
     "start_time": "2024-08-21T15:11:38.108991Z"
    }
   },
   "cell_type": "code",
   "source": [
    "# A list o tree lists in python becomes a 3x3 matrix with np.array\n",
    "my_list = [[1,2,3],[4,5,6],[7,8,9]]\n",
    "np_matrix = np.array(my_list)\n",
    "print(np_matrix)"
   ],
   "id": "6f9210f780a675ae",
   "outputs": [
    {
     "name": "stdout",
     "output_type": "stream",
     "text": [
      "[[1 2 3]\n",
      " [4 5 6]\n",
      " [7 8 9]]\n"
     ]
    }
   ],
   "execution_count": 4
  },
  {
   "metadata": {
    "ExecuteTime": {
     "end_time": "2024-08-21T15:11:38.127929Z",
     "start_time": "2024-08-21T15:11:38.117277Z"
    }
   },
   "cell_type": "code",
   "source": "np_matrix.shape",
   "id": "fa2fa2a595171c61",
   "outputs": [
    {
     "data": {
      "text/plain": [
       "(3, 3)"
      ]
     },
     "execution_count": 5,
     "metadata": {},
     "output_type": "execute_result"
    }
   ],
   "execution_count": 5
  },
  {
   "metadata": {},
   "cell_type": "markdown",
   "source": "#### Create a np.array from 0 to 11 ",
   "id": "9582d99e6dca43a1"
  },
  {
   "metadata": {
    "ExecuteTime": {
     "end_time": "2024-08-21T15:11:38.134375Z",
     "start_time": "2024-08-21T15:11:38.130455Z"
    }
   },
   "cell_type": "code",
   "source": [
    "# numpy array from 0 to 11 [0, 12) excluding 12 including 0\n",
    "arrange = np.arange(0, 12, 1)\n",
    "print(arrange)"
   ],
   "id": "74a9b3d64d2cfab3",
   "outputs": [
    {
     "name": "stdout",
     "output_type": "stream",
     "text": [
      "[ 0  1  2  3  4  5  6  7  8  9 10 11]\n"
     ]
    }
   ],
   "execution_count": 6
  },
  {
   "metadata": {},
   "cell_type": "markdown",
   "source": "#### Create an array of zeroes ",
   "id": "a275957ad8c42760"
  },
  {
   "metadata": {
    "ExecuteTime": {
     "end_time": "2024-08-21T15:11:38.141219Z",
     "start_time": "2024-08-21T15:11:38.135890Z"
    }
   },
   "cell_type": "code",
   "source": [
    "# type of zeros is float\n",
    "npz = np.zeros((2,2))\n",
    "print(npz)\n",
    "print(type(npz[0][0]))"
   ],
   "id": "1eed98447cb061ae",
   "outputs": [
    {
     "name": "stdout",
     "output_type": "stream",
     "text": [
      "[[0. 0.]\n",
      " [0. 0.]]\n",
      "<class 'numpy.float64'>\n"
     ]
    }
   ],
   "execution_count": 7
  },
  {
   "metadata": {},
   "cell_type": "markdown",
   "source": "#### Creating an array of ones",
   "id": "b740ad20ab246c02"
  },
  {
   "metadata": {
    "ExecuteTime": {
     "end_time": "2024-08-21T15:11:38.149500Z",
     "start_time": "2024-08-21T15:11:38.144226Z"
    }
   },
   "cell_type": "code",
   "source": [
    "np_ones = np.ones((2,2))\n",
    "print(np_ones)"
   ],
   "id": "b08ef6149886d4e",
   "outputs": [
    {
     "name": "stdout",
     "output_type": "stream",
     "text": [
      "[[1. 1.]\n",
      " [1. 1.]]\n"
     ]
    }
   ],
   "execution_count": 8
  },
  {
   "metadata": {},
   "cell_type": "markdown",
   "source": "#### Numpy broadcasting",
   "id": "4b9702f7e3cceeca"
  },
  {
   "metadata": {
    "ExecuteTime": {
     "end_time": "2024-08-21T15:11:38.157017Z",
     "start_time": "2024-08-21T15:11:38.151682Z"
    }
   },
   "cell_type": "code",
   "source": "np.ones((3,3))*4",
   "id": "31539daf91e4bd45",
   "outputs": [
    {
     "data": {
      "text/plain": [
       "array([[4., 4., 4.],\n",
       "       [4., 4., 4.],\n",
       "       [4., 4., 4.]])"
      ]
     },
     "execution_count": 9,
     "metadata": {},
     "output_type": "execute_result"
    }
   ],
   "execution_count": 9
  },
  {
   "metadata": {},
   "cell_type": "markdown",
   "source": "#### Evenly spaced np array",
   "id": "624f753f4f1515b6"
  },
  {
   "metadata": {
    "ExecuteTime": {
     "end_time": "2024-08-21T15:11:38.165118Z",
     "start_time": "2024-08-21T15:11:38.157017Z"
    }
   },
   "cell_type": "code",
   "source": "np.linspace(0,10,11) ",
   "id": "1996f3dea4427516",
   "outputs": [
    {
     "data": {
      "text/plain": [
       "array([ 0.,  1.,  2.,  3.,  4.,  5.,  6.,  7.,  8.,  9., 10.])"
      ]
     },
     "execution_count": 10,
     "metadata": {},
     "output_type": "execute_result"
    }
   ],
   "execution_count": 10
  },
  {
   "metadata": {},
   "cell_type": "markdown",
   "source": "#### Create an identity matrix",
   "id": "5d94f8bdf9ff4cea"
  },
  {
   "metadata": {
    "ExecuteTime": {
     "end_time": "2024-08-21T15:11:38.172355Z",
     "start_time": "2024-08-21T15:11:38.167504Z"
    }
   },
   "cell_type": "code",
   "source": "np.eye(3)",
   "id": "54f3f1a7c97434dc",
   "outputs": [
    {
     "data": {
      "text/plain": [
       "array([[1., 0., 0.],\n",
       "       [0., 1., 0.],\n",
       "       [0., 0., 1.]])"
      ]
     },
     "execution_count": 11,
     "metadata": {},
     "output_type": "execute_result"
    }
   ],
   "execution_count": 11
  },
  {
   "metadata": {},
   "cell_type": "markdown",
   "source": [
    "\n",
    "#### Create a Random sample of floats from a uniform distribution over zero and one \n",
    "Every number between 0, and 1 has the same probability of getting chosen"
   ],
   "id": "f058a86c31fdeeff"
  },
  {
   "metadata": {
    "ExecuteTime": {
     "end_time": "2024-08-21T15:11:38.180360Z",
     "start_time": "2024-08-21T15:11:38.174361Z"
    }
   },
   "cell_type": "code",
   "source": "np.random.rand(4,4)",
   "id": "374dd0a236fe0d78",
   "outputs": [
    {
     "data": {
      "text/plain": [
       "array([[0.48161977, 0.01349597, 0.64150274, 0.97859476],\n",
       "       [0.17197324, 0.31623908, 0.75742129, 0.03467791],\n",
       "       [0.4671564 , 0.49302062, 0.64414322, 0.47998974],\n",
       "       [0.95642671, 0.3686915 , 0.86404386, 0.99683575]])"
      ]
     },
     "execution_count": 12,
     "metadata": {},
     "output_type": "execute_result"
    }
   ],
   "execution_count": 12
  },
  {
   "metadata": {},
   "cell_type": "markdown",
   "source": [
    "#### Create a random sample from a normal distribution over zero and one \n",
    "A normal distribution has a mean of (0) and standard deviation at 1. This means that the numbers returned are between -1 and 1"
   ],
   "id": "4df9fccd1b040758"
  },
  {
   "metadata": {
    "ExecuteTime": {
     "end_time": "2024-08-21T15:11:38.187162Z",
     "start_time": "2024-08-21T15:11:38.181366Z"
    }
   },
   "cell_type": "code",
   "source": "np.random.randn(3,3)",
   "id": "187f9283b522bbe9",
   "outputs": [
    {
     "data": {
      "text/plain": [
       "array([[ 0.10891139,  0.68589354,  0.98668794],\n",
       "       [ 0.88181763, -1.53424102,  0.05474472],\n",
       "       [-0.20297039, -1.02414402, -0.74180231]])"
      ]
     },
     "execution_count": 13,
     "metadata": {},
     "output_type": "execute_result"
    }
   ],
   "execution_count": 13
  },
  {
   "metadata": {},
   "cell_type": "markdown",
   "source": "#### Random numpy array of integers ",
   "id": "5dee706cdb313b52"
  },
  {
   "metadata": {
    "ExecuteTime": {
     "end_time": "2024-08-21T15:11:38.197425Z",
     "start_time": "2024-08-21T15:11:38.189170Z"
    }
   },
   "cell_type": "code",
   "source": [
    "arr = np.random.randint(0, 50, 25)\n",
    "arr"
   ],
   "id": "2ebcdfa8ab837774",
   "outputs": [
    {
     "data": {
      "text/plain": [
       "array([48, 19, 33, 12, 21, 24, 24, 19, 47, 10, 26,  5, 39, 28, 41, 47, 24,\n",
       "       15, 35, 45, 32, 44,  4, 31, 38])"
      ]
     },
     "execution_count": 14,
     "metadata": {},
     "output_type": "execute_result"
    }
   ],
   "execution_count": 14
  },
  {
   "metadata": {},
   "cell_type": "markdown",
   "source": "#### Reshaping the 1D integers array to (a, b) matrix (rows, cols)",
   "id": "b66a571743393464"
  },
  {
   "metadata": {
    "ExecuteTime": {
     "end_time": "2024-08-21T15:11:38.202305Z",
     "start_time": "2024-08-21T15:11:38.198432Z"
    }
   },
   "cell_type": "code",
   "source": [
    "arr_m = arr.reshape(5, 5)\n",
    "print(arr_m)"
   ],
   "id": "e41452c776e8e865",
   "outputs": [
    {
     "name": "stdout",
     "output_type": "stream",
     "text": [
      "[[48 19 33 12 21]\n",
      " [24 24 19 47 10]\n",
      " [26  5 39 28 41]\n",
      " [47 24 15 35 45]\n",
      " [32 44  4 31 38]]\n"
     ]
    }
   ],
   "execution_count": 15
  },
  {
   "metadata": {},
   "cell_type": "markdown",
   "source": "#### Return the maximum value of an array",
   "id": "99cbb291d82fe06e"
  },
  {
   "metadata": {
    "ExecuteTime": {
     "end_time": "2024-08-21T15:11:38.213949Z",
     "start_time": "2024-08-21T15:11:38.208059Z"
    }
   },
   "cell_type": "code",
   "source": "arr.max()",
   "id": "e4f69c8046e69fe7",
   "outputs": [
    {
     "data": {
      "text/plain": [
       "48"
      ]
     },
     "execution_count": 16,
     "metadata": {},
     "output_type": "execute_result"
    }
   ],
   "execution_count": 16
  },
  {
   "metadata": {},
   "cell_type": "markdown",
   "source": "#### Return the minimum value of an array",
   "id": "55c619cd1d210a86"
  },
  {
   "metadata": {
    "ExecuteTime": {
     "end_time": "2024-08-21T15:11:38.220639Z",
     "start_time": "2024-08-21T15:11:38.215466Z"
    }
   },
   "cell_type": "code",
   "source": "arr.min()",
   "id": "730f6565ac85ed6c",
   "outputs": [
    {
     "data": {
      "text/plain": [
       "4"
      ]
     },
     "execution_count": 17,
     "metadata": {},
     "output_type": "execute_result"
    }
   ],
   "execution_count": 17
  },
  {
   "metadata": {},
   "cell_type": "markdown",
   "source": "#### Return the datatype of the values contained in an array",
   "id": "7f789820cbd5404c"
  },
  {
   "metadata": {
    "ExecuteTime": {
     "end_time": "2024-08-21T15:11:38.227073Z",
     "start_time": "2024-08-21T15:11:38.221647Z"
    }
   },
   "cell_type": "code",
   "source": "arr.dtype",
   "id": "c9bac09ae77cf281",
   "outputs": [
    {
     "data": {
      "text/plain": [
       "dtype('int32')"
      ]
     },
     "execution_count": 18,
     "metadata": {},
     "output_type": "execute_result"
    }
   ],
   "execution_count": 18
  },
  {
   "metadata": {},
   "cell_type": "markdown",
   "source": [
    "## Python and numpy slicing \n",
    "### Basic String slicing \n",
    "Python uses the next sintax to make slices in iterables and collections: \n",
    "$$L[start:stop:step]$$ "
   ],
   "id": "4848196a836d45e3"
  },
  {
   "metadata": {
    "ExecuteTime": {
     "end_time": "2024-08-21T15:11:38.231863Z",
     "start_time": "2024-08-21T15:11:38.228215Z"
    }
   },
   "cell_type": "code",
   "source": "str_slice = \"Welcome Python\"",
   "id": "46c38e243a5b766",
   "outputs": [],
   "execution_count": 19
  },
  {
   "metadata": {},
   "cell_type": "markdown",
   "source": "#### Select the first element of the string",
   "id": "215219f289536a49"
  },
  {
   "metadata": {
    "ExecuteTime": {
     "end_time": "2024-08-21T15:11:38.241050Z",
     "start_time": "2024-08-21T15:11:38.235384Z"
    }
   },
   "cell_type": "code",
   "source": "str_slice[0]",
   "id": "11e635d65544174e",
   "outputs": [
    {
     "data": {
      "text/plain": [
       "'W'"
      ]
     },
     "execution_count": 20,
     "metadata": {},
     "output_type": "execute_result"
    }
   ],
   "execution_count": 20
  },
  {
   "metadata": {},
   "cell_type": "markdown",
   "source": "#### Select the last element of the string",
   "id": "2712c0091144a228"
  },
  {
   "metadata": {
    "ExecuteTime": {
     "end_time": "2024-08-21T15:11:38.249187Z",
     "start_time": "2024-08-21T15:11:38.243059Z"
    }
   },
   "cell_type": "code",
   "source": "str_slice[-1]",
   "id": "7c3853d87aae995b",
   "outputs": [
    {
     "data": {
      "text/plain": [
       "'n'"
      ]
     },
     "execution_count": 21,
     "metadata": {},
     "output_type": "execute_result"
    }
   ],
   "execution_count": 21
  },
  {
   "metadata": {},
   "cell_type": "markdown",
   "source": "#### Select all, starting with index = 3",
   "id": "6671f3639ce4e4d3"
  },
  {
   "metadata": {
    "ExecuteTime": {
     "end_time": "2024-08-21T15:14:59.729855Z",
     "start_time": "2024-08-21T15:14:59.721656Z"
    }
   },
   "cell_type": "code",
   "source": "str_slice[3:]",
   "id": "b4da666c297986e4",
   "outputs": [
    {
     "data": {
      "text/plain": [
       "'come Python'"
      ]
     },
     "execution_count": 32,
     "metadata": {},
     "output_type": "execute_result"
    }
   ],
   "execution_count": 32
  },
  {
   "metadata": {},
   "cell_type": "markdown",
   "source": "#### Select all until the index = 5 (not including it)",
   "id": "b5cf2fa9ca81dce0"
  },
  {
   "metadata": {
    "ExecuteTime": {
     "end_time": "2024-08-21T15:18:48.619506Z",
     "start_time": "2024-08-21T15:18:48.599078Z"
    }
   },
   "cell_type": "code",
   "source": "str_slice[:5]",
   "id": "6db9d5e104d2342e",
   "outputs": [
    {
     "data": {
      "text/plain": [
       "'Welco'"
      ]
     },
     "execution_count": 33,
     "metadata": {},
     "output_type": "execute_result"
    }
   ],
   "execution_count": 33
  },
  {
   "metadata": {},
   "cell_type": "markdown",
   "source": "#### Select from index = 3 to index = 12 (not including it)",
   "id": "c154b1cd5dbadd62"
  },
  {
   "metadata": {
    "ExecuteTime": {
     "end_time": "2024-08-21T15:29:34.376445Z",
     "start_time": "2024-08-21T15:29:34.367843Z"
    }
   },
   "cell_type": "code",
   "source": "str_slice[3:12]",
   "id": "d8f6cbd86839babd",
   "outputs": [
    {
     "data": {
      "text/plain": [
       "'come Pyth'"
      ]
     },
     "execution_count": 34,
     "metadata": {},
     "output_type": "execute_result"
    }
   ],
   "execution_count": 34
  },
  {
   "metadata": {},
   "cell_type": "markdown",
   "source": [
    "#### Select all the elements two by two\n",
    "To make certain slices there are many possible ways "
   ],
   "id": "8738a467539b9de8"
  },
  {
   "metadata": {
    "ExecuteTime": {
     "end_time": "2024-08-21T15:34:28.262334Z",
     "start_time": "2024-08-21T15:34:28.249966Z"
    }
   },
   "cell_type": "code",
   "source": [
    "if str_slice[::2] == str_slice[0::2] == str_slice[0:14:2]:\n",
    "    print(True)\n",
    "str_slice[::2]"
   ],
   "id": "1ad7fa035e6b3ea3",
   "outputs": [
    {
     "name": "stdout",
     "output_type": "stream",
     "text": [
      "True\n"
     ]
    },
    {
     "data": {
      "text/plain": [
       "'WloePto'"
      ]
     },
     "execution_count": 35,
     "metadata": {},
     "output_type": "execute_result"
    }
   ],
   "execution_count": 35
  },
  {
   "metadata": {},
   "cell_type": "markdown",
   "source": "#### Select all the elements in the string",
   "id": "f6c310af898c28c8"
  },
  {
   "metadata": {
    "ExecuteTime": {
     "end_time": "2024-08-21T19:13:20.012779Z",
     "start_time": "2024-08-21T19:13:19.994475Z"
    }
   },
   "cell_type": "code",
   "source": [
    "if str_slice[0:14] == str_slice[:] == str_slice[0:] == str_slice[0:14:1]:\n",
    "  print(True)\n",
    "str_slice[:]"
   ],
   "id": "f42c0a0c9d0320af",
   "outputs": [
    {
     "name": "stdout",
     "output_type": "stream",
     "text": [
      "True\n"
     ]
    },
    {
     "data": {
      "text/plain": [
       "'Welcome Python'"
      ]
     },
     "execution_count": 46,
     "metadata": {},
     "output_type": "execute_result"
    }
   ],
   "execution_count": 46
  },
  {
   "metadata": {},
   "cell_type": "markdown",
   "source": [
    "#### Select all, from right to left, starting in index = 3\n",
    "This is equivalent to select all less the tree last elements"
   ],
   "id": "22ece8ccfa6bfa2e"
  },
  {
   "metadata": {
    "ExecuteTime": {
     "end_time": "2024-08-21T16:04:23.149338Z",
     "start_time": "2024-08-21T16:04:23.127545Z"
    }
   },
   "cell_type": "code",
   "source": "str_slice[:-3]",
   "id": "89028ca74cd53385",
   "outputs": [
    {
     "data": {
      "text/plain": [
       "'Welcome Pyt'"
      ]
     },
     "execution_count": 36,
     "metadata": {},
     "output_type": "execute_result"
    }
   ],
   "execution_count": 36
  },
  {
   "metadata": {},
   "cell_type": "markdown",
   "source": "#### Select all until the index = 5 (not including it) but from right to left",
   "id": "c1e1520aa93975a0"
  },
  {
   "metadata": {
    "ExecuteTime": {
     "end_time": "2024-08-21T16:09:27.880720Z",
     "start_time": "2024-08-21T16:09:27.860177Z"
    }
   },
   "cell_type": "code",
   "source": "str_slice[-5:]",
   "id": "afde3ba00f54d930",
   "outputs": [
    {
     "data": {
      "text/plain": [
       "'ython'"
      ]
     },
     "execution_count": 38,
     "metadata": {},
     "output_type": "execute_result"
    }
   ],
   "execution_count": 38
  },
  {
   "metadata": {},
   "cell_type": "markdown",
   "source": "### *Basic Numpy array slicing*",
   "id": "8494500517c7d907"
  },
  {
   "metadata": {
    "ExecuteTime": {
     "end_time": "2024-08-21T16:14:20.759991Z",
     "start_time": "2024-08-21T16:14:20.737460Z"
    }
   },
   "cell_type": "code",
   "source": [
    "arr = np.random.randint(0, 50, 25)\n",
    "arr"
   ],
   "id": "646b4db6422ff915",
   "outputs": [
    {
     "data": {
      "text/plain": [
       "array([47, 13, 21, 37,  7,  0, 35, 29, 16,  9, 35, 35, 19,  2,  9, 19, 22,\n",
       "        6, 21, 17, 23, 18, 23, 30, 43])"
      ]
     },
     "execution_count": 40,
     "metadata": {},
     "output_type": "execute_result"
    }
   ],
   "execution_count": 40
  },
  {
   "metadata": {},
   "cell_type": "markdown",
   "source": "#### Select the element with the index = 10",
   "id": "8feca814b27fddfb"
  },
  {
   "metadata": {
    "ExecuteTime": {
     "end_time": "2024-08-21T16:14:28.574003Z",
     "start_time": "2024-08-21T16:14:28.565524Z"
    }
   },
   "cell_type": "code",
   "source": "arr[10]",
   "id": "8b237b545b1175b1",
   "outputs": [
    {
     "data": {
      "text/plain": [
       "35"
      ]
     },
     "execution_count": 41,
     "metadata": {},
     "output_type": "execute_result"
    }
   ],
   "execution_count": 41
  },
  {
   "metadata": {},
   "cell_type": "markdown",
   "source": "#### Select the first 10 elements",
   "id": "5960e95af0ba11de"
  },
  {
   "metadata": {
    "ExecuteTime": {
     "end_time": "2024-08-21T16:14:42.826860Z",
     "start_time": "2024-08-21T16:14:42.818426Z"
    }
   },
   "cell_type": "code",
   "source": "arr[0:10]",
   "id": "ac9f4708ff3c9638",
   "outputs": [
    {
     "data": {
      "text/plain": [
       "array([47, 13, 21, 37,  7,  0, 35, 29, 16,  9])"
      ]
     },
     "execution_count": 42,
     "metadata": {},
     "output_type": "execute_result"
    }
   ],
   "execution_count": 42
  },
  {
   "metadata": {},
   "cell_type": "markdown",
   "source": [
    "#### Select all starting with the index = 15\n",
    "Equivalent to select the last 10 elements"
   ],
   "id": "b2a095af83096162"
  },
  {
   "metadata": {
    "ExecuteTime": {
     "end_time": "2024-08-21T16:17:51.460173Z",
     "start_time": "2024-08-21T16:17:51.450086Z"
    }
   },
   "cell_type": "code",
   "source": "arr[15:]",
   "id": "cb9a3ad0dc33693",
   "outputs": [
    {
     "data": {
      "text/plain": [
       "array([19, 22,  6, 21, 17, 23, 18, 23, 30, 43])"
      ]
     },
     "execution_count": 43,
     "metadata": {},
     "output_type": "execute_result"
    }
   ],
   "execution_count": 43
  },
  {
   "metadata": {},
   "cell_type": "markdown",
   "source": "### *Multidimensional numpy array slicing*",
   "id": "2efa14629c5dd4bc"
  },
  {
   "metadata": {
    "ExecuteTime": {
     "end_time": "2024-08-21T16:20:39.943991Z",
     "start_time": "2024-08-21T16:20:39.931830Z"
    }
   },
   "cell_type": "code",
   "source": [
    "arr2D = np.random.randint(0, 50, 25).reshape(5,5)\n",
    "arr2D"
   ],
   "id": "3447504fc2833226",
   "outputs": [
    {
     "data": {
      "text/plain": [
       "array([[40, 30, 35,  7, 27],\n",
       "       [ 8,  7, 39, 42, 33],\n",
       "       [ 1, 12, 24, 26, 19],\n",
       "       [ 5,  5, 48, 29, 16],\n",
       "       [36, 27, 49, 20, 23]])"
      ]
     },
     "execution_count": 44,
     "metadata": {},
     "output_type": "execute_result"
    }
   ],
   "execution_count": 44
  },
  {
   "metadata": {},
   "cell_type": "markdown",
   "source": "#### Select rows from a np.array matrix with *indices*",
   "id": "381c0bc33b95f989"
  },
  {
   "metadata": {
    "ExecuteTime": {
     "end_time": "2024-08-21T16:33:09.036880Z",
     "start_time": "2024-08-21T16:33:09.015143Z"
    }
   },
   "cell_type": "code",
   "source": [
    "first_row = arr2D[0]\n",
    "last_row = arr2D[-1]\n",
    "print(f'first_row: {first_row}, last_row: {last_row}')"
   ],
   "id": "cf138519f24f14ec",
   "outputs": [
    {
     "name": "stdout",
     "output_type": "stream",
     "text": [
      "first_row: [40 30 35  7 27], last_row: [36 27 49 20 23]\n"
     ]
    }
   ],
   "execution_count": 45
  },
  {
   "metadata": {},
   "cell_type": "markdown",
   "source": "#### Select rows from a np.array matrix with *slices*",
   "id": "799cecdf6cd4ecc3"
  },
  {
   "metadata": {
    "ExecuteTime": {
     "end_time": "2024-08-21T19:14:12.510092Z",
     "start_time": "2024-08-21T19:14:12.497879Z"
    }
   },
   "cell_type": "code",
   "source": [
    "# from the first row element, element with index = 0, select all (:) the column elements\n",
    "first_row = arr2D[0, :]\n",
    "# from the last row element (index = -1), select all (:) the column elements\n",
    "last_row = arr2D[-1, :]\n",
    "print(f'first_row: {first_row}, last_row: {last_row}')"
   ],
   "id": "3b971c3483ca2040",
   "outputs": [
    {
     "name": "stdout",
     "output_type": "stream",
     "text": [
      "first_row: [40 30 35  7 27], last_row: [36 27 49 20 23]\n"
     ]
    }
   ],
   "execution_count": 47
  },
  {
   "metadata": {},
   "cell_type": "markdown",
   "source": "#### Select columns of a np.array matrix",
   "id": "624e3d3045453581"
  },
  {
   "metadata": {
    "ExecuteTime": {
     "end_time": "2024-08-21T19:20:05.997220Z",
     "start_time": "2024-08-21T19:20:05.989234Z"
    }
   },
   "cell_type": "code",
   "source": [
    "# from the matrix select all the rows (:) and from all the rows select the first (0) column element\n",
    "first_col = arr2D[:, 0]\n",
    "first_col"
   ],
   "id": "e696091e5d15ab23",
   "outputs": [
    {
     "data": {
      "text/plain": [
       "array([40,  8,  1,  5, 36])"
      ]
     },
     "execution_count": 49,
     "metadata": {},
     "output_type": "execute_result"
    }
   ],
   "execution_count": 49
  },
  {
   "metadata": {},
   "cell_type": "markdown",
   "source": "#### Convert in a column vector a column of a np.array matrix",
   "id": "30482adcead43e36"
  },
  {
   "metadata": {
    "ExecuteTime": {
     "end_time": "2024-08-21T19:21:12.872892Z",
     "start_time": "2024-08-21T19:21:12.865540Z"
    }
   },
   "cell_type": "code",
   "source": [
    "first_col = arr2D[:, 0].reshape(-1, 1)\n",
    "first_col"
   ],
   "id": "87d0b13c57b00052",
   "outputs": [
    {
     "data": {
      "text/plain": [
       "array([[40],\n",
       "       [ 8],\n",
       "       [ 1],\n",
       "       [ 5],\n",
       "       [36]])"
      ]
     },
     "execution_count": 50,
     "metadata": {},
     "output_type": "execute_result"
    }
   ],
   "execution_count": 50
  },
  {
   "metadata": {},
   "cell_type": "markdown",
   "source": "#### Select sub-matrices fom a np.array matrix",
   "id": "291250fa8a06a211"
  },
  {
   "metadata": {
    "ExecuteTime": {
     "end_time": "2024-08-21T19:33:21.236674Z",
     "start_time": "2024-08-21T19:33:21.228460Z"
    }
   },
   "cell_type": "code",
   "source": [
    "# from the first (0) to the index = 2 (not including it) rows, select the column elements from i=1 to i=3 (not including it)\n",
    "sub_matrix = arr2D[0:2, 1:3]\n",
    "# equivalent form\n",
    "sub_matrix_2 = arr2D[:2, 1:3]\n",
    "if sub_matrix.all() == sub_matrix_2.all():\n",
    "    print(sub_matrix)"
   ],
   "id": "eb1c0913d402d53c",
   "outputs": [
    {
     "name": "stdout",
     "output_type": "stream",
     "text": [
      "[[30 35]\n",
      " [ 7 39]]\n"
     ]
    }
   ],
   "execution_count": 53
  }
 ],
 "metadata": {
  "kernelspec": {
   "display_name": "Python 3",
   "language": "python",
   "name": "python3"
  },
  "language_info": {
   "codemirror_mode": {
    "name": "ipython",
    "version": 2
   },
   "file_extension": ".py",
   "mimetype": "text/x-python",
   "name": "python",
   "nbconvert_exporter": "python",
   "pygments_lexer": "ipython2",
   "version": "2.7.6"
  }
 },
 "nbformat": 4,
 "nbformat_minor": 5
}
