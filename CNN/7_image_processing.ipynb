{
 "cells": [
  {
   "cell_type": "code",
   "id": "initial_id",
   "metadata": {
    "collapsed": true,
    "ExecuteTime": {
     "end_time": "2024-09-28T01:50:42.170298Z",
     "start_time": "2024-09-28T01:50:42.164792Z"
    }
   },
   "source": [
    "import torch \n",
    "import torch.nn as nn\n",
    "import torch.nn.functional as F\n",
    "from torch.utils.data import DataLoader\n",
    "from torchvision import datasets, transforms\n",
    "\n",
    "import numpy as np\n",
    "import pandas as pd\n",
    "import matplotlib.pyplot as plt\n",
    "\n",
    "import os\n",
    "from PIL import Image\n",
    "from IPython.display import display\n",
    "import warnings"
   ],
   "outputs": [],
   "execution_count": 3
  },
  {
   "metadata": {
    "ExecuteTime": {
     "end_time": "2024-09-28T01:50:44.430388Z",
     "start_time": "2024-09-28T01:50:44.411406Z"
    }
   },
   "cell_type": "code",
   "source": [
    "# check dataset \n",
    "with Image.open('train_images/CATS_DOGS/test/CAT/10107.JPG') as img:\n",
    "    display(img)"
   ],
   "id": "17400ec05313e51d",
   "outputs": [
    {
     "data": {
      "text/plain": [
       "<PIL.JpegImagePlugin.JpegImageFile image mode=RGB size=86x86>"
      ],
      "image/png": "[encoded data removed]",
      "image/jpeg": "[encoded data removed]"
     },
     "metadata": {},
     "output_type": "display_data"
    }
   ],
   "execution_count": 4
  },
  {
   "metadata": {},
   "cell_type": "markdown",
   "source": "### Create a list of image filenames",
   "id": "45b1726cbc0fa6b"
  },
  {
   "metadata": {
    "ExecuteTime": {
     "end_time": "2024-09-28T01:50:50.143068Z",
     "start_time": "2024-09-28T01:50:49.978013Z"
    }
   },
   "cell_type": "code",
   "source": [
    "# Suppress the specific warning\n",
    "warnings.filterwarnings(\"ignore\", message=\".*Truncated File Read.*\")\n",
    "\n",
    "path = \"train_images/CATS_DOGS/\"\n",
    "img_names = []\n",
    "\n",
    "for folder, subfolders, filenames in os.walk(path):\n",
    "    for img in filenames:\n",
    "        img_names.append(folder+'/'+img)\n",
    "\n",
    "print(len(img_names))"
   ],
   "id": "bc8ae0ae2fabc27d",
   "outputs": [
    {
     "name": "stdout",
     "output_type": "stream",
     "text": [
      "24994\n"
     ]
    }
   ],
   "execution_count": 5
  },
  {
   "metadata": {},
   "cell_type": "markdown",
   "source": "### Create a DataFrame of image sizes (width x height)",
   "id": "9d852d45420dfeee"
  },
  {
   "metadata": {
    "ExecuteTime": {
     "end_time": "2024-09-28T01:51:08.509611Z",
     "start_time": "2024-09-28T01:50:52.196791Z"
    }
   },
   "cell_type": "code",
   "source": [
    "img_sizes = []\n",
    "rejected = []\n",
    "\n",
    "for item in img_names:\n",
    "    try:\n",
    "        with Image.open(item) as img:\n",
    "            img_sizes.append(img.size)\n",
    "    except:\n",
    "        rejected.append(item)\n",
    "\n",
    "print(f\"Images: {len(img_sizes)}\")\n",
    "print(f\"Rejected: {len(rejected)}\")"
   ],
   "id": "4d3ec81a36a98655",
   "outputs": [
    {
     "name": "stdout",
     "output_type": "stream",
     "text": [
      "Images: 24994\n",
      "Rejected: 0\n"
     ]
    }
   ],
   "execution_count": 6
  },
  {
   "metadata": {
    "ExecuteTime": {
     "end_time": "2024-09-28T02:27:44.362158Z",
     "start_time": "2024-09-28T02:27:43.930068Z"
    }
   },
   "cell_type": "code",
   "source": [
    "# convert the list to a pd.DataFrame\n",
    "df = pd.DataFrame(img_sizes)\n",
    "\n",
    "# run summary statistics on image widths\n",
    "df[0].describe()"
   ],
   "id": "bddb1fdcf6ab3466",
   "outputs": [
    {
     "data": {
      "text/plain": [
       "count    24994.000000\n",
       "mean       404.493518\n",
       "std        108.941802\n",
       "min         42.000000\n",
       "25%        323.000000\n",
       "50%        448.000000\n",
       "75%        500.000000\n",
       "max        500.000000\n",
       "Name: 0, dtype: float64"
      ]
     },
     "execution_count": 7,
     "metadata": {},
     "output_type": "execute_result"
    }
   ],
   "execution_count": 7
  },
  {
   "metadata": {
    "ExecuteTime": {
     "end_time": "2024-09-28T02:28:42.169104Z",
     "start_time": "2024-09-28T02:28:41.840072Z"
    }
   },
   "cell_type": "code",
   "source": "df[1].describe()",
   "id": "8a32b4faac4aa27d",
   "outputs": [
    {
     "data": {
      "text/plain": [
       "count    24994.000000\n",
       "mean       361.037129\n",
       "std         96.936811\n",
       "min         33.000000\n",
       "25%        302.000000\n",
       "50%        375.000000\n",
       "75%        421.000000\n",
       "max        500.000000\n",
       "Name: 1, dtype: float64"
      ]
     },
     "execution_count": 8,
     "metadata": {},
     "output_type": "execute_result"
    }
   ],
   "execution_count": 8
  },
  {
   "metadata": {},
   "cell_type": "markdown",
   "source": [
    "### Image Preprocessing\n",
    "The incoming image files \n"
   ],
   "id": "62a24b22a7494bfb"
  },
  {
   "metadata": {},
   "cell_type": "code",
   "outputs": [],
   "execution_count": null,
   "source": "",
   "id": "e6d68774c64a35f7"
  },
  {
   "metadata": {},
   "cell_type": "markdown",
   "source": "",
   "id": "c44daaa7e058ebfb"
  }
 ],
 "metadata": {
  "kernelspec": {
   "display_name": "Python 3",
   "language": "python",
   "name": "python3"
  },
  "language_info": {
   "codemirror_mode": {
    "name": "ipython",
    "version": 2
   },
   "file_extension": ".py",
   "mimetype": "text/x-python",
   "name": "python",
   "nbconvert_exporter": "python",
   "pygments_lexer": "ipython2",
   "version": "2.7.6"
  }
 },
 "nbformat": 4,
 "nbformat_minor": 5
}
