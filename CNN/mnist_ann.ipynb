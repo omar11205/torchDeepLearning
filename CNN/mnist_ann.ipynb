{
 "cells": [
  {
   "cell_type": "code",
   "id": "initial_id",
   "metadata": {
    "collapsed": true,
    "ExecuteTime": {
     "end_time": "2024-09-07T18:23:25.736782Z",
     "start_time": "2024-09-07T18:23:25.729622Z"
    }
   },
   "source": [
    "import torch\n",
    "import torch.nn as nn\n",
    "import torch.nn.functional as F\n",
    "from torchvision import datasets, transforms\n",
    "from torch.utils.data import DataLoader\n",
    "import numpy as np\n",
    "import pandas as pd\n",
    "from sklearn.metrics import confusion_matrix\n",
    "import matplotlib.pyplot as plt\n",
    "from torchvision.utils import make_grid\n",
    "import time"
   ],
   "outputs": [],
   "execution_count": 21
  },
  {
   "metadata": {
    "ExecuteTime": {
     "end_time": "2024-09-07T18:23:26.322886Z",
     "start_time": "2024-09-07T18:23:26.305721Z"
    }
   },
   "cell_type": "code",
   "source": [
    "device = \"cpu\"\n",
    "torch.manual_seed(101)"
   ],
   "id": "66f7e40caa5c3fef",
   "outputs": [
    {
     "data": {
      "text/plain": [
       "<torch._C.Generator at 0x2c8d2eae210>"
      ]
     },
     "execution_count": 22,
     "metadata": {},
     "output_type": "execute_result"
    }
   ],
   "execution_count": 22
  },
  {
   "metadata": {},
   "cell_type": "markdown",
   "source": [
    "# Training the MNIST dataset with Artificial Neural Networks\n",
    "With the aim of comparing the performance of training convolutional neural networks and artificial neural networks a training of the MNIST dataset is performed with both techniques. \n",
    "\n",
    "### Transform MNIST images to tensors"
   ],
   "id": "e5b56d6fe5ec9f4d"
  },
  {
   "metadata": {
    "ExecuteTime": {
     "end_time": "2024-09-07T18:23:27.924277Z",
     "start_time": "2024-09-07T18:23:27.838520Z"
    }
   },
   "cell_type": "code",
   "source": [
    "# instantiate the transformer from image to tensor\n",
    "transform = transforms.ToTensor()\n",
    "\n",
    "train_data = datasets.MNIST(root=\"train_images/MNIST\", train=True, transform=transform, download=True)"
   ],
   "id": "feffd8a4af8b900e",
   "outputs": [],
   "execution_count": 23
  },
  {
   "metadata": {
    "ExecuteTime": {
     "end_time": "2024-09-07T18:23:30.337781Z",
     "start_time": "2024-09-07T18:23:30.329019Z"
    }
   },
   "cell_type": "code",
   "source": "train_data",
   "id": "466b9be28b2bc45b",
   "outputs": [
    {
     "data": {
      "text/plain": [
       "Dataset MNIST\n",
       "    Number of datapoints: 60000\n",
       "    Root location: train_images/MNIST\n",
       "    Split: Train\n",
       "    StandardTransform\n",
       "Transform: ToTensor()"
      ]
     },
     "execution_count": 24,
     "metadata": {},
     "output_type": "execute_result"
    }
   ],
   "execution_count": 24
  },
  {
   "metadata": {
    "ExecuteTime": {
     "end_time": "2024-09-07T18:23:31.141133Z",
     "start_time": "2024-09-07T18:23:31.118896Z"
    }
   },
   "cell_type": "code",
   "source": "test_data = datasets.MNIST(root=\"train_images/MNIST\", train=False, transform=transform, download=True)",
   "id": "a7dfb594ce8c9193",
   "outputs": [],
   "execution_count": 25
  },
  {
   "metadata": {
    "ExecuteTime": {
     "end_time": "2024-09-07T18:23:31.896205Z",
     "start_time": "2024-09-07T18:23:31.888560Z"
    }
   },
   "cell_type": "code",
   "source": "test_data",
   "id": "8b2734fd8e651703",
   "outputs": [
    {
     "data": {
      "text/plain": [
       "Dataset MNIST\n",
       "    Number of datapoints: 10000\n",
       "    Root location: train_images/MNIST\n",
       "    Split: Test\n",
       "    StandardTransform\n",
       "Transform: ToTensor()"
      ]
     },
     "execution_count": 26,
     "metadata": {},
     "output_type": "execute_result"
    }
   ],
   "execution_count": 26
  },
  {
   "metadata": {
    "ExecuteTime": {
     "end_time": "2024-09-07T18:23:32.474100Z",
     "start_time": "2024-09-07T18:23:32.465652Z"
    }
   },
   "cell_type": "code",
   "source": "image, label = train_data[0]",
   "id": "9d24e770fd233878",
   "outputs": [],
   "execution_count": 27
  },
  {
   "metadata": {
    "ExecuteTime": {
     "end_time": "2024-09-07T18:23:32.914615Z",
     "start_time": "2024-09-07T18:23:32.906974Z"
    }
   },
   "cell_type": "code",
   "source": "image.shape",
   "id": "bf5be87989a3d3e2",
   "outputs": [
    {
     "data": {
      "text/plain": [
       "torch.Size([1, 28, 28])"
      ]
     },
     "execution_count": 28,
     "metadata": {},
     "output_type": "execute_result"
    }
   ],
   "execution_count": 28
  },
  {
   "metadata": {
    "ExecuteTime": {
     "end_time": "2024-09-07T18:23:34.196468Z",
     "start_time": "2024-09-07T18:23:34.023542Z"
    }
   },
   "cell_type": "code",
   "source": "plt.imshow(image.reshape((28,28)), cmap='gist_yarg')",
   "id": "df92d8a7de1f2787",
   "outputs": [
    {
     "data": {
      "text/plain": [
       "<matplotlib.image.AxesImage at 0x2c8cec5b150>"
      ]
     },
     "execution_count": 29,
     "metadata": {},
     "output_type": "execute_result"
    },
    {
     "data": {
      "text/plain": [
       "<Figure size 640x480 with 1 Axes>"
      ],
      "image/png": "[encoded data removed]"
     },
     "metadata": {},
     "output_type": "display_data"
    }
   ],
   "execution_count": 29
  },
  {
   "metadata": {},
   "cell_type": "markdown",
   "source": "### Prepare the data grouping in batches and shuffling",
   "id": "97a5bbf5de5a3119"
  },
  {
   "metadata": {
    "ExecuteTime": {
     "end_time": "2024-09-07T18:23:36.559551Z",
     "start_time": "2024-09-07T18:23:36.552687Z"
    }
   },
   "cell_type": "code",
   "source": [
    "train_loader = DataLoader(dataset=train_data, batch_size=100, shuffle=True)\n",
    "test_loader = DataLoader(dataset=test_data, batch_size=500, shuffle=True)"
   ],
   "id": "df75b0d2efbe8472",
   "outputs": [],
   "execution_count": 30
  },
  {
   "metadata": {},
   "cell_type": "markdown",
   "source": "### Plot samples of the MNIST Dataset inside the loaders",
   "id": "bfdfd1d3bb554d42"
  },
  {
   "metadata": {
    "ExecuteTime": {
     "end_time": "2024-09-07T18:23:37.886995Z",
     "start_time": "2024-09-07T18:23:37.863154Z"
    }
   },
   "cell_type": "code",
   "source": [
    "for images, labels in train_loader:\n",
    "    break"
   ],
   "id": "aadcd6c31ebb7ab9",
   "outputs": [],
   "execution_count": 31
  },
  {
   "metadata": {
    "ExecuteTime": {
     "end_time": "2024-09-07T18:23:38.569123Z",
     "start_time": "2024-09-07T18:23:38.386003Z"
    }
   },
   "cell_type": "code",
   "source": [
    "# print the first 12 labels\n",
    "print(\"Labels: \", labels[:12].numpy())\n",
    "\n",
    "# print the first 12 images\n",
    "im = make_grid(images[:12], nrow=12)\n",
    "plt.figure(figsize=(20,8))\n",
    "\n",
    "\n",
    "plt.imshow(np.transpose(im.numpy(), (1, 2, 0)))"
   ],
   "id": "36345a414e451b16",
   "outputs": [
    {
     "name": "stdout",
     "output_type": "stream",
     "text": [
      "Labels:  [7 2 3 5 8 5 3 6 9 9 1 3]\n"
     ]
    },
    {
     "data": {
      "text/plain": [
       "<matplotlib.image.AxesImage at 0x2c8dfba7650>"
      ]
     },
     "execution_count": 32,
     "metadata": {},
     "output_type": "execute_result"
    },
    {
     "data": {
      "text/plain": [
       "<Figure size 2000x800 with 1 Axes>"
      ],
      "image/png": "[encoded data removed]"
     },
     "metadata": {},
     "output_type": "display_data"
    }
   ],
   "execution_count": 32
  },
  {
   "metadata": {},
   "cell_type": "markdown",
   "source": "### Creating the model for training the MNIST dataset with a fully connected neural network",
   "id": "130079f02248697d"
  },
  {
   "metadata": {
    "ExecuteTime": {
     "end_time": "2024-09-07T18:23:40.591627Z",
     "start_time": "2024-09-07T18:23:40.584005Z"
    }
   },
   "cell_type": "code",
   "source": [
    "class FullyConnectedNN(nn.Module):\n",
    "    def __init__(self, input_size, output_size, layers):\n",
    "        super().__init__()\n",
    "        \n",
    "        self.fc1 = nn.Linear(input_size, layers[0])\n",
    "        self.fc2 = nn.Linear(layers[0], layers[1])\n",
    "        self.fc3 = nn.Linear(layers[1], output_size)\n",
    "    \n",
    "    def forward(self, X):\n",
    "        X = F.relu(self.fc1(X))\n",
    "        X = F.relu(self.fc2(X))\n",
    "        X = self.fc3(X)\n",
    "        \n",
    "        return F.log_softmax(X, dim=1) #<- for multiclass classification task\n"
   ],
   "id": "ffa488780e477f",
   "outputs": [],
   "execution_count": 33
  },
  {
   "metadata": {},
   "cell_type": "markdown",
   "source": "### Defining Training instances",
   "id": "f5a3c81daa1a5170"
  },
  {
   "metadata": {
    "ExecuteTime": {
     "end_time": "2024-09-07T18:23:42.889816Z",
     "start_time": "2024-09-07T18:23:42.844706Z"
    }
   },
   "cell_type": "code",
   "source": [
    "model = FullyConnectedNN(784, 10, [120,84]).to(device)\n",
    "criterion = nn.CrossEntropyLoss()\n",
    "optimizer = torch.optim.Adam(model.parameters(), lr=0.001)"
   ],
   "id": "21eea462bd68cb1",
   "outputs": [],
   "execution_count": 34
  },
  {
   "metadata": {},
   "cell_type": "markdown",
   "source": "### Training loop",
   "id": "f720e23dc6a7f481"
  },
  {
   "metadata": {
    "ExecuteTime": {
     "end_time": "2024-09-07T18:25:07.815393Z",
     "start_time": "2024-09-07T18:23:50.897506Z"
    }
   },
   "cell_type": "code",
   "source": [
    "start_time = time.time()\n",
    "\n",
    "epochs = 10\n",
    "\n",
    "train_loss = []\n",
    "test_loss = []\n",
    "train_correct = []\n",
    "test_correct = []\n",
    "\n",
    "for i in range(epochs):\n",
    "    train_corr = 0\n",
    "    test_corr = 0\n",
    "    \n",
    "    for b, (X_train, y_train) in enumerate(train_loader):\n",
    "        b += 1\n",
    "        y_pred = model(X_train.view(100, -1)) # <- flatten the X_train tensor\n",
    "        loss = criterion(y_pred, y_train)\n",
    "        predicted = torch.max(y_pred.data, 1)[1] # <- select the numeric label with the maximum probability\n",
    "        batch_corr = (predicted == y_train).sum()\n",
    "        train_corr += batch_corr\n",
    "        \n",
    "        optimizer.zero_grad()\n",
    "        loss.backward()\n",
    "        optimizer.step()\n",
    "        \n",
    "        if b%200 == 0:\n",
    "            print(f'Epoch {i} batch{b} loss:{loss.item():.4f} accuracy:{train_corr.item()*100/(100*b)}')\n",
    "            \n",
    "    train_loss.append(loss.item())\n",
    "    train_correct.append(train_corr)\n",
    "    \n",
    "    with torch.no_grad():\n",
    "        for b, (X_test, y_test) in enumerate(test_loader):\n",
    "            y_val = model(X_test.view(500,-1)) #<- see test_loader batch size\n",
    "            \n",
    "            predicted = torch.max(y_val.data, 1)[1]\n",
    "            test_corr += (predicted == y_test).sum()\n",
    "    \n",
    "    loss = criterion(y_val, y_test)\n",
    "    test_loss.append(loss.item())\n",
    "    test_correct.append(test_corr)\n",
    "\n",
    "total_time = time.time() - start_time\n",
    "print(f'Total time: {total_time/60} min')"
   ],
   "id": "d542fa906659695c",
   "outputs": [
    {
     "name": "stdout",
     "output_type": "stream",
     "text": [
      "Epoch 0 batch200 loss:0.2879 accuracy:83.05\n",
      "Epoch 0 batch400 loss:0.2578 accuracy:87.4275\n",
      "Epoch 0 batch600 loss:0.2368 accuracy:89.46166666666667\n",
      "Epoch 1 batch200 loss:0.1500 accuracy:94.73\n",
      "Epoch 1 batch400 loss:0.0776 accuracy:95.025\n",
      "Epoch 1 batch600 loss:0.1185 accuracy:95.245\n",
      "Epoch 2 batch200 loss:0.0505 accuracy:96.375\n",
      "Epoch 2 batch400 loss:0.1996 accuracy:96.5875\n",
      "Epoch 2 batch600 loss:0.0673 accuracy:96.69166666666666\n",
      "Epoch 3 batch200 loss:0.0502 accuracy:97.605\n",
      "Epoch 3 batch400 loss:0.0996 accuracy:97.585\n",
      "Epoch 3 batch600 loss:0.0717 accuracy:97.57166666666667\n",
      "Epoch 4 batch200 loss:0.0560 accuracy:97.975\n",
      "Epoch 4 batch400 loss:0.1246 accuracy:97.9175\n",
      "Epoch 4 batch600 loss:0.1507 accuracy:97.945\n",
      "Epoch 5 batch200 loss:0.1435 accuracy:98.305\n",
      "Epoch 5 batch400 loss:0.1121 accuracy:98.3025\n",
      "Epoch 5 batch600 loss:0.0069 accuracy:98.35\n",
      "Epoch 6 batch200 loss:0.0126 accuracy:98.705\n",
      "Epoch 6 batch400 loss:0.0948 accuracy:98.6775\n",
      "Epoch 6 batch600 loss:0.0690 accuracy:98.63166666666666\n",
      "Epoch 7 batch200 loss:0.0535 accuracy:98.965\n",
      "Epoch 7 batch400 loss:0.0233 accuracy:98.915\n",
      "Epoch 7 batch600 loss:0.0029 accuracy:98.85166666666667\n",
      "Epoch 8 batch200 loss:0.0301 accuracy:99.16\n",
      "Epoch 8 batch400 loss:0.0293 accuracy:99.17\n",
      "Epoch 8 batch600 loss:0.0271 accuracy:99.10833333333333\n",
      "Epoch 9 batch200 loss:0.0324 accuracy:99.26\n",
      "Epoch 9 batch400 loss:0.0165 accuracy:99.2675\n",
      "Epoch 9 batch600 loss:0.0055 accuracy:99.19166666666666\n",
      "Total time: 1.2816648523012797 min\n"
     ]
    }
   ],
   "execution_count": 35
  },
  {
   "metadata": {},
   "cell_type": "code",
   "outputs": [],
   "execution_count": null,
   "source": "",
   "id": "6ff2d5691de87fed"
  }
 ],
 "metadata": {
  "kernelspec": {
   "display_name": "Python 3",
   "language": "python",
   "name": "python3"
  },
  "language_info": {
   "codemirror_mode": {
    "name": "ipython",
    "version": 2
   },
   "file_extension": ".py",
   "mimetype": "text/x-python",
   "name": "python",
   "nbconvert_exporter": "python",
   "pygments_lexer": "ipython2",
   "version": "2.7.6"
  }
 },
 "nbformat": 4,
 "nbformat_minor": 5
}
