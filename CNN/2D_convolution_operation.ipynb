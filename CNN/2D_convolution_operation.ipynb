{
 "cells": [
  {
   "metadata": {},
   "cell_type": "markdown",
   "source": "Source: https://vincmazet.github.io/bip/filtering/convolution.html",
   "id": "dc17f2e04f83d13c"
  },
  {
   "metadata": {},
   "cell_type": "markdown",
   "source": [
    "# 2D discrete convolution\n",
    "Given an image $g$ when each pixel is denoted as $g(m, n)$ and a filter or *kernel* $h(m,n)$ the computation of a convoluted pixel (x,y) in the image f is defined as:\n",
    " $$ f(x,y) = (g*h)(x,y) = \\sum_m \\sum_n g(x-m,y-n) \\ h(m,n) $$"
   ],
   "id": "4ffa51e783aa10f9"
  },
  {
   "cell_type": "code",
   "id": "initial_id",
   "metadata": {
    "collapsed": true,
    "ExecuteTime": {
     "end_time": "2024-09-04T01:59:34.783642Z",
     "start_time": "2024-09-04T01:59:34.705201Z"
    }
   },
   "source": [
    "import numpy as np\n",
    "from scipy import signal\n",
    "\n",
    "# Define a 3x3 image\n",
    "image = np.array([\n",
    "    [1, 2, 3, 8, 9],\n",
    "    [4, 5, 6, 4, 1],\n",
    "    [7, 8, 9, 1, 4],\n",
    "    [5, 1, 2, 3, 5],\n",
    "    [3, 4, 8, 9, 1]\n",
    "])\n",
    "\n",
    "# Define a 2x2 kernel\n",
    "kernel = np.array([\n",
    "    [1, 0],\n",
    "    [0, -1],\n",
    "])\n",
    "\n",
    "# Get dimensions of the image and kernel\n",
    "image_height, image_width = image.shape\n",
    "kernel_height, kernel_width = kernel.shape\n",
    "\n",
    "# Calculate dimensions of the output image\n",
    "output_height = image_height - kernel_height + 1\n",
    "output_width = image_width - kernel_width + 1\n",
    "\n",
    "flipped_kernel = np.flip(kernel)\n",
    "\n",
    "# Initialize the output image\n",
    "output = np.zeros((output_height, output_width))\n",
    "\n",
    "# Perform the convolution operation\n",
    "for i in range(output_height):\n",
    "    for j in range(output_width):\n",
    "        # Extract the region of interest from the image\n",
    "        region = image[i:i+kernel_height, j:j+kernel_width]\n",
    "        # Perform element-wise multiplication and sum the result\n",
    "        output[i, j] = np.sum(region * flipped_kernel)\n",
    "\n",
    "output"
   ],
   "outputs": [
    {
     "data": {
      "text/plain": [
       "array([[ 4.,  4.,  1., -7.],\n",
       "       [ 4.,  4., -5.,  0.],\n",
       "       [-6., -6., -6.,  4.],\n",
       "       [-1.,  7.,  7., -2.]])"
      ]
     },
     "execution_count": 22,
     "metadata": {},
     "output_type": "execute_result"
    }
   ],
   "execution_count": 22
  },
  {
   "metadata": {
    "ExecuteTime": {
     "end_time": "2024-09-04T01:07:03.439820Z",
     "start_time": "2024-09-04T01:07:03.427050Z"
    }
   },
   "cell_type": "code",
   "source": [
    "convolve = signal.convolve2d(image, kernel, mode=\"valid\")\n",
    "convolve"
   ],
   "id": "eaf0f95696f88b8c",
   "outputs": [
    {
     "data": {
      "text/plain": [
       "array([[ 5,  2,  9],\n",
       "       [ 6, 10, 18],\n",
       "       [25, 13,  5]])"
      ]
     },
     "execution_count": 21,
     "metadata": {},
     "output_type": "execute_result"
    }
   ],
   "execution_count": 21
  },
  {
   "metadata": {},
   "cell_type": "code",
   "outputs": [],
   "execution_count": null,
   "source": "",
   "id": "76c82587e1b0b58a"
  }
 ],
 "metadata": {
  "kernelspec": {
   "display_name": "Python 3",
   "language": "python",
   "name": "python3"
  },
  "language_info": {
   "codemirror_mode": {
    "name": "ipython",
    "version": 2
   },
   "file_extension": ".py",
   "mimetype": "text/x-python",
   "name": "python",
   "nbconvert_exporter": "python",
   "pygments_lexer": "ipython2",
   "version": "2.7.6"
  }
 },
 "nbformat": 4,
 "nbformat_minor": 5
}
