{
 "cells": [
  {
   "cell_type": "code",
   "id": "initial_id",
   "metadata": {
    "collapsed": true,
    "ExecuteTime": {
     "end_time": "2024-09-18T15:09:15.000306Z",
     "start_time": "2024-09-18T15:09:11.250489Z"
    }
   },
   "source": [
    "import torch\n",
    "import torch.nn as nn\n",
    "import torch.nn.functional as F\n",
    "from torch.utils.data import DataLoader\n",
    "from torchvision import datasets, transforms\n",
    "import numpy as np\n",
    "from sklearn.metrics import confusion_matrix\n",
    "import time\n",
    "import matplotlib.pyplot as plt"
   ],
   "outputs": [],
   "execution_count": 2
  },
  {
   "metadata": {},
   "cell_type": "markdown",
   "source": "Set device and reproducibility",
   "id": "c11abba9e25ee2fc"
  },
  {
   "metadata": {
    "ExecuteTime": {
     "end_time": "2024-09-18T15:09:15.008441Z",
     "start_time": "2024-09-18T15:09:15.001311Z"
    }
   },
   "cell_type": "code",
   "source": [
    "torch.manual_seed(101)\n",
    "device = torch.device(\"cuda\" if torch.cuda.is_available() else \"cpu\")"
   ],
   "id": "d88c23d5532eae1b",
   "outputs": [],
   "execution_count": 3
  },
  {
   "metadata": {},
   "cell_type": "markdown",
   "source": "Create a transformer instance: transform to tensor",
   "id": "1408a1b473bf6340"
  },
  {
   "metadata": {
    "ExecuteTime": {
     "end_time": "2024-09-18T15:09:15.011350Z",
     "start_time": "2024-09-18T15:09:15.008441Z"
    }
   },
   "cell_type": "code",
   "source": "transform = transforms.ToTensor()",
   "id": "4a79e7925a2fcc70",
   "outputs": [],
   "execution_count": 4
  },
  {
   "metadata": {},
   "cell_type": "markdown",
   "source": "Import the MNIST Dataset and divide into train and test data",
   "id": "4703df59edc65839"
  },
  {
   "metadata": {
    "ExecuteTime": {
     "end_time": "2024-09-18T15:09:15.055893Z",
     "start_time": "2024-09-18T15:09:15.012355Z"
    }
   },
   "cell_type": "code",
   "source": [
    "train_data = datasets.MNIST(root = \"train_images/MNIST\", train=True, download=True, transform=transform)\n",
    "test_data = datasets.MNIST(root = \"train_images/MNIST\", train=False, download=True, transform=transform)"
   ],
   "id": "5de7e1837fea344f",
   "outputs": [],
   "execution_count": 5
  },
  {
   "metadata": {},
   "cell_type": "markdown",
   "source": "Create the dataloaders with a small batch size (for CNN)",
   "id": "135937413d1e4070"
  },
  {
   "metadata": {
    "ExecuteTime": {
     "end_time": "2024-09-18T15:09:15.059568Z",
     "start_time": "2024-09-18T15:09:15.056901Z"
    }
   },
   "cell_type": "code",
   "source": [
    "train_loader = DataLoader(dataset=train_data, batch_size=10, shuffle=True)\n",
    "test_loader = DataLoader(dataset=test_data, batch_size=10, shuffle=False)"
   ],
   "id": "a95341816a44235e",
   "outputs": [],
   "execution_count": 6
  },
  {
   "metadata": {},
   "cell_type": "markdown",
   "source": [
    "### Shape of the input tensors\n",
    "\n",
    "The shape of the training/test input tensors that spect the convolutional and poling transforms is a four-dimensional shape. With:\n",
    "\n",
    "- batch_size: number of tensor-images in the batch\n",
    "- input_channels: channels of the image i.e. 1 for grayscale, 3 for RGB.\n",
    "- $h_{in}$: high of the input images\n",
    "- $w_{in}$: width of the input images\n",
    "\n",
    "\n",
    "$$\\text{input\\_tensor\\_shape} = (\\text{batch\\_size}, \\text{input\\_channels}, h_{in}, w_{in})$$\n",
    "\n",
    "In example, the shape of the first input tensor in the train loader:"
   ],
   "id": "234efa2a1ce0aff"
  },
  {
   "metadata": {
    "ExecuteTime": {
     "end_time": "2024-09-18T15:23:55.241053Z",
     "start_time": "2024-09-18T15:23:55.233203Z"
    }
   },
   "cell_type": "code",
   "source": [
    "for images, labels in train_loader:\n",
    "    print(\"Shape of the first input tensor: \", images.shape)\n",
    "    break"
   ],
   "id": "c4ed757e09952cab",
   "outputs": [
    {
     "name": "stdout",
     "output_type": "stream",
     "text": [
      "Shape of the first input tensor:  torch.Size([10, 1, 28, 28])\n"
     ]
    }
   ],
   "execution_count": 20
  },
  {
   "metadata": {},
   "cell_type": "markdown",
   "source": [
    "## Pytorch nn.Conv2d convolutional layer\n",
    "\n",
    "Depending on the desired architecture nn.Conv2d requires several parameters like: the input channels, the output channels, the kernel size (filter), the stride, the padding etc. The shape of the output tensor after the convolution will be affected by this configuration. The output_channels or feature maps are initialized with random **weights** always. nn.Conv2d also adds random **bias** terms to this random **weights**.\n",
    "\n",
    "#### Example 1:\n",
    "Calculate the shape of the output tensor after a convolution with this configuration. (input tensor shape = $[10, 1, 28, 28]$) \n",
    "\n",
    "*conv1 = nn.Conv2d(in_channels = 1, out_channels = 6, kernel_size = 3, stride = 1, padding = 0)*\n",
    " \n",
    "This configuration means:\n",
    "\n",
    "- 1, for one input channel (grayscale)\n",
    "- 6, **output channels for feature extractions, the feature maps, the filters that the CNN will figure out**\n",
    "- 3, kernel size for a 3 by 3 squared filter\n",
    "- 1, for the horizontal and vertical stride of the convolution\n",
    "- 0, no pixels will be added to the input border\n",
    "\n",
    "The convolutions made by pytorch Conv2d can be very flexible, and have many configurations, but if the kernel is squared the output size of a convolutional layer is determined by these parameters:\n",
    "\n",
    "- Input size: The height and width of the input image (`h_in`, `w_in`).\n",
    "- Kernel size: The height and width of the filter (`kernel_size`), usually denoted as $k$\n",
    "- Stride: The step size the filter moves along the input (`stride`), denoted as $s$\n",
    "- Padding: The number of pixels added to the input border (`padding`), denoted as $p$\n",
    "\n",
    "The output size (height and width) after applying the convolution is computed by the following formula:\n",
    "\n",
    "Height of the output after convolution\n",
    "$$h_{\\text{out}} = \\left\\lfloor \\frac{h_{\\text{in}} + 2p - k}{s} \\right\\rfloor + 1$$\n",
    "\n",
    "Width of the output after convolution\n",
    "$$w_{\\text{out}} = \\left\\lfloor \\frac{w_{\\text{in}} + 2p - k}{s} \\right\\rfloor + 1$$\n",
    "\n",
    "Output shape after convolution\n",
    "$$\\text{output\\_shape} = (\\text{batch\\_size}, \\text{out\\_channels}, h_{\\text{out}}, w_{\\text{out}})$$\n",
    "\n",
    "The output tensor shape then will be:\n",
    "\n",
    "- batch_size = 10\n",
    "- out_channels = 6\n",
    "- $h_{out} = \\frac{28+2*0-3}{1} + 1 = 26$\n",
    "- $w_{out} = \\frac{28+2*0-3}{1} + 1 = 26$\n",
    "\n",
    "$$\\text{output\\_shape} = (10, 6, 26, 26)$$"
   ],
   "id": "1f2833b8ed51efb2"
  },
  {
   "metadata": {
    "ExecuteTime": {
     "end_time": "2024-09-18T16:12:38.811588Z",
     "start_time": "2024-09-18T16:12:38.791546Z"
    }
   },
   "cell_type": "code",
   "source": [
    "# define the convolutional layer\n",
    "conv1 = nn.Conv2d(1,6,3,1)\n",
    "\n",
    "for images, labels in train_loader:\n",
    "    break\n",
    "\n",
    "print(\"Shape of the convoluted tensor: \", conv1(images).shape)"
   ],
   "id": "b0120f1d293b9816",
   "outputs": [
    {
     "name": "stdout",
     "output_type": "stream",
     "text": [
      "Shape of the convoluted tensor:  torch.Size([10, 6, 26, 26])\n"
     ]
    }
   ],
   "execution_count": 21
  },
  {
   "metadata": {},
   "cell_type": "markdown",
   "source": [
    "## Pooling layers\n",
    "The poling layers are used to reduce the number of parameters in convolutional layers performing a mapping in the input tensor (like the convolution operation) but this time averaging or using the maximum instead of summing. .nn.MaxPool2d` or `nn.AvgPool`\n",
    "\n",
    "### Formula for the Output Shape of a Polling Layer\n",
    "In PyTorch, pooling layers like MaxPool2d or AvgPool2d downsample the input using a kernel (or window) and stride (how far the window moves).\n",
    "\n",
    "The formula to compute the output size for a 2D pooling layer is:"
   ],
   "id": "e949de17725bef4b"
  },
  {
   "metadata": {},
   "cell_type": "markdown",
   "source": [
    "### Simple training steps with convolutional layers and polling layers\n",
    "- Input\n",
    "- Convolutional layer\n",
    "- Pooling layer\n",
    "- Flattening"
   ],
   "id": "a8f829a206ada779"
  },
  {
   "metadata": {
    "ExecuteTime": {
     "end_time": "2024-09-18T15:09:15.106097Z",
     "start_time": "2024-09-18T15:09:15.080087Z"
    }
   },
   "cell_type": "code",
   "source": [
    "# define the convolutional layer\n",
    "conv1 = nn.Conv2d(1,6,3,1)\n",
    "\n",
    "for i, (X_train, Y_train) in enumerate(train_data):\n",
    "    break\n",
    "\n",
    "print(\"Shape of X_train:\", X_train.shape)\n",
    "\n",
    "# add an extra dimension to X_train to make the convolution (1 for batch)\n",
    "x = X_train.view(1,1,28,28)\n",
    "\n",
    "# perform a convolution \n",
    "out = conv1(x)\n",
    "print(\"Shape after the convolution:\", out.shape)\n",
    "\n",
    "# perform a pooling\n",
    "max_p = F.max_pool2d(out,2,2)\n",
    "print(\"Shape after the pooling\", max_p.shape)\n",
    "\n",
    "# How to feed this output of max_p to a fully connected input?\n",
    "x = max_p.view(-1, 6*13*13)\n",
    "print(\"Shape after the flattening\", x.shape)"
   ],
   "id": "4621bed59b1ba207",
   "outputs": [
    {
     "name": "stdout",
     "output_type": "stream",
     "text": [
      "Shape of X_train: torch.Size([1, 28, 28])\n",
      "Shape after the convolution: torch.Size([1, 6, 26, 26])\n",
      "Shape after the pooling torch.Size([1, 6, 13, 13])\n",
      "Shape after the flattening torch.Size([1, 1014])\n"
     ]
    }
   ],
   "execution_count": 8
  },
  {
   "metadata": {},
   "cell_type": "markdown",
   "source": [
    "### CNN Model\n",
    "Architecture of the model:\n",
    "\n",
    "CNN -> POL -> CNN -> POL -> FLAT -> FCL1 -> FCL2 -> FCL3"
   ],
   "id": "d118899224a655d7"
  },
  {
   "metadata": {
    "ExecuteTime": {
     "end_time": "2024-09-18T15:09:15.112682Z",
     "start_time": "2024-09-18T15:09:15.106097Z"
    }
   },
   "cell_type": "code",
   "source": [
    "class ConvolutionalNN(nn.Module):\n",
    "    def __init__(self, filter1, filter2):\n",
    "        super().__init__()\n",
    "        self.conv1 = nn.Conv2d(1, filter1, 3, 1)  # You can change this to any number of filters\n",
    "        self.conv2 = nn.Conv2d(6, filter2, 3, 1) # You can change this to any number of filters\n",
    "        self.pool = nn.MaxPool2d(2, 2)\n",
    "        \n",
    "        # Initialize fully connected layers with placeholder\n",
    "        self.fc1 = None\n",
    "        self.fc2 = nn.Linear(120, 84)\n",
    "        self.fc3 = nn.Linear(84, 10)\n",
    "\n",
    "        # Dynamically compute the input size for the first fully connected layer\n",
    "        self._initialize_fc1()\n",
    "\n",
    "    def _initialize_fc1(self):\n",
    "        # Create a dummy tensor with the same size as an MNIST input\n",
    "        dummy_input = torch.zeros(1, 1, 28, 28)\n",
    "\n",
    "        # Pass the dummy input through the conv and pooling layers to calculate the flattened size\n",
    "        dummy_output = self.pool(F.relu(self.conv1(dummy_input)))\n",
    "        dummy_output = self.pool(F.relu(self.conv2(dummy_output)))\n",
    "        \n",
    "        # Calculate the flattened size\n",
    "        flattened_size = dummy_output.numel()  # Returns the total number of elements in the tensor\n",
    "        \n",
    "        # Now that we know the flattened size, we can initialize the first fully connected layer\n",
    "        self.fc1 = nn.Linear(flattened_size, 120)\n",
    "\n",
    "    def forward(self, X):\n",
    "        X = F.relu(self.conv1(X))\n",
    "        X = self.pool(X)  \n",
    "        X = F.relu(self.conv2(X))\n",
    "        X = self.pool(X)  \n",
    "        X = X.view(X.size(0), -1)  # Flattening\n",
    "        X = F.relu(self.fc1(X))\n",
    "        X = F.relu(self.fc2(X))\n",
    "        X = self.fc3(X)\n",
    "        return F.log_softmax(X, dim=1)"
   ],
   "id": "ccbb413940077782",
   "outputs": [],
   "execution_count": 9
  },
  {
   "metadata": {
    "ExecuteTime": {
     "end_time": "2024-09-18T15:09:15.225249Z",
     "start_time": "2024-09-18T15:09:15.113632Z"
    }
   },
   "cell_type": "code",
   "source": [
    "model = ConvolutionalNN(filter1=6, filter2=16).to(device)\n",
    "print(model)"
   ],
   "id": "d36631ab3e394ba8",
   "outputs": [
    {
     "name": "stdout",
     "output_type": "stream",
     "text": [
      "ConvolutionalNN(\n",
      "  (conv1): Conv2d(1, 6, kernel_size=(3, 3), stride=(1, 1))\n",
      "  (conv2): Conv2d(6, 16, kernel_size=(3, 3), stride=(1, 1))\n",
      "  (pool): MaxPool2d(kernel_size=2, stride=2, padding=0, dilation=1, ceil_mode=False)\n",
      "  (fc2): Linear(in_features=120, out_features=84, bias=True)\n",
      "  (fc3): Linear(in_features=84, out_features=10, bias=True)\n",
      "  (fc1): Linear(in_features=400, out_features=120, bias=True)\n",
      ")\n"
     ]
    }
   ],
   "execution_count": 10
  },
  {
   "metadata": {
    "ExecuteTime": {
     "end_time": "2024-09-18T15:09:15.229694Z",
     "start_time": "2024-09-18T15:09:15.226253Z"
    }
   },
   "cell_type": "code",
   "source": [
    "criterion = nn.CrossEntropyLoss()\n",
    "optimizer = torch.optim.Adam(model.parameters(), lr=0.001)"
   ],
   "id": "d012136f98224180",
   "outputs": [],
   "execution_count": 11
  },
  {
   "metadata": {
    "ExecuteTime": {
     "end_time": "2024-09-18T15:10:59.435408Z",
     "start_time": "2024-09-18T15:09:15.229694Z"
    }
   },
   "cell_type": "code",
   "source": [
    "start_time = time.time()\n",
    "\n",
    "epochs = 5\n",
    "train_losses = []\n",
    "test_losses = []\n",
    "train_correct = []\n",
    "test_correct = []\n",
    "\n",
    "for epoch in range(epochs):\n",
    "    trn_corr = 0\n",
    "    tst_corr = 0\n",
    "    \n",
    "    # train \n",
    "    for b, (X_trn, Y_trn) in enumerate(train_loader):\n",
    "        X_trn, Y_trn = X_trn.to(device), Y_trn.to(device)  # Ensure inputs and targets are on the same device\n",
    "        b += 1\n",
    "        \n",
    "        y_pred = model(X_trn)  # Fixed typo: use X_trn instead of X_train\n",
    "        loss = criterion(y_pred, Y_trn)\n",
    "        \n",
    "        predicted = torch.max(y_pred.data, 1)[1]\n",
    "        batch_corr = (predicted == Y_trn).sum()  # Corrected from y_pred to Y_trn\n",
    "        trn_corr += batch_corr\n",
    "        \n",
    "        optimizer.zero_grad()\n",
    "        loss.backward()\n",
    "        optimizer.step()\n",
    "        \n",
    "        if b % 600 == 0:\n",
    "            print(f'epoch: {b:2} - batch: {b:4} [{10*b:6}/60000],  loss: {loss.item():.6f}, accuracy: {trn_corr.item()*100/(10*b):.6f}%')\n",
    "    \n",
    "    \n",
    "    train_losses.append(loss.item())\n",
    "    train_correct.append(trn_corr)  # Use trn_corr instead of batch_corr for the entire epoch\n",
    "        \n",
    "    # test\n",
    "    with torch.no_grad():\n",
    "        for b, (X_test, Y_test) in enumerate(test_loader):\n",
    "            X_test, Y_test = X_test.to(device), Y_test.to(device)  # Ensure test inputs and targets are on the same device\n",
    "            y_val = model(X_test)\n",
    "            predicted = torch.max(y_val.data, 1)[1]\n",
    "            tst_corr += (predicted == Y_test).sum()\n",
    "        \n",
    "    loss = criterion(y_val, Y_test)\n",
    "    test_losses.append(loss.item())\n",
    "    test_correct.append(tst_corr)\n",
    "        \n",
    "current_time = time.time()\n",
    "total = current_time - start_time\n",
    "print(f'\\nDuration: {time.time() - start_time:.0f} seconds')"
   ],
   "id": "317b944396914dde",
   "outputs": [
    {
     "name": "stdout",
     "output_type": "stream",
     "text": [
      "epoch: 600 - batch:  600 [  6000/60000],  loss: 0.080591, accuracy: 79.750000%\n",
      "epoch: 1200 - batch: 1200 [ 12000/60000],  loss: 0.208541, accuracy: 86.558333%\n",
      "epoch: 1800 - batch: 1800 [ 18000/60000],  loss: 0.182700, accuracy: 89.438889%\n",
      "epoch: 2400 - batch: 2400 [ 24000/60000],  loss: 0.278924, accuracy: 90.925000%\n",
      "epoch: 3000 - batch: 3000 [ 30000/60000],  loss: 0.224449, accuracy: 91.966667%\n",
      "epoch: 3600 - batch: 3600 [ 36000/60000],  loss: 0.099626, accuracy: 92.713889%\n",
      "epoch: 4200 - batch: 4200 [ 42000/60000],  loss: 0.067769, accuracy: 93.311905%\n",
      "epoch: 4800 - batch: 4800 [ 48000/60000],  loss: 0.258688, accuracy: 93.816667%\n",
      "epoch: 5400 - batch: 5400 [ 54000/60000],  loss: 0.016685, accuracy: 94.216667%\n",
      "epoch: 6000 - batch: 6000 [ 60000/60000],  loss: 0.004168, accuracy: 94.503333%\n",
      "epoch: 600 - batch:  600 [  6000/60000],  loss: 0.299413, accuracy: 97.533333%\n",
      "epoch: 1200 - batch: 1200 [ 12000/60000],  loss: 0.127280, accuracy: 97.691667%\n",
      "epoch: 1800 - batch: 1800 [ 18000/60000],  loss: 0.001475, accuracy: 97.816667%\n",
      "epoch: 2400 - batch: 2400 [ 24000/60000],  loss: 0.004293, accuracy: 97.870833%\n",
      "epoch: 3000 - batch: 3000 [ 30000/60000],  loss: 0.001074, accuracy: 97.926667%\n",
      "epoch: 3600 - batch: 3600 [ 36000/60000],  loss: 0.022151, accuracy: 97.966667%\n",
      "epoch: 4200 - batch: 4200 [ 42000/60000],  loss: 0.063364, accuracy: 98.007143%\n",
      "epoch: 4800 - batch: 4800 [ 48000/60000],  loss: 0.164603, accuracy: 97.981250%\n",
      "epoch: 5400 - batch: 5400 [ 54000/60000],  loss: 0.239610, accuracy: 98.011111%\n",
      "epoch: 6000 - batch: 6000 [ 60000/60000],  loss: 0.024070, accuracy: 98.056667%\n",
      "epoch: 600 - batch:  600 [  6000/60000],  loss: 0.002040, accuracy: 98.500000%\n",
      "epoch: 1200 - batch: 1200 [ 12000/60000],  loss: 0.015076, accuracy: 98.525000%\n",
      "epoch: 1800 - batch: 1800 [ 18000/60000],  loss: 0.002965, accuracy: 98.533333%\n",
      "epoch: 2400 - batch: 2400 [ 24000/60000],  loss: 0.003414, accuracy: 98.562500%\n",
      "epoch: 3000 - batch: 3000 [ 30000/60000],  loss: 0.001040, accuracy: 98.633333%\n",
      "epoch: 3600 - batch: 3600 [ 36000/60000],  loss: 0.000731, accuracy: 98.600000%\n",
      "epoch: 4200 - batch: 4200 [ 42000/60000],  loss: 0.001420, accuracy: 98.595238%\n",
      "epoch: 4800 - batch: 4800 [ 48000/60000],  loss: 0.306946, accuracy: 98.589583%\n",
      "epoch: 5400 - batch: 5400 [ 54000/60000],  loss: 0.045845, accuracy: 98.622222%\n",
      "epoch: 6000 - batch: 6000 [ 60000/60000],  loss: 0.003920, accuracy: 98.620000%\n",
      "epoch: 600 - batch:  600 [  6000/60000],  loss: 0.000017, accuracy: 99.000000%\n",
      "epoch: 1200 - batch: 1200 [ 12000/60000],  loss: 0.003729, accuracy: 99.033333%\n",
      "epoch: 1800 - batch: 1800 [ 18000/60000],  loss: 0.013573, accuracy: 98.950000%\n",
      "epoch: 2400 - batch: 2400 [ 24000/60000],  loss: 0.000383, accuracy: 98.995833%\n",
      "epoch: 3000 - batch: 3000 [ 30000/60000],  loss: 0.000127, accuracy: 98.996667%\n",
      "epoch: 3600 - batch: 3600 [ 36000/60000],  loss: 0.000198, accuracy: 98.991667%\n",
      "epoch: 4200 - batch: 4200 [ 42000/60000],  loss: 0.189610, accuracy: 98.933333%\n",
      "epoch: 4800 - batch: 4800 [ 48000/60000],  loss: 0.107163, accuracy: 98.941667%\n",
      "epoch: 5400 - batch: 5400 [ 54000/60000],  loss: 0.000594, accuracy: 98.961111%\n",
      "epoch: 6000 - batch: 6000 [ 60000/60000],  loss: 0.000026, accuracy: 98.938333%\n",
      "epoch: 600 - batch:  600 [  6000/60000],  loss: 0.000042, accuracy: 99.350000%\n",
      "epoch: 1200 - batch: 1200 [ 12000/60000],  loss: 0.001615, accuracy: 99.283333%\n",
      "epoch: 1800 - batch: 1800 [ 18000/60000],  loss: 0.000656, accuracy: 99.200000%\n",
      "epoch: 2400 - batch: 2400 [ 24000/60000],  loss: 0.001342, accuracy: 99.162500%\n",
      "epoch: 3000 - batch: 3000 [ 30000/60000],  loss: 0.000092, accuracy: 99.123333%\n",
      "epoch: 3600 - batch: 3600 [ 36000/60000],  loss: 0.000292, accuracy: 99.133333%\n",
      "epoch: 4200 - batch: 4200 [ 42000/60000],  loss: 0.019523, accuracy: 99.121429%\n",
      "epoch: 4800 - batch: 4800 [ 48000/60000],  loss: 0.067677, accuracy: 99.152083%\n",
      "epoch: 5400 - batch: 5400 [ 54000/60000],  loss: 0.003654, accuracy: 99.150000%\n",
      "epoch: 6000 - batch: 6000 [ 60000/60000],  loss: 0.000019, accuracy: 99.165000%\n",
      "\n",
      "Duration: 104 seconds\n"
     ]
    }
   ],
   "execution_count": 12
  },
  {
   "metadata": {
    "ExecuteTime": {
     "end_time": "2024-09-18T15:10:59.819323Z",
     "start_time": "2024-09-18T15:10:59.435408Z"
    }
   },
   "cell_type": "code",
   "source": [
    "\n",
    "\n",
    "# Plot training and testing loss\n",
    "plt.figure(figsize=(10,5))\n",
    "plt.plot(train_losses, label='Training Loss')\n",
    "plt.plot(test_losses, label='Test Loss')\n",
    "plt.title('Training and Test Loss Over Epochs')\n",
    "plt.xlabel('Epoch')\n",
    "plt.ylabel('Loss')\n",
    "plt.legend()\n",
    "plt.grid(True)\n",
    "plt.show()\n",
    "\n",
    "# Plot training and testing accuracy\n",
    "train_acc = [float(x) / len(train_data) for x in train_correct]  # Convert to accuracy percentages\n",
    "test_acc = [float(x) / len(test_data) for x in test_correct]  # Convert to accuracy percentages\n",
    "\n",
    "plt.figure(figsize=(10,5))\n",
    "plt.plot(train_acc, label='Training Accuracy')\n",
    "plt.plot(test_acc, label='Test Accuracy')\n",
    "plt.title('Training and Test Accuracy Over Epochs')\n",
    "plt.xlabel('Epoch')\n",
    "plt.ylabel('Accuracy')\n",
    "plt.legend()\n",
    "plt.grid(True)\n",
    "plt.show()"
   ],
   "id": "7879d27036d2d8f6",
   "outputs": [
    {
     "data": {
      "text/plain": [
       "<Figure size 1000x500 with 1 Axes>"
      ],
      "image/png": "[encoded data removed]"
     },
     "metadata": {},
     "output_type": "display_data"
    },
    {
     "data": {
      "text/plain": [
       "<Figure size 1000x500 with 1 Axes>"
      ],
      "image/png": "[encoded data removed]"
     },
     "metadata": {},
     "output_type": "display_data"
    }
   ],
   "execution_count": 13
  },
  {
   "metadata": {},
   "cell_type": "markdown",
   "source": "Evaluation with the entire test data",
   "id": "d40edb8bba4e657a"
  },
  {
   "metadata": {
    "ExecuteTime": {
     "end_time": "2024-09-18T15:11:00.557912Z",
     "start_time": "2024-09-18T15:10:59.819323Z"
    }
   },
   "cell_type": "code",
   "source": [
    "# Extract the data all at one\n",
    "test_load_all = DataLoader(test_data, batch_size=10000, shuffle=False)\n",
    "with torch.no_grad():\n",
    "    correct = 0\n",
    "    for X_test, Y_test in test_load_all:\n",
    "        X_test, Y_test = X_test.to(device), Y_test.to(device)\n",
    "        y_val = model(X_test)\n",
    "        predicted = torch.max(y_val.data, 1)[1]\n",
    "        correct += (predicted == Y_test).sum()\n",
    "print(f'Entire Test Dataset Accuracy: {correct.item()/len(test_data)} = {correct.item()*100/(len(test_data)):.7f}%')"
   ],
   "id": "19b2f99cff5a7c1a",
   "outputs": [
    {
     "name": "stdout",
     "output_type": "stream",
     "text": [
      "Entire Test Dataset Accuracy: 0.9885 = 98.8500000%\n"
     ]
    }
   ],
   "execution_count": 14
  },
  {
   "metadata": {
    "ExecuteTime": {
     "end_time": "2024-09-18T15:11:00.561450Z",
     "start_time": "2024-09-18T15:11:00.557912Z"
    }
   },
   "cell_type": "code",
   "source": [
    "# count the number of parameters used in the mode\n",
    "def count_parameters(model):\n",
    "    params = [p.numel() for p in model.parameters() if p.requires_grad]\n",
    "    for item in params:\n",
    "        print(f'{item:>6}')\n",
    "    print(f'______\\n{sum(params):>6}')\n",
    "\n",
    "count_parameters(model)"
   ],
   "id": "b0d236d2f47fbe50",
   "outputs": [
    {
     "name": "stdout",
     "output_type": "stream",
     "text": [
      "    54\n",
      "     6\n",
      "   864\n",
      "    16\n",
      " 10080\n",
      "    84\n",
      "   840\n",
      "    10\n",
      " 48000\n",
      "   120\n",
      "______\n",
      " 60074\n"
     ]
    }
   ],
   "execution_count": 15
  },
  {
   "metadata": {},
   "cell_type": "markdown",
   "source": "Confusion Matrix",
   "id": "d81aa191d8b07abd"
  },
  {
   "metadata": {
    "ExecuteTime": {
     "end_time": "2024-09-18T15:11:00.565478Z",
     "start_time": "2024-09-18T15:11:00.561450Z"
    }
   },
   "cell_type": "code",
   "source": [
    "def print_confusion_matrix():\n",
    "    np.set_printoptions(formatter=dict(int=lambda x: f\"{x:4}\"))\n",
    "    print(np.arange(10).reshape(1,10))\n",
    "    print()\n",
    "\n",
    "    # Move tensors to CPU and convert to numpy for confusion matrix computation\n",
    "    predicted_cpu = predicted.view(-1).cpu().numpy()\n",
    "    y_test_cpu = Y_test.view(-1).cpu().numpy()\n",
    "\n",
    "    # Print the confusion matrix\n",
    "    print(confusion_matrix(predicted_cpu, y_test_cpu))"
   ],
   "id": "60375ea7da8de424",
   "outputs": [],
   "execution_count": 16
  },
  {
   "metadata": {
    "ExecuteTime": {
     "end_time": "2024-09-18T15:11:00.571360Z",
     "start_time": "2024-09-18T15:11:00.565478Z"
    }
   },
   "cell_type": "code",
   "source": "print_confusion_matrix()",
   "id": "6edb1ecc8a90ce9c",
   "outputs": [
    {
     "name": "stdout",
     "output_type": "stream",
     "text": [
      "[[   0    1    2    3    4    5    6    7    8    9]]\n",
      "\n",
      "[[ 974    0    1    0    0    2    6    0    3    1]\n",
      " [   0 1131    2    0    0    0    2    4    1    1]\n",
      " [   1    0 1022    2    0    0    0    9    5    0]\n",
      " [   0    0    0 1006    0    8    0    1    1    1]\n",
      " [   0    1    0    0  972    0    1    0    1    5]\n",
      " [   2    0    0    1    0  877    3    0    2    8]\n",
      " [   2    2    4    0    4    5  946    0    1    0]\n",
      " [   1    1    2    1    0    0    0 1013    2    2]\n",
      " [   0    0    1    0    0    0    0    0  953    0]\n",
      " [   0    0    0    0    6    0    0    1    5  991]]\n"
     ]
    }
   ],
   "execution_count": 17
  },
  {
   "metadata": {
    "ExecuteTime": {
     "end_time": "2024-09-18T15:11:00.574800Z",
     "start_time": "2024-09-18T15:11:00.571360Z"
    }
   },
   "cell_type": "code",
   "source": [
    "def print_sample(ide):\n",
    "    model.eval()  # Set the model to evaluation mode\n",
    "    with torch.no_grad():  # Disable gradient calculation\n",
    "        # Ensure the input tensor is moved to the same device as the model\n",
    "        device = next(model.parameters()).device\n",
    "        input_tensor = test_data[ide][0].view(1, 1, 28, 28).to(device)\n",
    "        \n",
    "        # Perform the prediction and move the result to CPU and NumPy\n",
    "        new_prediction = model(input_tensor).argmax().cpu().numpy()\n",
    "\n",
    "    # Move the image tensor to the CPU, convert to NumPy, and reshape for display\n",
    "    plt.imshow(test_data[ide][0].cpu().numpy().reshape(28, 28), cmap='gray')\n",
    "    \n",
    "    # Print the predicted class\n",
    "    print(f\"Prediction: {new_prediction}\")"
   ],
   "id": "70c2dc3e406d2de7",
   "outputs": [],
   "execution_count": 18
  },
  {
   "metadata": {
    "ExecuteTime": {
     "end_time": "2024-09-18T15:11:00.702945Z",
     "start_time": "2024-09-18T15:11:00.574800Z"
    }
   },
   "cell_type": "code",
   "source": "print_sample(333)",
   "id": "ab7361efb27931c9",
   "outputs": [
    {
     "name": "stdout",
     "output_type": "stream",
     "text": [
      "Prediction: 5\n"
     ]
    },
    {
     "data": {
      "text/plain": [
       "<Figure size 640x480 with 1 Axes>"
      ],
      "image/png": "[encoded data removed]"
     },
     "metadata": {},
     "output_type": "display_data"
    }
   ],
   "execution_count": 19
  },
  {
   "metadata": {
    "ExecuteTime": {
     "end_time": "2024-09-18T15:11:00.705135Z",
     "start_time": "2024-09-18T15:11:00.702945Z"
    }
   },
   "cell_type": "code",
   "source": "",
   "id": "6e55c809d78c22cb",
   "outputs": [],
   "execution_count": 19
  }
 ],
 "metadata": {
  "kernelspec": {
   "display_name": "Python 3",
   "language": "python",
   "name": "python3"
  },
  "language_info": {
   "codemirror_mode": {
    "name": "ipython",
    "version": 2
   },
   "file_extension": ".py",
   "mimetype": "text/x-python",
   "name": "python",
   "nbconvert_exporter": "python",
   "pygments_lexer": "ipython2",
   "version": "2.7.6"
  }
 },
 "nbformat": 4,
 "nbformat_minor": 5
}
