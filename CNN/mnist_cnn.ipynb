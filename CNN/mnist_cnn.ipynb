{
 "cells": [
  {
   "cell_type": "code",
   "id": "initial_id",
   "metadata": {
    "collapsed": true,
    "ExecuteTime": {
     "end_time": "2024-09-12T17:17:16.189608Z",
     "start_time": "2024-09-12T17:17:10.678764Z"
    }
   },
   "source": [
    "import torch\n",
    "import torch.nn as nn\n",
    "import torch.nn.functional as F\n",
    "from torch.utils.data import DataLoader\n",
    "from torchvision import datasets, transforms\n",
    "from torchvision.utils import make_grid\n",
    "import numpy as np\n",
    "import pandas as pd\n",
    "from sklearn.metrics import confusion_matrix\n",
    "import matplotlib.pyplot as plt"
   ],
   "outputs": [],
   "execution_count": 1
  },
  {
   "metadata": {
    "ExecuteTime": {
     "end_time": "2024-09-12T17:17:16.199796Z",
     "start_time": "2024-09-12T17:17:16.190615Z"
    }
   },
   "cell_type": "code",
   "source": [
    "device = torch.device(\"cuda\" if torch.cuda.is_available() else \"cpu\")\n",
    "torch.manual_seed(101)"
   ],
   "id": "d88c23d5532eae1b",
   "outputs": [
    {
     "data": {
      "text/plain": [
       "<torch._C.Generator at 0x1b5f5809470>"
      ]
     },
     "execution_count": 2,
     "metadata": {},
     "output_type": "execute_result"
    }
   ],
   "execution_count": 2
  },
  {
   "metadata": {
    "ExecuteTime": {
     "end_time": "2024-09-12T17:17:16.202929Z",
     "start_time": "2024-09-12T17:17:16.200802Z"
    }
   },
   "cell_type": "code",
   "source": "transform = transforms.ToTensor()",
   "id": "4a79e7925a2fcc70",
   "outputs": [],
   "execution_count": 3
  },
  {
   "metadata": {},
   "cell_type": "markdown",
   "source": "Import the MNIST Dataset",
   "id": "4703df59edc65839"
  },
  {
   "metadata": {
    "ExecuteTime": {
     "end_time": "2024-09-12T17:17:16.262994Z",
     "start_time": "2024-09-12T17:17:16.202929Z"
    }
   },
   "cell_type": "code",
   "source": "train_data = datasets.MNIST(root = \"train_images/MNIST\", train=True, download=True, transform=transform)",
   "id": "5de7e1837fea344f",
   "outputs": [],
   "execution_count": 4
  },
  {
   "metadata": {
    "ExecuteTime": {
     "end_time": "2024-09-12T17:17:16.273993Z",
     "start_time": "2024-09-12T17:17:16.264Z"
    }
   },
   "cell_type": "code",
   "source": "test_data = datasets.MNIST(root = \"train_images/MNIST\", train=False, download=True, transform=transform)",
   "id": "37355cb2b831d875",
   "outputs": [],
   "execution_count": 5
  },
  {
   "metadata": {
    "ExecuteTime": {
     "end_time": "2024-09-12T17:17:16.278466Z",
     "start_time": "2024-09-12T17:17:16.273993Z"
    }
   },
   "cell_type": "code",
   "source": "test_data",
   "id": "a65852d61a8bcdeb",
   "outputs": [
    {
     "data": {
      "text/plain": [
       "Dataset MNIST\n",
       "    Number of datapoints: 10000\n",
       "    Root location: train_images/MNIST\n",
       "    Split: Test\n",
       "    StandardTransform\n",
       "Transform: ToTensor()"
      ]
     },
     "execution_count": 6,
     "metadata": {},
     "output_type": "execute_result"
    }
   ],
   "execution_count": 6
  },
  {
   "metadata": {
    "ExecuteTime": {
     "end_time": "2024-09-12T17:17:16.282458Z",
     "start_time": "2024-09-12T17:17:16.278466Z"
    }
   },
   "cell_type": "code",
   "source": "train_data",
   "id": "f5b0062b285dcb71",
   "outputs": [
    {
     "data": {
      "text/plain": [
       "Dataset MNIST\n",
       "    Number of datapoints: 60000\n",
       "    Root location: train_images/MNIST\n",
       "    Split: Train\n",
       "    StandardTransform\n",
       "Transform: ToTensor()"
      ]
     },
     "execution_count": 7,
     "metadata": {},
     "output_type": "execute_result"
    }
   ],
   "execution_count": 7
  },
  {
   "metadata": {
    "ExecuteTime": {
     "end_time": "2024-09-12T17:17:16.285938Z",
     "start_time": "2024-09-12T17:17:16.282458Z"
    }
   },
   "cell_type": "code",
   "source": [
    "train_loader = DataLoader(dataset=train_data, batch_size=10, shuffle=True)\n",
    "test_loader = DataLoader(dataset=test_data, batch_size=10, shuffle=False)"
   ],
   "id": "a95341816a44235e",
   "outputs": [],
   "execution_count": 8
  },
  {
   "metadata": {},
   "cell_type": "markdown",
   "source": [
    "*conv1 = nn.Conv2d(1,6,3,1)*:\n",
    "\n",
    "- 1, for one input channel (grayscale)\n",
    "- 6, output channels for feature extractions, the feature maps, the filters that the CNN will figure out\n",
    "- 3, kernel size for a 3 by 3 filter\n",
    "- 1, for the horizontal and vertical stride of the convolution\n"
   ],
   "id": "79a282d4b7dbffca"
  },
  {
   "metadata": {
    "ExecuteTime": {
     "end_time": "2024-09-12T17:17:16.293095Z",
     "start_time": "2024-09-12T17:17:16.285938Z"
    }
   },
   "cell_type": "code",
   "source": [
    "conv1 = nn.Conv2d(1,6,3,1)\n",
    "conv2 = nn.Conv2d(6,16,3,1)"
   ],
   "id": "4621bed59b1ba207",
   "outputs": [],
   "execution_count": 9
  },
  {
   "metadata": {
    "ExecuteTime": {
     "end_time": "2024-09-12T17:17:16.307882Z",
     "start_time": "2024-09-12T17:17:16.293095Z"
    }
   },
   "cell_type": "code",
   "source": [
    "for i, (X_train, Y_train) in enumerate(train_data):\n",
    "    break"
   ],
   "id": "6e88ca084e20d2e9",
   "outputs": [],
   "execution_count": 10
  },
  {
   "metadata": {
    "ExecuteTime": {
     "end_time": "2024-09-12T17:17:16.312100Z",
     "start_time": "2024-09-12T17:17:16.308888Z"
    }
   },
   "cell_type": "code",
   "source": "X_train.shape",
   "id": "966ad53f55ac8a39",
   "outputs": [
    {
     "data": {
      "text/plain": [
       "torch.Size([1, 28, 28])"
      ]
     },
     "execution_count": 11,
     "metadata": {},
     "output_type": "execute_result"
    }
   ],
   "execution_count": 11
  },
  {
   "metadata": {
    "ExecuteTime": {
     "end_time": "2024-09-12T17:17:16.315227Z",
     "start_time": "2024-09-12T17:17:16.312100Z"
    }
   },
   "cell_type": "code",
   "source": "x = X_train.view(1,1,28,28)",
   "id": "d463469764f41102",
   "outputs": [],
   "execution_count": 12
  },
  {
   "metadata": {
    "ExecuteTime": {
     "end_time": "2024-09-12T17:17:16.351551Z",
     "start_time": "2024-09-12T17:17:16.316232Z"
    }
   },
   "cell_type": "code",
   "source": "out = conv1(x)",
   "id": "405aea08020d75cd",
   "outputs": [],
   "execution_count": 13
  },
  {
   "metadata": {
    "ExecuteTime": {
     "end_time": "2024-09-12T17:17:16.356930Z",
     "start_time": "2024-09-12T17:17:16.353558Z"
    }
   },
   "cell_type": "code",
   "source": "out.shape",
   "id": "b9883dc744afc0a6",
   "outputs": [
    {
     "data": {
      "text/plain": [
       "torch.Size([1, 6, 26, 26])"
      ]
     },
     "execution_count": 14,
     "metadata": {},
     "output_type": "execute_result"
    }
   ],
   "execution_count": 14
  },
  {
   "metadata": {
    "ExecuteTime": {
     "end_time": "2024-09-12T17:17:16.362554Z",
     "start_time": "2024-09-12T17:17:16.356930Z"
    }
   },
   "cell_type": "code",
   "source": "max_p = F.max_pool2d(out,2,2)",
   "id": "d9609e901b592360",
   "outputs": [],
   "execution_count": 15
  },
  {
   "metadata": {
    "ExecuteTime": {
     "end_time": "2024-09-12T17:17:16.366379Z",
     "start_time": "2024-09-12T17:17:16.362554Z"
    }
   },
   "cell_type": "code",
   "source": "max_p.shape",
   "id": "efbb7d8f02a39972",
   "outputs": [
    {
     "data": {
      "text/plain": [
       "torch.Size([1, 6, 13, 13])"
      ]
     },
     "execution_count": 16,
     "metadata": {},
     "output_type": "execute_result"
    }
   ],
   "execution_count": 16
  },
  {
   "metadata": {},
   "cell_type": "markdown",
   "source": "How to feed this output of max_p to a fully conected input?",
   "id": "81fabf3a65484af9"
  },
  {
   "metadata": {
    "ExecuteTime": {
     "end_time": "2024-09-12T17:17:16.369833Z",
     "start_time": "2024-09-12T17:17:16.367388Z"
    }
   },
   "cell_type": "code",
   "source": "x = max_p.view(-1, 6*13*13)",
   "id": "ec010070731d5c39",
   "outputs": [],
   "execution_count": 17
  },
  {
   "metadata": {
    "ExecuteTime": {
     "end_time": "2024-09-12T17:17:16.373873Z",
     "start_time": "2024-09-12T17:17:16.370841Z"
    }
   },
   "cell_type": "code",
   "source": "x.shape",
   "id": "aefcfc3c5fd19caa",
   "outputs": [
    {
     "data": {
      "text/plain": [
       "torch.Size([1, 1014])"
      ]
     },
     "execution_count": 18,
     "metadata": {},
     "output_type": "execute_result"
    }
   ],
   "execution_count": 18
  },
  {
   "metadata": {
    "ExecuteTime": {
     "end_time": "2024-09-12T17:17:16.380252Z",
     "start_time": "2024-09-12T17:17:16.374881Z"
    }
   },
   "cell_type": "code",
   "source": [
    "class ConvolutionalNN(nn.Module):\n",
    "    def __init__(self):\n",
    "        super().__init__()\n",
    "        self.conv1 = nn.Conv2d(1,6,3,1)\n",
    "        self.conv2 = nn.Conv2d(6,16,3,1)\n",
    "        self.fc1 = nn.Linear(5*5*16, 120)\n",
    "        self.fc2 = nn.Linear(120, 84)\n",
    "        self.fc3 = nn.Linear(84, 10)\n",
    "        \n",
    "    def forward(self, X):\n",
    "        X = F.relu(self.conv1(X))\n",
    "        X = F.max_pool2d(X, 2, 2)\n",
    "        X = F.relu(self.conv2(X))\n",
    "        X = F.max_pool2d(X, 2, 2)\n",
    "        X = X.view(-1, 16*5*5)\n",
    "        X = F.relu(self.fc1(X))\n",
    "        X = F.relu(self.fc2(X))\n",
    "        X = self.fc3(X)\n",
    "        return F.log_softmax(X, dim=1)"
   ],
   "id": "ccbb413940077782",
   "outputs": [],
   "execution_count": 19
  },
  {
   "metadata": {
    "ExecuteTime": {
     "end_time": "2024-09-12T17:17:16.500067Z",
     "start_time": "2024-09-12T17:17:16.381260Z"
    }
   },
   "cell_type": "code",
   "source": [
    "model = ConvolutionalNN()\n",
    "model.to(device)\n",
    "model"
   ],
   "id": "d36631ab3e394ba8",
   "outputs": [
    {
     "data": {
      "text/plain": [
       "ConvolutionalNN(\n",
       "  (conv1): Conv2d(1, 6, kernel_size=(3, 3), stride=(1, 1))\n",
       "  (conv2): Conv2d(6, 16, kernel_size=(3, 3), stride=(1, 1))\n",
       "  (fc1): Linear(in_features=400, out_features=120, bias=True)\n",
       "  (fc2): Linear(in_features=120, out_features=84, bias=True)\n",
       "  (fc3): Linear(in_features=84, out_features=10, bias=True)\n",
       ")"
      ]
     },
     "execution_count": 20,
     "metadata": {},
     "output_type": "execute_result"
    }
   ],
   "execution_count": 20
  },
  {
   "metadata": {
    "ExecuteTime": {
     "end_time": "2024-09-12T17:17:16.503698Z",
     "start_time": "2024-09-12T17:17:16.500067Z"
    }
   },
   "cell_type": "code",
   "source": [
    "criterion = nn.CrossEntropyLoss()\n",
    "optimizer = torch.optim.Adam(model.parameters(), lr=0.001)"
   ],
   "id": "d012136f98224180",
   "outputs": [],
   "execution_count": 21
  },
  {
   "metadata": {
    "ExecuteTime": {
     "end_time": "2024-09-12T17:43:43.674033Z",
     "start_time": "2024-09-12T17:42:03.380689Z"
    }
   },
   "cell_type": "code",
   "source": [
    "import time\n",
    "start_time = time.time()\n",
    "\n",
    "epochs = 5\n",
    "train_loss = []\n",
    "test_losses = []\n",
    "train_correct = []\n",
    "test_correct = []\n",
    "\n",
    "for epoch in range(epochs):\n",
    "    trn_corr = 0\n",
    "    tst_corr = 0\n",
    "    \n",
    "    # train \n",
    "    for b, (X_trn, Y_trn) in enumerate(train_loader):\n",
    "        X_trn, Y_trn = X_trn.to(device), Y_trn.to(device)  # Ensure inputs and targets are on the same device\n",
    "        b += 1\n",
    "        \n",
    "        y_pred = model(X_trn)  # Fixed typo: use X_trn instead of X_train\n",
    "        loss = criterion(y_pred, Y_trn)\n",
    "        \n",
    "        predicted = torch.max(y_pred.data, 1)[1]\n",
    "        batch_corr = (predicted == Y_trn).sum()  # Corrected from y_pred to Y_trn\n",
    "        trn_corr += batch_corr\n",
    "        \n",
    "        optimizer.zero_grad()\n",
    "        loss.backward()\n",
    "        optimizer.step()\n",
    "        \n",
    "        if b % 600 == 0:\n",
    "            print(f\"Epoch {epoch} Batch {b}/ Loss: {loss.item():.4f}\")\n",
    "    train_loss.append(loss.item())\n",
    "    train_correct.append(trn_corr)  # Use trn_corr instead of batch_corr for the entire epoch\n",
    "        \n",
    "    # test\n",
    "    with torch.no_grad():\n",
    "        for b, (X_test, Y_test) in enumerate(test_loader):\n",
    "            X_test, Y_test = X_test.to(device), Y_test.to(device)  # Ensure test inputs and targets are on the same device\n",
    "            y_val = model(X_test)\n",
    "            predicted = torch.max(y_val.data, 1)[1]\n",
    "            tst_corr += (predicted == Y_test).sum()\n",
    "        \n",
    "    loss = criterion(y_val, Y_test)\n",
    "    test_losses.append(loss.item())\n",
    "    test_correct.append(tst_corr)\n",
    "        \n",
    "current_time = time.time()\n",
    "total = current_time - start_time\n",
    "print(f\"Total time: {total}\")"
   ],
   "id": "317b944396914dde",
   "outputs": [
    {
     "name": "stdout",
     "output_type": "stream",
     "text": [
      "Epoch 0 Batch 600/ Loss: 0.0575\n",
      "Epoch 0 Batch 1200/ Loss: 0.1789\n",
      "Epoch 0 Batch 1800/ Loss: 0.0510\n",
      "Epoch 0 Batch 2400/ Loss: 0.0205\n",
      "Epoch 0 Batch 3000/ Loss: 0.7319\n",
      "Epoch 0 Batch 3600/ Loss: 0.1269\n",
      "Epoch 0 Batch 4200/ Loss: 0.4072\n",
      "Epoch 0 Batch 4800/ Loss: 0.0064\n",
      "Epoch 0 Batch 5400/ Loss: 0.0023\n",
      "Epoch 0 Batch 6000/ Loss: 0.0077\n",
      "Epoch 1 Batch 600/ Loss: 0.0449\n",
      "Epoch 1 Batch 1200/ Loss: 0.0094\n",
      "Epoch 1 Batch 1800/ Loss: 0.1434\n",
      "Epoch 1 Batch 2400/ Loss: 0.0858\n",
      "Epoch 1 Batch 3000/ Loss: 0.0198\n",
      "Epoch 1 Batch 3600/ Loss: 0.0014\n",
      "Epoch 1 Batch 4200/ Loss: 0.0020\n",
      "Epoch 1 Batch 4800/ Loss: 0.1435\n",
      "Epoch 1 Batch 5400/ Loss: 0.0076\n",
      "Epoch 1 Batch 6000/ Loss: 0.0045\n",
      "Epoch 2 Batch 600/ Loss: 0.0137\n",
      "Epoch 2 Batch 1200/ Loss: 0.0014\n",
      "Epoch 2 Batch 1800/ Loss: 0.2535\n",
      "Epoch 2 Batch 2400/ Loss: 0.0041\n",
      "Epoch 2 Batch 3000/ Loss: 0.0059\n",
      "Epoch 2 Batch 3600/ Loss: 0.0006\n",
      "Epoch 2 Batch 4200/ Loss: 0.0014\n",
      "Epoch 2 Batch 4800/ Loss: 0.2201\n",
      "Epoch 2 Batch 5400/ Loss: 0.0006\n",
      "Epoch 2 Batch 6000/ Loss: 0.0005\n",
      "Epoch 3 Batch 600/ Loss: 0.0273\n",
      "Epoch 3 Batch 1200/ Loss: 0.0002\n",
      "Epoch 3 Batch 1800/ Loss: 0.0017\n",
      "Epoch 3 Batch 2400/ Loss: 0.0292\n",
      "Epoch 3 Batch 3000/ Loss: 0.0089\n",
      "Epoch 3 Batch 3600/ Loss: 0.1317\n",
      "Epoch 3 Batch 4200/ Loss: 0.0351\n",
      "Epoch 3 Batch 4800/ Loss: 0.0440\n",
      "Epoch 3 Batch 5400/ Loss: 0.0839\n",
      "Epoch 3 Batch 6000/ Loss: 0.0001\n",
      "Epoch 4 Batch 600/ Loss: 0.0051\n",
      "Epoch 4 Batch 1200/ Loss: 0.3235\n",
      "Epoch 4 Batch 1800/ Loss: 0.0003\n",
      "Epoch 4 Batch 2400/ Loss: 0.0052\n",
      "Epoch 4 Batch 3000/ Loss: 0.0002\n",
      "Epoch 4 Batch 3600/ Loss: 0.0024\n",
      "Epoch 4 Batch 4200/ Loss: 0.0016\n",
      "Epoch 4 Batch 4800/ Loss: 0.0049\n",
      "Epoch 4 Batch 5400/ Loss: 0.0009\n",
      "Epoch 4 Batch 6000/ Loss: 0.0090\n",
      "Total time: 100.28853487968445\n"
     ]
    }
   ],
   "execution_count": 23
  },
  {
   "metadata": {},
   "cell_type": "code",
   "outputs": [],
   "execution_count": null,
   "source": "",
   "id": "b880aa3bf8f732dc"
  }
 ],
 "metadata": {
  "kernelspec": {
   "display_name": "Python 3",
   "language": "python",
   "name": "python3"
  },
  "language_info": {
   "codemirror_mode": {
    "name": "ipython",
    "version": 2
   },
   "file_extension": ".py",
   "mimetype": "text/x-python",
   "name": "python",
   "nbconvert_exporter": "python",
   "pygments_lexer": "ipython2",
   "version": "2.7.6"
  }
 },
 "nbformat": 4,
 "nbformat_minor": 5
}
