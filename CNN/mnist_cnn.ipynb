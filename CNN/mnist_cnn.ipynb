{
 "cells": [
  {
   "cell_type": "code",
   "id": "initial_id",
   "metadata": {
    "collapsed": true,
    "ExecuteTime": {
     "end_time": "2024-09-11T15:34:51.481519Z",
     "start_time": "2024-09-11T15:34:46.509207Z"
    }
   },
   "source": [
    "import torch\n",
    "import torch.nn as nn\n",
    "import torch.nn.functional as F\n",
    "from torch.utils.data import DataLoader\n",
    "from torchvision import datasets, transforms\n",
    "from torchvision.utils import make_grid\n",
    "import numpy as np\n",
    "import pandas as pd\n",
    "from sklearn.metrics import confusion_matrix\n",
    "import matplotlib.pyplot as plt"
   ],
   "outputs": [],
   "execution_count": 2
  },
  {
   "metadata": {
    "ExecuteTime": {
     "end_time": "2024-09-11T15:34:51.491372Z",
     "start_time": "2024-09-11T15:34:51.482523Z"
    }
   },
   "cell_type": "code",
   "source": [
    "device = torch.device(\"cuda\" if torch.cuda.is_available() else \"cpu\")\n",
    "torch.manual_seed(101)"
   ],
   "id": "d88c23d5532eae1b",
   "outputs": [
    {
     "data": {
      "text/plain": [
       "<torch._C.Generator at 0x29aa169c990>"
      ]
     },
     "execution_count": 3,
     "metadata": {},
     "output_type": "execute_result"
    }
   ],
   "execution_count": 3
  },
  {
   "metadata": {
    "ExecuteTime": {
     "end_time": "2024-09-11T15:34:51.494157Z",
     "start_time": "2024-09-11T15:34:51.491372Z"
    }
   },
   "cell_type": "code",
   "source": "transform = transforms.ToTensor()",
   "id": "4a79e7925a2fcc70",
   "outputs": [],
   "execution_count": 4
  },
  {
   "metadata": {},
   "cell_type": "markdown",
   "source": "Import the MNIST Dataset",
   "id": "4703df59edc65839"
  },
  {
   "metadata": {
    "ExecuteTime": {
     "end_time": "2024-09-11T15:34:51.553415Z",
     "start_time": "2024-09-11T15:34:51.495163Z"
    }
   },
   "cell_type": "code",
   "source": "train_data = datasets.MNIST(root = \"train_images/MNIST\", train=True, download=True, transform=transform)",
   "id": "5de7e1837fea344f",
   "outputs": [],
   "execution_count": 5
  },
  {
   "metadata": {
    "ExecuteTime": {
     "end_time": "2024-09-11T15:34:51.564181Z",
     "start_time": "2024-09-11T15:34:51.554422Z"
    }
   },
   "cell_type": "code",
   "source": "test_data = datasets.MNIST(root = \"train_images/MNIST\", train=False, download=True, transform=transform)",
   "id": "37355cb2b831d875",
   "outputs": [],
   "execution_count": 6
  },
  {
   "metadata": {
    "ExecuteTime": {
     "end_time": "2024-09-11T15:34:51.568221Z",
     "start_time": "2024-09-11T15:34:51.564181Z"
    }
   },
   "cell_type": "code",
   "source": "test_data",
   "id": "a65852d61a8bcdeb",
   "outputs": [
    {
     "data": {
      "text/plain": [
       "Dataset MNIST\n",
       "    Number of datapoints: 10000\n",
       "    Root location: train_images/MNIST\n",
       "    Split: Test\n",
       "    StandardTransform\n",
       "Transform: ToTensor()"
      ]
     },
     "execution_count": 7,
     "metadata": {},
     "output_type": "execute_result"
    }
   ],
   "execution_count": 7
  },
  {
   "metadata": {
    "ExecuteTime": {
     "end_time": "2024-09-11T15:34:51.571603Z",
     "start_time": "2024-09-11T15:34:51.568221Z"
    }
   },
   "cell_type": "code",
   "source": "train_data",
   "id": "f5b0062b285dcb71",
   "outputs": [
    {
     "data": {
      "text/plain": [
       "Dataset MNIST\n",
       "    Number of datapoints: 60000\n",
       "    Root location: train_images/MNIST\n",
       "    Split: Train\n",
       "    StandardTransform\n",
       "Transform: ToTensor()"
      ]
     },
     "execution_count": 8,
     "metadata": {},
     "output_type": "execute_result"
    }
   ],
   "execution_count": 8
  },
  {
   "metadata": {
    "ExecuteTime": {
     "end_time": "2024-09-11T15:34:51.575546Z",
     "start_time": "2024-09-11T15:34:51.572612Z"
    }
   },
   "cell_type": "code",
   "source": [
    "train_loader = DataLoader(dataset=train_data, batch_size=10, shuffle=True)\n",
    "test_loader = DataLoader(dataset=test_data, batch_size=10, shuffle=False)"
   ],
   "id": "a95341816a44235e",
   "outputs": [],
   "execution_count": 9
  },
  {
   "metadata": {},
   "cell_type": "markdown",
   "source": [
    "*conv1 = nn.Conv2d(1,6,3,1)*:\n",
    "\n",
    "- 1, for one input channel (grayscale)\n",
    "- 6, output channels for feature extractions, the feature maps, the filters that the CNN will figure out\n",
    "- 3, kernel size for a 3 by 3 filter\n",
    "- 1, for the horizontal and vertical stride of the convolution\n"
   ],
   "id": "79a282d4b7dbffca"
  },
  {
   "metadata": {
    "ExecuteTime": {
     "end_time": "2024-09-11T15:34:51.581746Z",
     "start_time": "2024-09-11T15:34:51.576553Z"
    }
   },
   "cell_type": "code",
   "source": [
    "conv1 = nn.Conv2d(1,6,3,1)\n",
    "conv2 = nn.Conv2d(6,16,3,1)"
   ],
   "id": "4621bed59b1ba207",
   "outputs": [],
   "execution_count": 10
  },
  {
   "metadata": {
    "ExecuteTime": {
     "end_time": "2024-09-11T15:34:51.595981Z",
     "start_time": "2024-09-11T15:34:51.582751Z"
    }
   },
   "cell_type": "code",
   "source": [
    "for i, (X_train, Y_train) in enumerate(train_data):\n",
    "    break"
   ],
   "id": "6e88ca084e20d2e9",
   "outputs": [],
   "execution_count": 11
  },
  {
   "metadata": {
    "ExecuteTime": {
     "end_time": "2024-09-11T15:34:51.599976Z",
     "start_time": "2024-09-11T15:34:51.595981Z"
    }
   },
   "cell_type": "code",
   "source": "X_train.shape",
   "id": "966ad53f55ac8a39",
   "outputs": [
    {
     "data": {
      "text/plain": [
       "torch.Size([1, 28, 28])"
      ]
     },
     "execution_count": 12,
     "metadata": {},
     "output_type": "execute_result"
    }
   ],
   "execution_count": 12
  },
  {
   "metadata": {
    "ExecuteTime": {
     "end_time": "2024-09-11T15:34:51.603428Z",
     "start_time": "2024-09-11T15:34:51.600980Z"
    }
   },
   "cell_type": "code",
   "source": "x = X_train.view(1,1,28,28)",
   "id": "d463469764f41102",
   "outputs": [],
   "execution_count": 13
  },
  {
   "metadata": {
    "ExecuteTime": {
     "end_time": "2024-09-11T15:34:51.633863Z",
     "start_time": "2024-09-11T15:34:51.603428Z"
    }
   },
   "cell_type": "code",
   "source": "out = conv1(x)",
   "id": "405aea08020d75cd",
   "outputs": [],
   "execution_count": 14
  },
  {
   "metadata": {
    "ExecuteTime": {
     "end_time": "2024-09-11T15:34:51.637849Z",
     "start_time": "2024-09-11T15:34:51.634868Z"
    }
   },
   "cell_type": "code",
   "source": "out.shape",
   "id": "b9883dc744afc0a6",
   "outputs": [
    {
     "data": {
      "text/plain": [
       "torch.Size([1, 6, 26, 26])"
      ]
     },
     "execution_count": 15,
     "metadata": {},
     "output_type": "execute_result"
    }
   ],
   "execution_count": 15
  },
  {
   "metadata": {
    "ExecuteTime": {
     "end_time": "2024-09-11T15:34:51.643793Z",
     "start_time": "2024-09-11T15:34:51.638854Z"
    }
   },
   "cell_type": "code",
   "source": "max_p = F.max_pool2d(out,2,2)",
   "id": "d9609e901b592360",
   "outputs": [],
   "execution_count": 16
  },
  {
   "metadata": {
    "ExecuteTime": {
     "end_time": "2024-09-11T15:34:51.647199Z",
     "start_time": "2024-09-11T15:34:51.643793Z"
    }
   },
   "cell_type": "code",
   "source": "max_p.shape",
   "id": "efbb7d8f02a39972",
   "outputs": [
    {
     "data": {
      "text/plain": [
       "torch.Size([1, 6, 13, 13])"
      ]
     },
     "execution_count": 17,
     "metadata": {},
     "output_type": "execute_result"
    }
   ],
   "execution_count": 17
  },
  {
   "metadata": {},
   "cell_type": "markdown",
   "source": "How to feed this output of max_p to a fully conected input?",
   "id": "81fabf3a65484af9"
  },
  {
   "metadata": {
    "ExecuteTime": {
     "end_time": "2024-09-11T15:35:33.896489Z",
     "start_time": "2024-09-11T15:35:33.893996Z"
    }
   },
   "cell_type": "code",
   "source": "x = max_p.view(-1, 6*13*13)",
   "id": "ec010070731d5c39",
   "outputs": [],
   "execution_count": 22
  },
  {
   "metadata": {
    "ExecuteTime": {
     "end_time": "2024-09-11T15:35:40.384232Z",
     "start_time": "2024-09-11T15:35:40.381101Z"
    }
   },
   "cell_type": "code",
   "source": "x.shape",
   "id": "aefcfc3c5fd19caa",
   "outputs": [
    {
     "data": {
      "text/plain": [
       "torch.Size([1, 1014])"
      ]
     },
     "execution_count": 23,
     "metadata": {},
     "output_type": "execute_result"
    }
   ],
   "execution_count": 23
  },
  {
   "metadata": {},
   "cell_type": "code",
   "outputs": [],
   "execution_count": null,
   "source": [
    "class ConvolutionalNN(nn.Module):\n",
    "    def __init__(self):\n",
    "        super().__init__()\n",
    "        self.conv1 = nn.Conv2d(1,6,3,1)\n",
    "        self.conv2 = nn.Conv2d(6,16,3,1)\n",
    "        self.fc1 = nn.Linear(5*5*16, 120)\n",
    "        self.fc2 = nn.Linear(120, 84)\n",
    "        self.fc3 = nn.Linear(84, 10)\n",
    "        \n",
    "    def forward(self, X):\n",
    "        X = F.relu(self.conv1(X))\n",
    "        X = F.max_pool2d(X, 2, 2)\n",
    "        X = F.relu(self.conv2(X))\n",
    "        X = F.max_pool2d(X, 2, 2)\n",
    "        X = X.view(-1, 16*5*5)\n",
    "        X = F.relu(self.fc1(X))\n",
    "        X = F.relu(self.fc2(X))\n",
    "        X = self.fc3(X)\n",
    "        return F.log_softmax(X, dim=1)"
   ],
   "id": "ccbb413940077782"
  }
 ],
 "metadata": {
  "kernelspec": {
   "display_name": "Python 3",
   "language": "python",
   "name": "python3"
  },
  "language_info": {
   "codemirror_mode": {
    "name": "ipython",
    "version": 2
   },
   "file_extension": ".py",
   "mimetype": "text/x-python",
   "name": "python",
   "nbconvert_exporter": "python",
   "pygments_lexer": "ipython2",
   "version": "2.7.6"
  }
 },
 "nbformat": 4,
 "nbformat_minor": 5
}
