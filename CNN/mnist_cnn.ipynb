{
 "cells": [
  {
   "cell_type": "code",
   "id": "initial_id",
   "metadata": {
    "collapsed": true,
    "ExecuteTime": {
     "end_time": "2024-09-14T01:23:15.786537Z",
     "start_time": "2024-09-14T01:23:15.783083Z"
    }
   },
   "source": [
    "import torch\n",
    "import torch.nn as nn\n",
    "import torch.nn.functional as F\n",
    "from torch.utils.data import DataLoader\n",
    "from torchvision import datasets, transforms\n",
    "import numpy as np\n",
    "from sklearn.metrics import confusion_matrix\n",
    "import time\n",
    "import matplotlib.pyplot as plt"
   ],
   "outputs": [],
   "execution_count": 23
  },
  {
   "metadata": {},
   "cell_type": "markdown",
   "source": "Set device and reproducibility",
   "id": "c11abba9e25ee2fc"
  },
  {
   "metadata": {
    "ExecuteTime": {
     "end_time": "2024-09-14T00:30:17.976538Z",
     "start_time": "2024-09-14T00:30:17.971428Z"
    }
   },
   "cell_type": "code",
   "source": [
    "torch.manual_seed(101)\n",
    "device = torch.device(\"cuda\" if torch.cuda.is_available() else \"cpu\")"
   ],
   "id": "d88c23d5532eae1b",
   "outputs": [],
   "execution_count": 2
  },
  {
   "metadata": {},
   "cell_type": "markdown",
   "source": "Create a transformer instance: transform to tensor",
   "id": "1408a1b473bf6340"
  },
  {
   "metadata": {
    "ExecuteTime": {
     "end_time": "2024-09-14T00:30:17.979588Z",
     "start_time": "2024-09-14T00:30:17.976538Z"
    }
   },
   "cell_type": "code",
   "source": "transform = transforms.ToTensor()",
   "id": "4a79e7925a2fcc70",
   "outputs": [],
   "execution_count": 3
  },
  {
   "metadata": {},
   "cell_type": "markdown",
   "source": "Import the MNIST Dataset and divide into train and test data",
   "id": "4703df59edc65839"
  },
  {
   "metadata": {
    "ExecuteTime": {
     "end_time": "2024-09-14T00:30:18.010438Z",
     "start_time": "2024-09-14T00:30:17.980594Z"
    }
   },
   "cell_type": "code",
   "source": [
    "train_data = datasets.MNIST(root = \"train_images/MNIST\", train=True, download=True, transform=transform)\n",
    "test_data = datasets.MNIST(root = \"train_images/MNIST\", train=False, download=True, transform=transform)"
   ],
   "id": "5de7e1837fea344f",
   "outputs": [],
   "execution_count": 4
  },
  {
   "metadata": {},
   "cell_type": "markdown",
   "source": "Create the dataloaders with a small batch size (for CNN)",
   "id": "135937413d1e4070"
  },
  {
   "metadata": {
    "ExecuteTime": {
     "end_time": "2024-09-14T00:30:18.013815Z",
     "start_time": "2024-09-14T00:30:18.011445Z"
    }
   },
   "cell_type": "code",
   "source": [
    "train_loader = DataLoader(dataset=train_data, batch_size=10, shuffle=True)\n",
    "test_loader = DataLoader(dataset=test_data, batch_size=10, shuffle=False)"
   ],
   "id": "a95341816a44235e",
   "outputs": [],
   "execution_count": 5
  },
  {
   "metadata": {},
   "cell_type": "markdown",
   "source": [
    "### Parameters of a convolutional layer\n",
    "Example:\n",
    "*conv1 = nn.Conv2d(1,6,3,1)* means:\n",
    "\n",
    "- 1, for one input channel (grayscale)\n",
    "- 6, output channels for feature extractions, the feature maps, the filters that the CNN will figure out\n",
    "- 3, kernel size for a 3 by 3 filter\n",
    "- 1, for the horizontal and vertical stride of the convolution\n",
    "\n",
    "### Example: simple training step with convolutional layers and polling layers\n",
    "- Input\n",
    "- Convolutional layer\n",
    "- Pooling layer\n",
    "- Flattening"
   ],
   "id": "79a282d4b7dbffca"
  },
  {
   "metadata": {
    "ExecuteTime": {
     "end_time": "2024-09-14T00:30:18.024158Z",
     "start_time": "2024-09-14T00:30:18.014823Z"
    }
   },
   "cell_type": "code",
   "source": [
    "# define the convolutional layer\n",
    "conv1 = nn.Conv2d(1,6,3,1)\n",
    "\n",
    "for i, (X_train, Y_train) in enumerate(train_data):\n",
    "    break\n",
    "\n",
    "print(\"Shape of X_train:\", X_train.shape)\n",
    "\n",
    "# add an extra dimension to X_train to make the convolution (1 for batch)\n",
    "x = X_train.view(1,1,28,28)\n",
    "\n",
    "# perform a convolution \n",
    "out = conv1(x)\n",
    "print(\"Shape after the convolution:\", out.shape)\n",
    "\n",
    "# perform a pooling\n",
    "max_p = F.max_pool2d(out,2,2)\n",
    "print(\"Shape after the pooling\", max_p.shape)\n",
    "\n",
    "# How to feed this output of max_p to a fully connected input?\n",
    "x = max_p.view(-1, 6*13*13)\n",
    "print(\"Shape after the flattening\", x.shape)"
   ],
   "id": "4621bed59b1ba207",
   "outputs": [
    {
     "name": "stdout",
     "output_type": "stream",
     "text": [
      "Shape of X_train: torch.Size([1, 28, 28])\n",
      "Shape after the convolution: torch.Size([1, 6, 26, 26])\n",
      "Shape after the pooling torch.Size([1, 6, 13, 13])\n",
      "Shape after the flattening torch.Size([1, 1014])\n"
     ]
    }
   ],
   "execution_count": 6
  },
  {
   "metadata": {},
   "cell_type": "markdown",
   "source": [
    "### CNN Model\n",
    "Architecture of the model:\n",
    "\n",
    "CNN -> POL -> CNN -> POL -> FLAT -> FCL1 -> FCL2 -> FCL3"
   ],
   "id": "d118899224a655d7"
  },
  {
   "metadata": {
    "ExecuteTime": {
     "end_time": "2024-09-14T00:30:18.030088Z",
     "start_time": "2024-09-14T00:30:18.025162Z"
    }
   },
   "cell_type": "code",
   "source": [
    "class ConvolutionalNN(nn.Module):\n",
    "    def __init__(self, filter1, filter2):\n",
    "        super().__init__()\n",
    "        self.conv1 = nn.Conv2d(1, filter1, 3, 1)  # You can change this to any number of filters\n",
    "        self.conv2 = nn.Conv2d(6, filter2, 3, 1) # You can change this to any number of filters\n",
    "        self.pool = nn.MaxPool2d(2, 2)\n",
    "        \n",
    "        # Initialize fully connected layers with placeholder\n",
    "        self.fc1 = None\n",
    "        self.fc2 = nn.Linear(120, 84)\n",
    "        self.fc3 = nn.Linear(84, 10)\n",
    "\n",
    "        # Dynamically compute the input size for the first fully connected layer\n",
    "        self._initialize_fc1()\n",
    "\n",
    "    def _initialize_fc1(self):\n",
    "        # Create a dummy tensor with the same size as an MNIST input\n",
    "        dummy_input = torch.zeros(1, 1, 28, 28)\n",
    "\n",
    "        # Pass the dummy input through the conv and pooling layers to calculate the flattened size\n",
    "        dummy_output = self.pool(F.relu(self.conv1(dummy_input)))\n",
    "        dummy_output = self.pool(F.relu(self.conv2(dummy_output)))\n",
    "        \n",
    "        # Calculate the flattened size\n",
    "        flattened_size = dummy_output.numel()  # Returns the total number of elements in the tensor\n",
    "        \n",
    "        # Now that we know the flattened size, we can initialize the first fully connected layer\n",
    "        self.fc1 = nn.Linear(flattened_size, 120)\n",
    "\n",
    "    def forward(self, X):\n",
    "        X = F.relu(self.conv1(X))\n",
    "        X = self.pool(X)  \n",
    "        X = F.relu(self.conv2(X))\n",
    "        X = self.pool(X)  \n",
    "        X = X.view(X.size(0), -1)  # Flattening\n",
    "        X = F.relu(self.fc1(X))\n",
    "        X = F.relu(self.fc2(X))\n",
    "        X = self.fc3(X)\n",
    "        return F.log_softmax(X, dim=1)"
   ],
   "id": "ccbb413940077782",
   "outputs": [],
   "execution_count": 7
  },
  {
   "metadata": {
    "ExecuteTime": {
     "end_time": "2024-09-14T00:30:18.123572Z",
     "start_time": "2024-09-14T00:30:18.031092Z"
    }
   },
   "cell_type": "code",
   "source": [
    "model = ConvolutionalNN(filter1=6, filter2=16).to(device)\n",
    "print(model)"
   ],
   "id": "d36631ab3e394ba8",
   "outputs": [
    {
     "name": "stdout",
     "output_type": "stream",
     "text": [
      "ConvolutionalNN(\n",
      "  (conv1): Conv2d(1, 6, kernel_size=(3, 3), stride=(1, 1))\n",
      "  (conv2): Conv2d(6, 16, kernel_size=(3, 3), stride=(1, 1))\n",
      "  (pool): MaxPool2d(kernel_size=2, stride=2, padding=0, dilation=1, ceil_mode=False)\n",
      "  (fc2): Linear(in_features=120, out_features=84, bias=True)\n",
      "  (fc3): Linear(in_features=84, out_features=10, bias=True)\n",
      "  (fc1): Linear(in_features=400, out_features=120, bias=True)\n",
      ")\n"
     ]
    }
   ],
   "execution_count": 8
  },
  {
   "metadata": {
    "ExecuteTime": {
     "end_time": "2024-09-14T00:30:18.127404Z",
     "start_time": "2024-09-14T00:30:18.124576Z"
    }
   },
   "cell_type": "code",
   "source": [
    "criterion = nn.CrossEntropyLoss()\n",
    "optimizer = torch.optim.Adam(model.parameters(), lr=0.001)"
   ],
   "id": "d012136f98224180",
   "outputs": [],
   "execution_count": 9
  },
  {
   "metadata": {
    "ExecuteTime": {
     "end_time": "2024-09-14T00:32:01.565513Z",
     "start_time": "2024-09-14T00:30:18.128408Z"
    }
   },
   "cell_type": "code",
   "source": [
    "start_time = time.time()\n",
    "\n",
    "epochs = 5\n",
    "train_losses = []\n",
    "test_losses = []\n",
    "train_correct = []\n",
    "test_correct = []\n",
    "\n",
    "for epoch in range(epochs):\n",
    "    trn_corr = 0\n",
    "    tst_corr = 0\n",
    "    \n",
    "    # train \n",
    "    for b, (X_trn, Y_trn) in enumerate(train_loader):\n",
    "        X_trn, Y_trn = X_trn.to(device), Y_trn.to(device)  # Ensure inputs and targets are on the same device\n",
    "        b += 1\n",
    "        \n",
    "        y_pred = model(X_trn)  # Fixed typo: use X_trn instead of X_train\n",
    "        loss = criterion(y_pred, Y_trn)\n",
    "        \n",
    "        predicted = torch.max(y_pred.data, 1)[1]\n",
    "        batch_corr = (predicted == Y_trn).sum()  # Corrected from y_pred to Y_trn\n",
    "        trn_corr += batch_corr\n",
    "        \n",
    "        optimizer.zero_grad()\n",
    "        loss.backward()\n",
    "        optimizer.step()\n",
    "        \n",
    "        if b % 600 == 0:\n",
    "            print(f'epoch: {b:2} - batch: {b:4} [{10*b:6}/60000],  loss: {loss.item():.6f}, accuracy: {trn_corr.item()*100/(10*b):.6f}%')\n",
    "    \n",
    "    \n",
    "    train_losses.append(loss.item())\n",
    "    train_correct.append(trn_corr)  # Use trn_corr instead of batch_corr for the entire epoch\n",
    "        \n",
    "    # test\n",
    "    with torch.no_grad():\n",
    "        for b, (X_test, Y_test) in enumerate(test_loader):\n",
    "            X_test, Y_test = X_test.to(device), Y_test.to(device)  # Ensure test inputs and targets are on the same device\n",
    "            y_val = model(X_test)\n",
    "            predicted = torch.max(y_val.data, 1)[1]\n",
    "            tst_corr += (predicted == Y_test).sum()\n",
    "        \n",
    "    loss = criterion(y_val, Y_test)\n",
    "    test_losses.append(loss.item())\n",
    "    test_correct.append(tst_corr)\n",
    "        \n",
    "current_time = time.time()\n",
    "total = current_time - start_time\n",
    "print(f'\\nDuration: {time.time() - start_time:.0f} seconds')"
   ],
   "id": "317b944396914dde",
   "outputs": [
    {
     "name": "stdout",
     "output_type": "stream",
     "text": [
      "epoch: 600 - batch:  600 [  6000/60000],  loss: 0.131692, accuracy: 79.133333%\n",
      "epoch: 1200 - batch: 1200 [ 12000/60000],  loss: 0.104534, accuracy: 86.766667%\n",
      "epoch: 1800 - batch: 1800 [ 18000/60000],  loss: 0.060215, accuracy: 89.694444%\n",
      "epoch: 2400 - batch: 2400 [ 24000/60000],  loss: 0.001005, accuracy: 91.225000%\n",
      "epoch: 3000 - batch: 3000 [ 30000/60000],  loss: 0.071172, accuracy: 92.303333%\n",
      "epoch: 3600 - batch: 3600 [ 36000/60000],  loss: 0.066616, accuracy: 93.072222%\n",
      "epoch: 4200 - batch: 4200 [ 42000/60000],  loss: 0.016452, accuracy: 93.645238%\n",
      "epoch: 4800 - batch: 4800 [ 48000/60000],  loss: 0.016666, accuracy: 94.085417%\n",
      "epoch: 5400 - batch: 5400 [ 54000/60000],  loss: 0.244604, accuracy: 94.440741%\n",
      "epoch: 6000 - batch: 6000 [ 60000/60000],  loss: 0.099205, accuracy: 94.705000%\n",
      "epoch: 600 - batch:  600 [  6000/60000],  loss: 0.295024, accuracy: 97.750000%\n",
      "epoch: 1200 - batch: 1200 [ 12000/60000],  loss: 1.164779, accuracy: 97.775000%\n",
      "epoch: 1800 - batch: 1800 [ 18000/60000],  loss: 0.004616, accuracy: 97.888889%\n",
      "epoch: 2400 - batch: 2400 [ 24000/60000],  loss: 0.002405, accuracy: 97.929167%\n",
      "epoch: 3000 - batch: 3000 [ 30000/60000],  loss: 0.055116, accuracy: 97.950000%\n",
      "epoch: 3600 - batch: 3600 [ 36000/60000],  loss: 0.002637, accuracy: 97.988889%\n",
      "epoch: 4200 - batch: 4200 [ 42000/60000],  loss: 0.002198, accuracy: 98.011905%\n",
      "epoch: 4800 - batch: 4800 [ 48000/60000],  loss: 0.238787, accuracy: 98.025000%\n",
      "epoch: 5400 - batch: 5400 [ 54000/60000],  loss: 0.007765, accuracy: 98.018519%\n",
      "epoch: 6000 - batch: 6000 [ 60000/60000],  loss: 0.004360, accuracy: 98.035000%\n",
      "epoch: 600 - batch:  600 [  6000/60000],  loss: 0.001529, accuracy: 98.616667%\n",
      "epoch: 1200 - batch: 1200 [ 12000/60000],  loss: 0.430848, accuracy: 98.458333%\n",
      "epoch: 1800 - batch: 1800 [ 18000/60000],  loss: 0.001144, accuracy: 98.500000%\n",
      "epoch: 2400 - batch: 2400 [ 24000/60000],  loss: 0.000769, accuracy: 98.550000%\n",
      "epoch: 3000 - batch: 3000 [ 30000/60000],  loss: 0.000313, accuracy: 98.506667%\n",
      "epoch: 3600 - batch: 3600 [ 36000/60000],  loss: 0.087350, accuracy: 98.500000%\n",
      "epoch: 4200 - batch: 4200 [ 42000/60000],  loss: 0.006234, accuracy: 98.542857%\n",
      "epoch: 4800 - batch: 4800 [ 48000/60000],  loss: 0.001735, accuracy: 98.531250%\n",
      "epoch: 5400 - batch: 5400 [ 54000/60000],  loss: 0.000235, accuracy: 98.557407%\n",
      "epoch: 6000 - batch: 6000 [ 60000/60000],  loss: 0.012321, accuracy: 98.565000%\n",
      "epoch: 600 - batch:  600 [  6000/60000],  loss: 0.005300, accuracy: 99.233333%\n",
      "epoch: 1200 - batch: 1200 [ 12000/60000],  loss: 0.004766, accuracy: 98.991667%\n",
      "epoch: 1800 - batch: 1800 [ 18000/60000],  loss: 0.001743, accuracy: 98.977778%\n",
      "epoch: 2400 - batch: 2400 [ 24000/60000],  loss: 0.000040, accuracy: 98.966667%\n",
      "epoch: 3000 - batch: 3000 [ 30000/60000],  loss: 0.000962, accuracy: 98.953333%\n",
      "epoch: 3600 - batch: 3600 [ 36000/60000],  loss: 0.000812, accuracy: 98.913889%\n",
      "epoch: 4200 - batch: 4200 [ 42000/60000],  loss: 0.000204, accuracy: 98.907143%\n",
      "epoch: 4800 - batch: 4800 [ 48000/60000],  loss: 0.000112, accuracy: 98.893750%\n",
      "epoch: 5400 - batch: 5400 [ 54000/60000],  loss: 0.000017, accuracy: 98.907407%\n",
      "epoch: 6000 - batch: 6000 [ 60000/60000],  loss: 0.004079, accuracy: 98.928333%\n",
      "epoch: 600 - batch:  600 [  6000/60000],  loss: 0.001592, accuracy: 98.983333%\n",
      "epoch: 1200 - batch: 1200 [ 12000/60000],  loss: 0.010484, accuracy: 98.975000%\n",
      "epoch: 1800 - batch: 1800 [ 18000/60000],  loss: 0.001746, accuracy: 99.044444%\n",
      "epoch: 2400 - batch: 2400 [ 24000/60000],  loss: 0.085021, accuracy: 99.112500%\n",
      "epoch: 3000 - batch: 3000 [ 30000/60000],  loss: 0.001230, accuracy: 99.083333%\n",
      "epoch: 3600 - batch: 3600 [ 36000/60000],  loss: 0.002467, accuracy: 99.041667%\n",
      "epoch: 4200 - batch: 4200 [ 42000/60000],  loss: 0.155210, accuracy: 99.042857%\n",
      "epoch: 4800 - batch: 4800 [ 48000/60000],  loss: 0.000202, accuracy: 99.052083%\n",
      "epoch: 5400 - batch: 5400 [ 54000/60000],  loss: 0.000485, accuracy: 99.018519%\n",
      "epoch: 6000 - batch: 6000 [ 60000/60000],  loss: 0.000708, accuracy: 99.020000%\n",
      "\n",
      "Duration: 103 seconds\n"
     ]
    }
   ],
   "execution_count": 10
  },
  {
   "metadata": {
    "ExecuteTime": {
     "end_time": "2024-09-14T00:32:18.650112Z",
     "start_time": "2024-09-14T00:32:18.388628Z"
    }
   },
   "cell_type": "code",
   "source": [
    "\n",
    "\n",
    "# Plot training and testing loss\n",
    "plt.figure(figsize=(10,5))\n",
    "plt.plot(train_losses, label='Training Loss')\n",
    "plt.plot(test_losses, label='Test Loss')\n",
    "plt.title('Training and Test Loss Over Epochs')\n",
    "plt.xlabel('Epoch')\n",
    "plt.ylabel('Loss')\n",
    "plt.legend()\n",
    "plt.grid(True)\n",
    "plt.show()\n",
    "\n",
    "# Plot training and testing accuracy\n",
    "train_acc = [float(x) / len(train_data) for x in train_correct]  # Convert to accuracy percentages\n",
    "test_acc = [float(x) / len(test_data) for x in test_correct]  # Convert to accuracy percentages\n",
    "\n",
    "plt.figure(figsize=(10,5))\n",
    "plt.plot(train_acc, label='Training Accuracy')\n",
    "plt.plot(test_acc, label='Test Accuracy')\n",
    "plt.title('Training and Test Accuracy Over Epochs')\n",
    "plt.xlabel('Epoch')\n",
    "plt.ylabel('Accuracy')\n",
    "plt.legend()\n",
    "plt.grid(True)\n",
    "plt.show()"
   ],
   "id": "7879d27036d2d8f6",
   "outputs": [
    {
     "data": {
      "text/plain": [
       "<Figure size 1000x500 with 1 Axes>"
      ],
      "image/png": "[encoded data removed]"
     },
     "metadata": {},
     "output_type": "display_data"
    },
    {
     "data": {
      "text/plain": [
       "<Figure size 1000x500 with 1 Axes>"
      ],
      "image/png": "[encoded data removed]"
     },
     "metadata": {},
     "output_type": "display_data"
    }
   ],
   "execution_count": 13
  },
  {
   "metadata": {},
   "cell_type": "markdown",
   "source": "Evaluation with the entire test data",
   "id": "d40edb8bba4e657a"
  },
  {
   "metadata": {
    "ExecuteTime": {
     "end_time": "2024-09-14T00:32:26.040618Z",
     "start_time": "2024-09-14T00:32:25.221593Z"
    }
   },
   "cell_type": "code",
   "source": [
    "# Extract the data all at one\n",
    "test_load_all = DataLoader(test_data, batch_size=10000, shuffle=False)\n",
    "with torch.no_grad():\n",
    "    correct = 0\n",
    "    for X_test, Y_test in test_load_all:\n",
    "        X_test, Y_test = X_test.to(device), Y_test.to(device)\n",
    "        y_val = model(X_test)\n",
    "        predicted = torch.max(y_val.data, 1)[1]\n",
    "        correct += (predicted == Y_test).sum()\n",
    "print(f'Entire Test Dataset Accuracy: {correct.item()/len(test_data)} = {correct.item()*100/(len(test_data)):.7f}%')"
   ],
   "id": "19b2f99cff5a7c1a",
   "outputs": [
    {
     "name": "stdout",
     "output_type": "stream",
     "text": [
      "Test Accuracy: 0.9887 = 98.8700000%\n"
     ]
    }
   ],
   "execution_count": 14
  },
  {
   "metadata": {
    "ExecuteTime": {
     "end_time": "2024-09-14T00:33:57.631424Z",
     "start_time": "2024-09-14T00:33:57.628218Z"
    }
   },
   "cell_type": "code",
   "source": [
    "# count the number of parameters used in the mode\n",
    "def count_parameters(model):\n",
    "    params = [p.numel() for p in model.parameters() if p.requires_grad]\n",
    "    for item in params:\n",
    "        print(f'{item:>6}')\n",
    "    print(f'______\\n{sum(params):>6}')\n",
    "\n",
    "count_parameters(model)"
   ],
   "id": "b0d236d2f47fbe50",
   "outputs": [
    {
     "name": "stdout",
     "output_type": "stream",
     "text": [
      "    54\n",
      "     6\n",
      "   864\n",
      "    16\n",
      " 10080\n",
      "    84\n",
      "   840\n",
      "    10\n",
      " 48000\n",
      "   120\n",
      "______\n",
      " 60074\n"
     ]
    }
   ],
   "execution_count": 15
  },
  {
   "metadata": {},
   "cell_type": "markdown",
   "source": "Confusion Matrix",
   "id": "d81aa191d8b07abd"
  },
  {
   "metadata": {
    "ExecuteTime": {
     "end_time": "2024-09-14T01:21:53.598303Z",
     "start_time": "2024-09-14T01:21:53.594728Z"
    }
   },
   "cell_type": "code",
   "source": [
    "def print_confusion_matrix():\n",
    "    np.set_printoptions(formatter=dict(int=lambda x: f\"{x:4}\"))\n",
    "    print(np.arange(10).reshape(1,10))\n",
    "    print()\n",
    "\n",
    "    # Move tensors to CPU and convert to numpy for confusion matrix computation\n",
    "    predicted_cpu = predicted.view(-1).cpu().numpy()\n",
    "    y_test_cpu = Y_test.view(-1).cpu().numpy()\n",
    "\n",
    "    # Print the confusion matrix\n",
    "    print(confusion_matrix(predicted_cpu, y_test_cpu))"
   ],
   "id": "60375ea7da8de424",
   "outputs": [],
   "execution_count": 21
  },
  {
   "metadata": {
    "ExecuteTime": {
     "end_time": "2024-09-14T01:21:54.829357Z",
     "start_time": "2024-09-14T01:21:54.822879Z"
    }
   },
   "cell_type": "code",
   "source": "print_confusion_matrix()",
   "id": "6edb1ecc8a90ce9c",
   "outputs": [
    {
     "name": "stdout",
     "output_type": "stream",
     "text": [
      "[[   0    1    2    3    4    5    6    7    8    9]]\n",
      "\n",
      "[[ 973    0    1    0    0    2    2    0    9    0]\n",
      " [   0 1133    1    1    0    0    3    2    0    3]\n",
      " [   0    2 1017    2    0    0    0    3    2    0]\n",
      " [   0    0    0 1000    0    4    0    2    1    2]\n",
      " [   0    0    0    0  972    0    4    1    0    5]\n",
      " [   0    0    0    4    0  881    1    0    0    1]\n",
      " [   0    0    0    0    0    2  948    0    6    0]\n",
      " [   3    0   10    0    2    0    0 1016    1    1]\n",
      " [   0    0    2    2    0    3    0    2  953    3]\n",
      " [   4    0    1    1    8    0    0    2    2  994]]\n"
     ]
    }
   ],
   "execution_count": 22
  },
  {
   "metadata": {
    "ExecuteTime": {
     "end_time": "2024-09-14T02:02:23.855758Z",
     "start_time": "2024-09-14T02:02:23.852267Z"
    }
   },
   "cell_type": "code",
   "source": [
    "def print_sample(ide):\n",
    "    model.eval()  # Set the model to evaluation mode\n",
    "    with torch.no_grad():  # Disable gradient calculation\n",
    "        # Ensure the input tensor is moved to the same device as the model\n",
    "        device = next(model.parameters()).device\n",
    "        input_tensor = test_data[ide][0].view(1, 1, 28, 28).to(device)\n",
    "        \n",
    "        # Perform the prediction and move the result to CPU and NumPy\n",
    "        new_prediction = model(input_tensor).argmax().cpu().numpy()\n",
    "\n",
    "    # Move the image tensor to the CPU, convert to NumPy, and reshape for display\n",
    "    plt.imshow(test_data[ide][0].cpu().numpy().reshape(28, 28), cmap='gray')\n",
    "    \n",
    "    # Print the predicted class\n",
    "    print(f\"Prediction: {new_prediction}\")"
   ],
   "id": "70c2dc3e406d2de7",
   "outputs": [],
   "execution_count": 37
  },
  {
   "metadata": {
    "ExecuteTime": {
     "end_time": "2024-09-14T02:02:25.028109Z",
     "start_time": "2024-09-14T02:02:24.889720Z"
    }
   },
   "cell_type": "code",
   "source": "print_sample(333)",
   "id": "ab7361efb27931c9",
   "outputs": [
    {
     "name": "stdout",
     "output_type": "stream",
     "text": [
      "Prediction: 5\n"
     ]
    },
    {
     "data": {
      "text/plain": [
       "<Figure size 640x480 with 1 Axes>"
      ],
      "image/png": "[encoded data removed]"
     },
     "metadata": {},
     "output_type": "display_data"
    }
   ],
   "execution_count": 38
  },
  {
   "metadata": {},
   "cell_type": "code",
   "outputs": [],
   "execution_count": null,
   "source": "",
   "id": "6e55c809d78c22cb"
  }
 ],
 "metadata": {
  "kernelspec": {
   "display_name": "Python 3",
   "language": "python",
   "name": "python3"
  },
  "language_info": {
   "codemirror_mode": {
    "name": "ipython",
    "version": 2
   },
   "file_extension": ".py",
   "mimetype": "text/x-python",
   "name": "python",
   "nbconvert_exporter": "python",
   "pygments_lexer": "ipython2",
   "version": "2.7.6"
  }
 },
 "nbformat": 4,
 "nbformat_minor": 5
}
