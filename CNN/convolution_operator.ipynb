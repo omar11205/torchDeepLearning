{
 "cells": [
  {
   "metadata": {},
   "cell_type": "markdown",
   "source": "Source: https://www.cs.cornell.edu/courses/cs1114/2013sp/sections/S06_convolution.pdf",
   "id": "9b642057564a13da"
  },
  {
   "metadata": {},
   "cell_type": "markdown",
   "source": "",
   "id": "cc09def2ba9f2b42"
  },
  {
   "metadata": {},
   "cell_type": "markdown",
   "source": [
    "# The convolution operation\n",
    "\n",
    "In this section I will discuss the convolution operation which is used in the Convolutional Neural Networks. \n",
    "Convolution operates on two signals for 1D, or two images for 2D. The first signal or image is the *input*, and the other (called *kernel*) serves as a \"filter\" over the input image, producing an output image. The convolution then takes two images or signals and then outputs a third one. \n",
    "\n",
    "In 1D The convolution operation of two functions, f and g, is defined as:\n",
    "$$\n",
    "h(t) = (f * g)(x) = \\int_{-\\infty}^{\\infty} f(\\tau) \\, g(x - \\tau) \\, d\\tau\n",
    "$$\n",
    "\n",
    "where: \n",
    "\n",
    "$f$: first signal or image: The image that I want to process\n",
    "\n",
    "$g$: the filter or kernel\n",
    "\n",
    "$h$: the signal or image convoluted\n",
    "\n",
    "$x$: This is the independent variable representing the time or space point at which we are evaluating the convolution. It is the output variable of the convolution operation.\n",
    "\n",
    "$\\tau$: This is a dummy variable used for integration. It represents the time or space shift within the convolution operation. As we integrate over τ, we are essentially sliding the function g(t - τ) across the function f(τ). \n",
    "\n",
    "Discretizing the Eq. (1) using discrete vectorial functions $h[x]$, $g[x]$, $f[x]$\n",
    "\n",
    "$$\n",
    "h[x] = (f * g)[x] = \\sum_{\\tau=-\\infty}^{\\infty} f[\\tau] \\cdot g[x - \\tau]\n",
    "$$\n",
    "\n",
    "Using a discrete domain and vector arrays the convolution can be done over datasets.\n",
    "In example: \n",
    "\n",
    "An input function $f[x]$ can be defined as a column vector like this:\n",
    "\n",
    "$$\n",
    "f[x] = \\begin{bmatrix} f[x_0] \\\\ f[x_1] \\\\ f[x_2] \\\\ f[x_3] \\\\ f[x_4] \\\\ \\end{bmatrix}\n",
    "$$\n",
    "\n",
    "A filter function or array can ve defined as a column vector (with $\\tau = 0$):\n",
    "\n",
    "$$\n",
    "g[x-0] = \\begin{bmatrix} 3 \\\\ 2 \\\\ 1 \\\\ 0 \\\\ 0 \\\\ \\end{bmatrix}\n",
    "$$\n",
    "\n",
    "Now with $\\tau > 0$ $g[x-\\tau]$ has a special meaning: the slicing of the filter from top to bottom adding zeroes at the top of the colum vector.\n",
    " \n",
    "$$\n",
    "g[x-1] = \\begin{bmatrix} 0 \\\\ 3 \\\\ 2 \\\\ 1 \\\\ 0 \\\\ \\end{bmatrix}\n",
    "$$\n",
    "\n",
    "With this definitions, let say, in example, the third element of the $h[x]$ summation ($\\tau = 2$) could be:\n",
    "\n",
    "$$h_{3}[x] = f[2]g[x-2] =  f[x_2] \\cdot \\begin{bmatrix} 0 \\\\ 0 \\\\ 3 \\\\ 2 \\\\ 1 \\\\ \\end{bmatrix} $$\n",
    "\n",
    "With this filter the hole summation $h(x)$ is: \n",
    "\n",
    "$$ h[x] = f[0]g[x-0] + f[1]g[x-1] + f[2]g[x-2] + f[3]g[x-3] + f[4]g[x-4]$$\n",
    "\n",
    "$$ h[x] = f[x_0] \\cdot \\begin{bmatrix} 3 \\\\ 2 \\\\ 1 \\\\ 0 \\\\ 0 \\\\ \\end{bmatrix} + f[x_1] \\cdot \\begin{bmatrix} 0 \\\\ 3 \\\\ 2 \\\\ 1 \\\\ 0 \\\\ \\end{bmatrix} + f[x_2] \\cdot \\begin{bmatrix} 0 \\\\ 0 \\\\ 3 \\\\ 2 \\\\ 1 \\\\ \\end{bmatrix} + f[x_3] \\cdot \\begin{bmatrix} 0 \\\\ 0 \\\\ 0 \\\\ 3 \\\\ 2 \\\\ \\end{bmatrix} + f[x_4] \\cdot \\begin{bmatrix} 0 \\\\ 0 \\\\ 0 \\\\ 0 \\\\ 3 \\\\ \\end{bmatrix} $$\n",
    "\n",
    "$$\n",
    "h[x] = \\begin{bmatrix}\n",
    "3 & 0 & 0 & 0 & 0 \\\\\n",
    "2 & 3 & 0 & 0 & 0 \\\\\n",
    "1 & 2 & 3 & 0 & 0 \\\\\n",
    "0 & 1 & 2 & 3 & 0 \\\\\n",
    "0 & 0 & 1 & 2 & 3 \\\\\n",
    "\\end{bmatrix}\n",
    "\\cdot \\begin{bmatrix} f[x_0] \\\\ f[x_1] \\\\ f[x_2] \\\\ f[x_3] \\\\ f[x_4] \\\\ \\end{bmatrix} \n",
    "$$\n",
    "\n",
    "Example 1\n",
    "\n",
    "Make the convolution of $f$$ x \\in \\mathbb{Z} \\mid 0 \\leq x < 5$"
   ],
   "id": "baf65f34ce3abee1"
  },
  {
   "metadata": {
    "ExecuteTime": {
     "end_time": "2024-09-03T01:49:32.880057Z",
     "start_time": "2024-09-03T01:49:30.623121Z"
    }
   },
   "cell_type": "code",
   "source": [
    "import numpy as np\n",
    "import matplotlib.pyplot as plt\n",
    "from scipy import signal"
   ],
   "id": "7bf7ff08998a8f4f",
   "outputs": [],
   "execution_count": 33
  },
  {
   "metadata": {
    "ExecuteTime": {
     "end_time": "2024-09-03T00:33:05.128259Z",
     "start_time": "2024-09-03T00:33:05.123561Z"
    }
   },
   "cell_type": "code",
   "source": [
    "x = np.arange(0,5)\n",
    "f_x = x**2\n",
    "print(f_x)"
   ],
   "id": "dab3aa6f7e2ebc23",
   "outputs": [
    {
     "name": "stdout",
     "output_type": "stream",
     "text": [
      "[ 0  1  4  9 16]\n"
     ]
    }
   ],
   "execution_count": 6
  },
  {
   "metadata": {
    "ExecuteTime": {
     "end_time": "2024-09-03T00:33:19.630843Z",
     "start_time": "2024-09-03T00:33:19.625315Z"
    }
   },
   "cell_type": "code",
   "source": [
    "gx = np.array([3,2,1,0,0])\n",
    "print(g_x)"
   ],
   "id": "30f96ac8ba2d7a50",
   "outputs": [
    {
     "name": "stdout",
     "output_type": "stream",
     "text": [
      "[3 2 1 0 0]\n"
     ]
    }
   ],
   "execution_count": 7
  },
  {
   "metadata": {
    "ExecuteTime": {
     "end_time": "2024-09-03T00:38:51.994292Z",
     "start_time": "2024-09-03T00:38:51.891044Z"
    }
   },
   "cell_type": "code",
   "source": [
    "# Plot histogram with each value as its own bin and height\n",
    "plt.bar(range(len(f_x)), f_x, tick_label=x, width=1.0)\n",
    "\n",
    "# Add labels and title\n",
    "plt.xlabel('X')\n",
    "plt.ylabel('f[x]')\n",
    "plt.title('f[x]')\n",
    "\n",
    "# Show the plot\n",
    "plt.show()"
   ],
   "id": "8721c69604f8fb69",
   "outputs": [
    {
     "data": {
      "text/plain": [
       "<Figure size 640x480 with 1 Axes>"
      ],
      "image/png": "[encoded data removed]"
     },
     "metadata": {},
     "output_type": "display_data"
    }
   ],
   "execution_count": 14
  },
  {
   "metadata": {
    "ExecuteTime": {
     "end_time": "2024-09-03T00:39:35.529034Z",
     "start_time": "2024-09-03T00:39:35.398383Z"
    }
   },
   "cell_type": "code",
   "source": [
    "# Plot histogram with each value as its own bin and height\n",
    "plt.bar(range(len(g_x)), g_x, tick_label=x, width=1.0)\n",
    "\n",
    "# Add labels and title\n",
    "plt.xlabel('X')\n",
    "plt.ylabel('g[x]')\n",
    "plt.title('g[x]')\n",
    "\n",
    "# Show the plot\n",
    "plt.show()"
   ],
   "id": "2ab64814aafddc9e",
   "outputs": [
    {
     "data": {
      "text/plain": [
       "<Figure size 640x480 with 1 Axes>"
      ],
      "image/png": "[encoded data removed]"
     },
     "metadata": {},
     "output_type": "display_data"
    }
   ],
   "execution_count": 15
  },
  {
   "metadata": {
    "ExecuteTime": {
     "end_time": "2024-09-03T02:03:09.341409Z",
     "start_time": "2024-09-03T02:03:09.335590Z"
    }
   },
   "cell_type": "code",
   "source": [
    "a = np.array([5, 3, 7, 1, 2])\n",
    "b = np.array([0,0,3, 2, 1])\n",
    "cn = np.convolve(a,b, mode='same')\n",
    "print(cn)"
   ],
   "id": "e35bbb4839645f51",
   "outputs": [
    {
     "name": "stdout",
     "output_type": "stream",
     "text": [
      "[15 19 32 20 15]\n"
     ]
    }
   ],
   "execution_count": 43
  },
  {
   "metadata": {
    "ExecuteTime": {
     "end_time": "2024-09-03T02:22:46.481782Z",
     "start_time": "2024-09-03T02:22:46.468116Z"
    }
   },
   "cell_type": "code",
   "source": [
    "sig = a\n",
    "fil = b\n",
    "filtered = signal.convolve(sig, fil, mode='same', method=\"fft\")\n",
    "print(filtered)"
   ],
   "id": "8a15a6649828959d",
   "outputs": [
    {
     "name": "stdout",
     "output_type": "stream",
     "text": [
      "[15 19 32 20 15]\n"
     ]
    }
   ],
   "execution_count": 44
  },
  {
   "metadata": {},
   "cell_type": "code",
   "outputs": [],
   "execution_count": null,
   "source": "",
   "id": "34d6f2b9aa39a5a1"
  }
 ],
 "metadata": {
  "kernelspec": {
   "display_name": "Python 3",
   "language": "python",
   "name": "python3"
  },
  "language_info": {
   "codemirror_mode": {
    "name": "ipython",
    "version": 2
   },
   "file_extension": ".py",
   "mimetype": "text/x-python",
   "name": "python",
   "nbconvert_exporter": "python",
   "pygments_lexer": "ipython2",
   "version": "2.7.6"
  }
 },
 "nbformat": 4,
 "nbformat_minor": 5
}
