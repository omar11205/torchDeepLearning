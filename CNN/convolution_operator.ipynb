{
 "cells": [
  {
   "metadata": {},
   "cell_type": "markdown",
   "source": [
    "# The convolution operation\n",
    "\n",
    "In this section we will discuss the convolution operation which is used in the Convolutional Neural Networks. \n",
    "\n",
    "The convolutional neural networks appear \n",
    "\n",
    "The convolution operation means for a given input we re-estimate it as the weighted average of all the surrounding inputs.\n",
    "\n",
    "The formula for the "
   ],
   "id": "baf65f34ce3abee1"
  },
  {
   "metadata": {},
   "cell_type": "markdown",
   "source": "",
   "id": "54cd91c3fd238dce"
  }
 ],
 "metadata": {
  "kernelspec": {
   "display_name": "Python 3",
   "language": "python",
   "name": "python3"
  },
  "language_info": {
   "codemirror_mode": {
    "name": "ipython",
    "version": 2
   },
   "file_extension": ".py",
   "mimetype": "text/x-python",
   "name": "python",
   "nbconvert_exporter": "python",
   "pygments_lexer": "ipython2",
   "version": "2.7.6"
  }
 },
 "nbformat": 4,
 "nbformat_minor": 5
}
