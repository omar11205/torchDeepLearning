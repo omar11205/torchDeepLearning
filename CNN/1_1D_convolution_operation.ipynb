{
 "cells": [
  {
   "metadata": {},
   "cell_type": "markdown",
   "source": [
    "Sources:\n",
    "\n",
    " \n",
    "- https://www.cs.cornell.edu/courses/cs1114/2013sp/sections/S06_convolution.pdf\n",
    "- https://www.youtube.com/watch?v=FThmD4nuwhw&t=95s"
   ],
   "id": "9b642057564a13da"
  },
  {
   "metadata": {},
   "cell_type": "markdown",
   "source": [
    "# The convolution operation\n",
    "In this section I will discuss the 1D convolution operation used in the Convolutional Neural Networks. \n",
    "\n",
    "Convolution operates on two signals for 1D, or two images for 2D. The first signal or image is the *input*, and the other (called *kernel*) serves as a \"filter\" over the input image, producing an output image or signal. The convolution operation then takes two images or signals and outputs a third one. \n",
    "\n",
    "## 1D discrete convolution\n",
    "\n",
    "In 1D The convolution operation of two functions, f and g, is defined as:\n",
    "$$\n",
    "\\begin{eqnarray} \n",
    "h(x) = (f * g)(x) = \\int_{-\\infty}^{\\infty} f(\\tau) \\, g(x - \\tau) \\, d\\tau\n",
    "\\end{eqnarray}\n",
    "$$\n",
    "\n",
    "where: \n",
    "\n",
    "$f$: first signal or image: the image or signal that I want to process\n",
    "\n",
    "$g$: the filter or kernel\n",
    "\n",
    "$h$: the signal or image convoluted\n",
    "\n",
    "$x$: This is the independent variable representing the time or space point at which we are evaluating the convolution. It is the output variable of the convolution operation.\n",
    "\n",
    "$\\tau$: This is a dummy variable used for integration. It represents the time or space shift within the convolution operation. As we integrate over τ, we are essentially sliding the function g(t - τ) across the function f(τ). \n",
    "\n",
    "Discretizing the Eq. (1) using discrete vectorial functions $h[x]$, $g[x]$, $f[x]$\n",
    "\n",
    "$$\n",
    "\\begin{eqnarray} \n",
    "h[x] = (f * g)[x] = \\sum_{\\tau=-\\infty}^{\\infty} f[\\tau] \\cdot g[x - \\tau]\n",
    "\\end{eqnarray}\n",
    "$$\n",
    "\n",
    "Using a discrete domain and vector arrays the convolution can be done over data.\n",
    "\n",
    "In example: \n",
    "\n",
    "An input function $f[x]$ can be defined as a column vector like this:\n",
    "\n",
    "$$\n",
    "f[x] = \\begin{bmatrix} f[x_0] \\\\ f[x_1] \\\\ f[x_2] \\\\ f[x_3] \\\\ f[x_4] \\\\ \\end{bmatrix}\n",
    "$$\n",
    "\n",
    "A filter function or array can be defined as a column vector (with $\\tau = 0$):\n",
    "\n",
    "$$\n",
    "g[x-0] = \\begin{bmatrix} 3 \\\\ 2 \\\\ 1 \\\\ 0 \\\\ 0 \\\\ \\end{bmatrix}\n",
    "$$\n",
    "\n",
    "The filter is defined as $[3, 2, 1]$ but to work with the same dimension as the input the empty's spaces are filled with zeros.\n",
    "\n",
    "Now with $\\tau > 0$, $g[x-\\tau]$ **has a special meaning**: *the slicing of the filter from top to bottom adding zeros at the top of the colum vector.*\n",
    " \n",
    "$$\n",
    "g[x-1] = \\begin{bmatrix} 0 \\\\ 3 \\\\ 2 \\\\ 1 \\\\ 0 \\\\ \\end{bmatrix}\n",
    "$$\n",
    "\n",
    "With this definitions, let say, in example, the third element of the $h[x]$ summation ($\\tau = 2$) could be:\n",
    "\n",
    "$$h_{3}[x] = f[2]g[x-2] =  f[x_2] \\cdot \\begin{bmatrix} 0 \\\\ 0 \\\\ 3 \\\\ 2 \\\\ 1 \\\\ \\end{bmatrix} $$\n",
    "\n",
    "With this filter the components of $h(x)$ as a vector sum of components are: \n",
    "\n",
    "$$ h[x] = f[0]g[x-0] + f[1]g[x-1] + f[2]g[x-2] + f[3]g[x-3] + f[4]g[x-4]$$\n",
    "\n",
    "$$ h[x] = f[x_0] \\cdot \\begin{bmatrix} 3 \\\\ 2 \\\\ 1 \\\\ 0 \\\\ 0 \\\\ \\end{bmatrix} + f[x_1] \\cdot \\begin{bmatrix} 0 \\\\ 3 \\\\ 2 \\\\ 1 \\\\ 0 \\\\ \\end{bmatrix} + f[x_2] \\cdot \\begin{bmatrix} 0 \\\\ 0 \\\\ 3 \\\\ 2 \\\\ 1 \\\\ \\end{bmatrix} + f[x_3] \\cdot \\begin{bmatrix} 0 \\\\ 0 \\\\ 0 \\\\ 3 \\\\ 2 \\\\ \\end{bmatrix} + f[x_4] \\cdot \\begin{bmatrix} 0 \\\\ 0 \\\\ 0 \\\\ 0 \\\\ 3 \\\\ \\end{bmatrix} $$\n",
    "\n",
    "$$\n",
    "h[x] = \\begin{bmatrix}\n",
    "3 & 0 & 0 & 0 & 0 \\\\\n",
    "2 & 3 & 0 & 0 & 0 \\\\\n",
    "1 & 2 & 3 & 0 & 0 \\\\\n",
    "0 & 1 & 2 & 3 & 0 \\\\\n",
    "0 & 0 & 1 & 2 & 3 \\\\\n",
    "\\end{bmatrix}\n",
    "\\cdot \\begin{bmatrix} f[x_0] \\\\ f[x_1] \\\\ f[x_2] \\\\ f[x_3] \\\\ f[x_4] \\\\ \\end{bmatrix} \n",
    "$$\n",
    "\n",
    "### Example 1\n",
    "\n",
    "Make the discrete convolution of $f[x] = x^2$ with $x \\in \\mathbb{Z} \\mid 0 \\leq x < 5$, applying the filter $g[x, \\tau] = \\begin{bmatrix} 3 \\\\ 2 \\\\ 1 \\\\ 0 \\\\ 0 \\\\ \\end{bmatrix}$ using the definition of convolution as a dot product."
   ],
   "id": "baf65f34ce3abee1"
  },
  {
   "metadata": {
    "ExecuteTime": {
     "end_time": "2024-09-05T04:48:44.323336Z",
     "start_time": "2024-09-05T04:48:44.305751Z"
    }
   },
   "cell_type": "code",
   "source": [
    "import numpy as np\n",
    "import matplotlib.pyplot as plt\n",
    "from scipy import signal"
   ],
   "id": "7bf7ff08998a8f4f",
   "outputs": [],
   "execution_count": 4
  },
  {
   "metadata": {},
   "cell_type": "markdown",
   "source": "#### Defining the vector `f_x` $f[x]$ ",
   "id": "72450e23cf65b5a2"
  },
  {
   "metadata": {
    "ExecuteTime": {
     "end_time": "2024-09-05T04:48:44.374685Z",
     "start_time": "2024-09-05T04:48:44.353171Z"
    }
   },
   "cell_type": "code",
   "source": [
    "x = np.arange(0,5)\n",
    "f_x = x**2\n",
    "print(f_x)"
   ],
   "id": "dab3aa6f7e2ebc23",
   "outputs": [
    {
     "name": "stdout",
     "output_type": "stream",
     "text": [
      "[ 0  1  4  9 16]\n"
     ]
    }
   ],
   "execution_count": 5
  },
  {
   "metadata": {},
   "cell_type": "markdown",
   "source": "#### Defining the `filter` $g[x, \\tau]$ and a function that helps to construct the *sliding filter matrix* `g_matrix`",
   "id": "4ed2a444a08c28cb"
  },
  {
   "metadata": {
    "ExecuteTime": {
     "end_time": "2024-09-05T04:48:44.401286Z",
     "start_time": "2024-09-05T04:48:44.384782Z"
    }
   },
   "cell_type": "code",
   "source": [
    "filter = np.array([3,2,1,0,0])\n",
    "def sliding_filter_matrix(f, g):\n",
    "    \n",
    "    while f.shape[0] != g.shape[0]:\n",
    "        g = np.insert(g, g.shape[0], 0)\n",
    "        \n",
    "    m = [g]\n",
    "    for i in range(1,len(g)):\n",
    "        g = np.insert(g, 0, 0)\n",
    "        g = np.delete(g, -1)\n",
    "        m.append(g)\n",
    "    return np.array(m).transpose()\n",
    "\n",
    "g_matrix = sliding_filter_matrix(f_x, filter)\n",
    "print(g_matrix)"
   ],
   "id": "30f96ac8ba2d7a50",
   "outputs": [
    {
     "name": "stdout",
     "output_type": "stream",
     "text": [
      "[[3 0 0 0 0]\n",
      " [2 3 0 0 0]\n",
      " [1 2 3 0 0]\n",
      " [0 1 2 3 0]\n",
      " [0 0 1 2 3]]\n"
     ]
    }
   ],
   "execution_count": 6
  },
  {
   "metadata": {},
   "cell_type": "markdown",
   "source": "#### Result of the convolution as the dot product between the `g_matrix` and `f_vector`",
   "id": "bc0119c0c4183a4a"
  },
  {
   "metadata": {
    "ExecuteTime": {
     "end_time": "2024-09-05T04:48:44.439487Z",
     "start_time": "2024-09-05T04:48:44.432100Z"
    }
   },
   "cell_type": "code",
   "source": [
    "convolution = np.dot(g_matrix, f_x.reshape(-1,1))\n",
    "print(convolution)"
   ],
   "id": "406054bb29868d63",
   "outputs": [
    {
     "name": "stdout",
     "output_type": "stream",
     "text": [
      "[[ 0]\n",
      " [ 3]\n",
      " [14]\n",
      " [36]\n",
      " [70]]\n"
     ]
    }
   ],
   "execution_count": 7
  },
  {
   "metadata": {},
   "cell_type": "markdown",
   "source": [
    "#### Comparing the solution with Numpy.convolve()\n",
    "This function is often used to convolve signals but its algorithm does not part of the definition of the convolution as a dot product between a sliced matrix and a vector f. np.convolve() works with a faster algorithm using points of overlap and has 3 modes.  \n",
    "With the option 'full' the solution is similar but with this mode the response has a greater shape because the function returns the convolution of each possible point of overlap with a total shape of: (N+M-1)."
   ],
   "id": "822155691702ef20"
  },
  {
   "metadata": {
    "ExecuteTime": {
     "end_time": "2024-09-05T04:48:44.464153Z",
     "start_time": "2024-09-05T04:48:44.448006Z"
    }
   },
   "cell_type": "code",
   "source": [
    "a = f_x\n",
    "b = np.array([3, 2, 1])\n",
    "cn = np.convolve(a,b, mode='full')\n",
    "print(cn)"
   ],
   "id": "e35bbb4839645f51",
   "outputs": [
    {
     "name": "stdout",
     "output_type": "stream",
     "text": [
      "[ 0  3 14 36 70 41 16]\n"
     ]
    }
   ],
   "execution_count": 8
  },
  {
   "metadata": {},
   "cell_type": "markdown",
   "source": "The same numeric result can be reached if the g_matrix is completed for all sliding positions of the filter",
   "id": "8db911d23a1d4cd8"
  },
  {
   "metadata": {
    "ExecuteTime": {
     "end_time": "2024-09-05T04:48:44.472674Z",
     "start_time": "2024-09-05T04:48:44.464153Z"
    }
   },
   "cell_type": "code",
   "source": [
    "full_matrix = g_matrix.copy()\n",
    "new_rows = np.array([[0, 0, 0, 1, 2],[0, 0, 0, 0, 1]])\n",
    "full_matrix = np.insert(full_matrix, full_matrix.shape[0], new_rows, axis=0)\n",
    "print(full_matrix)"
   ],
   "id": "14228f6894ef2114",
   "outputs": [
    {
     "name": "stdout",
     "output_type": "stream",
     "text": [
      "[[3 0 0 0 0]\n",
      " [2 3 0 0 0]\n",
      " [1 2 3 0 0]\n",
      " [0 1 2 3 0]\n",
      " [0 0 1 2 3]\n",
      " [0 0 0 1 2]\n",
      " [0 0 0 0 1]]\n"
     ]
    }
   ],
   "execution_count": 9
  },
  {
   "metadata": {
    "ExecuteTime": {
     "end_time": "2024-09-05T04:48:44.480450Z",
     "start_time": "2024-09-05T04:48:44.472674Z"
    }
   },
   "cell_type": "code",
   "source": [
    "full_convolution = np.dot(full_matrix, f_x)\n",
    "print(full_convolution)"
   ],
   "id": "a27d88c98b85e73b",
   "outputs": [
    {
     "name": "stdout",
     "output_type": "stream",
     "text": [
      "[ 0  3 14 36 70 41 16]\n"
     ]
    }
   ],
   "execution_count": 10
  },
  {
   "metadata": {},
   "cell_type": "markdown",
   "source": "With the option \"same\" the shape of the convolution is the maximum between the input and the filter. Note that if the filter has lesser elements that the input, the response of \"same\" is delayed adding zeroes to the left or the right of the filter.",
   "id": "d782011a5b828378"
  },
  {
   "metadata": {
    "ExecuteTime": {
     "end_time": "2024-09-05T04:48:44.515132Z",
     "start_time": "2024-09-05T04:48:44.495464Z"
    }
   },
   "cell_type": "code",
   "source": [
    "a = f_x\n",
    "b = np.array([ 3, 2, 1])\n",
    "cn = np.convolve(a,b, mode='same')\n",
    "print(cn)"
   ],
   "id": "7554bf8e744a36e5",
   "outputs": [
    {
     "name": "stdout",
     "output_type": "stream",
     "text": [
      "[ 3 14 36 70 41]\n"
     ]
    }
   ],
   "execution_count": 11
  },
  {
   "metadata": {
    "ExecuteTime": {
     "end_time": "2024-09-05T04:48:44.537975Z",
     "start_time": "2024-09-05T04:48:44.527250Z"
    }
   },
   "cell_type": "code",
   "source": [
    "# delay to the left\n",
    "a = f_x\n",
    "b = np.array([0, 3, 2, 1])\n",
    "cn = np.convolve(a,b, mode='same')\n",
    "print(cn)"
   ],
   "id": "28bb2f2c3190991c",
   "outputs": [
    {
     "name": "stdout",
     "output_type": "stream",
     "text": [
      "[ 0  3 14 36 70]\n"
     ]
    }
   ],
   "execution_count": 12
  },
  {
   "metadata": {},
   "cell_type": "markdown",
   "source": [
    "### Scipy version of convolution Scipy.convolve()\n",
    "For 1 dimension convolution the fastest algorithm is the Fast Fourier Transform method used in scipy. This is a good option for the convolution of large signals."
   ],
   "id": "71317820a6e77eb8"
  },
  {
   "metadata": {
    "ExecuteTime": {
     "end_time": "2024-09-05T04:48:44.573627Z",
     "start_time": "2024-09-05T04:48:44.558764Z"
    }
   },
   "cell_type": "code",
   "source": [
    "sig = f_x\n",
    "fil = np.array([0, 3, 2, 1])\n",
    "filtered = signal.convolve(sig, fil, mode='same', method=\"fft\")\n",
    "print(filtered)"
   ],
   "id": "8a15a6649828959d",
   "outputs": [
    {
     "name": "stdout",
     "output_type": "stream",
     "text": [
      "[ 0  3 14 36 70]\n"
     ]
    }
   ],
   "execution_count": 13
  },
  {
   "metadata": {},
   "cell_type": "markdown",
   "source": [
    "### Convolution operation component by component\n",
    "Another point of view more related on how `Numpy.convolve` work is calculating each component of the $h[x]$ solution vector. Continuing in the Example 1, for 5 convolutions in the domain of  $x \\in \\mathbb{Z} \\mid 0 \\leq x < 5$\n",
    "\n",
    "The first component of the solution vector `h[x]` using the Eq. (2) is:\n",
    "\n",
    "$$\n",
    "h[0]  = (f * g)[0] = \\sum_{\\tau=0}^{4} f[\\tau] \\cdot g[0 - \\tau]\n",
    "$$\n",
    "\n",
    "remembering that:\n",
    "$$\n",
    "f[x] = \\begin{bmatrix} 0 \\\\ 1 \\\\ 4 \\\\ 9 \\\\ 16 \\end{bmatrix},\n",
    "\\quad\n",
    "g[x-0] = \\begin{bmatrix} 3 \\\\ 2 \\\\ 1 \\\\ 0 \\\\ 0 \\end{bmatrix},\n",
    "\\quad\n",
    "g[x-1] = \\begin{bmatrix} 0 \\\\ 3 \\\\ 2 \\\\ 1 \\\\ 0 \\end{bmatrix},\n",
    "\\quad\n",
    "g[x-2] = \\begin{bmatrix} 0 \\\\ 0 \\\\ 3 \\\\ 2 \\\\ 1 \\end{bmatrix},\n",
    "\\quad\n",
    "g[x-3] = \\begin{bmatrix} 0 \\\\ 0 \\\\ 0 \\\\ 3 \\\\ 2 \\end{bmatrix},\n",
    "\\quad\n",
    "g[x-4] = \\begin{bmatrix} 0 \\\\ 0 \\\\ 0 \\\\ 0 \\\\ 3 \\end{bmatrix}\n",
    "$$\n",
    "\n",
    "now in example $g[0 - 0]$ means the component 0 of the $g[x-0]$ vector\n",
    "\n",
    "the first term of the summation for h[0]\n",
    " \n",
    "$$\n",
    "h_{1}[0]  = f[0] \\cdot g[0 - 0] = 0 \\cdot 3 = 0\n",
    "$$\n",
    "\n",
    "all the other terms of the sumation for h[0]\n",
    "\n",
    "$$\n",
    "\\begin{eqnarray}\n",
    "h_{2}[0]  = f[1] \\cdot g[1 - 0] = 1 \\cdot 0 = 0 \\\\\n",
    "h_{3}[0]  = f[2] \\cdot g[2 - 0] = 4 \\cdot 0 = 0 \\\\\n",
    "h_{4}[0]  = f[3] \\cdot g[3 - 0] = 9 \\cdot 0 = 0 \\\\\n",
    "h_{5}[0]  = f[4] \\cdot g[4 - 0] = 16 \\cdot 0 = 0 \n",
    "\\end{eqnarray}\n",
    "$$\n",
    "\n",
    "With this, \n",
    "\n",
    "$$h[0] = 0 + 0 + 0 + 0 + 0 = 0$$\n",
    "\n",
    "for $h[1]$:\n",
    "\n",
    "$$\n",
    "h[1]  = (f * g)[1] = \\sum_{\\tau=0}^{4} f[\\tau] \\cdot g[1 - \\tau]\n",
    "$$\n",
    "\n",
    "$$\n",
    "\\begin{eqnarray}\n",
    "h_{1}[1]  = f[0] \\cdot g[0 - 1] = 0 \\cdot 2 = 0 \\\\\n",
    "h_{2}[1]  = f[1] \\cdot g[1 - 1] = 1 \\cdot 3 = 3 \\\\\n",
    "h_{3}[1]  = f[2] \\cdot g[2 - 1] = 4 \\cdot 0 = 0 \\\\\n",
    "h_{4}[1]  = f[3] \\cdot g[3 - 1] = 9 \\cdot 0 = 0 \\\\\n",
    "h_{5}[1]  = f[4] \\cdot g[4 - 1] = 16 \\cdot 0 = 0 \n",
    "\\end{eqnarray}\n",
    "$$\n",
    "\n",
    "$$h[1] = 0 + 3 + 0 + 0 + 0 = 3$$\n",
    "\n",
    "for $h[2]$:\n",
    "\n",
    "$$\n",
    "h[2]  = (f * g)[2] = \\sum_{\\tau=0}^{4} f[\\tau] \\cdot g[2 - \\tau]\n",
    "$$\n",
    "\n",
    "$$\n",
    "\\begin{eqnarray}\n",
    "h_{1}[2]  = f[0] \\cdot g[0 - 2] = 0 \\cdot 1 = 0 \\\\\n",
    "h_{2}[2]  = f[1] \\cdot g[1 - 2] = 1 \\cdot 2 = 2 \\\\\n",
    "h_{3}[2]  = f[2] \\cdot g[2 - 2] = 4 \\cdot 3 = 12 \\\\\n",
    "h_{4}[2]  = f[3] \\cdot g[3 - 2] = 9 \\cdot 0 = 0 \\\\\n",
    "h_{5}[2]  = f[4] \\cdot g[4 - 2] = 16 \\cdot 0 = 0 \n",
    "\\end{eqnarray}\n",
    "$$\n",
    "\n",
    "$$h[2] = 0 + 2 + 12 + 0 + 0 = 14$$\n",
    "\n",
    "for $h[3]$:\n",
    "\n",
    "$$\n",
    "h[3]  = (f * g)[3] = \\sum_{\\tau=0}^{4} f[\\tau] \\cdot g[3 - \\tau]\n",
    "$$\n",
    "\n",
    "$$\n",
    "\\begin{eqnarray}\n",
    "h_{1}[3]  = f[0] \\cdot g[0 - 3] = 0 \\cdot 0 = 0 \\\\\n",
    "h_{2}[3]  = f[1] \\cdot g[1 - 3] = 1 \\cdot 1 = 1 \\\\\n",
    "h_{3}[3]  = f[2] \\cdot g[2 - 3] = 4 \\cdot 2 = 8 \\\\\n",
    "h_{4}[3]  = f[3] \\cdot g[3 - 3] = 9 \\cdot 3 = 27 \\\\\n",
    "h_{5}[3]  = f[4] \\cdot g[4 - 3] = 16 \\cdot 0 = 0 \n",
    "\\end{eqnarray}\n",
    "$$\n",
    "\n",
    "$$h[3] = 0 + 1 + 8 + 27 + 0 = 36$$\n",
    "\n",
    "for $h[4]$:\n",
    "\n",
    "$$\n",
    "h[4]  = (f * g)[4] = \\sum_{\\tau=0}^{4} f[\\tau] \\cdot g[4 - \\tau]\n",
    "$$\n",
    "\n",
    "$$\n",
    "\\begin{eqnarray}\n",
    "h_{1}[4]  = f[0] \\cdot g[0 - 4] = 0 \\cdot 0 = 0 \\\\\n",
    "h_{2}[4]  = f[1] \\cdot g[1 - 4] = 1 \\cdot 0 = 0 \\\\\n",
    "h_{3}[4]  = f[2] \\cdot g[2 - 4] = 4 \\cdot 1 = 4 \\\\\n",
    "h_{4}[4]  = f[3] \\cdot g[3 - 4] = 9 \\cdot 2 = 18 \\\\\n",
    "h_{5}[4]  = f[4] \\cdot g[4 - 4] = 16 \\cdot 3 = 48 \n",
    "\\end{eqnarray}\n",
    "$$\n",
    "\n",
    "$$h[4] = 0 + 0 + 4 + 18 + 48 = 70$$\n",
    "\n",
    "finally\n",
    "\n",
    "$$ h[x] = \\begin{bmatrix} 0 \\\\ 3 \\\\ 14 \\\\ 36 \\\\ 70 \\end{bmatrix} $$\n",
    "\n",
    "As can be seeing in the element by element operations, with this approach, the convolution can be made **reversing or flipping** the kernel vector [3, 2, 1], to [1, 2, 3] and slicing it to being operated with its corresponding region of  the $f[x]$ vector. \n",
    "\n",
    "For each component of the $h[x]$ result vector the operation now consist in multipy element by element the flipped kernel and its correspondent region of the input signal $f[x]$ and sum the results. \n",
    "\n",
    "But now, for a complete convolution the input signal must be resized and filled with zeros. To achieve this, Like `Numpy.convolve`, the size of the input signal now must be $N+M-1$. And this size will be the same for the convoluted vector $h[x]$.\n",
    "\n",
    "$$\n",
    "\\begin{array}{|c|c|c|c|c|c|c|c|c|}\n",
    "\\hline\n",
    "0 & 0 & 0 & 1 & 4 & 9 & 16 & 0 & 0 \\\\\n",
    "\\hline\n",
    "1 & 2 & 3 &   &   &   &    &   &   \\\\\n",
    "\\hline\n",
    "  & 1 & 2 & 3 &   &   &    &   &   \\\\\n",
    "\\hline\n",
    "  &   & 1 & 2 & 3 &   &    &   &   \\\\\n",
    "\\hline\n",
    "  &   &   & 1 & 2 & 3 &    &   &   \\\\\n",
    "\\hline\n",
    "  &   &   &   & 1 & 2 & 3  &   &   \\\\\n",
    "\\hline\n",
    "  &   &   &   &   & 1 & 2  & 3 &   \\\\\n",
    "\\hline\n",
    "  &   &   &   &   &   & 1  & 2 & 3 \\\\\n",
    "\\hline\n",
    "\\end{array}\n",
    "$$\n",
    "\n",
    "### Code to perform a 1D convolution component by component"
   ],
   "id": "3fd918a729de8961"
  },
  {
   "metadata": {
    "ExecuteTime": {
     "end_time": "2024-09-05T04:48:44.583237Z",
     "start_time": "2024-09-05T04:48:44.574637Z"
    }
   },
   "cell_type": "code",
   "source": [
    "# convolution function using the component approach\n",
    "def one_d_convolution(signal_1d, kernel_1d):\n",
    "    \n",
    "    \"\"\"\n",
    "    Performs a one-dimensional full convolution on a signal with respect to a kernel.\n",
    "    :param signal_1d: np.Array, the input signal\n",
    "    :param kernel_1d: np.Array, the kernel\n",
    "    :return: np.Array, the convoluted signal\n",
    "    \"\"\"\n",
    "    \n",
    "    # Get the dimensions of the signal and kernel\n",
    "    signal_length = len(signal_1d)\n",
    "    kernel_length = len(kernel_1d)\n",
    "    \n",
    "    # Calculate the length of the output signal\n",
    "    output_length = signal_length + kernel_length - 1 \n",
    "    \n",
    "    # Initialize the output signal\n",
    "    output_1d = np.zeros(output_length)\n",
    "    \n",
    "    # Pad the original signal with zeros to match the full convolution output size\n",
    "    padded_signal = np.pad(signal_1d, (kernel_length - 1, kernel_length - 1), mode='constant')\n",
    "    \n",
    "    # Flip the kernel\n",
    "    flipped_kernel_1d = np.flip(kernel_1d)\n",
    "    \n",
    "    # Perform the full convolution operation element by element\n",
    "    for i in range(output_length):\n",
    "        # Extract the region of interest from the padded signal\n",
    "        region = padded_signal[i:i+kernel_length]\n",
    "        # Perform element-wise multiplication and sum the result\n",
    "        output_1d[i] = np.sum(region * flipped_kernel_1d)\n",
    "    \n",
    "    return output_1d\n",
    "\n",
    "print(one_d_convolution(f_x, np.array([3, 2, 1])))"
   ],
   "id": "b5b0fdcd9a78c27f",
   "outputs": [
    {
     "name": "stdout",
     "output_type": "stream",
     "text": [
      "[ 0.  3. 14. 36. 70. 41. 16.]\n"
     ]
    }
   ],
   "execution_count": 14
  },
  {
   "metadata": {},
   "cell_type": "code",
   "outputs": [],
   "execution_count": null,
   "source": "",
   "id": "dea24d0c61e73613"
  }
 ],
 "metadata": {
  "kernelspec": {
   "display_name": "Python 3",
   "language": "python",
   "name": "python3"
  },
  "language_info": {
   "codemirror_mode": {
    "name": "ipython",
    "version": 2
   },
   "file_extension": ".py",
   "mimetype": "text/x-python",
   "name": "python",
   "nbconvert_exporter": "python",
   "pygments_lexer": "ipython2",
   "version": "2.7.6"
  }
 },
 "nbformat": 4,
 "nbformat_minor": 5
}
