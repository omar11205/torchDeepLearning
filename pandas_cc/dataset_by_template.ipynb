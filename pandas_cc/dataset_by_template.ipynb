{
 "cells": [
  {
   "cell_type": "code",
   "id": "initial_id",
   "metadata": {
    "collapsed": true,
    "ExecuteTime": {
     "end_time": "2024-12-19T04:03:05.179453Z",
     "start_time": "2024-12-19T04:03:05.159013Z"
    }
   },
   "source": [
    "from simulation_modules import chatbot_sim_template as cst\n",
    "import pandas as pd\n",
    "import json\n",
    "from string import Template"
   ],
   "outputs": [],
   "execution_count": 7
  },
  {
   "metadata": {
    "ExecuteTime": {
     "end_time": "2024-12-19T04:03:05.919610Z",
     "start_time": "2024-12-19T04:03:05.902476Z"
    }
   },
   "cell_type": "code",
   "source": [
    " # generate a variational dataset\n",
    "input_csv = 'simulation_modules/chat_flux_experimental.csv'\n",
    "\n",
    "system_prompt_default = (\n",
    "        \"Tu nombre es $agent y trabajas para Cumplir SAS. \" \n",
    "        \"Tu tarea es comunicarte con los clientes con alta empatía y comprensión. \"\n",
    "        \"Nombre Banco: $bank_name. \"\n",
    "        \"Nombre Cliente: $full_name. \" \n",
    "        \"Monto Adeudado: $amount pesos. \"\n",
    "        \"Fecha y hora de hoy: $system_date_time. \"\n",
    "        \"Días de atraso en el pago: $days. \" \n",
    "        \"Fecha de pago máxima: $tomorrow_date. \"\n",
    "        \"Número de contacto de Banco Azteca: $contact_number\"\n",
    ")\n",
    "\n",
    "bank_name = \"Banco Azteca\"\n",
    "agent_name = \"Raúl\"\n",
    "\n",
    "\n",
    "aditional_data = {\n",
    "        \"user_identity_confirmation\": \"[hola; Sí, soy yo; Sí, con $gender_confirm; Sí, yo hablo; Sí, aquí estoy; Sí, en qué puedo ayudarle; Así es, soy $gender_confirm; Correcto, está hablando con $gender_confirm; Sí, soy $gender_confirm, ¿de qué se trata?; Le escucho, soy $gender_confirm; Sí, conmigo está hablando; Sí, ¿qué necesita?]\",\n",
    "        \"user_agrees_to_pay_today\": \"[Perdón, olvidé la fecha límite, pero haré el pago hoy mismo; Me descuidé, pero ya tengo el dinero y voy a pagar hoy; Sí, justo hoy puedo hacer el pago; No se preocupe, estoy por salir a pagar ahora mismo; Hoy mismo haré el pago, se me había pasado; Ya tengo el monto listo y voy a pagarlo en cuanto pueda; Sí, salgo en este momento a pagar; Voy a pagar en un rato, lo prometo; Ya tengo el dinero reunido, haré el pago hoy; Sí, voy de camino a realizar el pago, discúlpeme]\"\n",
    "}\n",
    "\n",
    "c_data = cst.ConversationDataGenerator(bank_name, agent_name, aditional_data)\n",
    "cdata = c_data.gen_data()\n",
    "print(cdata)"
   ],
   "id": "d80b2cfde6a56dbd",
   "outputs": [
    {
     "name": "stdout",
     "output_type": "stream",
     "text": [
      "{'debtor': {'full_name': 'Juan Salazar Alvarado', 'first_name': 'Juan', 'gender': 'M', 'title': 'Señor', 'pronoun': 'el', 'confirmation': 'él', 'known': 'lo', 'identification': '70555096', 'address': 'Cl. 22 # 78-8\\n542768\\nSan Calixto, Norte de Santander', 'email': 'andres17@hotmail.com', 'phone_number': '(+57) 321 641 43 77'}, 'debt': {'status': 'activo', 'amount': 198673.4, 'npays': 8, 'start_date': '2024-04-21T01:45:29', 'due_date': '2024-12-17T01:45:29', 'ndays': 1, 'outstanding_balance': 24834.17, 'today_date': '18 de diciembre de 2024', 'tomorrow_date': '19 de diciembre de 2024', 'system_date_time': 'miércoles 2024-12-18 11:03 '}, 'cobranzas': {'bank_name': 'Banco Azteca', 'agent': 'Raúl', 'contact_number': 4775006675}, 'aditional': {'user_identity_confirmation': '[hola; Sí, soy yo; Sí, con $gender_confirm; Sí, yo hablo; Sí, aquí estoy; Sí, con quien habla; Sí, en qué puedo ayudarle; Así es, soy $gender_confirm; Correcto, está hablando con $gender_confirm; Sí, soy $gender_confirm, ¿de qué se trata?; Le escucho, soy $gender_confirm; Sí, conmigo está hablando; Sí, ¿qué necesita?]'}}\n"
     ]
    }
   ],
   "execution_count": 8
  },
  {
   "metadata": {
    "ExecuteTime": {
     "end_time": "2024-12-19T04:03:07.077151Z",
     "start_time": "2024-12-19T04:03:07.026449Z"
    }
   },
   "cell_type": "code",
   "source": [
    "sub_entry = cst.ConversationFactory.generate_basic_sub_entry(cdata)\n",
    "\n",
    "factory = cst.ConversationFactory(input_csv, system_prompt_default, c_data, sub_entry=True, use_random_variations=True)\n",
    "conversations = factory.generate_random_unique_training_data(dataset_size = 10, bank_name=bank_name, agent_name=agent_name)\n",
    "\n",
    "print(f\"Total variational training conversations: {len(conversations)}\")\n",
    "print(conversations[1])"
   ],
   "id": "dd69561a8360d41e",
   "outputs": [
    {
     "name": "stdout",
     "output_type": "stream",
     "text": [
      "Total variational training conversations: 20\n",
      "{'messages': [{'role': 'system', 'content': 'Tu nombre es Raúl y trabajas para Cumplir SAS. Tu tarea es comunicarte con los clientes con alta empatía y comprensión. Nombre Banco: Banco Azteca. Nombre Cliente: Esteban Harold López. Monto Adeudado: 336417.2 pesos. Fecha y hora de hoy: miércoles 2024-12-18 11:03 . Días de atraso en el pago: 2. Fecha de pago máxima: 19 de diciembre de 2024. Número de contacto de Banco Azteca: 4775006675'}, {'role': 'user', 'content': 'alo?'}, {'role': 'assistant', 'content': 'Hola soy Raúl de Banco Azteca ¿me comunico con Esteban Harold López?'}, {'role': 'user', 'content': 'Sí, aquí estoy'}, {'role': 'assistant', 'content': 'Quiero informarte que tienes 2 días de atraso en tu cuenta y el saldo requerido para ponerla al día es de 336417.2 pesos.'}, {'role': 'user', 'content': 'me descuidé en el pago pero voy a pagar ahora mismo'}, {'role': 'assistant', 'content': 'Recuerda que el monto a pagar es 336417.2 para el día de hoy 18 de diciembre de 2024.'}, {'role': 'user', 'content': 'correcto ese es el monto que debía y voy a pagar ya mismo'}, {'role': 'assistant', 'content': 'Genial, has confirmado tu pago. Puedes hacerlo en la app, sucursal o aliados como Walmart. ¡Gracias por tu compromiso!'}]}\n"
     ]
    }
   ],
   "execution_count": 9
  },
  {
   "metadata": {
    "ExecuteTime": {
     "end_time": "2024-12-19T04:06:23.156936Z",
     "start_time": "2024-12-19T04:06:23.149244Z"
    }
   },
   "cell_type": "code",
   "source": "print(conversations[1])",
   "id": "ed467c8b1a8fa2fc",
   "outputs": [
    {
     "name": "stdout",
     "output_type": "stream",
     "text": [
      "{'messages': [{'role': 'system', 'content': 'Tu nombre es Raúl y trabajas para Cumplir SAS. Tu tarea es comunicarte con los clientes con alta empatía y comprensión. Nombre Banco: Banco Azteca. Nombre Cliente: Esteban Harold López. Monto Adeudado: 336417.2 pesos. Fecha y hora de hoy: miércoles 2024-12-18 11:03 . Días de atraso en el pago: 2. Fecha de pago máxima: 19 de diciembre de 2024. Número de contacto de Banco Azteca: 4775006675'}, {'role': 'user', 'content': 'hola'}, {'role': 'assistant', 'content': 'Hola soy Raúl de Banco Azteca ¿me comunico con Esteban Harold López?'}, {'role': 'user', 'content': 'Así es, soy él'}, {'role': 'assistant', 'content': 'Quiero informarte que tienes 2 días de atraso en tu cuenta y el saldo requerido para ponerla al día es de 336417.2 pesos.'}, {'role': 'user', 'content': 'ni madres'}, {'role': 'assistant', 'content': 'Podrías realizar el pago el día 19 de diciembre de 2024'}, {'role': 'user', 'content': 'si yo creo que puedo'}, {'role': 'assistant', 'content': 'Genial, has confirmado tu pago.  Recuerda que puedes realizarlo en la aplicación móvil, en cualquiera de nuestras sucursales o en aliados como Walmart. Gracias por tu compromiso'}]}\n"
     ]
    }
   ],
   "execution_count": 10
  },
  {
   "metadata": {
    "ExecuteTime": {
     "end_time": "2024-12-19T04:06:33.523799Z",
     "start_time": "2024-12-19T04:06:33.503794Z"
    }
   },
   "cell_type": "code",
   "source": "print(conversations[2])",
   "id": "e4e34af35ef55b6",
   "outputs": [
    {
     "name": "stdout",
     "output_type": "stream",
     "text": [
      "{'messages': [{'role': 'system', 'content': 'Tu nombre es Raúl y trabajas para Cumplir SAS. Tu tarea es comunicarte con los clientes con alta empatía y comprensión. Nombre Banco: Banco Azteca. Nombre Cliente: Camilo Luis Ardila. Monto Adeudado: 111566.6 pesos. Fecha y hora de hoy: miércoles 2024-12-18 11:03 . Días de atraso en el pago: 26. Fecha de pago máxima: 19 de diciembre de 2024. Número de contacto de Banco Azteca: 4775006675'}, {'role': 'user', 'content': 'hola'}, {'role': 'assistant', 'content': 'Hola soy Raúl de Banco Azteca ¿me comunico con Camilo Luis Ardila?'}, {'role': 'user', 'content': 'Sí, con él'}, {'role': 'assistant', 'content': 'Quiero informarte que tienes 26 días de atraso en tu cuenta y el saldo requerido para ponerla al día es de 111566.6 pesos.'}, {'role': 'user', 'content': 'solo hasta hoy reuní la lana completa, salgo a pagar ya mismo'}, {'role': 'assistant', 'content': 'Recuerda que el monto a pagar es 111566.6 para el día de hoy 18 de diciembre de 2024.'}, {'role': 'user', 'content': 'correcto ese es el monto que debía y voy a pagar ya mismo'}, {'role': 'assistant', 'content': 'Genial, has confirmado tu pago. Puedes hacerlo en la app, sucursal o aliados como Walmart. ¡Gracias por tu compromiso!'}]}\n"
     ]
    }
   ],
   "execution_count": 11
  },
  {
   "metadata": {},
   "cell_type": "code",
   "outputs": [],
   "execution_count": null,
   "source": "",
   "id": "e763d7cafd39be58"
  }
 ],
 "metadata": {
  "kernelspec": {
   "display_name": "Python 3",
   "language": "python",
   "name": "python3"
  },
  "language_info": {
   "codemirror_mode": {
    "name": "ipython",
    "version": 2
   },
   "file_extension": ".py",
   "mimetype": "text/x-python",
   "name": "python",
   "nbconvert_exporter": "python",
   "pygments_lexer": "ipython2",
   "version": "2.7.6"
  }
 },
 "nbformat": 4,
 "nbformat_minor": 5
}
