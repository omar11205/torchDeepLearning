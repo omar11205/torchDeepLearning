{
 "cells": [
  {
   "cell_type": "code",
   "id": "initial_id",
   "metadata": {
    "collapsed": true,
    "ExecuteTime": {
     "end_time": "2024-12-24T17:30:00.819491Z",
     "start_time": "2024-12-24T17:29:57.608627Z"
    }
   },
   "source": [
    "from simulation_modules import cobranzas_fine_tuning_template as cft\n",
    "import pandas as pd\n",
    "import json\n",
    "from string import Template\n",
    "from pprint import pprint"
   ],
   "outputs": [],
   "execution_count": 1
  },
  {
   "metadata": {},
   "cell_type": "markdown",
   "source": "Generate a fine-tuning dataset with a chat-completion template for Cobranzas",
   "id": "986fa0ca09afc808"
  },
  {
   "metadata": {},
   "cell_type": "markdown",
   "source": [
    "### Generate Random and Custom data for the fine tuning dataset\n",
    "Generate the random and additional data needed in the conversation with an instance of ConversationDataGenerator. The aditional info will be stored inside the 'aditional' dictionary."
   ],
   "id": "4fa671aa45dff6d5"
  },
  {
   "metadata": {
    "ExecuteTime": {
     "end_time": "2024-12-24T17:34:11.228532Z",
     "start_time": "2024-12-24T17:34:11.215871Z"
    }
   },
   "cell_type": "code",
   "source": [
    "bank_name = \"Banco Azteca\"\n",
    "agent_name = \"Raúl\"\n",
    "\n",
    "aditional_data = {\n",
    "        \"user_identity_confirmation\": \"[hola; Sí, soy yo; Sí, con $gender_confirm; Sí, yo hablo; Sí, aquí estoy; Sí, en qué puedo ayudarle; Así es, soy $gender_confirm; Correcto, está hablando con $gender_confirm; Sí, soy $gender_confirm, ¿de qué se trata?; Le escucho, soy $gender_confirm; Sí, conmigo está hablando; Sí, ¿qué necesita?]\",\n",
    "        \"user_agrees_to_pay_today\": \"[Perdón, olvidé la fecha límite, pero haré el pago hoy mismo; Me descuidé, pero ya tengo el dinero y voy a pagar hoy; Sí, justo hoy puedo hacer el pago; No se preocupe, estoy por salir a pagar ahora mismo; Hoy mismo haré el pago, se me había pasado; Ya tengo el monto listo y voy a pagarlo en cuanto pueda; Sí, salgo en este momento a pagar; Voy a pagar en un rato, lo prometo; Ya tengo el dinero reunido, haré el pago hoy; Sí, voy de camino a realizar el pago, discúlpeme]\"\n",
    "}\n",
    "\n",
    "\n",
    "data_generator = cft.ConversationDataGenerator(bank_name, agent_name, aditional_data)\n",
    "\n",
    "# see a random sample of the data\n",
    "conversation_data = data_generator.gen_data()\n",
    "pprint(conversation_data)"
   ],
   "id": "d80b2cfde6a56dbd",
   "outputs": [
    {
     "name": "stdout",
     "output_type": "stream",
     "text": [
      "{'aditional': {'user_agrees_to_pay_today': '[Perdón, olvidé la fecha límite, '\n",
      "                                           'pero haré el pago hoy mismo; Me '\n",
      "                                           'descuidé, pero ya tengo el dinero '\n",
      "                                           'y voy a pagar hoy; Sí, justo hoy '\n",
      "                                           'puedo hacer el pago; No se '\n",
      "                                           'preocupe, estoy por salir a pagar '\n",
      "                                           'ahora mismo; Hoy mismo haré el '\n",
      "                                           'pago, se me había pasado; Ya tengo '\n",
      "                                           'el monto listo y voy a pagarlo en '\n",
      "                                           'cuanto pueda; Sí, salgo en este '\n",
      "                                           'momento a pagar; Voy a pagar en un '\n",
      "                                           'rato, lo prometo; Ya tengo el '\n",
      "                                           'dinero reunido, haré el pago hoy; '\n",
      "                                           'Sí, voy de camino a realizar el '\n",
      "                                           'pago, discúlpeme]',\n",
      "               'user_identity_confirmation': '[hola; Sí, soy yo; Sí, con '\n",
      "                                             '$gender_confirm; Sí, yo hablo; '\n",
      "                                             'Sí, aquí estoy; Sí, en qué puedo '\n",
      "                                             'ayudarle; Así es, soy '\n",
      "                                             '$gender_confirm; Correcto, está '\n",
      "                                             'hablando con $gender_confirm; '\n",
      "                                             'Sí, soy $gender_confirm, ¿de qué '\n",
      "                                             'se trata?; Le escucho, soy '\n",
      "                                             '$gender_confirm; Sí, conmigo '\n",
      "                                             'está hablando; Sí, ¿qué '\n",
      "                                             'necesita?]'},\n",
      " 'cobranzas': {'agent': 'Raúl',\n",
      "               'bank_name': 'Banco Azteca',\n",
      "               'contact_number': 4775006675},\n",
      " 'debt': {'amount': 866526.3,\n",
      "          'due_date': '2024-12-13T02:27:17',\n",
      "          'ndays': 11,\n",
      "          'npays': 12,\n",
      "          'outstanding_balance': 72210.53,\n",
      "          'start_date': '2023-12-19T02:27:17',\n",
      "          'status': 'activo',\n",
      "          'system_date_time': 'martes 2024-12-24 12:34 ',\n",
      "          'today_date': '24 de diciembre de 2024',\n",
      "          'tomorrow_date': '25 de diciembre de 2024'},\n",
      " 'debtor': {'address': 'Calle 88 # 9-8 Sur\\n'\n",
      "                       'Local 958\\n'\n",
      "                       '686766\\n'\n",
      "                       'Zapatoca, Santander',\n",
      "            'confirmation': 'él',\n",
      "            'email': 'damarisbarbosa@gmail.com',\n",
      "            'first_name': 'Sebastián',\n",
      "            'full_name': 'Sebastián Pedro Moreno Puentes',\n",
      "            'gender': 'M',\n",
      "            'identification': '92805974',\n",
      "            'known': 'lo',\n",
      "            'phone_number': '57 300 589 60 70',\n",
      "            'pronoun': 'el',\n",
      "            'title': 'Señor'}}\n"
     ]
    }
   ],
   "execution_count": 5
  },
  {
   "metadata": {},
   "cell_type": "markdown",
   "source": [
    "### See the default placeholders and define a function to update them\n",
    "View the default sub entry dictionary structure that contains the placeholders with a conversation_data sample. Note that there are no placeholders for 'user_identity_confirmation' or 'user_agrees_to_pay_today'. To add them we can define a function that return the extraction of all the information that will contain the new placeholders following the structure of the 'conversation_data' dict. Note that can be placeholders inside the new information (like '$gender_confirm'), so don't forget to add all the placeholders inside the function. In this case 'gender_confirm' is already in the default placeholders."
   ],
   "id": "9bab90350d399148"
  },
  {
   "metadata": {
    "ExecuteTime": {
     "end_time": "2024-12-20T19:03:49.025306Z",
     "start_time": "2024-12-20T19:03:49.017598Z"
    }
   },
   "cell_type": "code",
   "source": [
    "# print the default placeholders\n",
    "sub_entry = cft.ConversationFactory.generate_basic_sub_entry(conversation_data)\n",
    "pprint(sub_entry)"
   ],
   "id": "c22e64fca20d0f93",
   "outputs": [
    {
     "name": "stdout",
     "output_type": "stream",
     "text": [
      "{'address': 'Calle 94 # 6-9 Sur\\n051323\\nFredonia, Antioquia',\n",
      " 'agent': 'Raúl',\n",
      " 'amount': 498826.19,\n",
      " 'bank_name': 'Banco Azteca',\n",
      " 'contact_number': 4775006675,\n",
      " 'days': 24,\n",
      " 'email': 'escobarmagdalena@gmail.com',\n",
      " 'full_name': 'Néstor Henry Bohórquez Parra',\n",
      " 'gender_confirm': 'él',\n",
      " 'identification': '17496114',\n",
      " 'known': 'lo',\n",
      " 'phone_number': '9707304',\n",
      " 'plural_ndays': 'días',\n",
      " 'pronoun': 'el',\n",
      " 'system_date_time': 'viernes 2024-12-20 02:03 ',\n",
      " 'title': 'Señor',\n",
      " 'today_date': '20 de diciembre de 2024',\n",
      " 'tomorrow_date': '21 de diciembre de 2024'}\n"
     ]
    }
   ],
   "execution_count": 13
  },
  {
   "metadata": {
    "ExecuteTime": {
     "end_time": "2024-12-20T19:03:50.906617Z",
     "start_time": "2024-12-20T19:03:50.900441Z"
    }
   },
   "cell_type": "code",
   "source": [
    "# function to update placeholders\n",
    "def update_sub_entry(cdata):\n",
    "    sub = {\n",
    "        # default placeholders\n",
    "        'bank_name': cdata['cobranzas']['bank_name'],\n",
    "        'agent': cdata['cobranzas']['agent'],\n",
    "        'contact_number': cdata['cobranzas']['contact_number'],\n",
    "        'full_name': cdata['debtor']['full_name'],\n",
    "        'address': cdata['debtor']['address'],\n",
    "        'phone_number': cdata['debtor']['phone_number'],\n",
    "        'email': cdata['debtor']['email'],\n",
    "        'identification': cdata['debtor']['identification'],\n",
    "        'days': cdata['debt']['ndays'],\n",
    "        'plural_ndays': \"días\" if cdata['debt']['ndays'] > 1 else \"día\",\n",
    "        'amount': cdata['debt']['amount'],\n",
    "        'today_date': cdata['debt']['today_date'],\n",
    "        'tomorrow_date': cdata['debt']['tomorrow_date'],\n",
    "        'title': cdata['debtor']['title'],\n",
    "        'pronoun': cdata['debtor']['pronoun'],\n",
    "        'gender_confirm': cdata['debtor']['confirmation'],\n",
    "        'known': cdata['debtor']['known'],\n",
    "        'system_date_time': cdata['debt']['system_date_time'],\n",
    "        # new placeholders\n",
    "        'user_identity_confirmation': cdata['aditional']['user_identity_confirmation'],\n",
    "        'user_agrees_to_pay_today': cdata['aditional']['user_agrees_to_pay_today']\n",
    "    }\n",
    "\n",
    "    return sub"
   ],
   "id": "efb602796072c231",
   "outputs": [],
   "execution_count": 14
  },
  {
   "metadata": {},
   "cell_type": "markdown",
   "source": [
    "### Define an instance of the ConversationFactory\n",
    "\n",
    "To create an instance we must have:\n",
    "\n",
    "- template file path, \n",
    "- system prompt str\n",
    "- 'data_generator' instance of the ConversationDataGenerator\n",
    "- 'update_sub_entry' func (if aditional information was added to the ConversationDataGenerator instance)\n",
    "- use_random_variations (optional - use it to create the test dataset)\n",
    " \n",
    "With The option 'use_random_variations' factory will randomly choose an option in the user part of the template instead of create an entire separated conversation example for each element in the user part of the template. If the template has 12 conversation fluxes the output will be 12 random user conversations. Later with the option 'dataset_size' of the method 'generate_fine_tuning_dataset' the number of test examples will be multiplied with this integer.\n",
    "\n",
    "Withouth 'use_randdom_variations' the number of training examples is equal to the combinatorics of the placeholders per conversation flux inside the template."
   ],
   "id": "979b45af6a2d837c"
  },
  {
   "metadata": {
    "ExecuteTime": {
     "end_time": "2024-12-20T19:03:54.913939Z",
     "start_time": "2024-12-20T19:03:54.903207Z"
    }
   },
   "cell_type": "code",
   "source": [
    " # generate a variational dataset\n",
    "template_csv_path = 'simulation_modules/chat_flux_experimental.csv'\n",
    "\n",
    "system_prompt_default = (\n",
    "        \"Tu nombre es $agent y trabajas para Cumplir SAS. \" \n",
    "        \"Tu tarea es comunicarte con los clientes con alta empatía y comprensión. \"\n",
    "        \"Nombre Banco: $bank_name. \"\n",
    "        \"Nombre Cliente: $full_name. \" \n",
    "        \"Monto Adeudado: $amount pesos. \"\n",
    "        \"Fecha y hora de hoy: $system_date_time. \"\n",
    "        \"Días de atraso en el pago: $days. \" \n",
    "        \"Fecha de pago máxima: $tomorrow_date. \"\n",
    "        \"Número de contacto de Banco Azteca: $contact_number\"\n",
    ")\n",
    "\n",
    "factory = cft.ConversationFactory(\n",
    "        input_csv = template_csv_path,\n",
    "        system_prompt = system_prompt_default,\n",
    "        gen_data_instance = data_generator,\n",
    "        sub_entry = update_sub_entry,\n",
    "        use_random_variations=False               \n",
    ")"
   ],
   "id": "8ced990f2407c002",
   "outputs": [],
   "execution_count": 15
  },
  {
   "metadata": {
    "ExecuteTime": {
     "end_time": "2024-12-20T19:03:57.151008Z",
     "start_time": "2024-12-20T19:03:57.098093Z"
    }
   },
   "cell_type": "code",
   "source": [
    "conversations = factory.generate_fine_tuning_dataset()\n",
    "print(f\"Total variational training conversations: {len(conversations)}\")"
   ],
   "id": "dd69561a8360d41e",
   "outputs": [
    {
     "name": "stdout",
     "output_type": "stream",
     "text": [
      "Total variational training conversations: 900\n"
     ]
    }
   ],
   "execution_count": 16
  },
  {
   "metadata": {
    "ExecuteTime": {
     "end_time": "2024-12-20T19:07:05.530182Z",
     "start_time": "2024-12-20T19:07:05.524170Z"
    }
   },
   "cell_type": "code",
   "source": "print(conversations[0])",
   "id": "2b5acc5c68b9ec07",
   "outputs": [
    {
     "name": "stdout",
     "output_type": "stream",
     "text": [
      "{'messages': [{'role': 'system', 'content': 'Tu nombre es Raúl y trabajas para Cumplir SAS. Tu tarea es comunicarte con los clientes con alta empatía y comprensión. Nombre Banco: Banco Azteca. Nombre Cliente: Iván Tulio García Suárez. Monto Adeudado: 715763.29 pesos. Fecha y hora de hoy: viernes 2024-12-20 02:03 . Días de atraso en el pago: 5. Fecha de pago máxima: 21 de diciembre de 2024. Número de contacto de Banco Azteca: 4775006675'}, {'role': 'user', 'content': 'hola'}, {'role': 'assistant', 'content': 'Hola soy Raúl de Banco Azteca ¿me comunico con Iván Tulio García Suárez?'}, {'role': 'user', 'content': 'hola'}, {'role': 'assistant', 'content': 'Quiero informarte que tienes 5 días de atraso en tu cuenta y el saldo requerido para ponerla al día es de 715763.29 pesos.'}, {'role': 'user', 'content': 'Perdón, olvidé la fecha límite, pero haré el pago hoy mismo'}, {'role': 'assistant', 'content': 'Recuerda que el monto a pagar es 715763.29 para el día de hoy 20 de diciembre de 2024.'}, {'role': 'user', 'content': 'correcto ese es el monto que debía y voy a pagar ya mismo'}, {'role': 'assistant', 'content': 'Genial, has confirmado tu pago. Puedes hacerlo en la app, sucursal o aliados como Walmart. ¡Gracias por tu compromiso!'}]}\n"
     ]
    }
   ],
   "execution_count": 19
  },
  {
   "metadata": {
    "ExecuteTime": {
     "end_time": "2024-12-20T19:07:14.463669Z",
     "start_time": "2024-12-20T19:07:14.457720Z"
    }
   },
   "cell_type": "code",
   "source": "print(conversations[90])",
   "id": "ed467c8b1a8fa2fc",
   "outputs": [
    {
     "name": "stdout",
     "output_type": "stream",
     "text": [
      "{'messages': [{'role': 'system', 'content': 'Tu nombre es Raúl y trabajas para Cumplir SAS. Tu tarea es comunicarte con los clientes con alta empatía y comprensión. Nombre Banco: Banco Azteca. Nombre Cliente: Iván Tulio García Suárez. Monto Adeudado: 715763.29 pesos. Fecha y hora de hoy: viernes 2024-12-20 02:03 . Días de atraso en el pago: 5. Fecha de pago máxima: 21 de diciembre de 2024. Número de contacto de Banco Azteca: 4775006675'}, {'role': 'user', 'content': 'hola'}, {'role': 'assistant', 'content': 'Hola soy Raúl de Banco Azteca ¿me comunico con Iván Tulio García Suárez?'}, {'role': 'user', 'content': 'Sí, aquí estoy'}, {'role': 'assistant', 'content': 'Quiero informarte que tienes 5 días de atraso en tu cuenta y el saldo requerido para ponerla al día es de 715763.29 pesos.'}, {'role': 'user', 'content': 'Ya tengo el monto listo y voy a pagarlo en cuanto pueda'}, {'role': 'assistant', 'content': 'Recuerda que el monto a pagar es 715763.29 para el día de hoy 20 de diciembre de 2024.'}, {'role': 'user', 'content': 'correcto ese es el monto que debía y voy a pagar ya mismo'}, {'role': 'assistant', 'content': 'Genial, has confirmado tu pago. Puedes hacerlo en la app, sucursal o aliados como Walmart. ¡Gracias por tu compromiso!'}]}\n"
     ]
    }
   ],
   "execution_count": 20
  },
  {
   "metadata": {
    "ExecuteTime": {
     "end_time": "2024-12-19T04:06:33.523799Z",
     "start_time": "2024-12-19T04:06:33.503794Z"
    }
   },
   "cell_type": "code",
   "source": "print(conversations[2])",
   "id": "e4e34af35ef55b6",
   "outputs": [
    {
     "name": "stdout",
     "output_type": "stream",
     "text": [
      "{'messages': [{'role': 'system', 'content': 'Tu nombre es Raúl y trabajas para Cumplir SAS. Tu tarea es comunicarte con los clientes con alta empatía y comprensión. Nombre Banco: Banco Azteca. Nombre Cliente: Camilo Luis Ardila. Monto Adeudado: 111566.6 pesos. Fecha y hora de hoy: miércoles 2024-12-18 11:03 . Días de atraso en el pago: 26. Fecha de pago máxima: 19 de diciembre de 2024. Número de contacto de Banco Azteca: 4775006675'}, {'role': 'user', 'content': 'hola'}, {'role': 'assistant', 'content': 'Hola soy Raúl de Banco Azteca ¿me comunico con Camilo Luis Ardila?'}, {'role': 'user', 'content': 'Sí, con él'}, {'role': 'assistant', 'content': 'Quiero informarte que tienes 26 días de atraso en tu cuenta y el saldo requerido para ponerla al día es de 111566.6 pesos.'}, {'role': 'user', 'content': 'solo hasta hoy reuní la lana completa, salgo a pagar ya mismo'}, {'role': 'assistant', 'content': 'Recuerda que el monto a pagar es 111566.6 para el día de hoy 18 de diciembre de 2024.'}, {'role': 'user', 'content': 'correcto ese es el monto que debía y voy a pagar ya mismo'}, {'role': 'assistant', 'content': 'Genial, has confirmado tu pago. Puedes hacerlo en la app, sucursal o aliados como Walmart. ¡Gracias por tu compromiso!'}]}\n"
     ]
    }
   ],
   "execution_count": 11
  }
 ],
 "metadata": {
  "kernelspec": {
   "display_name": "Python 3",
   "language": "python",
   "name": "python3"
  },
  "language_info": {
   "codemirror_mode": {
    "name": "ipython",
    "version": 2
   },
   "file_extension": ".py",
   "mimetype": "text/x-python",
   "name": "python",
   "nbconvert_exporter": "python",
   "pygments_lexer": "ipython2",
   "version": "2.7.6"
  }
 },
 "nbformat": 4,
 "nbformat_minor": 5
}
