{
 "cells": [
  {
   "cell_type": "code",
   "execution_count": null,
   "id": "initial_id",
   "metadata": {
    "collapsed": true
   },
   "outputs": [],
   "source": [
    "from simulation_modules import chatbot_sim_template as cst\n",
    "import pandas as pd\n",
    "import json"
   ]
  },
  {
   "metadata": {},
   "cell_type": "code",
   "outputs": [],
   "execution_count": null,
   "source": [
    " # generate a variational dataset\n",
    "    input_csv = 'chat_flux_template_azteca_test.csv'\n",
    "\n",
    "    system_prompt_default = (\n",
    "            \"Tu nombre es $agent y trabajas para Cumplir SAS. \" \n",
    "            \"Tu tarea es comunicarte con los clientes con alta empatía y comprensión. \"\n",
    "            \"Nombre Banco: $bank_name. \"\n",
    "            \"Nombre Cliente: $full_name. \" \n",
    "            \"Monto Adeudado: $amount pesos. \"\n",
    "            \"Fecha y hora de hoy: $system_date_time. \"\n",
    "            \"Días de atraso en el pago: $days. \" \n",
    "            \"Fecha de pago máxima: $tomorrow_date. \"\n",
    "            \"Número de contacto de Banco Azteca: $contact_number\"\n",
    "    )\n",
    "\n",
    "    factory = ConversationFactory(input_csv, system_prompt_default)\n",
    "    conversations = factory.generate_variational_training_data(bank_name=\"Banco Azteca\", agent_name=\"Raúl\")\n",
    "\n",
    "    print(f\"Total variational training conversations: {len(conversations)}\")"
   ],
   "id": "d80b2cfde6a56dbd"
  }
 ],
 "metadata": {
  "kernelspec": {
   "display_name": "Python 3",
   "language": "python",
   "name": "python3"
  },
  "language_info": {
   "codemirror_mode": {
    "name": "ipython",
    "version": 2
   },
   "file_extension": ".py",
   "mimetype": "text/x-python",
   "name": "python",
   "nbconvert_exporter": "python",
   "pygments_lexer": "ipython2",
   "version": "2.7.6"
  }
 },
 "nbformat": 4,
 "nbformat_minor": 5
}
