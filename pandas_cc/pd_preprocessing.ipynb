{
 "cells": [
  {
   "metadata": {},
   "cell_type": "markdown",
   "source": [
    "Sources: \n",
    "- https://github.com/jeffheaton/app_deep_learning\n",
    "- https://maxhalford.github.io/blog/target-encoding/\n"
   ],
   "id": "9bc335c75a421c7a"
  },
  {
   "metadata": {},
   "cell_type": "markdown",
   "source": "Pandas is based on the dataframe concept found in the R programming language. ",
   "id": "9b992371b4eda971"
  },
  {
   "metadata": {
    "ExecuteTime": {
     "end_time": "2024-07-22T20:30:39.815759Z",
     "start_time": "2024-07-22T20:30:39.116759Z"
    }
   },
   "cell_type": "code",
   "source": [
    "import pandas as pd\n",
    "import numpy as np"
   ],
   "id": "99f017a8488aef37",
   "outputs": [],
   "execution_count": 2
  },
  {
   "metadata": {
    "ExecuteTime": {
     "end_time": "2024-07-19T12:35:20.625780Z",
     "start_time": "2024-07-19T12:35:20.609405Z"
    }
   },
   "cell_type": "code",
   "source": [
    "# display function provides a cleaner display than merely printing the data frame \n",
    "pd.set_option('display.max_columns', 7)\n",
    "pd.set_option('display.max_rows', 6)\n",
    "df = pd.read_csv('data/auto-mpg.csv')\n",
    "display(df)"
   ],
   "id": "512ec74d16fd9f79",
   "outputs": [
    {
     "data": {
      "text/plain": [
       "      mpg  cylinders  displacement  ... year  origin  \\\n",
       "0    18.0          8         307.0  ...   70       1   \n",
       "1    15.0          8         350.0  ...   70       1   \n",
       "2    18.0          8         318.0  ...   70       1   \n",
       "..    ...        ...           ...  ...  ...     ...   \n",
       "395  32.0          4         135.0  ...   82       1   \n",
       "396  28.0          4         120.0  ...   82       1   \n",
       "397  31.0          4         119.0  ...   82       1   \n",
       "\n",
       "                          name  \n",
       "0    chevrolet chevelle malibu  \n",
       "1            buick skylark 320  \n",
       "2           plymouth satellite  \n",
       "..                         ...  \n",
       "395              dodge rampage  \n",
       "396                ford ranger  \n",
       "397                 chevy s-10  \n",
       "\n",
       "[398 rows x 9 columns]"
      ],
      "text/html": [
       "<div>\n",
       "<style scoped>\n",
       "    .dataframe tbody tr th:only-of-type {\n",
       "        vertical-align: middle;\n",
       "    }\n",
       "\n",
       "    .dataframe tbody tr th {\n",
       "        vertical-align: top;\n",
       "    }\n",
       "\n",
       "    .dataframe thead th {\n",
       "        text-align: right;\n",
       "    }\n",
       "</style>\n",
       "<table border=\"1\" class=\"dataframe\">\n",
       "  <thead>\n",
       "    <tr style=\"text-align: right;\">\n",
       "      <th></th>\n",
       "      <th>mpg</th>\n",
       "      <th>cylinders</th>\n",
       "      <th>displacement</th>\n",
       "      <th>...</th>\n",
       "      <th>year</th>\n",
       "      <th>origin</th>\n",
       "      <th>name</th>\n",
       "    </tr>\n",
       "  </thead>\n",
       "  <tbody>\n",
       "    <tr>\n",
       "      <th>0</th>\n",
       "      <td>18.0</td>\n",
       "      <td>8</td>\n",
       "      <td>307.0</td>\n",
       "      <td>...</td>\n",
       "      <td>70</td>\n",
       "      <td>1</td>\n",
       "      <td>chevrolet chevelle malibu</td>\n",
       "    </tr>\n",
       "    <tr>\n",
       "      <th>1</th>\n",
       "      <td>15.0</td>\n",
       "      <td>8</td>\n",
       "      <td>350.0</td>\n",
       "      <td>...</td>\n",
       "      <td>70</td>\n",
       "      <td>1</td>\n",
       "      <td>buick skylark 320</td>\n",
       "    </tr>\n",
       "    <tr>\n",
       "      <th>2</th>\n",
       "      <td>18.0</td>\n",
       "      <td>8</td>\n",
       "      <td>318.0</td>\n",
       "      <td>...</td>\n",
       "      <td>70</td>\n",
       "      <td>1</td>\n",
       "      <td>plymouth satellite</td>\n",
       "    </tr>\n",
       "    <tr>\n",
       "      <th>...</th>\n",
       "      <td>...</td>\n",
       "      <td>...</td>\n",
       "      <td>...</td>\n",
       "      <td>...</td>\n",
       "      <td>...</td>\n",
       "      <td>...</td>\n",
       "      <td>...</td>\n",
       "    </tr>\n",
       "    <tr>\n",
       "      <th>395</th>\n",
       "      <td>32.0</td>\n",
       "      <td>4</td>\n",
       "      <td>135.0</td>\n",
       "      <td>...</td>\n",
       "      <td>82</td>\n",
       "      <td>1</td>\n",
       "      <td>dodge rampage</td>\n",
       "    </tr>\n",
       "    <tr>\n",
       "      <th>396</th>\n",
       "      <td>28.0</td>\n",
       "      <td>4</td>\n",
       "      <td>120.0</td>\n",
       "      <td>...</td>\n",
       "      <td>82</td>\n",
       "      <td>1</td>\n",
       "      <td>ford ranger</td>\n",
       "    </tr>\n",
       "    <tr>\n",
       "      <th>397</th>\n",
       "      <td>31.0</td>\n",
       "      <td>4</td>\n",
       "      <td>119.0</td>\n",
       "      <td>...</td>\n",
       "      <td>82</td>\n",
       "      <td>1</td>\n",
       "      <td>chevy s-10</td>\n",
       "    </tr>\n",
       "  </tbody>\n",
       "</table>\n",
       "<p>398 rows × 9 columns</p>\n",
       "</div>"
      ]
     },
     "metadata": {},
     "output_type": "display_data"
    }
   ],
   "execution_count": 2
  },
  {
   "metadata": {},
   "cell_type": "markdown",
   "source": "Generating a list of dictionaries with statistical information about the dataframe field-by-field (headers)",
   "id": "3a9255a51cef2ba5"
  },
  {
   "metadata": {
    "ExecuteTime": {
     "end_time": "2024-07-19T12:46:56.311864Z",
     "start_time": "2024-07-19T12:46:56.306595Z"
    }
   },
   "cell_type": "code",
   "source": [
    "# strip non-numerics\n",
    "df = df.select_dtypes(include=['int', 'float'])\n",
    "\n",
    "headers = list(df.columns.values)\n",
    "fields = []\n",
    "\n",
    "for field in headers:\n",
    "    fields.append(\n",
    "        {\n",
    "            \"name\": field,\n",
    "            \"mean\": df[field].mean(),\n",
    "            \"var\": df[field].var(),\n",
    "            \"sdev\": df[field].std(),\n",
    "        }\n",
    "    )\n",
    "    \n",
    "for field in fields:\n",
    "    print(field)"
   ],
   "id": "485a720f34748dbf",
   "outputs": [
    {
     "name": "stdout",
     "output_type": "stream",
     "text": [
      "{'name': 'mpg', 'mean': 23.514572864321607, 'var': 61.089610774274405, 'sdev': 7.815984312565782}\n",
      "{'name': 'cylinders', 'mean': 5.454773869346734, 'var': 2.893415439920003, 'sdev': 1.7010042445332119}\n",
      "{'name': 'displacement', 'mean': 193.42587939698493, 'var': 10872.199152247384, 'sdev': 104.26983817119591}\n",
      "{'name': 'weight', 'mean': 2970.424623115578, 'var': 717140.9905256763, 'sdev': 846.8417741973268}\n",
      "{'name': 'acceleration', 'mean': 15.568090452261307, 'var': 7.604848233611383, 'sdev': 2.757688929812676}\n",
      "{'name': 'year', 'mean': 76.01005025125629, 'var': 13.672442818627143, 'sdev': 3.697626646732623}\n",
      "{'name': 'origin', 'mean': 1.5728643216080402, 'var': 0.6432920268850549, 'sdev': 0.8020548777266148}\n"
     ]
    }
   ],
   "execution_count": 3
  },
  {
   "metadata": {},
   "cell_type": "markdown",
   "source": "The following code convert the list of dictionaries into a pd dataframe. To restore default pd display set display values to zero",
   "id": "93b49b0e63a421ee"
  },
  {
   "metadata": {
    "ExecuteTime": {
     "end_time": "2024-07-19T12:50:35.438923Z",
     "start_time": "2024-07-19T12:50:35.430744Z"
    }
   },
   "cell_type": "code",
   "source": [
    "pd.set_option('display.max_columns', 0)\n",
    "pd.set_option('display.max_rows', 0)\n",
    "df2 = pd.DataFrame(data=fields)\n",
    "display(df2)"
   ],
   "id": "bc81a550f9bbab39",
   "outputs": [
    {
     "data": {
      "text/plain": [
       "           name         mean            var        sdev\n",
       "0           mpg    23.514573      61.089611    7.815984\n",
       "1     cylinders     5.454774       2.893415    1.701004\n",
       "2  displacement   193.425879   10872.199152  104.269838\n",
       "3        weight  2970.424623  717140.990526  846.841774\n",
       "4  acceleration    15.568090       7.604848    2.757689\n",
       "5          year    76.010050      13.672443    3.697627\n",
       "6        origin     1.572864       0.643292    0.802055"
      ],
      "text/html": [
       "<div>\n",
       "<style scoped>\n",
       "    .dataframe tbody tr th:only-of-type {\n",
       "        vertical-align: middle;\n",
       "    }\n",
       "\n",
       "    .dataframe tbody tr th {\n",
       "        vertical-align: top;\n",
       "    }\n",
       "\n",
       "    .dataframe thead th {\n",
       "        text-align: right;\n",
       "    }\n",
       "</style>\n",
       "<table border=\"1\" class=\"dataframe\">\n",
       "  <thead>\n",
       "    <tr style=\"text-align: right;\">\n",
       "      <th></th>\n",
       "      <th>name</th>\n",
       "      <th>mean</th>\n",
       "      <th>var</th>\n",
       "      <th>sdev</th>\n",
       "    </tr>\n",
       "  </thead>\n",
       "  <tbody>\n",
       "    <tr>\n",
       "      <th>0</th>\n",
       "      <td>mpg</td>\n",
       "      <td>23.514573</td>\n",
       "      <td>61.089611</td>\n",
       "      <td>7.815984</td>\n",
       "    </tr>\n",
       "    <tr>\n",
       "      <th>1</th>\n",
       "      <td>cylinders</td>\n",
       "      <td>5.454774</td>\n",
       "      <td>2.893415</td>\n",
       "      <td>1.701004</td>\n",
       "    </tr>\n",
       "    <tr>\n",
       "      <th>2</th>\n",
       "      <td>displacement</td>\n",
       "      <td>193.425879</td>\n",
       "      <td>10872.199152</td>\n",
       "      <td>104.269838</td>\n",
       "    </tr>\n",
       "    <tr>\n",
       "      <th>3</th>\n",
       "      <td>weight</td>\n",
       "      <td>2970.424623</td>\n",
       "      <td>717140.990526</td>\n",
       "      <td>846.841774</td>\n",
       "    </tr>\n",
       "    <tr>\n",
       "      <th>4</th>\n",
       "      <td>acceleration</td>\n",
       "      <td>15.568090</td>\n",
       "      <td>7.604848</td>\n",
       "      <td>2.757689</td>\n",
       "    </tr>\n",
       "    <tr>\n",
       "      <th>5</th>\n",
       "      <td>year</td>\n",
       "      <td>76.010050</td>\n",
       "      <td>13.672443</td>\n",
       "      <td>3.697627</td>\n",
       "    </tr>\n",
       "    <tr>\n",
       "      <th>6</th>\n",
       "      <td>origin</td>\n",
       "      <td>1.572864</td>\n",
       "      <td>0.643292</td>\n",
       "      <td>0.802055</td>\n",
       "    </tr>\n",
       "  </tbody>\n",
       "</table>\n",
       "</div>"
      ]
     },
     "metadata": {},
     "output_type": "display_data"
    }
   ],
   "execution_count": 4
  },
  {
   "metadata": {},
   "cell_type": "markdown",
   "source": [
    "### Managing missing values\n",
    "\n",
    "Missing values are a reality of machine learning. Every dataset has missing values. Most of the values are present in the MPG database. However, there are missing values in the horspower column. A coomon practice is to replace missing values with the median values for that column. The following code replaces any NA values in horsepower with the median."
   ],
   "id": "4862fcff050456d6"
  },
  {
   "metadata": {
    "ExecuteTime": {
     "end_time": "2024-07-19T13:00:47.351046Z",
     "start_time": "2024-07-19T13:00:47.346720Z"
    }
   },
   "cell_type": "code",
   "source": "df = pd.read_csv(\"data/auto-mpg.csv\", na_values=[\"NA\", \"?\"])",
   "id": "792c317849f77c64",
   "outputs": [],
   "execution_count": 5
  },
  {
   "metadata": {
    "ExecuteTime": {
     "end_time": "2024-07-19T13:01:53.484963Z",
     "start_time": "2024-07-19T13:01:53.481756Z"
    }
   },
   "cell_type": "code",
   "source": "print(f\"horsepower has na? {pd.isnull(df['horsepower']).values.any()}\")",
   "id": "143d3d28ddd920a1",
   "outputs": [
    {
     "name": "stdout",
     "output_type": "stream",
     "text": [
      "horsepower has na? True\n"
     ]
    }
   ],
   "execution_count": 6
  },
  {
   "metadata": {
    "ExecuteTime": {
     "end_time": "2024-07-19T13:06:15.967052Z",
     "start_time": "2024-07-19T13:06:15.962546Z"
    }
   },
   "cell_type": "code",
   "source": [
    "print(\"Filling missing values...\")\n",
    "med = df['horsepower'].median()\n",
    "df['horsepower'] = df['horsepower'].fillna(med)\n",
    "# its common also don't fill with the median but drop the entire row with the missing value\n",
    "# df = df.dropna()\n",
    "print(f\"horsepower has na? {pd.isnull(df['horsepower']).values.any()}\")"
   ],
   "id": "5155c0314e052c52",
   "outputs": [
    {
     "name": "stdout",
     "output_type": "stream",
     "text": [
      "Filling missing values...\n",
      "horsepower has na? False\n"
     ]
    }
   ],
   "execution_count": 7
  },
  {
   "metadata": {},
   "cell_type": "markdown",
   "source": [
    "### Dealing with outliers\n",
    "\n",
    "Outliers are values that are unusually high or low. We typically consider outliers to be a value that is several standard deviations from the mean. Sometimes outliers are simply errors; this is a result of observational error. Outliers can also be truly large or small values that may be difficult to adress. The following function can remove such values."
   ],
   "id": "eedf3fd35c194f0b"
  },
  {
   "metadata": {
    "ExecuteTime": {
     "end_time": "2024-07-19T15:40:17.451082Z",
     "start_time": "2024-07-19T15:40:17.447565Z"
    }
   },
   "cell_type": "code",
   "source": [
    "# Remove all rows where the specified column is +/- sd standard deviations\n",
    "def remove_outliers(df, name, sd):\n",
    "    drop_rows = df.index[\n",
    "        (np.abs(df[name] - df[name].mean()) >= (sd*df[name].std()))\n",
    "    ]\n",
    "    df.drop(drop_rows, axis=0, inplace=True)"
   ],
   "id": "1f5ff088b8d5e0fb",
   "outputs": [],
   "execution_count": 6
  },
  {
   "metadata": {},
   "cell_type": "markdown",
   "source": "The code below will drop every row from the AutoMpg dataset where the horsepower is two standard deviations or more above of below the mean.",
   "id": "ac69b5812c6131bf"
  },
  {
   "metadata": {
    "ExecuteTime": {
     "end_time": "2024-07-19T15:41:29.086474Z",
     "start_time": "2024-07-19T15:41:29.080079Z"
    }
   },
   "cell_type": "code",
   "source": [
    "df = pd.read_csv(\"data/auto-mpg.csv\", na_values=[\"NA\", \"?\"])\n",
    "\n",
    "# create feature vector \n",
    "med = df['horsepower'].median()\n",
    "df['horsepower'] = df['horsepower'].fillna(med)\n",
    "\n",
    "# drop the name column\n",
    "df.drop(columns=\"name\", axis=1, inplace=True)\n",
    "\n",
    "# drop the outliers in horsepower\n",
    "print(f\"Length before MPG outliers dropped: {len(df)}\")\n",
    "remove_outliers(df, \"mpg\", 2)\n",
    "print(f\"Length after MPG outliers dropped: {len(df)}\")"
   ],
   "id": "6f78baed6823e973",
   "outputs": [
    {
     "name": "stdout",
     "output_type": "stream",
     "text": [
      "Length before MPG outliers dropped: 398\n",
      "Length after MPG outliers dropped: 388\n"
     ]
    }
   ],
   "execution_count": 8
  },
  {
   "metadata": {},
   "cell_type": "markdown",
   "source": [
    "### Dropping Fields\n",
    "Drop fields that are of no value for the neural networks training."
   ],
   "id": "73f1eff152c6d080"
  },
  {
   "metadata": {
    "ExecuteTime": {
     "end_time": "2024-07-19T18:41:23.029353Z",
     "start_time": "2024-07-19T18:41:23.023615Z"
    }
   },
   "cell_type": "code",
   "source": [
    "df = pd.read_csv(\"data/auto-mpg.csv\", na_values=[\"NA\", \"?\"])\n",
    "\n",
    "print(f\"Before drop: {list(df.columns)}\")\n",
    "df.drop(\"name\", axis=1, inplace=True)\n",
    "print(f\"After drop: {list(df.columns)}\")"
   ],
   "id": "3809d62105ee4941",
   "outputs": [
    {
     "name": "stdout",
     "output_type": "stream",
     "text": [
      "Before drop: ['mpg', 'cylinders', 'displacement', 'horsepower', 'weight', 'acceleration', 'year', 'origin', 'name']\n",
      "After drop: ['mpg', 'cylinders', 'displacement', 'horsepower', 'weight', 'acceleration', 'year', 'origin']\n"
     ]
    }
   ],
   "execution_count": 10
  },
  {
   "metadata": {},
   "cell_type": "markdown",
   "source": [
    "### Concatenating Rows and Columns\n",
    "Python can concatenate rows and columns together to form new data frames. This code creates a new data frame from the name and horsepower columns in Auto MPG dataset"
   ],
   "id": "80470d6b058befcd"
  },
  {
   "metadata": {
    "ExecuteTime": {
     "end_time": "2024-07-19T18:50:10.438205Z",
     "start_time": "2024-07-19T18:50:10.428457Z"
    }
   },
   "cell_type": "code",
   "source": [
    "df = pd.read_csv(\"data/auto-mpg.csv\", na_values=[\"NA\", \"?\"])\n",
    "\n",
    "col_horsepower=df['horsepower']\n",
    "col_name = df['name']\n",
    "result = pd.concat([col_name, col_horsepower], axis=1)\n",
    "\n",
    "result.head()"
   ],
   "id": "eb528a93e8410fb",
   "outputs": [
    {
     "data": {
      "text/plain": [
       "                        name  horsepower\n",
       "0  chevrolet chevelle malibu       130.0\n",
       "1          buick skylark 320       165.0\n",
       "2         plymouth satellite       150.0\n",
       "3              amc rebel sst       150.0\n",
       "4                ford torino       140.0"
      ],
      "text/html": [
       "<div>\n",
       "<style scoped>\n",
       "    .dataframe tbody tr th:only-of-type {\n",
       "        vertical-align: middle;\n",
       "    }\n",
       "\n",
       "    .dataframe tbody tr th {\n",
       "        vertical-align: top;\n",
       "    }\n",
       "\n",
       "    .dataframe thead th {\n",
       "        text-align: right;\n",
       "    }\n",
       "</style>\n",
       "<table border=\"1\" class=\"dataframe\">\n",
       "  <thead>\n",
       "    <tr style=\"text-align: right;\">\n",
       "      <th></th>\n",
       "      <th>name</th>\n",
       "      <th>horsepower</th>\n",
       "    </tr>\n",
       "  </thead>\n",
       "  <tbody>\n",
       "    <tr>\n",
       "      <th>0</th>\n",
       "      <td>chevrolet chevelle malibu</td>\n",
       "      <td>130.0</td>\n",
       "    </tr>\n",
       "    <tr>\n",
       "      <th>1</th>\n",
       "      <td>buick skylark 320</td>\n",
       "      <td>165.0</td>\n",
       "    </tr>\n",
       "    <tr>\n",
       "      <th>2</th>\n",
       "      <td>plymouth satellite</td>\n",
       "      <td>150.0</td>\n",
       "    </tr>\n",
       "    <tr>\n",
       "      <th>3</th>\n",
       "      <td>amc rebel sst</td>\n",
       "      <td>150.0</td>\n",
       "    </tr>\n",
       "    <tr>\n",
       "      <th>4</th>\n",
       "      <td>ford torino</td>\n",
       "      <td>140.0</td>\n",
       "    </tr>\n",
       "  </tbody>\n",
       "</table>\n",
       "</div>"
      ]
     },
     "execution_count": 11,
     "metadata": {},
     "output_type": "execute_result"
    }
   ],
   "execution_count": 11
  },
  {
   "metadata": {},
   "cell_type": "markdown",
   "source": "The concat function can also concatenate rows together. This code concatenates the first two rows and the last two ros of the Auto MPG dataset.",
   "id": "f4e35fdad3044d55"
  },
  {
   "metadata": {
    "ExecuteTime": {
     "end_time": "2024-07-19T19:04:46.350778Z",
     "start_time": "2024-07-19T19:04:46.342026Z"
    }
   },
   "cell_type": "code",
   "source": [
    "# create a new dataframe from first 2 rows and last 2 rows\n",
    "df = pd.read_csv(\"data/auto-mpg.csv\", na_values=[\"NA\", \"?\"])\n",
    "\n",
    "result = pd.concat([df[0:2], df[-2:]], axis=0)\n",
    "result.head()"
   ],
   "id": "aaed8e5afaf2c4dc",
   "outputs": [
    {
     "data": {
      "text/plain": [
       "      mpg  cylinders  displacement  horsepower  weight  acceleration  year  \\\n",
       "0    18.0          8         307.0       130.0    3504          12.0    70   \n",
       "1    15.0          8         350.0       165.0    3693          11.5    70   \n",
       "396  28.0          4         120.0        79.0    2625          18.6    82   \n",
       "397  31.0          4         119.0        82.0    2720          19.4    82   \n",
       "\n",
       "     origin                       name  \n",
       "0         1  chevrolet chevelle malibu  \n",
       "1         1          buick skylark 320  \n",
       "396       1                ford ranger  \n",
       "397       1                 chevy s-10  "
      ],
      "text/html": [
       "<div>\n",
       "<style scoped>\n",
       "    .dataframe tbody tr th:only-of-type {\n",
       "        vertical-align: middle;\n",
       "    }\n",
       "\n",
       "    .dataframe tbody tr th {\n",
       "        vertical-align: top;\n",
       "    }\n",
       "\n",
       "    .dataframe thead th {\n",
       "        text-align: right;\n",
       "    }\n",
       "</style>\n",
       "<table border=\"1\" class=\"dataframe\">\n",
       "  <thead>\n",
       "    <tr style=\"text-align: right;\">\n",
       "      <th></th>\n",
       "      <th>mpg</th>\n",
       "      <th>cylinders</th>\n",
       "      <th>displacement</th>\n",
       "      <th>horsepower</th>\n",
       "      <th>weight</th>\n",
       "      <th>acceleration</th>\n",
       "      <th>year</th>\n",
       "      <th>origin</th>\n",
       "      <th>name</th>\n",
       "    </tr>\n",
       "  </thead>\n",
       "  <tbody>\n",
       "    <tr>\n",
       "      <th>0</th>\n",
       "      <td>18.0</td>\n",
       "      <td>8</td>\n",
       "      <td>307.0</td>\n",
       "      <td>130.0</td>\n",
       "      <td>3504</td>\n",
       "      <td>12.0</td>\n",
       "      <td>70</td>\n",
       "      <td>1</td>\n",
       "      <td>chevrolet chevelle malibu</td>\n",
       "    </tr>\n",
       "    <tr>\n",
       "      <th>1</th>\n",
       "      <td>15.0</td>\n",
       "      <td>8</td>\n",
       "      <td>350.0</td>\n",
       "      <td>165.0</td>\n",
       "      <td>3693</td>\n",
       "      <td>11.5</td>\n",
       "      <td>70</td>\n",
       "      <td>1</td>\n",
       "      <td>buick skylark 320</td>\n",
       "    </tr>\n",
       "    <tr>\n",
       "      <th>396</th>\n",
       "      <td>28.0</td>\n",
       "      <td>4</td>\n",
       "      <td>120.0</td>\n",
       "      <td>79.0</td>\n",
       "      <td>2625</td>\n",
       "      <td>18.6</td>\n",
       "      <td>82</td>\n",
       "      <td>1</td>\n",
       "      <td>ford ranger</td>\n",
       "    </tr>\n",
       "    <tr>\n",
       "      <th>397</th>\n",
       "      <td>31.0</td>\n",
       "      <td>4</td>\n",
       "      <td>119.0</td>\n",
       "      <td>82.0</td>\n",
       "      <td>2720</td>\n",
       "      <td>19.4</td>\n",
       "      <td>82</td>\n",
       "      <td>1</td>\n",
       "      <td>chevy s-10</td>\n",
       "    </tr>\n",
       "  </tbody>\n",
       "</table>\n",
       "</div>"
      ]
     },
     "execution_count": 12,
     "metadata": {},
     "output_type": "execute_result"
    }
   ],
   "execution_count": 12
  },
  {
   "metadata": {},
   "cell_type": "markdown",
   "source": [
    "### Training and Validation\n",
    "We must evaluate a machine learning model based on its ability to predict values that it has never seen before. Because of this, we often divide the training data into a validation and training set. The machine learning model will learn from the training data but ultimately be evaluated based on the validation data.\n",
    "\n",
    "The code below splits the MPG data into a training and validation set. The training set uses 80% of the data, and the validation set uses 20%. "
   ],
   "id": "57b16bb6e406a7fa"
  },
  {
   "metadata": {
    "ExecuteTime": {
     "end_time": "2024-07-20T00:10:19.734030Z",
     "start_time": "2024-07-20T00:10:19.070173Z"
    }
   },
   "cell_type": "code",
   "source": [
    "df = pd.read_csv(\"https://data.heatonresearch.com/data/t81-558/auto-mpg.csv\", na_values=[\"NA\", \"?\"])\n",
    "\n",
    "# usually a god idea to shuffle\n",
    "df = df.reindex(np.random.permutation(df.index))\n",
    "\n",
    "mask = np.random.rand(len(df)) < 0.8\n",
    "train_df = pd.DataFrame(df[mask])\n",
    "validation_df = pd.DataFrame(df[~mask])\n",
    "\n",
    "print(f'Training DF: {len(train_df)}')\n",
    "print(f'Validation DF: {len(validation_df)}')"
   ],
   "id": "826e8f2611618b16",
   "outputs": [
    {
     "name": "stdout",
     "output_type": "stream",
     "text": [
      "Training DF: 330\n",
      "Validation DF: 68\n"
     ]
    }
   ],
   "execution_count": 3
  },
  {
   "metadata": {},
   "cell_type": "markdown",
   "source": [
    "### Converting a Dataframe to a Matrix\n",
    "The dataframe values property can be used to convert the numerical data to numpy matrix"
   ],
   "id": "a889d74744ee5298"
  },
  {
   "metadata": {
    "ExecuteTime": {
     "end_time": "2024-07-20T00:10:25.655379Z",
     "start_time": "2024-07-20T00:10:25.648627Z"
    }
   },
   "cell_type": "code",
   "source": [
    "df[\n",
    "    [\n",
    "        \"mpg\",\n",
    "        \"cylinders\",\n",
    "        \"horsepower\",\n",
    "        \"weight\",\n",
    "        \"acceleration\",\n",
    "        \"year\",\n",
    "        \"origin\"\n",
    "    ]\n",
    "].values"
   ],
   "id": "ee89c700de0330fa",
   "outputs": [
    {
     "data": {
      "text/plain": [
       "array([[ 15. ,   8. , 145. , ...,  13. ,  73. ,   1. ],\n",
       "       [ 16. ,   6. , 100. , ...,  18. ,  73. ,   1. ],\n",
       "       [ 30.5,   4. ,  63. , ...,  17. ,  77. ,   1. ],\n",
       "       ...,\n",
       "       [ 31. ,   4. ,  68. , ...,  17.6,  82. ,   3. ],\n",
       "       [ 14. ,   8. , 140. , ...,  16. ,  74. ,   1. ],\n",
       "       [ 24.5,   4. ,  60. , ...,  22.1,  76. ,   1. ]])"
      ]
     },
     "execution_count": 4,
     "metadata": {},
     "output_type": "execute_result"
    }
   ],
   "execution_count": 4
  },
  {
   "metadata": {},
   "cell_type": "markdown",
   "source": [
    "### Managing categorial and continuous values\n",
    "Neural networks require their input to be a fixed number of columns. This input format is very similar to spreadsheet data; it must be entirely numeric. It is essential to represent the data so that the neural network can train from it. The four basic types of data are:\n",
    "\n",
    "- Character Data (strings)\n",
    "- - Nominal: Individual discrete items, no order. For example, color, zip code, and shape.\n",
    "- - Ordinal: Individual distinct items have an implied order. For example, grade level, job title, Starbucks(tm) coffe size (tall, vente, grande)\n",
    "- Numeric Data\n",
    "- - Interval: Numeric values, no defined start. For example, temperature.\n",
    "- - Ratio: Numeric values, clearly defined start. For example, speed"
   ],
   "id": "b352278f3506fafd"
  },
  {
   "metadata": {},
   "cell_type": "markdown",
   "source": [
    "### Encoding continous Values\n",
    "One common transformation is to normalize the inputs. It is sometimes valuable to normalize numeric inputs in a standard form so that the program can easily compare these two values. Like percentages for simple matematical operations, in machine learning the z-score is a common way to normalize contininuus data in machine learning, and its defined as:\n",
    "\n",
    "$$\n",
    "z = \\frac{x - \\mu}{\\sigma}\n",
    "$$\n",
    "\n",
    "where $\\mu$ is the mean $\\bar{x} = \\frac{x_1+x_2+\\cdots +x_n}{n}$\n",
    "\n",
    "and $\\sigma$ is the standard deviation  $= \\sqrt{\\frac{1}{N} \\sum_{i=1}^N (x_i - \\mu)^2}$\n",
    "\n",
    "The following code replaces the mpg with a z-score. Cars with average MPG will be near zero, avobe zero is above average, and below zero is below average. Z-scores more that 3 above or below are very rare; these are outliers."
   ],
   "id": "4aaeab2c5cf9ba78"
  },
  {
   "metadata": {
    "ExecuteTime": {
     "end_time": "2024-07-20T00:47:29.428703Z",
     "start_time": "2024-07-20T00:47:28.757969Z"
    }
   },
   "cell_type": "code",
   "source": "from scipy.stats import zscore",
   "id": "c9b768160fc67a14",
   "outputs": [],
   "execution_count": 6
  },
  {
   "metadata": {
    "ExecuteTime": {
     "end_time": "2024-07-20T00:48:23.980454Z",
     "start_time": "2024-07-20T00:48:23.970193Z"
    }
   },
   "cell_type": "code",
   "source": [
    "df = pd.read_csv(\"data/auto-mpg.csv\", na_values=[\"NA\", \"?\"])\n",
    "\n",
    "df[\"mpg\"] = zscore(df[\"mpg\"])\n",
    "df.head()"
   ],
   "id": "fa955424ce4511f8",
   "outputs": [
    {
     "data": {
      "text/plain": [
       "        mpg  cylinders  displacement  horsepower  weight  acceleration  year  \\\n",
       "0 -0.706439          8         307.0       130.0    3504          12.0    70   \n",
       "1 -1.090751          8         350.0       165.0    3693          11.5    70   \n",
       "2 -0.706439          8         318.0       150.0    3436          11.0    70   \n",
       "3 -0.962647          8         304.0       150.0    3433          12.0    70   \n",
       "4 -0.834543          8         302.0       140.0    3449          10.5    70   \n",
       "\n",
       "   origin                       name  \n",
       "0       1  chevrolet chevelle malibu  \n",
       "1       1          buick skylark 320  \n",
       "2       1         plymouth satellite  \n",
       "3       1              amc rebel sst  \n",
       "4       1                ford torino  "
      ],
      "text/html": [
       "<div>\n",
       "<style scoped>\n",
       "    .dataframe tbody tr th:only-of-type {\n",
       "        vertical-align: middle;\n",
       "    }\n",
       "\n",
       "    .dataframe tbody tr th {\n",
       "        vertical-align: top;\n",
       "    }\n",
       "\n",
       "    .dataframe thead th {\n",
       "        text-align: right;\n",
       "    }\n",
       "</style>\n",
       "<table border=\"1\" class=\"dataframe\">\n",
       "  <thead>\n",
       "    <tr style=\"text-align: right;\">\n",
       "      <th></th>\n",
       "      <th>mpg</th>\n",
       "      <th>cylinders</th>\n",
       "      <th>displacement</th>\n",
       "      <th>horsepower</th>\n",
       "      <th>weight</th>\n",
       "      <th>acceleration</th>\n",
       "      <th>year</th>\n",
       "      <th>origin</th>\n",
       "      <th>name</th>\n",
       "    </tr>\n",
       "  </thead>\n",
       "  <tbody>\n",
       "    <tr>\n",
       "      <th>0</th>\n",
       "      <td>-0.706439</td>\n",
       "      <td>8</td>\n",
       "      <td>307.0</td>\n",
       "      <td>130.0</td>\n",
       "      <td>3504</td>\n",
       "      <td>12.0</td>\n",
       "      <td>70</td>\n",
       "      <td>1</td>\n",
       "      <td>chevrolet chevelle malibu</td>\n",
       "    </tr>\n",
       "    <tr>\n",
       "      <th>1</th>\n",
       "      <td>-1.090751</td>\n",
       "      <td>8</td>\n",
       "      <td>350.0</td>\n",
       "      <td>165.0</td>\n",
       "      <td>3693</td>\n",
       "      <td>11.5</td>\n",
       "      <td>70</td>\n",
       "      <td>1</td>\n",
       "      <td>buick skylark 320</td>\n",
       "    </tr>\n",
       "    <tr>\n",
       "      <th>2</th>\n",
       "      <td>-0.706439</td>\n",
       "      <td>8</td>\n",
       "      <td>318.0</td>\n",
       "      <td>150.0</td>\n",
       "      <td>3436</td>\n",
       "      <td>11.0</td>\n",
       "      <td>70</td>\n",
       "      <td>1</td>\n",
       "      <td>plymouth satellite</td>\n",
       "    </tr>\n",
       "    <tr>\n",
       "      <th>3</th>\n",
       "      <td>-0.962647</td>\n",
       "      <td>8</td>\n",
       "      <td>304.0</td>\n",
       "      <td>150.0</td>\n",
       "      <td>3433</td>\n",
       "      <td>12.0</td>\n",
       "      <td>70</td>\n",
       "      <td>1</td>\n",
       "      <td>amc rebel sst</td>\n",
       "    </tr>\n",
       "    <tr>\n",
       "      <th>4</th>\n",
       "      <td>-0.834543</td>\n",
       "      <td>8</td>\n",
       "      <td>302.0</td>\n",
       "      <td>140.0</td>\n",
       "      <td>3449</td>\n",
       "      <td>10.5</td>\n",
       "      <td>70</td>\n",
       "      <td>1</td>\n",
       "      <td>ford torino</td>\n",
       "    </tr>\n",
       "  </tbody>\n",
       "</table>\n",
       "</div>"
      ]
     },
     "execution_count": 7,
     "metadata": {},
     "output_type": "execute_result"
    }
   ],
   "execution_count": 7
  },
  {
   "metadata": {},
   "cell_type": "markdown",
   "source": [
    "### Encoding categorical values as Dummies\n",
    "The traditional means of encoding categorical values is to make them dummy variables. This technique is also called `one-hot-encoding`. Consider the following data set. The area column is not numeric, so you must encode it with one-hot encoding. We display the number of areas and individual values. To show the number of categorical classes in the 'area' column:"
   ],
   "id": "73203e4c4806aec0"
  },
  {
   "metadata": {
    "ExecuteTime": {
     "end_time": "2024-07-20T13:58:04.227057Z",
     "start_time": "2024-07-20T13:58:04.208455Z"
    }
   },
   "cell_type": "code",
   "source": [
    "df = pd.read_csv(\"data/jh-simple-dataset.csv\", na_values=[\"NA\", \"?\"])\n",
    "df.head()"
   ],
   "id": "458326a98b7ca01",
   "outputs": [
    {
     "data": {
      "text/plain": [
       "   id job area   income     aspect  subscriptions  dist_healthy  save_rate  \\\n",
       "0   1  vv    c  50876.0  13.100000              1      9.017895         35   \n",
       "1   2  kd    c  60369.0  18.625000              2      7.766643         59   \n",
       "2   3  pe    c  55126.0  34.766667              1      3.632069          6   \n",
       "3   4  11    c  51690.0  15.808333              1      5.372942         16   \n",
       "4   5  kl    d  28347.0  40.941667              3      3.822477         20   \n",
       "\n",
       "   dist_unhealthy  age  pop_dense  retail_dense     crime product  \n",
       "0       11.738935   49   0.885827      0.492126  0.071100       b  \n",
       "1        6.805396   51   0.874016      0.342520  0.400809       c  \n",
       "2       13.671772   44   0.944882      0.724409  0.207723       b  \n",
       "3        4.333286   50   0.889764      0.444882  0.361216       b  \n",
       "4        5.967121   38   0.744094      0.661417  0.068033       a  "
      ],
      "text/html": [
       "<div>\n",
       "<style scoped>\n",
       "    .dataframe tbody tr th:only-of-type {\n",
       "        vertical-align: middle;\n",
       "    }\n",
       "\n",
       "    .dataframe tbody tr th {\n",
       "        vertical-align: top;\n",
       "    }\n",
       "\n",
       "    .dataframe thead th {\n",
       "        text-align: right;\n",
       "    }\n",
       "</style>\n",
       "<table border=\"1\" class=\"dataframe\">\n",
       "  <thead>\n",
       "    <tr style=\"text-align: right;\">\n",
       "      <th></th>\n",
       "      <th>id</th>\n",
       "      <th>job</th>\n",
       "      <th>area</th>\n",
       "      <th>income</th>\n",
       "      <th>aspect</th>\n",
       "      <th>subscriptions</th>\n",
       "      <th>dist_healthy</th>\n",
       "      <th>save_rate</th>\n",
       "      <th>dist_unhealthy</th>\n",
       "      <th>age</th>\n",
       "      <th>pop_dense</th>\n",
       "      <th>retail_dense</th>\n",
       "      <th>crime</th>\n",
       "      <th>product</th>\n",
       "    </tr>\n",
       "  </thead>\n",
       "  <tbody>\n",
       "    <tr>\n",
       "      <th>0</th>\n",
       "      <td>1</td>\n",
       "      <td>vv</td>\n",
       "      <td>c</td>\n",
       "      <td>50876.0</td>\n",
       "      <td>13.100000</td>\n",
       "      <td>1</td>\n",
       "      <td>9.017895</td>\n",
       "      <td>35</td>\n",
       "      <td>11.738935</td>\n",
       "      <td>49</td>\n",
       "      <td>0.885827</td>\n",
       "      <td>0.492126</td>\n",
       "      <td>0.071100</td>\n",
       "      <td>b</td>\n",
       "    </tr>\n",
       "    <tr>\n",
       "      <th>1</th>\n",
       "      <td>2</td>\n",
       "      <td>kd</td>\n",
       "      <td>c</td>\n",
       "      <td>60369.0</td>\n",
       "      <td>18.625000</td>\n",
       "      <td>2</td>\n",
       "      <td>7.766643</td>\n",
       "      <td>59</td>\n",
       "      <td>6.805396</td>\n",
       "      <td>51</td>\n",
       "      <td>0.874016</td>\n",
       "      <td>0.342520</td>\n",
       "      <td>0.400809</td>\n",
       "      <td>c</td>\n",
       "    </tr>\n",
       "    <tr>\n",
       "      <th>2</th>\n",
       "      <td>3</td>\n",
       "      <td>pe</td>\n",
       "      <td>c</td>\n",
       "      <td>55126.0</td>\n",
       "      <td>34.766667</td>\n",
       "      <td>1</td>\n",
       "      <td>3.632069</td>\n",
       "      <td>6</td>\n",
       "      <td>13.671772</td>\n",
       "      <td>44</td>\n",
       "      <td>0.944882</td>\n",
       "      <td>0.724409</td>\n",
       "      <td>0.207723</td>\n",
       "      <td>b</td>\n",
       "    </tr>\n",
       "    <tr>\n",
       "      <th>3</th>\n",
       "      <td>4</td>\n",
       "      <td>11</td>\n",
       "      <td>c</td>\n",
       "      <td>51690.0</td>\n",
       "      <td>15.808333</td>\n",
       "      <td>1</td>\n",
       "      <td>5.372942</td>\n",
       "      <td>16</td>\n",
       "      <td>4.333286</td>\n",
       "      <td>50</td>\n",
       "      <td>0.889764</td>\n",
       "      <td>0.444882</td>\n",
       "      <td>0.361216</td>\n",
       "      <td>b</td>\n",
       "    </tr>\n",
       "    <tr>\n",
       "      <th>4</th>\n",
       "      <td>5</td>\n",
       "      <td>kl</td>\n",
       "      <td>d</td>\n",
       "      <td>28347.0</td>\n",
       "      <td>40.941667</td>\n",
       "      <td>3</td>\n",
       "      <td>3.822477</td>\n",
       "      <td>20</td>\n",
       "      <td>5.967121</td>\n",
       "      <td>38</td>\n",
       "      <td>0.744094</td>\n",
       "      <td>0.661417</td>\n",
       "      <td>0.068033</td>\n",
       "      <td>a</td>\n",
       "    </tr>\n",
       "  </tbody>\n",
       "</table>\n",
       "</div>"
      ]
     },
     "execution_count": 2,
     "metadata": {},
     "output_type": "execute_result"
    }
   ],
   "execution_count": 2
  },
  {
   "metadata": {
    "ExecuteTime": {
     "end_time": "2024-07-20T14:02:10.060233Z",
     "start_time": "2024-07-20T14:02:10.056997Z"
    }
   },
   "cell_type": "code",
   "source": [
    "areas = list(df[\"area\"].unique())\n",
    "areas_sorted = sorted(areas)\n",
    "print(f\"Number of areas: {len(areas_sorted)}\")\n",
    "print(f\"Areas: {areas_sorted}\")"
   ],
   "id": "14a8b0f037e0dc54",
   "outputs": [
    {
     "name": "stdout",
     "output_type": "stream",
     "text": [
      "Number of areas: 4\n",
      "Areas: ['a', 'b', 'c', 'd']\n"
     ]
    }
   ],
   "execution_count": 7
  },
  {
   "metadata": {},
   "cell_type": "markdown",
   "source": "There are four unique values in the area column. To encode these dummy variables, we would use four columns, each representing one of the areas. For each row, one column would have a value of one, the rest zeros. For this reason , this type of encoding is sometimes called one-hot econding. The following code shows hot you might encode the values \"a\" through \"d\". The value A becomes [1,0,0,0] and the value B becomes [0,1,0,0]...",
   "id": "5f06bf569ea71aea"
  },
  {
   "metadata": {
    "ExecuteTime": {
     "end_time": "2024-07-20T14:02:23.507342Z",
     "start_time": "2024-07-20T14:02:23.503132Z"
    }
   },
   "cell_type": "code",
   "source": [
    "dummies = pd.get_dummies(areas_sorted, prefix=\"area\", dtype=int)\n",
    "print(dummies)"
   ],
   "id": "c5a1038c6080a994",
   "outputs": [
    {
     "name": "stdout",
     "output_type": "stream",
     "text": [
      "   area_a  area_b  area_c  area_d\n",
      "0       1       0       0       0\n",
      "1       0       1       0       0\n",
      "2       0       0       1       0\n",
      "3       0       0       0       1\n"
     ]
    }
   ],
   "execution_count": 8
  },
  {
   "metadata": {
    "ExecuteTime": {
     "end_time": "2024-07-20T14:09:35.398557Z",
     "start_time": "2024-07-20T14:09:35.393217Z"
    }
   },
   "cell_type": "code",
   "source": [
    "# encode the categorical column of the dataframe named 'area'\n",
    "dummies = pd.get_dummies(df[\"area\"], prefix=\"area\", dtype=int)\n",
    "dummies.head()"
   ],
   "id": "ebc4bbe3ae5ca4cc",
   "outputs": [
    {
     "data": {
      "text/plain": [
       "   area_a  area_b  area_c  area_d\n",
       "0       0       0       1       0\n",
       "1       0       0       1       0\n",
       "2       0       0       1       0\n",
       "3       0       0       1       0\n",
       "4       0       0       0       1"
      ],
      "text/html": [
       "<div>\n",
       "<style scoped>\n",
       "    .dataframe tbody tr th:only-of-type {\n",
       "        vertical-align: middle;\n",
       "    }\n",
       "\n",
       "    .dataframe tbody tr th {\n",
       "        vertical-align: top;\n",
       "    }\n",
       "\n",
       "    .dataframe thead th {\n",
       "        text-align: right;\n",
       "    }\n",
       "</style>\n",
       "<table border=\"1\" class=\"dataframe\">\n",
       "  <thead>\n",
       "    <tr style=\"text-align: right;\">\n",
       "      <th></th>\n",
       "      <th>area_a</th>\n",
       "      <th>area_b</th>\n",
       "      <th>area_c</th>\n",
       "      <th>area_d</th>\n",
       "    </tr>\n",
       "  </thead>\n",
       "  <tbody>\n",
       "    <tr>\n",
       "      <th>0</th>\n",
       "      <td>0</td>\n",
       "      <td>0</td>\n",
       "      <td>1</td>\n",
       "      <td>0</td>\n",
       "    </tr>\n",
       "    <tr>\n",
       "      <th>1</th>\n",
       "      <td>0</td>\n",
       "      <td>0</td>\n",
       "      <td>1</td>\n",
       "      <td>0</td>\n",
       "    </tr>\n",
       "    <tr>\n",
       "      <th>2</th>\n",
       "      <td>0</td>\n",
       "      <td>0</td>\n",
       "      <td>1</td>\n",
       "      <td>0</td>\n",
       "    </tr>\n",
       "    <tr>\n",
       "      <th>3</th>\n",
       "      <td>0</td>\n",
       "      <td>0</td>\n",
       "      <td>1</td>\n",
       "      <td>0</td>\n",
       "    </tr>\n",
       "    <tr>\n",
       "      <th>4</th>\n",
       "      <td>0</td>\n",
       "      <td>0</td>\n",
       "      <td>0</td>\n",
       "      <td>1</td>\n",
       "    </tr>\n",
       "  </tbody>\n",
       "</table>\n",
       "</div>"
      ]
     },
     "execution_count": 9,
     "metadata": {},
     "output_type": "execute_result"
    }
   ],
   "execution_count": 9
  },
  {
   "metadata": {
    "ExecuteTime": {
     "end_time": "2024-07-20T14:10:57.503203Z",
     "start_time": "2024-07-20T14:10:57.494642Z"
    }
   },
   "cell_type": "code",
   "source": [
    "# merge the dummies into the original dataframe\n",
    "df = pd.concat([df, dummies], axis=1)\n",
    "df.head()"
   ],
   "id": "d878c8d9655aa9c1",
   "outputs": [
    {
     "data": {
      "text/plain": [
       "   id job area   income     aspect  subscriptions  dist_healthy  save_rate  \\\n",
       "0   1  vv    c  50876.0  13.100000              1      9.017895         35   \n",
       "1   2  kd    c  60369.0  18.625000              2      7.766643         59   \n",
       "2   3  pe    c  55126.0  34.766667              1      3.632069          6   \n",
       "3   4  11    c  51690.0  15.808333              1      5.372942         16   \n",
       "4   5  kl    d  28347.0  40.941667              3      3.822477         20   \n",
       "\n",
       "   dist_unhealthy  age  pop_dense  retail_dense     crime product  area_a  \\\n",
       "0       11.738935   49   0.885827      0.492126  0.071100       b       0   \n",
       "1        6.805396   51   0.874016      0.342520  0.400809       c       0   \n",
       "2       13.671772   44   0.944882      0.724409  0.207723       b       0   \n",
       "3        4.333286   50   0.889764      0.444882  0.361216       b       0   \n",
       "4        5.967121   38   0.744094      0.661417  0.068033       a       0   \n",
       "\n",
       "   area_b  area_c  area_d  \n",
       "0       0       1       0  \n",
       "1       0       1       0  \n",
       "2       0       1       0  \n",
       "3       0       1       0  \n",
       "4       0       0       1  "
      ],
      "text/html": [
       "<div>\n",
       "<style scoped>\n",
       "    .dataframe tbody tr th:only-of-type {\n",
       "        vertical-align: middle;\n",
       "    }\n",
       "\n",
       "    .dataframe tbody tr th {\n",
       "        vertical-align: top;\n",
       "    }\n",
       "\n",
       "    .dataframe thead th {\n",
       "        text-align: right;\n",
       "    }\n",
       "</style>\n",
       "<table border=\"1\" class=\"dataframe\">\n",
       "  <thead>\n",
       "    <tr style=\"text-align: right;\">\n",
       "      <th></th>\n",
       "      <th>id</th>\n",
       "      <th>job</th>\n",
       "      <th>area</th>\n",
       "      <th>income</th>\n",
       "      <th>aspect</th>\n",
       "      <th>subscriptions</th>\n",
       "      <th>dist_healthy</th>\n",
       "      <th>save_rate</th>\n",
       "      <th>dist_unhealthy</th>\n",
       "      <th>age</th>\n",
       "      <th>pop_dense</th>\n",
       "      <th>retail_dense</th>\n",
       "      <th>crime</th>\n",
       "      <th>product</th>\n",
       "      <th>area_a</th>\n",
       "      <th>area_b</th>\n",
       "      <th>area_c</th>\n",
       "      <th>area_d</th>\n",
       "    </tr>\n",
       "  </thead>\n",
       "  <tbody>\n",
       "    <tr>\n",
       "      <th>0</th>\n",
       "      <td>1</td>\n",
       "      <td>vv</td>\n",
       "      <td>c</td>\n",
       "      <td>50876.0</td>\n",
       "      <td>13.100000</td>\n",
       "      <td>1</td>\n",
       "      <td>9.017895</td>\n",
       "      <td>35</td>\n",
       "      <td>11.738935</td>\n",
       "      <td>49</td>\n",
       "      <td>0.885827</td>\n",
       "      <td>0.492126</td>\n",
       "      <td>0.071100</td>\n",
       "      <td>b</td>\n",
       "      <td>0</td>\n",
       "      <td>0</td>\n",
       "      <td>1</td>\n",
       "      <td>0</td>\n",
       "    </tr>\n",
       "    <tr>\n",
       "      <th>1</th>\n",
       "      <td>2</td>\n",
       "      <td>kd</td>\n",
       "      <td>c</td>\n",
       "      <td>60369.0</td>\n",
       "      <td>18.625000</td>\n",
       "      <td>2</td>\n",
       "      <td>7.766643</td>\n",
       "      <td>59</td>\n",
       "      <td>6.805396</td>\n",
       "      <td>51</td>\n",
       "      <td>0.874016</td>\n",
       "      <td>0.342520</td>\n",
       "      <td>0.400809</td>\n",
       "      <td>c</td>\n",
       "      <td>0</td>\n",
       "      <td>0</td>\n",
       "      <td>1</td>\n",
       "      <td>0</td>\n",
       "    </tr>\n",
       "    <tr>\n",
       "      <th>2</th>\n",
       "      <td>3</td>\n",
       "      <td>pe</td>\n",
       "      <td>c</td>\n",
       "      <td>55126.0</td>\n",
       "      <td>34.766667</td>\n",
       "      <td>1</td>\n",
       "      <td>3.632069</td>\n",
       "      <td>6</td>\n",
       "      <td>13.671772</td>\n",
       "      <td>44</td>\n",
       "      <td>0.944882</td>\n",
       "      <td>0.724409</td>\n",
       "      <td>0.207723</td>\n",
       "      <td>b</td>\n",
       "      <td>0</td>\n",
       "      <td>0</td>\n",
       "      <td>1</td>\n",
       "      <td>0</td>\n",
       "    </tr>\n",
       "    <tr>\n",
       "      <th>3</th>\n",
       "      <td>4</td>\n",
       "      <td>11</td>\n",
       "      <td>c</td>\n",
       "      <td>51690.0</td>\n",
       "      <td>15.808333</td>\n",
       "      <td>1</td>\n",
       "      <td>5.372942</td>\n",
       "      <td>16</td>\n",
       "      <td>4.333286</td>\n",
       "      <td>50</td>\n",
       "      <td>0.889764</td>\n",
       "      <td>0.444882</td>\n",
       "      <td>0.361216</td>\n",
       "      <td>b</td>\n",
       "      <td>0</td>\n",
       "      <td>0</td>\n",
       "      <td>1</td>\n",
       "      <td>0</td>\n",
       "    </tr>\n",
       "    <tr>\n",
       "      <th>4</th>\n",
       "      <td>5</td>\n",
       "      <td>kl</td>\n",
       "      <td>d</td>\n",
       "      <td>28347.0</td>\n",
       "      <td>40.941667</td>\n",
       "      <td>3</td>\n",
       "      <td>3.822477</td>\n",
       "      <td>20</td>\n",
       "      <td>5.967121</td>\n",
       "      <td>38</td>\n",
       "      <td>0.744094</td>\n",
       "      <td>0.661417</td>\n",
       "      <td>0.068033</td>\n",
       "      <td>a</td>\n",
       "      <td>0</td>\n",
       "      <td>0</td>\n",
       "      <td>0</td>\n",
       "      <td>1</td>\n",
       "    </tr>\n",
       "  </tbody>\n",
       "</table>\n",
       "</div>"
      ]
     },
     "execution_count": 10,
     "metadata": {},
     "output_type": "execute_result"
    }
   ],
   "execution_count": 10
  },
  {
   "metadata": {
    "ExecuteTime": {
     "end_time": "2024-07-20T14:14:28.876124Z",
     "start_time": "2024-07-20T14:14:28.867048Z"
    }
   },
   "cell_type": "code",
   "source": [
    "# remove the original column 'area' because the goal is to get the data frame to be entirely numeric for the training\n",
    "df.drop(\"area\", axis=1, inplace=True)\n",
    "df.head()"
   ],
   "id": "cadd73924e3bb110",
   "outputs": [
    {
     "data": {
      "text/plain": [
       "   id job   income     aspect  subscriptions  dist_healthy  save_rate  \\\n",
       "0   1  vv  50876.0  13.100000              1      9.017895         35   \n",
       "1   2  kd  60369.0  18.625000              2      7.766643         59   \n",
       "2   3  pe  55126.0  34.766667              1      3.632069          6   \n",
       "3   4  11  51690.0  15.808333              1      5.372942         16   \n",
       "4   5  kl  28347.0  40.941667              3      3.822477         20   \n",
       "\n",
       "   dist_unhealthy  age  pop_dense  retail_dense     crime product  area_a  \\\n",
       "0       11.738935   49   0.885827      0.492126  0.071100       b       0   \n",
       "1        6.805396   51   0.874016      0.342520  0.400809       c       0   \n",
       "2       13.671772   44   0.944882      0.724409  0.207723       b       0   \n",
       "3        4.333286   50   0.889764      0.444882  0.361216       b       0   \n",
       "4        5.967121   38   0.744094      0.661417  0.068033       a       0   \n",
       "\n",
       "   area_b  area_c  area_d  \n",
       "0       0       1       0  \n",
       "1       0       1       0  \n",
       "2       0       1       0  \n",
       "3       0       1       0  \n",
       "4       0       0       1  "
      ],
      "text/html": [
       "<div>\n",
       "<style scoped>\n",
       "    .dataframe tbody tr th:only-of-type {\n",
       "        vertical-align: middle;\n",
       "    }\n",
       "\n",
       "    .dataframe tbody tr th {\n",
       "        vertical-align: top;\n",
       "    }\n",
       "\n",
       "    .dataframe thead th {\n",
       "        text-align: right;\n",
       "    }\n",
       "</style>\n",
       "<table border=\"1\" class=\"dataframe\">\n",
       "  <thead>\n",
       "    <tr style=\"text-align: right;\">\n",
       "      <th></th>\n",
       "      <th>id</th>\n",
       "      <th>job</th>\n",
       "      <th>income</th>\n",
       "      <th>aspect</th>\n",
       "      <th>subscriptions</th>\n",
       "      <th>dist_healthy</th>\n",
       "      <th>save_rate</th>\n",
       "      <th>dist_unhealthy</th>\n",
       "      <th>age</th>\n",
       "      <th>pop_dense</th>\n",
       "      <th>retail_dense</th>\n",
       "      <th>crime</th>\n",
       "      <th>product</th>\n",
       "      <th>area_a</th>\n",
       "      <th>area_b</th>\n",
       "      <th>area_c</th>\n",
       "      <th>area_d</th>\n",
       "    </tr>\n",
       "  </thead>\n",
       "  <tbody>\n",
       "    <tr>\n",
       "      <th>0</th>\n",
       "      <td>1</td>\n",
       "      <td>vv</td>\n",
       "      <td>50876.0</td>\n",
       "      <td>13.100000</td>\n",
       "      <td>1</td>\n",
       "      <td>9.017895</td>\n",
       "      <td>35</td>\n",
       "      <td>11.738935</td>\n",
       "      <td>49</td>\n",
       "      <td>0.885827</td>\n",
       "      <td>0.492126</td>\n",
       "      <td>0.071100</td>\n",
       "      <td>b</td>\n",
       "      <td>0</td>\n",
       "      <td>0</td>\n",
       "      <td>1</td>\n",
       "      <td>0</td>\n",
       "    </tr>\n",
       "    <tr>\n",
       "      <th>1</th>\n",
       "      <td>2</td>\n",
       "      <td>kd</td>\n",
       "      <td>60369.0</td>\n",
       "      <td>18.625000</td>\n",
       "      <td>2</td>\n",
       "      <td>7.766643</td>\n",
       "      <td>59</td>\n",
       "      <td>6.805396</td>\n",
       "      <td>51</td>\n",
       "      <td>0.874016</td>\n",
       "      <td>0.342520</td>\n",
       "      <td>0.400809</td>\n",
       "      <td>c</td>\n",
       "      <td>0</td>\n",
       "      <td>0</td>\n",
       "      <td>1</td>\n",
       "      <td>0</td>\n",
       "    </tr>\n",
       "    <tr>\n",
       "      <th>2</th>\n",
       "      <td>3</td>\n",
       "      <td>pe</td>\n",
       "      <td>55126.0</td>\n",
       "      <td>34.766667</td>\n",
       "      <td>1</td>\n",
       "      <td>3.632069</td>\n",
       "      <td>6</td>\n",
       "      <td>13.671772</td>\n",
       "      <td>44</td>\n",
       "      <td>0.944882</td>\n",
       "      <td>0.724409</td>\n",
       "      <td>0.207723</td>\n",
       "      <td>b</td>\n",
       "      <td>0</td>\n",
       "      <td>0</td>\n",
       "      <td>1</td>\n",
       "      <td>0</td>\n",
       "    </tr>\n",
       "    <tr>\n",
       "      <th>3</th>\n",
       "      <td>4</td>\n",
       "      <td>11</td>\n",
       "      <td>51690.0</td>\n",
       "      <td>15.808333</td>\n",
       "      <td>1</td>\n",
       "      <td>5.372942</td>\n",
       "      <td>16</td>\n",
       "      <td>4.333286</td>\n",
       "      <td>50</td>\n",
       "      <td>0.889764</td>\n",
       "      <td>0.444882</td>\n",
       "      <td>0.361216</td>\n",
       "      <td>b</td>\n",
       "      <td>0</td>\n",
       "      <td>0</td>\n",
       "      <td>1</td>\n",
       "      <td>0</td>\n",
       "    </tr>\n",
       "    <tr>\n",
       "      <th>4</th>\n",
       "      <td>5</td>\n",
       "      <td>kl</td>\n",
       "      <td>28347.0</td>\n",
       "      <td>40.941667</td>\n",
       "      <td>3</td>\n",
       "      <td>3.822477</td>\n",
       "      <td>20</td>\n",
       "      <td>5.967121</td>\n",
       "      <td>38</td>\n",
       "      <td>0.744094</td>\n",
       "      <td>0.661417</td>\n",
       "      <td>0.068033</td>\n",
       "      <td>a</td>\n",
       "      <td>0</td>\n",
       "      <td>0</td>\n",
       "      <td>0</td>\n",
       "      <td>1</td>\n",
       "    </tr>\n",
       "  </tbody>\n",
       "</table>\n",
       "</div>"
      ]
     },
     "execution_count": 11,
     "metadata": {},
     "output_type": "execute_result"
    }
   ],
   "execution_count": 11
  },
  {
   "metadata": {},
   "cell_type": "markdown",
   "source": [
    "### Encoding categorical values removing the first level of one-hot encoding\n",
    "The pd.concat function also includes a parameter named drop_first, which specifies whether to get k-1 dummies out of k categorical levels by removing the first level. Why would you want to remove the first level, in this case, area_a? This technique provides a more efficient encoding by using the ordinarily unused encoding [0,0,0]. We encode the area to just three columns and map the categorical value of a to [0,0,0]. The following code demonstrates this technique."
   ],
   "id": "31e0894322105d0a"
  },
  {
   "metadata": {
    "ExecuteTime": {
     "end_time": "2024-07-20T14:25:03.928735Z",
     "start_time": "2024-07-20T14:25:03.914719Z"
    }
   },
   "cell_type": "code",
   "source": [
    "df = pd.read_csv(\"data/jh-simple-dataset.csv\", na_values=[\"NA\", \"?\"])\n",
    "\n",
    "# encode the area column as dummy variables dropping the first one-hot encoding category column\n",
    "dummies = pd.get_dummies(df[\"area\"], drop_first=True, prefix=\"area\", dtype=int)\n",
    "df = pd.concat([df, dummies], axis=1)\n",
    "df.drop(\"area\", axis=1, inplace=True)\n",
    "df.head()"
   ],
   "id": "99e88448948fa5e9",
   "outputs": [
    {
     "data": {
      "text/plain": [
       "   id job   income     aspect  subscriptions  dist_healthy  save_rate  \\\n",
       "0   1  vv  50876.0  13.100000              1      9.017895         35   \n",
       "1   2  kd  60369.0  18.625000              2      7.766643         59   \n",
       "2   3  pe  55126.0  34.766667              1      3.632069          6   \n",
       "3   4  11  51690.0  15.808333              1      5.372942         16   \n",
       "4   5  kl  28347.0  40.941667              3      3.822477         20   \n",
       "\n",
       "   dist_unhealthy  age  pop_dense  retail_dense     crime product  area_b  \\\n",
       "0       11.738935   49   0.885827      0.492126  0.071100       b       0   \n",
       "1        6.805396   51   0.874016      0.342520  0.400809       c       0   \n",
       "2       13.671772   44   0.944882      0.724409  0.207723       b       0   \n",
       "3        4.333286   50   0.889764      0.444882  0.361216       b       0   \n",
       "4        5.967121   38   0.744094      0.661417  0.068033       a       0   \n",
       "\n",
       "   area_c  area_d  \n",
       "0       1       0  \n",
       "1       1       0  \n",
       "2       1       0  \n",
       "3       1       0  \n",
       "4       0       1  "
      ],
      "text/html": [
       "<div>\n",
       "<style scoped>\n",
       "    .dataframe tbody tr th:only-of-type {\n",
       "        vertical-align: middle;\n",
       "    }\n",
       "\n",
       "    .dataframe tbody tr th {\n",
       "        vertical-align: top;\n",
       "    }\n",
       "\n",
       "    .dataframe thead th {\n",
       "        text-align: right;\n",
       "    }\n",
       "</style>\n",
       "<table border=\"1\" class=\"dataframe\">\n",
       "  <thead>\n",
       "    <tr style=\"text-align: right;\">\n",
       "      <th></th>\n",
       "      <th>id</th>\n",
       "      <th>job</th>\n",
       "      <th>income</th>\n",
       "      <th>aspect</th>\n",
       "      <th>subscriptions</th>\n",
       "      <th>dist_healthy</th>\n",
       "      <th>save_rate</th>\n",
       "      <th>dist_unhealthy</th>\n",
       "      <th>age</th>\n",
       "      <th>pop_dense</th>\n",
       "      <th>retail_dense</th>\n",
       "      <th>crime</th>\n",
       "      <th>product</th>\n",
       "      <th>area_b</th>\n",
       "      <th>area_c</th>\n",
       "      <th>area_d</th>\n",
       "    </tr>\n",
       "  </thead>\n",
       "  <tbody>\n",
       "    <tr>\n",
       "      <th>0</th>\n",
       "      <td>1</td>\n",
       "      <td>vv</td>\n",
       "      <td>50876.0</td>\n",
       "      <td>13.100000</td>\n",
       "      <td>1</td>\n",
       "      <td>9.017895</td>\n",
       "      <td>35</td>\n",
       "      <td>11.738935</td>\n",
       "      <td>49</td>\n",
       "      <td>0.885827</td>\n",
       "      <td>0.492126</td>\n",
       "      <td>0.071100</td>\n",
       "      <td>b</td>\n",
       "      <td>0</td>\n",
       "      <td>1</td>\n",
       "      <td>0</td>\n",
       "    </tr>\n",
       "    <tr>\n",
       "      <th>1</th>\n",
       "      <td>2</td>\n",
       "      <td>kd</td>\n",
       "      <td>60369.0</td>\n",
       "      <td>18.625000</td>\n",
       "      <td>2</td>\n",
       "      <td>7.766643</td>\n",
       "      <td>59</td>\n",
       "      <td>6.805396</td>\n",
       "      <td>51</td>\n",
       "      <td>0.874016</td>\n",
       "      <td>0.342520</td>\n",
       "      <td>0.400809</td>\n",
       "      <td>c</td>\n",
       "      <td>0</td>\n",
       "      <td>1</td>\n",
       "      <td>0</td>\n",
       "    </tr>\n",
       "    <tr>\n",
       "      <th>2</th>\n",
       "      <td>3</td>\n",
       "      <td>pe</td>\n",
       "      <td>55126.0</td>\n",
       "      <td>34.766667</td>\n",
       "      <td>1</td>\n",
       "      <td>3.632069</td>\n",
       "      <td>6</td>\n",
       "      <td>13.671772</td>\n",
       "      <td>44</td>\n",
       "      <td>0.944882</td>\n",
       "      <td>0.724409</td>\n",
       "      <td>0.207723</td>\n",
       "      <td>b</td>\n",
       "      <td>0</td>\n",
       "      <td>1</td>\n",
       "      <td>0</td>\n",
       "    </tr>\n",
       "    <tr>\n",
       "      <th>3</th>\n",
       "      <td>4</td>\n",
       "      <td>11</td>\n",
       "      <td>51690.0</td>\n",
       "      <td>15.808333</td>\n",
       "      <td>1</td>\n",
       "      <td>5.372942</td>\n",
       "      <td>16</td>\n",
       "      <td>4.333286</td>\n",
       "      <td>50</td>\n",
       "      <td>0.889764</td>\n",
       "      <td>0.444882</td>\n",
       "      <td>0.361216</td>\n",
       "      <td>b</td>\n",
       "      <td>0</td>\n",
       "      <td>1</td>\n",
       "      <td>0</td>\n",
       "    </tr>\n",
       "    <tr>\n",
       "      <th>4</th>\n",
       "      <td>5</td>\n",
       "      <td>kl</td>\n",
       "      <td>28347.0</td>\n",
       "      <td>40.941667</td>\n",
       "      <td>3</td>\n",
       "      <td>3.822477</td>\n",
       "      <td>20</td>\n",
       "      <td>5.967121</td>\n",
       "      <td>38</td>\n",
       "      <td>0.744094</td>\n",
       "      <td>0.661417</td>\n",
       "      <td>0.068033</td>\n",
       "      <td>a</td>\n",
       "      <td>0</td>\n",
       "      <td>0</td>\n",
       "      <td>1</td>\n",
       "    </tr>\n",
       "  </tbody>\n",
       "</table>\n",
       "</div>"
      ]
     },
     "execution_count": 13,
     "metadata": {},
     "output_type": "execute_result"
    }
   ],
   "execution_count": 13
  },
  {
   "metadata": {},
   "cell_type": "markdown",
   "source": [
    "### Target encoding for cetegoricals (not recomended)\n",
    "Target encodign can somethimes increases the predictive power of a machine learning model. However, it also dramatically increases the risk of overfitting. This method must be used with care.\n",
    "\n",
    "Generally, target encoding can only be used on a categorical feature when the output of the machine learning model is numeric (regression).\n",
    "\n",
    "The concept of target encoding is straightforward. For each category, we calculate the average target value for that category. Then to encode, we substitute the percent corresponding to the category hat that the categorical value has. Unlike dummy variables, where you have a column for each category with target encoding, the program only needs a simgle column. In this way, target coding is more efficient than dummy variables."
   ],
   "id": "39ea343e571e8d1a"
  },
  {
   "metadata": {
    "ExecuteTime": {
     "end_time": "2024-07-21T16:24:01.277783Z",
     "start_time": "2024-07-21T16:24:01.265928Z"
    }
   },
   "cell_type": "code",
   "source": [
    "np.random.seed(43)\n",
    "df = pd.DataFrame(\n",
    "    {\n",
    "        \"cont_9\": np.random.rand(10)*100,\n",
    "        \"cat_0\": [\"dog\"]*5 + [\"cat\"]*5,\n",
    "        \"cat_1\": [\"wolf\"]*9 + [\"tiger\"]*1,\n",
    "        \"y\": [1,0,1,1,1,1,0,0,0,0]\n",
    "    }\n",
    ")\n",
    "\n",
    "df.head()"
   ],
   "id": "625d6ba85f33623a",
   "outputs": [
    {
     "data": {
      "text/plain": [
       "      cont_9 cat_0 cat_1  y\n",
       "0  11.505457   dog  wolf  1\n",
       "1  60.906654   dog  wolf  0\n",
       "2  13.339096   dog  wolf  1\n",
       "3  24.058962   dog  wolf  1\n",
       "4  32.713906   dog  wolf  1"
      ],
      "text/html": [
       "<div>\n",
       "<style scoped>\n",
       "    .dataframe tbody tr th:only-of-type {\n",
       "        vertical-align: middle;\n",
       "    }\n",
       "\n",
       "    .dataframe tbody tr th {\n",
       "        vertical-align: top;\n",
       "    }\n",
       "\n",
       "    .dataframe thead th {\n",
       "        text-align: right;\n",
       "    }\n",
       "</style>\n",
       "<table border=\"1\" class=\"dataframe\">\n",
       "  <thead>\n",
       "    <tr style=\"text-align: right;\">\n",
       "      <th></th>\n",
       "      <th>cont_9</th>\n",
       "      <th>cat_0</th>\n",
       "      <th>cat_1</th>\n",
       "      <th>y</th>\n",
       "    </tr>\n",
       "  </thead>\n",
       "  <tbody>\n",
       "    <tr>\n",
       "      <th>0</th>\n",
       "      <td>11.505457</td>\n",
       "      <td>dog</td>\n",
       "      <td>wolf</td>\n",
       "      <td>1</td>\n",
       "    </tr>\n",
       "    <tr>\n",
       "      <th>1</th>\n",
       "      <td>60.906654</td>\n",
       "      <td>dog</td>\n",
       "      <td>wolf</td>\n",
       "      <td>0</td>\n",
       "    </tr>\n",
       "    <tr>\n",
       "      <th>2</th>\n",
       "      <td>13.339096</td>\n",
       "      <td>dog</td>\n",
       "      <td>wolf</td>\n",
       "      <td>1</td>\n",
       "    </tr>\n",
       "    <tr>\n",
       "      <th>3</th>\n",
       "      <td>24.058962</td>\n",
       "      <td>dog</td>\n",
       "      <td>wolf</td>\n",
       "      <td>1</td>\n",
       "    </tr>\n",
       "    <tr>\n",
       "      <th>4</th>\n",
       "      <td>32.713906</td>\n",
       "      <td>dog</td>\n",
       "      <td>wolf</td>\n",
       "      <td>1</td>\n",
       "    </tr>\n",
       "  </tbody>\n",
       "</table>\n",
       "</div>"
      ]
     },
     "execution_count": 3,
     "metadata": {},
     "output_type": "execute_result"
    }
   ],
   "execution_count": 3
  },
  {
   "metadata": {},
   "cell_type": "markdown",
   "source": "To replace the categories with a number rather than creating dummy variables for \"dog\" and \"cat\", we would like to change them to a number. We could use 0 for a cat and 1 for a dog. However, we can encode more information than just that. The simple 0 or 1 would also only work for one animal. Consider what the mean target value is for cat and dog.",
   "id": "fc567d054d17a2bf"
  },
  {
   "metadata": {
    "ExecuteTime": {
     "end_time": "2024-07-21T16:24:03.909966Z",
     "start_time": "2024-07-21T16:24:03.905477Z"
    }
   },
   "cell_type": "code",
   "source": [
    "means_0 = df.groupby(\"cat_0\")[\"y\"].mean().to_dict()\n",
    "means_0"
   ],
   "id": "dcea651fcbb4ab3",
   "outputs": [
    {
     "data": {
      "text/plain": [
       "{'cat': 0.2, 'dog': 0.8}"
      ]
     },
     "execution_count": 4,
     "metadata": {},
     "output_type": "execute_result"
    }
   ],
   "execution_count": 4
  },
  {
   "metadata": {},
   "cell_type": "markdown",
   "source": [
    "The danger is that we are now using the target value (y) for training. This technique will potentially lead to overfitting. The possibility of overfitting is even greater if a small number of a particular category. To prevent this from happening, we use a weighting factor. The stronger the weight, the more categories with fewer values will tend towards the overall average of \n",
    ". You can perform this calculation as follows."
   ],
   "id": "e85bf6ce74f95706"
  },
  {
   "metadata": {
    "ExecuteTime": {
     "end_time": "2024-07-21T17:43:13.023499Z",
     "start_time": "2024-07-21T17:43:13.020301Z"
    }
   },
   "cell_type": "code",
   "source": [
    "def calc_smooth_mean(df1, df2, cat_name, target, weight):\n",
    "    # compute the global mean\n",
    "    mean = df[target].mean()\n",
    "    \n",
    "    # compute the number of values and the mean of each group\n",
    "    agg = df.groupby(cat_name)[target].agg([\"count\", \"mean\"])\n",
    "    counts = agg[\"count\"]\n",
    "    means = agg[\"mean\"]\n",
    "    \n",
    "    # compute the \"smoothed\" means\n",
    "    smooth = (counts*means+weight*mean)/(counts+weight)\n",
    "    \n",
    "    # replace each value by the according smoothed mean\n",
    "    if df2 is None:\n",
    "        return df1[cat_name].map(smooth)\n",
    "    else:\n",
    "        return df1[cat_name].map(smooth), df2[cat_name].map(smooth.to_dict())"
   ],
   "id": "35b355dff8a7df0b",
   "outputs": [],
   "execution_count": 5
  },
  {
   "metadata": {},
   "cell_type": "markdown",
   "source": "Encoding example",
   "id": "e431105c68dd920"
  },
  {
   "metadata": {
    "ExecuteTime": {
     "end_time": "2024-07-21T17:43:15.882345Z",
     "start_time": "2024-07-21T17:43:15.860986Z"
    }
   },
   "cell_type": "code",
   "source": [
    "weight = 5\n",
    "df[\"cat_0_enc\"] = calc_smooth_mean(df1=df, df2=None, cat_name=\"cat_0\", target=\"y\", weight=weight)\n",
    "df[\"cat_1_enc\"] = calc_smooth_mean(df1=df, df2=None, cat_name=\"cat_1\", target=\"y\", weight=weight)\n",
    "df.head()"
   ],
   "id": "b79463eb01c29dff",
   "outputs": [
    {
     "data": {
      "text/plain": [
       "      cont_9 cat_0 cat_1  y  cat_0_enc  cat_1_enc\n",
       "0  11.505457   dog  wolf  1       0.65   0.535714\n",
       "1  60.906654   dog  wolf  0       0.65   0.535714\n",
       "2  13.339096   dog  wolf  1       0.65   0.535714\n",
       "3  24.058962   dog  wolf  1       0.65   0.535714\n",
       "4  32.713906   dog  wolf  1       0.65   0.535714"
      ],
      "text/html": [
       "<div>\n",
       "<style scoped>\n",
       "    .dataframe tbody tr th:only-of-type {\n",
       "        vertical-align: middle;\n",
       "    }\n",
       "\n",
       "    .dataframe tbody tr th {\n",
       "        vertical-align: top;\n",
       "    }\n",
       "\n",
       "    .dataframe thead th {\n",
       "        text-align: right;\n",
       "    }\n",
       "</style>\n",
       "<table border=\"1\" class=\"dataframe\">\n",
       "  <thead>\n",
       "    <tr style=\"text-align: right;\">\n",
       "      <th></th>\n",
       "      <th>cont_9</th>\n",
       "      <th>cat_0</th>\n",
       "      <th>cat_1</th>\n",
       "      <th>y</th>\n",
       "      <th>cat_0_enc</th>\n",
       "      <th>cat_1_enc</th>\n",
       "    </tr>\n",
       "  </thead>\n",
       "  <tbody>\n",
       "    <tr>\n",
       "      <th>0</th>\n",
       "      <td>11.505457</td>\n",
       "      <td>dog</td>\n",
       "      <td>wolf</td>\n",
       "      <td>1</td>\n",
       "      <td>0.65</td>\n",
       "      <td>0.535714</td>\n",
       "    </tr>\n",
       "    <tr>\n",
       "      <th>1</th>\n",
       "      <td>60.906654</td>\n",
       "      <td>dog</td>\n",
       "      <td>wolf</td>\n",
       "      <td>0</td>\n",
       "      <td>0.65</td>\n",
       "      <td>0.535714</td>\n",
       "    </tr>\n",
       "    <tr>\n",
       "      <th>2</th>\n",
       "      <td>13.339096</td>\n",
       "      <td>dog</td>\n",
       "      <td>wolf</td>\n",
       "      <td>1</td>\n",
       "      <td>0.65</td>\n",
       "      <td>0.535714</td>\n",
       "    </tr>\n",
       "    <tr>\n",
       "      <th>3</th>\n",
       "      <td>24.058962</td>\n",
       "      <td>dog</td>\n",
       "      <td>wolf</td>\n",
       "      <td>1</td>\n",
       "      <td>0.65</td>\n",
       "      <td>0.535714</td>\n",
       "    </tr>\n",
       "    <tr>\n",
       "      <th>4</th>\n",
       "      <td>32.713906</td>\n",
       "      <td>dog</td>\n",
       "      <td>wolf</td>\n",
       "      <td>1</td>\n",
       "      <td>0.65</td>\n",
       "      <td>0.535714</td>\n",
       "    </tr>\n",
       "  </tbody>\n",
       "</table>\n",
       "</div>"
      ]
     },
     "execution_count": 6,
     "metadata": {},
     "output_type": "execute_result"
    }
   ],
   "execution_count": 6
  },
  {
   "metadata": {},
   "cell_type": "markdown",
   "source": [
    "### Shuffling the dataset\n",
    "There may be information lurking in the order of the rows of your dataset. Unless you are dealing with time-series data, the order of the rows sould not be significant. Consider if your tarining set included employees in a company. Perhaps this dataset is ordered by the number of years the employees were with te company. It is okay to have an individual column that specifies years of service. However, having the data in this order might be problematic.\n",
    "Consider if you were to split the data into a traininga and validation. You could end up with your validation set having only the newer employees and the training set longer-term employees. Separating the data into a k-fold cross validation could have similar problems. Because of these issues, it is important to shuffle the data set.\n",
    "Often Shuffling and reindexing are both performed together. Shuffling randomizes the order of the data set. However, it does not change the pandas row numbers. The following code demonstrates a reshuffle. `notice that the program has not reset the row indexes' first column`. Generally this will not cause any issues and allows tracing back to the original order of the data. However, it is recommended to reset this index."
   ],
   "id": "c98ed5e3c820c685"
  },
  {
   "metadata": {
    "ExecuteTime": {
     "end_time": "2024-07-22T15:17:07.797719Z",
     "start_time": "2024-07-22T15:17:07.780725Z"
    }
   },
   "cell_type": "code",
   "source": [
    "df = pd.read_csv(\"data/auto-mpg.csv\", na_values=[\"NA\", \"?\"])\n",
    "\n",
    "# the numpy array is a random permutation of the index of the dataframe, when this np.array is passed to df.reindex all the rows in the dataframe will be shuffled\n",
    "shuffled_index = np.random.permutation(df.index)\n",
    "df = df.reindex(shuffled_index)\n",
    "df.head()"
   ],
   "id": "a174bb9a6a12f963",
   "outputs": [
    {
     "data": {
      "text/plain": [
       "      mpg  cylinders  displacement  horsepower  weight  acceleration  year  \\\n",
       "137  13.0          8         350.0       150.0    4699          14.5    74   \n",
       "29   27.0          4          97.0        88.0    2130          14.5    71   \n",
       "45   18.0          6         258.0       110.0    2962          13.5    71   \n",
       "186  27.0          4         101.0        83.0    2202          15.3    76   \n",
       "314  26.4          4         140.0        88.0    2870          18.1    80   \n",
       "\n",
       "     origin                        name  \n",
       "137       1    buick century luxus (sw)  \n",
       "29        3                datsun pl510  \n",
       "45        1  amc hornet sportabout (sw)  \n",
       "186       2                renault 12tl  \n",
       "314       1               ford fairmont  "
      ],
      "text/html": [
       "<div>\n",
       "<style scoped>\n",
       "    .dataframe tbody tr th:only-of-type {\n",
       "        vertical-align: middle;\n",
       "    }\n",
       "\n",
       "    .dataframe tbody tr th {\n",
       "        vertical-align: top;\n",
       "    }\n",
       "\n",
       "    .dataframe thead th {\n",
       "        text-align: right;\n",
       "    }\n",
       "</style>\n",
       "<table border=\"1\" class=\"dataframe\">\n",
       "  <thead>\n",
       "    <tr style=\"text-align: right;\">\n",
       "      <th></th>\n",
       "      <th>mpg</th>\n",
       "      <th>cylinders</th>\n",
       "      <th>displacement</th>\n",
       "      <th>horsepower</th>\n",
       "      <th>weight</th>\n",
       "      <th>acceleration</th>\n",
       "      <th>year</th>\n",
       "      <th>origin</th>\n",
       "      <th>name</th>\n",
       "    </tr>\n",
       "  </thead>\n",
       "  <tbody>\n",
       "    <tr>\n",
       "      <th>137</th>\n",
       "      <td>13.0</td>\n",
       "      <td>8</td>\n",
       "      <td>350.0</td>\n",
       "      <td>150.0</td>\n",
       "      <td>4699</td>\n",
       "      <td>14.5</td>\n",
       "      <td>74</td>\n",
       "      <td>1</td>\n",
       "      <td>buick century luxus (sw)</td>\n",
       "    </tr>\n",
       "    <tr>\n",
       "      <th>29</th>\n",
       "      <td>27.0</td>\n",
       "      <td>4</td>\n",
       "      <td>97.0</td>\n",
       "      <td>88.0</td>\n",
       "      <td>2130</td>\n",
       "      <td>14.5</td>\n",
       "      <td>71</td>\n",
       "      <td>3</td>\n",
       "      <td>datsun pl510</td>\n",
       "    </tr>\n",
       "    <tr>\n",
       "      <th>45</th>\n",
       "      <td>18.0</td>\n",
       "      <td>6</td>\n",
       "      <td>258.0</td>\n",
       "      <td>110.0</td>\n",
       "      <td>2962</td>\n",
       "      <td>13.5</td>\n",
       "      <td>71</td>\n",
       "      <td>1</td>\n",
       "      <td>amc hornet sportabout (sw)</td>\n",
       "    </tr>\n",
       "    <tr>\n",
       "      <th>186</th>\n",
       "      <td>27.0</td>\n",
       "      <td>4</td>\n",
       "      <td>101.0</td>\n",
       "      <td>83.0</td>\n",
       "      <td>2202</td>\n",
       "      <td>15.3</td>\n",
       "      <td>76</td>\n",
       "      <td>2</td>\n",
       "      <td>renault 12tl</td>\n",
       "    </tr>\n",
       "    <tr>\n",
       "      <th>314</th>\n",
       "      <td>26.4</td>\n",
       "      <td>4</td>\n",
       "      <td>140.0</td>\n",
       "      <td>88.0</td>\n",
       "      <td>2870</td>\n",
       "      <td>18.1</td>\n",
       "      <td>80</td>\n",
       "      <td>1</td>\n",
       "      <td>ford fairmont</td>\n",
       "    </tr>\n",
       "  </tbody>\n",
       "</table>\n",
       "</div>"
      ]
     },
     "execution_count": 2,
     "metadata": {},
     "output_type": "execute_result"
    }
   ],
   "execution_count": 2
  },
  {
   "metadata": {
    "ExecuteTime": {
     "end_time": "2024-07-22T15:18:17.910206Z",
     "start_time": "2024-07-22T15:18:17.902407Z"
    }
   },
   "cell_type": "code",
   "source": [
    "# notice that the new index is altered, to reset the index\n",
    "df.reset_index(drop=True, inplace=True)\n",
    "df.head()"
   ],
   "id": "dba18b0aff7eb7e4",
   "outputs": [
    {
     "data": {
      "text/plain": [
       "    mpg  cylinders  displacement  horsepower  weight  acceleration  year  \\\n",
       "0  13.0          8         350.0       150.0    4699          14.5    74   \n",
       "1  27.0          4          97.0        88.0    2130          14.5    71   \n",
       "2  18.0          6         258.0       110.0    2962          13.5    71   \n",
       "3  27.0          4         101.0        83.0    2202          15.3    76   \n",
       "4  26.4          4         140.0        88.0    2870          18.1    80   \n",
       "\n",
       "   origin                        name  \n",
       "0       1    buick century luxus (sw)  \n",
       "1       3                datsun pl510  \n",
       "2       1  amc hornet sportabout (sw)  \n",
       "3       2                renault 12tl  \n",
       "4       1               ford fairmont  "
      ],
      "text/html": [
       "<div>\n",
       "<style scoped>\n",
       "    .dataframe tbody tr th:only-of-type {\n",
       "        vertical-align: middle;\n",
       "    }\n",
       "\n",
       "    .dataframe tbody tr th {\n",
       "        vertical-align: top;\n",
       "    }\n",
       "\n",
       "    .dataframe thead th {\n",
       "        text-align: right;\n",
       "    }\n",
       "</style>\n",
       "<table border=\"1\" class=\"dataframe\">\n",
       "  <thead>\n",
       "    <tr style=\"text-align: right;\">\n",
       "      <th></th>\n",
       "      <th>mpg</th>\n",
       "      <th>cylinders</th>\n",
       "      <th>displacement</th>\n",
       "      <th>horsepower</th>\n",
       "      <th>weight</th>\n",
       "      <th>acceleration</th>\n",
       "      <th>year</th>\n",
       "      <th>origin</th>\n",
       "      <th>name</th>\n",
       "    </tr>\n",
       "  </thead>\n",
       "  <tbody>\n",
       "    <tr>\n",
       "      <th>0</th>\n",
       "      <td>13.0</td>\n",
       "      <td>8</td>\n",
       "      <td>350.0</td>\n",
       "      <td>150.0</td>\n",
       "      <td>4699</td>\n",
       "      <td>14.5</td>\n",
       "      <td>74</td>\n",
       "      <td>1</td>\n",
       "      <td>buick century luxus (sw)</td>\n",
       "    </tr>\n",
       "    <tr>\n",
       "      <th>1</th>\n",
       "      <td>27.0</td>\n",
       "      <td>4</td>\n",
       "      <td>97.0</td>\n",
       "      <td>88.0</td>\n",
       "      <td>2130</td>\n",
       "      <td>14.5</td>\n",
       "      <td>71</td>\n",
       "      <td>3</td>\n",
       "      <td>datsun pl510</td>\n",
       "    </tr>\n",
       "    <tr>\n",
       "      <th>2</th>\n",
       "      <td>18.0</td>\n",
       "      <td>6</td>\n",
       "      <td>258.0</td>\n",
       "      <td>110.0</td>\n",
       "      <td>2962</td>\n",
       "      <td>13.5</td>\n",
       "      <td>71</td>\n",
       "      <td>1</td>\n",
       "      <td>amc hornet sportabout (sw)</td>\n",
       "    </tr>\n",
       "    <tr>\n",
       "      <th>3</th>\n",
       "      <td>27.0</td>\n",
       "      <td>4</td>\n",
       "      <td>101.0</td>\n",
       "      <td>83.0</td>\n",
       "      <td>2202</td>\n",
       "      <td>15.3</td>\n",
       "      <td>76</td>\n",
       "      <td>2</td>\n",
       "      <td>renault 12tl</td>\n",
       "    </tr>\n",
       "    <tr>\n",
       "      <th>4</th>\n",
       "      <td>26.4</td>\n",
       "      <td>4</td>\n",
       "      <td>140.0</td>\n",
       "      <td>88.0</td>\n",
       "      <td>2870</td>\n",
       "      <td>18.1</td>\n",
       "      <td>80</td>\n",
       "      <td>1</td>\n",
       "      <td>ford fairmont</td>\n",
       "    </tr>\n",
       "  </tbody>\n",
       "</table>\n",
       "</div>"
      ]
     },
     "execution_count": 3,
     "metadata": {},
     "output_type": "execute_result"
    }
   ],
   "execution_count": 3
  },
  {
   "metadata": {},
   "cell_type": "markdown",
   "source": [
    "### Sorting a Data Set\n",
    "Sorting the dataset allows you to order the rows in either ascending or descending order for one or more columns. The following code sorts the MPG dataset by name and displays the first car."
   ],
   "id": "44ef6a39a367c067"
  },
  {
   "metadata": {
    "ExecuteTime": {
     "end_time": "2024-07-22T15:25:13.816848Z",
     "start_time": "2024-07-22T15:25:13.806697Z"
    }
   },
   "cell_type": "code",
   "source": [
    "df = pd.read_csv(\"data/auto-mpg.csv\", na_values=[\"NA\", \"?\"])\n",
    "\n",
    "df = df.sort_values(by=\"name\", ascending=True)\n",
    "print(f\"The first car is: {df['name'].iloc[0]}\")\n",
    "\n",
    "df.head()"
   ],
   "id": "aecefbd82db8715e",
   "outputs": [
    {
     "name": "stdout",
     "output_type": "stream",
     "text": [
      "The first car is: amc ambassador brougham\n"
     ]
    },
    {
     "data": {
      "text/plain": [
       "      mpg  cylinders  displacement  horsepower  weight  acceleration  year  \\\n",
       "96   13.0          8         360.0       175.0    3821          11.0    73   \n",
       "9    15.0          8         390.0       190.0    3850           8.5    70   \n",
       "66   17.0          8         304.0       150.0    3672          11.5    72   \n",
       "315  24.3          4         151.0        90.0    3003          20.1    80   \n",
       "257  19.4          6         232.0        90.0    3210          17.2    78   \n",
       "\n",
       "     origin                     name  \n",
       "96        1  amc ambassador brougham  \n",
       "9         1       amc ambassador dpl  \n",
       "66        1       amc ambassador sst  \n",
       "315       1              amc concord  \n",
       "257       1              amc concord  "
      ],
      "text/html": [
       "<div>\n",
       "<style scoped>\n",
       "    .dataframe tbody tr th:only-of-type {\n",
       "        vertical-align: middle;\n",
       "    }\n",
       "\n",
       "    .dataframe tbody tr th {\n",
       "        vertical-align: top;\n",
       "    }\n",
       "\n",
       "    .dataframe thead th {\n",
       "        text-align: right;\n",
       "    }\n",
       "</style>\n",
       "<table border=\"1\" class=\"dataframe\">\n",
       "  <thead>\n",
       "    <tr style=\"text-align: right;\">\n",
       "      <th></th>\n",
       "      <th>mpg</th>\n",
       "      <th>cylinders</th>\n",
       "      <th>displacement</th>\n",
       "      <th>horsepower</th>\n",
       "      <th>weight</th>\n",
       "      <th>acceleration</th>\n",
       "      <th>year</th>\n",
       "      <th>origin</th>\n",
       "      <th>name</th>\n",
       "    </tr>\n",
       "  </thead>\n",
       "  <tbody>\n",
       "    <tr>\n",
       "      <th>96</th>\n",
       "      <td>13.0</td>\n",
       "      <td>8</td>\n",
       "      <td>360.0</td>\n",
       "      <td>175.0</td>\n",
       "      <td>3821</td>\n",
       "      <td>11.0</td>\n",
       "      <td>73</td>\n",
       "      <td>1</td>\n",
       "      <td>amc ambassador brougham</td>\n",
       "    </tr>\n",
       "    <tr>\n",
       "      <th>9</th>\n",
       "      <td>15.0</td>\n",
       "      <td>8</td>\n",
       "      <td>390.0</td>\n",
       "      <td>190.0</td>\n",
       "      <td>3850</td>\n",
       "      <td>8.5</td>\n",
       "      <td>70</td>\n",
       "      <td>1</td>\n",
       "      <td>amc ambassador dpl</td>\n",
       "    </tr>\n",
       "    <tr>\n",
       "      <th>66</th>\n",
       "      <td>17.0</td>\n",
       "      <td>8</td>\n",
       "      <td>304.0</td>\n",
       "      <td>150.0</td>\n",
       "      <td>3672</td>\n",
       "      <td>11.5</td>\n",
       "      <td>72</td>\n",
       "      <td>1</td>\n",
       "      <td>amc ambassador sst</td>\n",
       "    </tr>\n",
       "    <tr>\n",
       "      <th>315</th>\n",
       "      <td>24.3</td>\n",
       "      <td>4</td>\n",
       "      <td>151.0</td>\n",
       "      <td>90.0</td>\n",
       "      <td>3003</td>\n",
       "      <td>20.1</td>\n",
       "      <td>80</td>\n",
       "      <td>1</td>\n",
       "      <td>amc concord</td>\n",
       "    </tr>\n",
       "    <tr>\n",
       "      <th>257</th>\n",
       "      <td>19.4</td>\n",
       "      <td>6</td>\n",
       "      <td>232.0</td>\n",
       "      <td>90.0</td>\n",
       "      <td>3210</td>\n",
       "      <td>17.2</td>\n",
       "      <td>78</td>\n",
       "      <td>1</td>\n",
       "      <td>amc concord</td>\n",
       "    </tr>\n",
       "  </tbody>\n",
       "</table>\n",
       "</div>"
      ]
     },
     "execution_count": 4,
     "metadata": {},
     "output_type": "execute_result"
    }
   ],
   "execution_count": 4
  },
  {
   "metadata": {},
   "cell_type": "markdown",
   "source": [
    "### Grouping a dataset \n",
    "Grouping is a typical operation on data sets. Structured Query Language (SQL) calls this operation a `GROUP BY`. Programmers use grouping to summarize data. Because of this, the summarization row count will usually shrink, and you cannot undo the grouping. Because this loss of information, it is essencial to keep your original data before the grouping. \n",
    "\n",
    "You can use the dataset with the group to perform summaries. For example, the following code will group cylinders by the average (mean). This code will provide the grouping. In addition to mean, you can use other aggregating function, such as sum or count."
   ],
   "id": "8d44c029fa386672"
  },
  {
   "metadata": {
    "ExecuteTime": {
     "end_time": "2024-07-22T15:31:14.056978Z",
     "start_time": "2024-07-22T15:31:14.050593Z"
    }
   },
   "cell_type": "code",
   "source": [
    "df = pd.read_csv(\"data/auto-mpg.csv\", na_values=[\"NA\", \"?\"])\n",
    "\n",
    "g = df.groupby(\"cylinders\")[\"mpg\"].mean()\n",
    "g"
   ],
   "id": "8d0251e1d52c0eca",
   "outputs": [
    {
     "data": {
      "text/plain": [
       "cylinders\n",
       "3    20.550000\n",
       "4    29.286765\n",
       "5    27.366667\n",
       "6    19.985714\n",
       "8    14.963107\n",
       "Name: mpg, dtype: float64"
      ]
     },
     "execution_count": 5,
     "metadata": {},
     "output_type": "execute_result"
    }
   ],
   "execution_count": 5
  },
  {
   "metadata": {},
   "cell_type": "markdown",
   "source": "It might be useful to have these mean values as a dictionary. A dictionary allows you to access an individual element quickly. For example, you could quickly look up the mean for six-cylinder cars.",
   "id": "d548cce38793e905"
  },
  {
   "metadata": {
    "ExecuteTime": {
     "end_time": "2024-07-22T15:33:56.363774Z",
     "start_time": "2024-07-22T15:33:56.360562Z"
    }
   },
   "cell_type": "code",
   "source": [
    "d = g.to_dict()\n",
    "d[6]"
   ],
   "id": "25a18f6dc68a98bf",
   "outputs": [
    {
     "data": {
      "text/plain": [
       "19.985714285714284"
      ]
     },
     "execution_count": 6,
     "metadata": {},
     "output_type": "execute_result"
    }
   ],
   "execution_count": 6
  },
  {
   "metadata": {
    "ExecuteTime": {
     "end_time": "2024-07-22T15:35:20.141494Z",
     "start_time": "2024-07-22T15:35:20.138776Z"
    }
   },
   "cell_type": "code",
   "source": [
    "# redefine g as a dictionary\n",
    "g = df.groupby(\"cylinders\")[\"mpg\"].count().to_dict()"
   ],
   "id": "b583646b6899882",
   "outputs": [],
   "execution_count": 7
  },
  {
   "metadata": {
    "ExecuteTime": {
     "end_time": "2024-07-22T15:35:25.202414Z",
     "start_time": "2024-07-22T15:35:25.198599Z"
    }
   },
   "cell_type": "code",
   "source": "g",
   "id": "439c538430620ac2",
   "outputs": [
    {
     "data": {
      "text/plain": [
       "{3: 4, 4: 204, 5: 3, 6: 84, 8: 103}"
      ]
     },
     "execution_count": 8,
     "metadata": {},
     "output_type": "execute_result"
    }
   ],
   "execution_count": 8
  },
  {
   "metadata": {},
   "cell_type": "markdown",
   "source": [
    "## Mapping and functions for pre-processing\n",
    "Remembering mapping, comprehension, filtering, lambda functions and reduce in python:\n",
    "\n",
    "The folowing function can be used to trim white space from a string and capitalize the first letter."
   ],
   "id": "6203e3fbf9250ef"
  },
  {
   "metadata": {
    "ExecuteTime": {
     "end_time": "2024-07-22T15:49:39.152712Z",
     "start_time": "2024-07-22T15:49:39.149699Z"
    }
   },
   "cell_type": "code",
   "source": [
    "def process_string(str):\n",
    "    t = str.strip()\n",
    "    return t[0].upper() + t[1:] # t[1:] means \"every string member starting from index = 1 to the end of the string\""
   ],
   "id": "88c2295301703be1",
   "outputs": [],
   "execution_count": 10
  },
  {
   "metadata": {},
   "cell_type": "markdown",
   "source": "Example:",
   "id": "641c5129df3f6df8"
  },
  {
   "metadata": {
    "ExecuteTime": {
     "end_time": "2024-07-22T15:49:42.879665Z",
     "start_time": "2024-07-22T15:49:42.876790Z"
    }
   },
   "cell_type": "code",
   "source": [
    "str = process_string(\" hello \")\n",
    "print(f'\"{str}\"')"
   ],
   "id": "48b4f9bd8f21eeb6",
   "outputs": [
    {
     "name": "stdout",
     "output_type": "stream",
     "text": [
      "\"Hello\"\n"
     ]
    }
   ],
   "execution_count": 11
  },
  {
   "metadata": {},
   "cell_type": "markdown",
   "source": "The map function takes a list and applies a function to each member of the list and returns a second list that is the same size as the original list.",
   "id": "4eba164d778c8217"
  },
  {
   "metadata": {
    "ExecuteTime": {
     "end_time": "2024-07-22T15:52:46.690630Z",
     "start_time": "2024-07-22T15:52:46.687179Z"
    }
   },
   "cell_type": "code",
   "source": [
    "l = [\" apple \", \" orange \", \" mango \", \" strawberry \", \" blueberry \", \" pine apple \"]\n",
    "mapped_list = list(map(process_string, l))\n",
    "mapped_list"
   ],
   "id": "517665cb96e7317c",
   "outputs": [
    {
     "data": {
      "text/plain": [
       "['Apple', 'Orange', 'Mango', 'Strawberry', 'Blueberry', 'Pine apple']"
      ]
     },
     "execution_count": 12,
     "metadata": {},
     "output_type": "execute_result"
    }
   ],
   "execution_count": 12
  },
  {
   "metadata": {},
   "cell_type": "markdown",
   "source": "Similar list processing can be done with python comprehension",
   "id": "5850b5b052aa17fb"
  },
  {
   "metadata": {
    "ExecuteTime": {
     "end_time": "2024-07-22T15:55:03.416178Z",
     "start_time": "2024-07-22T15:55:03.412383Z"
    }
   },
   "cell_type": "code",
   "source": [
    "l = [\" apple \", \" orange \", \" mango \", \" strawberry \", \" blueberry \", \" pine apple \"]\n",
    "comp_list = [process_string(x) for x in l]\n",
    "comp_list"
   ],
   "id": "455f69fd4090fede",
   "outputs": [
    {
     "data": {
      "text/plain": [
       "['Apple', 'Orange', 'Mango', 'Strawberry', 'Blueberry', 'Pine apple']"
      ]
     },
     "execution_count": 13,
     "metadata": {},
     "output_type": "execute_result"
    }
   ],
   "execution_count": 13
  },
  {
   "metadata": {},
   "cell_type": "markdown",
   "source": "While a map function always creates a new list of the same size as the original, the filter function creates a potentially smaller list",
   "id": "b5059fe81d2df07e"
  },
  {
   "metadata": {
    "ExecuteTime": {
     "end_time": "2024-07-22T15:58:51.913811Z",
     "start_time": "2024-07-22T15:58:51.911340Z"
    }
   },
   "cell_type": "code",
   "source": [
    "def greather_than_five(x):\n",
    "    if x >= 5:\n",
    "        return x"
   ],
   "id": "8c7519b71e7fb3b0",
   "outputs": [],
   "execution_count": 14
  },
  {
   "metadata": {
    "ExecuteTime": {
     "end_time": "2024-07-22T15:59:39.714373Z",
     "start_time": "2024-07-22T15:59:39.710559Z"
    }
   },
   "cell_type": "code",
   "source": [
    "l = [1, 10, 20, 3, -2, 0]\n",
    "greather_list = list(filter(greather_than_five, l))\n",
    "greather_list"
   ],
   "id": "c4e4cc5013b1fede",
   "outputs": [
    {
     "data": {
      "text/plain": [
       "[10, 20]"
      ]
     },
     "execution_count": 15,
     "metadata": {},
     "output_type": "execute_result"
    }
   ],
   "execution_count": 15
  },
  {
   "metadata": {},
   "cell_type": "markdown",
   "source": "It might seem somewhat tedious to have to create an entire function just to check to see if a value is greather than 5. A lambda saves you this effort. A lambda is essentially an unnamed function",
   "id": "7cecc6f0609ab197"
  },
  {
   "metadata": {
    "ExecuteTime": {
     "end_time": "2024-07-22T16:02:39.099847Z",
     "start_time": "2024-07-22T16:02:39.095856Z"
    }
   },
   "cell_type": "code",
   "source": [
    "l = [1, 10, 20, 3, -2, 0]\n",
    "lambda_list = list(filter(lambda x : x >= 5, l))\n",
    "lambda_list"
   ],
   "id": "20dce5dc4d3be2b3",
   "outputs": [
    {
     "data": {
      "text/plain": [
       "[10, 20]"
      ]
     },
     "execution_count": 17,
     "metadata": {},
     "output_type": "execute_result"
    }
   ],
   "execution_count": 17
  },
  {
   "metadata": {},
   "cell_type": "markdown",
   "source": "Like filter and map the reduce function also works on a list. However, the result of the reduce is a single value. Consider if you wanted to sum the values of a list.",
   "id": "795184a2122c6d93"
  },
  {
   "metadata": {
    "ExecuteTime": {
     "end_time": "2024-07-22T16:05:05.407119Z",
     "start_time": "2024-07-22T16:05:05.404441Z"
    }
   },
   "cell_type": "code",
   "source": [
    "from functools import reduce\n",
    "\n",
    "l = [1, 10, 20, 3, -2, 0]\n",
    "result = reduce(lambda x, y: x + y, l)\n",
    "print(result)"
   ],
   "id": "fd2d2a0e430b00bf",
   "outputs": [
    {
     "name": "stdout",
     "output_type": "stream",
     "text": [
      "32\n"
     ]
    }
   ],
   "execution_count": 18
  },
  {
   "metadata": {},
   "cell_type": "markdown",
   "source": "If you've ever worked with Big Data or functional programming languages before, you've likely heard of map/reduce. Map and reduce are two `funtional programming` techniques that allow you to use function across an entire data frame. In addition to functions that you write, Pandas also provides several standard functions for use with dataframes.",
   "id": "53a74c03ded18c34"
  },
  {
   "metadata": {},
   "cell_type": "markdown",
   "source": [
    "### Using map with dataframes\n",
    "The map function allows you to transform a column by mapping certain values in that column to other values. Consider the Auto MPG dataset that contains a fiel origin_name that holds a value between one and three that indicates the geographic origin of each car. We can see how to use the map function to transform this numeric origin to the textual name of each other."
   ],
   "id": "e45bba1440f87b58"
  },
  {
   "metadata": {
    "ExecuteTime": {
     "end_time": "2024-07-22T16:16:24.128306Z",
     "start_time": "2024-07-22T16:16:24.119247Z"
    }
   },
   "cell_type": "code",
   "source": [
    "df = pd.read_csv(\"data/auto-mpg.csv\", na_values=[\"NA\", \"?\"])\n",
    "df.head()"
   ],
   "id": "ef9b4ed918a2518b",
   "outputs": [
    {
     "data": {
      "text/plain": [
       "    mpg  cylinders  displacement  horsepower  weight  acceleration  year  \\\n",
       "0  18.0          8         307.0       130.0    3504          12.0    70   \n",
       "1  15.0          8         350.0       165.0    3693          11.5    70   \n",
       "2  18.0          8         318.0       150.0    3436          11.0    70   \n",
       "3  16.0          8         304.0       150.0    3433          12.0    70   \n",
       "4  17.0          8         302.0       140.0    3449          10.5    70   \n",
       "\n",
       "   origin                       name  \n",
       "0       1  chevrolet chevelle malibu  \n",
       "1       1          buick skylark 320  \n",
       "2       1         plymouth satellite  \n",
       "3       1              amc rebel sst  \n",
       "4       1                ford torino  "
      ],
      "text/html": [
       "<div>\n",
       "<style scoped>\n",
       "    .dataframe tbody tr th:only-of-type {\n",
       "        vertical-align: middle;\n",
       "    }\n",
       "\n",
       "    .dataframe tbody tr th {\n",
       "        vertical-align: top;\n",
       "    }\n",
       "\n",
       "    .dataframe thead th {\n",
       "        text-align: right;\n",
       "    }\n",
       "</style>\n",
       "<table border=\"1\" class=\"dataframe\">\n",
       "  <thead>\n",
       "    <tr style=\"text-align: right;\">\n",
       "      <th></th>\n",
       "      <th>mpg</th>\n",
       "      <th>cylinders</th>\n",
       "      <th>displacement</th>\n",
       "      <th>horsepower</th>\n",
       "      <th>weight</th>\n",
       "      <th>acceleration</th>\n",
       "      <th>year</th>\n",
       "      <th>origin</th>\n",
       "      <th>name</th>\n",
       "    </tr>\n",
       "  </thead>\n",
       "  <tbody>\n",
       "    <tr>\n",
       "      <th>0</th>\n",
       "      <td>18.0</td>\n",
       "      <td>8</td>\n",
       "      <td>307.0</td>\n",
       "      <td>130.0</td>\n",
       "      <td>3504</td>\n",
       "      <td>12.0</td>\n",
       "      <td>70</td>\n",
       "      <td>1</td>\n",
       "      <td>chevrolet chevelle malibu</td>\n",
       "    </tr>\n",
       "    <tr>\n",
       "      <th>1</th>\n",
       "      <td>15.0</td>\n",
       "      <td>8</td>\n",
       "      <td>350.0</td>\n",
       "      <td>165.0</td>\n",
       "      <td>3693</td>\n",
       "      <td>11.5</td>\n",
       "      <td>70</td>\n",
       "      <td>1</td>\n",
       "      <td>buick skylark 320</td>\n",
       "    </tr>\n",
       "    <tr>\n",
       "      <th>2</th>\n",
       "      <td>18.0</td>\n",
       "      <td>8</td>\n",
       "      <td>318.0</td>\n",
       "      <td>150.0</td>\n",
       "      <td>3436</td>\n",
       "      <td>11.0</td>\n",
       "      <td>70</td>\n",
       "      <td>1</td>\n",
       "      <td>plymouth satellite</td>\n",
       "    </tr>\n",
       "    <tr>\n",
       "      <th>3</th>\n",
       "      <td>16.0</td>\n",
       "      <td>8</td>\n",
       "      <td>304.0</td>\n",
       "      <td>150.0</td>\n",
       "      <td>3433</td>\n",
       "      <td>12.0</td>\n",
       "      <td>70</td>\n",
       "      <td>1</td>\n",
       "      <td>amc rebel sst</td>\n",
       "    </tr>\n",
       "    <tr>\n",
       "      <th>4</th>\n",
       "      <td>17.0</td>\n",
       "      <td>8</td>\n",
       "      <td>302.0</td>\n",
       "      <td>140.0</td>\n",
       "      <td>3449</td>\n",
       "      <td>10.5</td>\n",
       "      <td>70</td>\n",
       "      <td>1</td>\n",
       "      <td>ford torino</td>\n",
       "    </tr>\n",
       "  </tbody>\n",
       "</table>\n",
       "</div>"
      ]
     },
     "execution_count": 20,
     "metadata": {},
     "output_type": "execute_result"
    }
   ],
   "execution_count": 20
  },
  {
   "metadata": {},
   "cell_type": "markdown",
   "source": "The map method in Pandas operates on a single column. You provide map with a dictionary of values to transform the target column. The map keys specify what values in the target column should be turned into values specified by those keys. The following code shows hot the map function can transform the numeric values of 1, 2 and 4 intro the string values of North America, Europe, and Asia.",
   "id": "5bda484e7202716d"
  },
  {
   "metadata": {
    "ExecuteTime": {
     "end_time": "2024-07-22T16:21:25.874692Z",
     "start_time": "2024-07-22T16:21:25.867304Z"
    }
   },
   "cell_type": "code",
   "source": [
    "origin_dict = {1: \"North America\", 2: \"Europe\", 3: \"Asia\"}\n",
    "df[\"origin_name\"] = df[\"origin\"].map(origin_dict)\n",
    "df.head()"
   ],
   "id": "b59306e5afb9a81b",
   "outputs": [
    {
     "data": {
      "text/plain": [
       "    mpg  cylinders  displacement  horsepower  weight  acceleration  year  \\\n",
       "0  18.0          8         307.0       130.0    3504          12.0    70   \n",
       "1  15.0          8         350.0       165.0    3693          11.5    70   \n",
       "2  18.0          8         318.0       150.0    3436          11.0    70   \n",
       "3  16.0          8         304.0       150.0    3433          12.0    70   \n",
       "4  17.0          8         302.0       140.0    3449          10.5    70   \n",
       "\n",
       "   origin                       name    origin_name  \n",
       "0       1  chevrolet chevelle malibu  North America  \n",
       "1       1          buick skylark 320  North America  \n",
       "2       1         plymouth satellite  North America  \n",
       "3       1              amc rebel sst  North America  \n",
       "4       1                ford torino  North America  "
      ],
      "text/html": [
       "<div>\n",
       "<style scoped>\n",
       "    .dataframe tbody tr th:only-of-type {\n",
       "        vertical-align: middle;\n",
       "    }\n",
       "\n",
       "    .dataframe tbody tr th {\n",
       "        vertical-align: top;\n",
       "    }\n",
       "\n",
       "    .dataframe thead th {\n",
       "        text-align: right;\n",
       "    }\n",
       "</style>\n",
       "<table border=\"1\" class=\"dataframe\">\n",
       "  <thead>\n",
       "    <tr style=\"text-align: right;\">\n",
       "      <th></th>\n",
       "      <th>mpg</th>\n",
       "      <th>cylinders</th>\n",
       "      <th>displacement</th>\n",
       "      <th>horsepower</th>\n",
       "      <th>weight</th>\n",
       "      <th>acceleration</th>\n",
       "      <th>year</th>\n",
       "      <th>origin</th>\n",
       "      <th>name</th>\n",
       "      <th>origin_name</th>\n",
       "    </tr>\n",
       "  </thead>\n",
       "  <tbody>\n",
       "    <tr>\n",
       "      <th>0</th>\n",
       "      <td>18.0</td>\n",
       "      <td>8</td>\n",
       "      <td>307.0</td>\n",
       "      <td>130.0</td>\n",
       "      <td>3504</td>\n",
       "      <td>12.0</td>\n",
       "      <td>70</td>\n",
       "      <td>1</td>\n",
       "      <td>chevrolet chevelle malibu</td>\n",
       "      <td>North America</td>\n",
       "    </tr>\n",
       "    <tr>\n",
       "      <th>1</th>\n",
       "      <td>15.0</td>\n",
       "      <td>8</td>\n",
       "      <td>350.0</td>\n",
       "      <td>165.0</td>\n",
       "      <td>3693</td>\n",
       "      <td>11.5</td>\n",
       "      <td>70</td>\n",
       "      <td>1</td>\n",
       "      <td>buick skylark 320</td>\n",
       "      <td>North America</td>\n",
       "    </tr>\n",
       "    <tr>\n",
       "      <th>2</th>\n",
       "      <td>18.0</td>\n",
       "      <td>8</td>\n",
       "      <td>318.0</td>\n",
       "      <td>150.0</td>\n",
       "      <td>3436</td>\n",
       "      <td>11.0</td>\n",
       "      <td>70</td>\n",
       "      <td>1</td>\n",
       "      <td>plymouth satellite</td>\n",
       "      <td>North America</td>\n",
       "    </tr>\n",
       "    <tr>\n",
       "      <th>3</th>\n",
       "      <td>16.0</td>\n",
       "      <td>8</td>\n",
       "      <td>304.0</td>\n",
       "      <td>150.0</td>\n",
       "      <td>3433</td>\n",
       "      <td>12.0</td>\n",
       "      <td>70</td>\n",
       "      <td>1</td>\n",
       "      <td>amc rebel sst</td>\n",
       "      <td>North America</td>\n",
       "    </tr>\n",
       "    <tr>\n",
       "      <th>4</th>\n",
       "      <td>17.0</td>\n",
       "      <td>8</td>\n",
       "      <td>302.0</td>\n",
       "      <td>140.0</td>\n",
       "      <td>3449</td>\n",
       "      <td>10.5</td>\n",
       "      <td>70</td>\n",
       "      <td>1</td>\n",
       "      <td>ford torino</td>\n",
       "      <td>North America</td>\n",
       "    </tr>\n",
       "  </tbody>\n",
       "</table>\n",
       "</div>"
      ]
     },
     "execution_count": 21,
     "metadata": {},
     "output_type": "execute_result"
    }
   ],
   "execution_count": 21
  },
  {
   "metadata": {},
   "cell_type": "markdown",
   "source": [
    "### Using df.Apply\n",
    "The apply function of hte dataframe can run a function over the entire dataframe. You can use either a traditional named function or a lambda function. Python will execute the provided function against each of the rows or columns in the dataframe. The axis parameter specifies that the function is run across rows or columns. With axis = 1, rows are used. The following code calculates a series called efficiency that is the displacement divided by horsepower. "
   ],
   "id": "12d9d8eb9496a739"
  },
  {
   "metadata": {
    "ExecuteTime": {
     "end_time": "2024-07-22T16:30:38.529500Z",
     "start_time": "2024-07-22T16:30:38.519504Z"
    }
   },
   "cell_type": "code",
   "source": [
    "efficiency = df.apply(lambda x: x[\"displacement\"]/x[\"horsepower\"], axis=1)\n",
    "df[\"efficiency\"] = efficiency\n",
    "df.head()"
   ],
   "id": "ac132f134d2da9be",
   "outputs": [
    {
     "data": {
      "text/plain": [
       "    mpg  cylinders  displacement  horsepower  weight  acceleration  year  \\\n",
       "0  18.0          8         307.0       130.0    3504          12.0    70   \n",
       "1  15.0          8         350.0       165.0    3693          11.5    70   \n",
       "2  18.0          8         318.0       150.0    3436          11.0    70   \n",
       "3  16.0          8         304.0       150.0    3433          12.0    70   \n",
       "4  17.0          8         302.0       140.0    3449          10.5    70   \n",
       "\n",
       "   origin                       name    origin_name  efficiency  \n",
       "0       1  chevrolet chevelle malibu  North America    2.361538  \n",
       "1       1          buick skylark 320  North America    2.121212  \n",
       "2       1         plymouth satellite  North America    2.120000  \n",
       "3       1              amc rebel sst  North America    2.026667  \n",
       "4       1                ford torino  North America    2.157143  "
      ],
      "text/html": [
       "<div>\n",
       "<style scoped>\n",
       "    .dataframe tbody tr th:only-of-type {\n",
       "        vertical-align: middle;\n",
       "    }\n",
       "\n",
       "    .dataframe tbody tr th {\n",
       "        vertical-align: top;\n",
       "    }\n",
       "\n",
       "    .dataframe thead th {\n",
       "        text-align: right;\n",
       "    }\n",
       "</style>\n",
       "<table border=\"1\" class=\"dataframe\">\n",
       "  <thead>\n",
       "    <tr style=\"text-align: right;\">\n",
       "      <th></th>\n",
       "      <th>mpg</th>\n",
       "      <th>cylinders</th>\n",
       "      <th>displacement</th>\n",
       "      <th>horsepower</th>\n",
       "      <th>weight</th>\n",
       "      <th>acceleration</th>\n",
       "      <th>year</th>\n",
       "      <th>origin</th>\n",
       "      <th>name</th>\n",
       "      <th>origin_name</th>\n",
       "      <th>efficiency</th>\n",
       "    </tr>\n",
       "  </thead>\n",
       "  <tbody>\n",
       "    <tr>\n",
       "      <th>0</th>\n",
       "      <td>18.0</td>\n",
       "      <td>8</td>\n",
       "      <td>307.0</td>\n",
       "      <td>130.0</td>\n",
       "      <td>3504</td>\n",
       "      <td>12.0</td>\n",
       "      <td>70</td>\n",
       "      <td>1</td>\n",
       "      <td>chevrolet chevelle malibu</td>\n",
       "      <td>North America</td>\n",
       "      <td>2.361538</td>\n",
       "    </tr>\n",
       "    <tr>\n",
       "      <th>1</th>\n",
       "      <td>15.0</td>\n",
       "      <td>8</td>\n",
       "      <td>350.0</td>\n",
       "      <td>165.0</td>\n",
       "      <td>3693</td>\n",
       "      <td>11.5</td>\n",
       "      <td>70</td>\n",
       "      <td>1</td>\n",
       "      <td>buick skylark 320</td>\n",
       "      <td>North America</td>\n",
       "      <td>2.121212</td>\n",
       "    </tr>\n",
       "    <tr>\n",
       "      <th>2</th>\n",
       "      <td>18.0</td>\n",
       "      <td>8</td>\n",
       "      <td>318.0</td>\n",
       "      <td>150.0</td>\n",
       "      <td>3436</td>\n",
       "      <td>11.0</td>\n",
       "      <td>70</td>\n",
       "      <td>1</td>\n",
       "      <td>plymouth satellite</td>\n",
       "      <td>North America</td>\n",
       "      <td>2.120000</td>\n",
       "    </tr>\n",
       "    <tr>\n",
       "      <th>3</th>\n",
       "      <td>16.0</td>\n",
       "      <td>8</td>\n",
       "      <td>304.0</td>\n",
       "      <td>150.0</td>\n",
       "      <td>3433</td>\n",
       "      <td>12.0</td>\n",
       "      <td>70</td>\n",
       "      <td>1</td>\n",
       "      <td>amc rebel sst</td>\n",
       "      <td>North America</td>\n",
       "      <td>2.026667</td>\n",
       "    </tr>\n",
       "    <tr>\n",
       "      <th>4</th>\n",
       "      <td>17.0</td>\n",
       "      <td>8</td>\n",
       "      <td>302.0</td>\n",
       "      <td>140.0</td>\n",
       "      <td>3449</td>\n",
       "      <td>10.5</td>\n",
       "      <td>70</td>\n",
       "      <td>1</td>\n",
       "      <td>ford torino</td>\n",
       "      <td>North America</td>\n",
       "      <td>2.157143</td>\n",
       "    </tr>\n",
       "  </tbody>\n",
       "</table>\n",
       "</div>"
      ]
     },
     "execution_count": 22,
     "metadata": {},
     "output_type": "execute_result"
    }
   ],
   "execution_count": 22
  },
  {
   "metadata": {},
   "cell_type": "markdown",
   "source": [
    "### Feature engineering with Pandas\n",
    "\n",
    "In this section, we will see how to calculate a complex feature using map, apply, and grouping. The dataset is the following CSV:\n",
    "- https://www.irs.gov/pub/irs-soi/16zpallagi.csv\n",
    "\n",
    "US Goverment publicdata for \"SOI Tax Stats - Individual Tax Statistics: metadata\n",
    "- https://www.irs.gov/statistics/soi-tax-stats-individual-income-tax-statistics-2016-zip-code-data-soi\n",
    "\n",
    "For this feature, we will attempt to estimate the adjusted gross income (AGI) for each of the zip codes. The data file contains many columns however, you will only use the following:\n",
    "\n",
    "- STATE: The state (e.g., MO)\n",
    "- zipcode: (e.g. 63017)\n",
    "- agi_stub: six different brackets of annual income (1 to 6)\n",
    "- N1: number of tax teturns for each of the agi_stubs\n",
    "\n",
    "Note that the file will have six rows for each zip code for each of the agi_stub brackets. You can skip codes with 0 or 99999. \n",
    "\n",
    "We will create an output CSV with these columns; however, only one row per zip code. Calculate a weighted average of the income brackets. For example the following six rows are present for zipcode 63017:"
   ],
   "id": "9e1388906b366b4a"
  },
  {
   "metadata": {
    "ExecuteTime": {
     "end_time": "2024-07-22T20:32:24.355509Z",
     "start_time": "2024-07-22T20:32:23.309031Z"
    }
   },
   "cell_type": "code",
   "source": [
    "df = pd.read_csv(\"data/16zpallagi.csv\")\n",
    "df.head()"
   ],
   "id": "831990a66c10cbdb",
   "outputs": [
    {
     "data": {
      "text/plain": [
       "   STATEFIPS STATE  zipcode  agi_stub      N1   mars1   MARS2   MARS4    PREP  \\\n",
       "0          1    AL        0         1  815440  477700  105350  221200  440830   \n",
       "1          1    AL        0         2  495830  211930  142340  128890  272440   \n",
       "2          1    AL        0         3  263390   83420  137870   36340  154880   \n",
       "3          1    AL        0         4  167190   29420  124060   10610   99700   \n",
       "4          1    AL        0         5  217440   20240  188080    4880  129410   \n",
       "\n",
       "        N2  ...  N10300   A10300  N85530  A85530  N85300  A85300  N11901  \\\n",
       "0  1296920  ...  367320   330066       0       0       0       0   63420   \n",
       "1   996240  ...  398050   984297       0       0       0       0   74090   \n",
       "2   584000  ...  253180  1349246       0       0       0       0   64000   \n",
       "3   421720  ...  165830  1425430       0       0       0       0   45020   \n",
       "4   601040  ...  216720  3922449     390     155      60      19   82940   \n",
       "\n",
       "   A11901  N11902   A11902  \n",
       "0   51444  711580  1831661  \n",
       "1  110889  416090  1173463  \n",
       "2  143060  195130   543284  \n",
       "3  128920  117410   381329  \n",
       "4  423629  126130   506526  \n",
       "\n",
       "[5 rows x 147 columns]"
      ],
      "text/html": [
       "<div>\n",
       "<style scoped>\n",
       "    .dataframe tbody tr th:only-of-type {\n",
       "        vertical-align: middle;\n",
       "    }\n",
       "\n",
       "    .dataframe tbody tr th {\n",
       "        vertical-align: top;\n",
       "    }\n",
       "\n",
       "    .dataframe thead th {\n",
       "        text-align: right;\n",
       "    }\n",
       "</style>\n",
       "<table border=\"1\" class=\"dataframe\">\n",
       "  <thead>\n",
       "    <tr style=\"text-align: right;\">\n",
       "      <th></th>\n",
       "      <th>STATEFIPS</th>\n",
       "      <th>STATE</th>\n",
       "      <th>zipcode</th>\n",
       "      <th>agi_stub</th>\n",
       "      <th>N1</th>\n",
       "      <th>mars1</th>\n",
       "      <th>MARS2</th>\n",
       "      <th>MARS4</th>\n",
       "      <th>PREP</th>\n",
       "      <th>N2</th>\n",
       "      <th>...</th>\n",
       "      <th>N10300</th>\n",
       "      <th>A10300</th>\n",
       "      <th>N85530</th>\n",
       "      <th>A85530</th>\n",
       "      <th>N85300</th>\n",
       "      <th>A85300</th>\n",
       "      <th>N11901</th>\n",
       "      <th>A11901</th>\n",
       "      <th>N11902</th>\n",
       "      <th>A11902</th>\n",
       "    </tr>\n",
       "  </thead>\n",
       "  <tbody>\n",
       "    <tr>\n",
       "      <th>0</th>\n",
       "      <td>1</td>\n",
       "      <td>AL</td>\n",
       "      <td>0</td>\n",
       "      <td>1</td>\n",
       "      <td>815440</td>\n",
       "      <td>477700</td>\n",
       "      <td>105350</td>\n",
       "      <td>221200</td>\n",
       "      <td>440830</td>\n",
       "      <td>1296920</td>\n",
       "      <td>...</td>\n",
       "      <td>367320</td>\n",
       "      <td>330066</td>\n",
       "      <td>0</td>\n",
       "      <td>0</td>\n",
       "      <td>0</td>\n",
       "      <td>0</td>\n",
       "      <td>63420</td>\n",
       "      <td>51444</td>\n",
       "      <td>711580</td>\n",
       "      <td>1831661</td>\n",
       "    </tr>\n",
       "    <tr>\n",
       "      <th>1</th>\n",
       "      <td>1</td>\n",
       "      <td>AL</td>\n",
       "      <td>0</td>\n",
       "      <td>2</td>\n",
       "      <td>495830</td>\n",
       "      <td>211930</td>\n",
       "      <td>142340</td>\n",
       "      <td>128890</td>\n",
       "      <td>272440</td>\n",
       "      <td>996240</td>\n",
       "      <td>...</td>\n",
       "      <td>398050</td>\n",
       "      <td>984297</td>\n",
       "      <td>0</td>\n",
       "      <td>0</td>\n",
       "      <td>0</td>\n",
       "      <td>0</td>\n",
       "      <td>74090</td>\n",
       "      <td>110889</td>\n",
       "      <td>416090</td>\n",
       "      <td>1173463</td>\n",
       "    </tr>\n",
       "    <tr>\n",
       "      <th>2</th>\n",
       "      <td>1</td>\n",
       "      <td>AL</td>\n",
       "      <td>0</td>\n",
       "      <td>3</td>\n",
       "      <td>263390</td>\n",
       "      <td>83420</td>\n",
       "      <td>137870</td>\n",
       "      <td>36340</td>\n",
       "      <td>154880</td>\n",
       "      <td>584000</td>\n",
       "      <td>...</td>\n",
       "      <td>253180</td>\n",
       "      <td>1349246</td>\n",
       "      <td>0</td>\n",
       "      <td>0</td>\n",
       "      <td>0</td>\n",
       "      <td>0</td>\n",
       "      <td>64000</td>\n",
       "      <td>143060</td>\n",
       "      <td>195130</td>\n",
       "      <td>543284</td>\n",
       "    </tr>\n",
       "    <tr>\n",
       "      <th>3</th>\n",
       "      <td>1</td>\n",
       "      <td>AL</td>\n",
       "      <td>0</td>\n",
       "      <td>4</td>\n",
       "      <td>167190</td>\n",
       "      <td>29420</td>\n",
       "      <td>124060</td>\n",
       "      <td>10610</td>\n",
       "      <td>99700</td>\n",
       "      <td>421720</td>\n",
       "      <td>...</td>\n",
       "      <td>165830</td>\n",
       "      <td>1425430</td>\n",
       "      <td>0</td>\n",
       "      <td>0</td>\n",
       "      <td>0</td>\n",
       "      <td>0</td>\n",
       "      <td>45020</td>\n",
       "      <td>128920</td>\n",
       "      <td>117410</td>\n",
       "      <td>381329</td>\n",
       "    </tr>\n",
       "    <tr>\n",
       "      <th>4</th>\n",
       "      <td>1</td>\n",
       "      <td>AL</td>\n",
       "      <td>0</td>\n",
       "      <td>5</td>\n",
       "      <td>217440</td>\n",
       "      <td>20240</td>\n",
       "      <td>188080</td>\n",
       "      <td>4880</td>\n",
       "      <td>129410</td>\n",
       "      <td>601040</td>\n",
       "      <td>...</td>\n",
       "      <td>216720</td>\n",
       "      <td>3922449</td>\n",
       "      <td>390</td>\n",
       "      <td>155</td>\n",
       "      <td>60</td>\n",
       "      <td>19</td>\n",
       "      <td>82940</td>\n",
       "      <td>423629</td>\n",
       "      <td>126130</td>\n",
       "      <td>506526</td>\n",
       "    </tr>\n",
       "  </tbody>\n",
       "</table>\n",
       "<p>5 rows × 147 columns</p>\n",
       "</div>"
      ]
     },
     "execution_count": 4,
     "metadata": {},
     "output_type": "execute_result"
    }
   ],
   "execution_count": 4
  },
  {
   "metadata": {
    "ExecuteTime": {
     "end_time": "2024-07-22T20:36:52.951473Z",
     "start_time": "2024-07-22T20:36:52.942644Z"
    }
   },
   "cell_type": "code",
   "source": [
    "# creating df subset where zipcode = 63017\n",
    "filter_df = df[df['zipcode']==63017]\n",
    "filter_df"
   ],
   "id": "a97681c3caf0b392",
   "outputs": [
    {
     "data": {
      "text/plain": [
       "       STATEFIPS STATE  zipcode  agi_stub    N1  mars1  MARS2  MARS4  PREP  \\\n",
       "85118         29    MO    63017         1  4710   4020    420    230  2140   \n",
       "85119         29    MO    63017         2  2780   1740    700    270  1360   \n",
       "85120         29    MO    63017         3  2130   1110    770    170  1240   \n",
       "85121         29    MO    63017         4  2010    670   1170    140  1130   \n",
       "85122         29    MO    63017         5  5240    780   4230    180  2940   \n",
       "85123         29    MO    63017         6  3510    290   3130     70  2400   \n",
       "\n",
       "          N2  ...  N10300  A10300  N85530  A85530  N85300  A85300  N11901  \\\n",
       "85118   3830  ...    1950    1688       0       0       0       0     550   \n",
       "85119   4400  ...    2400    6833       0       0       0       0     570   \n",
       "85120   3720  ...    2030   12046       0       0       0       0     650   \n",
       "85121   4270  ...    1970   17886       0       0       0       0     630   \n",
       "85122  13720  ...    5200   98240      40      16       0       0    1910   \n",
       "85123  10340  ...    3500  406897    1870    3523    2060    5636    1660   \n",
       "\n",
       "       A11901  N11902  A11902  \n",
       "85118     411    3430    3769  \n",
       "85119     894    2040    4481  \n",
       "85120    1560    1320    3654  \n",
       "85121    1806    1220    4479  \n",
       "85122    8883    2850   13036  \n",
       "85123   36115    1290   14257  \n",
       "\n",
       "[6 rows x 147 columns]"
      ],
      "text/html": [
       "<div>\n",
       "<style scoped>\n",
       "    .dataframe tbody tr th:only-of-type {\n",
       "        vertical-align: middle;\n",
       "    }\n",
       "\n",
       "    .dataframe tbody tr th {\n",
       "        vertical-align: top;\n",
       "    }\n",
       "\n",
       "    .dataframe thead th {\n",
       "        text-align: right;\n",
       "    }\n",
       "</style>\n",
       "<table border=\"1\" class=\"dataframe\">\n",
       "  <thead>\n",
       "    <tr style=\"text-align: right;\">\n",
       "      <th></th>\n",
       "      <th>STATEFIPS</th>\n",
       "      <th>STATE</th>\n",
       "      <th>zipcode</th>\n",
       "      <th>agi_stub</th>\n",
       "      <th>N1</th>\n",
       "      <th>mars1</th>\n",
       "      <th>MARS2</th>\n",
       "      <th>MARS4</th>\n",
       "      <th>PREP</th>\n",
       "      <th>N2</th>\n",
       "      <th>...</th>\n",
       "      <th>N10300</th>\n",
       "      <th>A10300</th>\n",
       "      <th>N85530</th>\n",
       "      <th>A85530</th>\n",
       "      <th>N85300</th>\n",
       "      <th>A85300</th>\n",
       "      <th>N11901</th>\n",
       "      <th>A11901</th>\n",
       "      <th>N11902</th>\n",
       "      <th>A11902</th>\n",
       "    </tr>\n",
       "  </thead>\n",
       "  <tbody>\n",
       "    <tr>\n",
       "      <th>85118</th>\n",
       "      <td>29</td>\n",
       "      <td>MO</td>\n",
       "      <td>63017</td>\n",
       "      <td>1</td>\n",
       "      <td>4710</td>\n",
       "      <td>4020</td>\n",
       "      <td>420</td>\n",
       "      <td>230</td>\n",
       "      <td>2140</td>\n",
       "      <td>3830</td>\n",
       "      <td>...</td>\n",
       "      <td>1950</td>\n",
       "      <td>1688</td>\n",
       "      <td>0</td>\n",
       "      <td>0</td>\n",
       "      <td>0</td>\n",
       "      <td>0</td>\n",
       "      <td>550</td>\n",
       "      <td>411</td>\n",
       "      <td>3430</td>\n",
       "      <td>3769</td>\n",
       "    </tr>\n",
       "    <tr>\n",
       "      <th>85119</th>\n",
       "      <td>29</td>\n",
       "      <td>MO</td>\n",
       "      <td>63017</td>\n",
       "      <td>2</td>\n",
       "      <td>2780</td>\n",
       "      <td>1740</td>\n",
       "      <td>700</td>\n",
       "      <td>270</td>\n",
       "      <td>1360</td>\n",
       "      <td>4400</td>\n",
       "      <td>...</td>\n",
       "      <td>2400</td>\n",
       "      <td>6833</td>\n",
       "      <td>0</td>\n",
       "      <td>0</td>\n",
       "      <td>0</td>\n",
       "      <td>0</td>\n",
       "      <td>570</td>\n",
       "      <td>894</td>\n",
       "      <td>2040</td>\n",
       "      <td>4481</td>\n",
       "    </tr>\n",
       "    <tr>\n",
       "      <th>85120</th>\n",
       "      <td>29</td>\n",
       "      <td>MO</td>\n",
       "      <td>63017</td>\n",
       "      <td>3</td>\n",
       "      <td>2130</td>\n",
       "      <td>1110</td>\n",
       "      <td>770</td>\n",
       "      <td>170</td>\n",
       "      <td>1240</td>\n",
       "      <td>3720</td>\n",
       "      <td>...</td>\n",
       "      <td>2030</td>\n",
       "      <td>12046</td>\n",
       "      <td>0</td>\n",
       "      <td>0</td>\n",
       "      <td>0</td>\n",
       "      <td>0</td>\n",
       "      <td>650</td>\n",
       "      <td>1560</td>\n",
       "      <td>1320</td>\n",
       "      <td>3654</td>\n",
       "    </tr>\n",
       "    <tr>\n",
       "      <th>85121</th>\n",
       "      <td>29</td>\n",
       "      <td>MO</td>\n",
       "      <td>63017</td>\n",
       "      <td>4</td>\n",
       "      <td>2010</td>\n",
       "      <td>670</td>\n",
       "      <td>1170</td>\n",
       "      <td>140</td>\n",
       "      <td>1130</td>\n",
       "      <td>4270</td>\n",
       "      <td>...</td>\n",
       "      <td>1970</td>\n",
       "      <td>17886</td>\n",
       "      <td>0</td>\n",
       "      <td>0</td>\n",
       "      <td>0</td>\n",
       "      <td>0</td>\n",
       "      <td>630</td>\n",
       "      <td>1806</td>\n",
       "      <td>1220</td>\n",
       "      <td>4479</td>\n",
       "    </tr>\n",
       "    <tr>\n",
       "      <th>85122</th>\n",
       "      <td>29</td>\n",
       "      <td>MO</td>\n",
       "      <td>63017</td>\n",
       "      <td>5</td>\n",
       "      <td>5240</td>\n",
       "      <td>780</td>\n",
       "      <td>4230</td>\n",
       "      <td>180</td>\n",
       "      <td>2940</td>\n",
       "      <td>13720</td>\n",
       "      <td>...</td>\n",
       "      <td>5200</td>\n",
       "      <td>98240</td>\n",
       "      <td>40</td>\n",
       "      <td>16</td>\n",
       "      <td>0</td>\n",
       "      <td>0</td>\n",
       "      <td>1910</td>\n",
       "      <td>8883</td>\n",
       "      <td>2850</td>\n",
       "      <td>13036</td>\n",
       "    </tr>\n",
       "    <tr>\n",
       "      <th>85123</th>\n",
       "      <td>29</td>\n",
       "      <td>MO</td>\n",
       "      <td>63017</td>\n",
       "      <td>6</td>\n",
       "      <td>3510</td>\n",
       "      <td>290</td>\n",
       "      <td>3130</td>\n",
       "      <td>70</td>\n",
       "      <td>2400</td>\n",
       "      <td>10340</td>\n",
       "      <td>...</td>\n",
       "      <td>3500</td>\n",
       "      <td>406897</td>\n",
       "      <td>1870</td>\n",
       "      <td>3523</td>\n",
       "      <td>2060</td>\n",
       "      <td>5636</td>\n",
       "      <td>1660</td>\n",
       "      <td>36115</td>\n",
       "      <td>1290</td>\n",
       "      <td>14257</td>\n",
       "    </tr>\n",
       "  </tbody>\n",
       "</table>\n",
       "<p>6 rows × 147 columns</p>\n",
       "</div>"
      ]
     },
     "execution_count": 7,
     "metadata": {},
     "output_type": "execute_result"
    }
   ],
   "execution_count": 7
  },
  {
   "metadata": {},
   "cell_type": "markdown",
   "source": [
    "We must combine these six rows into one. For privacy reasons, AGI'x are broken out into 6 buckets. We need to combine the buckets and estime the actual AGI of a zipcode. To do this, consider the values for N1:\n",
    "\n",
    "- 1 = 1 to 25,000\n",
    "- 2 = 25,000 to 50,000\n",
    "- 3 = 50,000 to 75,000\n",
    "- 4 = 75,000 to 100,000\n",
    "- 5 = 100,000 to 200,000\n",
    "- 6 = 200,000 or more\n",
    "\n",
    "The median of each of this ranges is:\n",
    "\n",
    "- 1 = 12,500\n",
    "- 2 = 37,500\n",
    "- 3 = 62,500\n",
    "- 4 = 87,500\n",
    "- 5 = 112,500\n",
    "- 6 = 212,500\n",
    "\n",
    "To calculate the average AGI per zipcode, first we trimm all zip codes that are either 0 or 99999 and select the four fields that we need: STATE, zipcode, agi_stub, and N1"
   ],
   "id": "68cf712da1fe55f8"
  },
  {
   "metadata": {
    "ExecuteTime": {
     "end_time": "2024-07-22T20:50:37.082710Z",
     "start_time": "2024-07-22T20:50:37.071045Z"
    }
   },
   "cell_type": "code",
   "source": [
    "df = df.loc[(df[\"zipcode\"] != 0) & (df[\"zipcode\"] != 99999), [\"STATE\",\"zipcode\",\"agi_stub\", \"N1\"]]\n",
    "df.tail()"
   ],
   "id": "31df1ec70d334325",
   "outputs": [
    {
     "data": {
      "text/plain": [
       "       STATE  zipcode  agi_stub  N1\n",
       "179785    WY    83414         2  40\n",
       "179786    WY    83414         3  40\n",
       "179787    WY    83414         4   0\n",
       "179788    WY    83414         5  40\n",
       "179789    WY    83414         6  30"
      ],
      "text/html": [
       "<div>\n",
       "<style scoped>\n",
       "    .dataframe tbody tr th:only-of-type {\n",
       "        vertical-align: middle;\n",
       "    }\n",
       "\n",
       "    .dataframe tbody tr th {\n",
       "        vertical-align: top;\n",
       "    }\n",
       "\n",
       "    .dataframe thead th {\n",
       "        text-align: right;\n",
       "    }\n",
       "</style>\n",
       "<table border=\"1\" class=\"dataframe\">\n",
       "  <thead>\n",
       "    <tr style=\"text-align: right;\">\n",
       "      <th></th>\n",
       "      <th>STATE</th>\n",
       "      <th>zipcode</th>\n",
       "      <th>agi_stub</th>\n",
       "      <th>N1</th>\n",
       "    </tr>\n",
       "  </thead>\n",
       "  <tbody>\n",
       "    <tr>\n",
       "      <th>179785</th>\n",
       "      <td>WY</td>\n",
       "      <td>83414</td>\n",
       "      <td>2</td>\n",
       "      <td>40</td>\n",
       "    </tr>\n",
       "    <tr>\n",
       "      <th>179786</th>\n",
       "      <td>WY</td>\n",
       "      <td>83414</td>\n",
       "      <td>3</td>\n",
       "      <td>40</td>\n",
       "    </tr>\n",
       "    <tr>\n",
       "      <th>179787</th>\n",
       "      <td>WY</td>\n",
       "      <td>83414</td>\n",
       "      <td>4</td>\n",
       "      <td>0</td>\n",
       "    </tr>\n",
       "    <tr>\n",
       "      <th>179788</th>\n",
       "      <td>WY</td>\n",
       "      <td>83414</td>\n",
       "      <td>5</td>\n",
       "      <td>40</td>\n",
       "    </tr>\n",
       "    <tr>\n",
       "      <th>179789</th>\n",
       "      <td>WY</td>\n",
       "      <td>83414</td>\n",
       "      <td>6</td>\n",
       "      <td>30</td>\n",
       "    </tr>\n",
       "  </tbody>\n",
       "</table>\n",
       "</div>"
      ]
     },
     "execution_count": 10,
     "metadata": {},
     "output_type": "execute_result"
    }
   ],
   "execution_count": 10
  },
  {
   "metadata": {},
   "cell_type": "markdown",
   "source": "We replace all of the agi_stub values with the correct median values with the map function",
   "id": "91fcffc0fb7622a1"
  },
  {
   "metadata": {
    "ExecuteTime": {
     "end_time": "2024-07-22T20:54:20.863723Z",
     "start_time": "2024-07-22T20:54:20.856716Z"
    }
   },
   "cell_type": "code",
   "source": [
    "median_dict = {1: 12500, 2: 37500, 3: 62500, 4: 87500, 5: 112500, 6: 212500}\n",
    "df[\"agi_stub\"] = df[\"agi_stub\"].map(median_dict)\n",
    "df.tail()"
   ],
   "id": "e855b8a4b46e6656",
   "outputs": [
    {
     "data": {
      "text/plain": [
       "       STATE  zipcode  agi_stub  N1\n",
       "179785    WY    83414     37500  40\n",
       "179786    WY    83414     62500  40\n",
       "179787    WY    83414     87500   0\n",
       "179788    WY    83414    112500  40\n",
       "179789    WY    83414    212500  30"
      ],
      "text/html": [
       "<div>\n",
       "<style scoped>\n",
       "    .dataframe tbody tr th:only-of-type {\n",
       "        vertical-align: middle;\n",
       "    }\n",
       "\n",
       "    .dataframe tbody tr th {\n",
       "        vertical-align: top;\n",
       "    }\n",
       "\n",
       "    .dataframe thead th {\n",
       "        text-align: right;\n",
       "    }\n",
       "</style>\n",
       "<table border=\"1\" class=\"dataframe\">\n",
       "  <thead>\n",
       "    <tr style=\"text-align: right;\">\n",
       "      <th></th>\n",
       "      <th>STATE</th>\n",
       "      <th>zipcode</th>\n",
       "      <th>agi_stub</th>\n",
       "      <th>N1</th>\n",
       "    </tr>\n",
       "  </thead>\n",
       "  <tbody>\n",
       "    <tr>\n",
       "      <th>179785</th>\n",
       "      <td>WY</td>\n",
       "      <td>83414</td>\n",
       "      <td>37500</td>\n",
       "      <td>40</td>\n",
       "    </tr>\n",
       "    <tr>\n",
       "      <th>179786</th>\n",
       "      <td>WY</td>\n",
       "      <td>83414</td>\n",
       "      <td>62500</td>\n",
       "      <td>40</td>\n",
       "    </tr>\n",
       "    <tr>\n",
       "      <th>179787</th>\n",
       "      <td>WY</td>\n",
       "      <td>83414</td>\n",
       "      <td>87500</td>\n",
       "      <td>0</td>\n",
       "    </tr>\n",
       "    <tr>\n",
       "      <th>179788</th>\n",
       "      <td>WY</td>\n",
       "      <td>83414</td>\n",
       "      <td>112500</td>\n",
       "      <td>40</td>\n",
       "    </tr>\n",
       "    <tr>\n",
       "      <th>179789</th>\n",
       "      <td>WY</td>\n",
       "      <td>83414</td>\n",
       "      <td>212500</td>\n",
       "      <td>30</td>\n",
       "    </tr>\n",
       "  </tbody>\n",
       "</table>\n",
       "</div>"
      ]
     },
     "execution_count": 11,
     "metadata": {},
     "output_type": "execute_result"
    }
   ],
   "execution_count": 11
  },
  {
   "metadata": {},
   "cell_type": "markdown",
   "source": "Grouping the dataframe by zipcode",
   "id": "4b13c4b544fe9c47"
  },
  {
   "metadata": {
    "ExecuteTime": {
     "end_time": "2024-07-22T20:56:56.603243Z",
     "start_time": "2024-07-22T20:56:56.600874Z"
    }
   },
   "cell_type": "code",
   "source": "groups = df.groupby(by=\"zipcode\")",
   "id": "255a7fea7d7af64b",
   "outputs": [],
   "execution_count": 12
  },
  {
   "metadata": {},
   "cell_type": "markdown",
   "source": "The following code applies a lambda across the groups and calculates the AGI estimate",
   "id": "a96c7a7a966ea0d7"
  },
  {
   "metadata": {
    "ExecuteTime": {
     "end_time": "2024-07-22T21:04:09.242390Z",
     "start_time": "2024-07-22T21:04:06.836383Z"
    }
   },
   "cell_type": "code",
   "source": [
    "df = pd.DataFrame(groups.apply(lambda x: sum(x[\"N1\"]*x[\"agi_stub\"])/sum(x[\"N1\"]), include_groups=False)).reset_index()\n",
    "df.tail()"
   ],
   "id": "afbabfa8d8bd2140",
   "outputs": [
    {
     "data": {
      "text/plain": [
       "       zipcode             0\n",
       "29867    99921  48042.168675\n",
       "29868    99922  32954.545455\n",
       "29869    99925  45639.534884\n",
       "29870    99926  41136.363636\n",
       "29871    99929  45911.214953"
      ],
      "text/html": [
       "<div>\n",
       "<style scoped>\n",
       "    .dataframe tbody tr th:only-of-type {\n",
       "        vertical-align: middle;\n",
       "    }\n",
       "\n",
       "    .dataframe tbody tr th {\n",
       "        vertical-align: top;\n",
       "    }\n",
       "\n",
       "    .dataframe thead th {\n",
       "        text-align: right;\n",
       "    }\n",
       "</style>\n",
       "<table border=\"1\" class=\"dataframe\">\n",
       "  <thead>\n",
       "    <tr style=\"text-align: right;\">\n",
       "      <th></th>\n",
       "      <th>zipcode</th>\n",
       "      <th>0</th>\n",
       "    </tr>\n",
       "  </thead>\n",
       "  <tbody>\n",
       "    <tr>\n",
       "      <th>29867</th>\n",
       "      <td>99921</td>\n",
       "      <td>48042.168675</td>\n",
       "    </tr>\n",
       "    <tr>\n",
       "      <th>29868</th>\n",
       "      <td>99922</td>\n",
       "      <td>32954.545455</td>\n",
       "    </tr>\n",
       "    <tr>\n",
       "      <th>29869</th>\n",
       "      <td>99925</td>\n",
       "      <td>45639.534884</td>\n",
       "    </tr>\n",
       "    <tr>\n",
       "      <th>29870</th>\n",
       "      <td>99926</td>\n",
       "      <td>41136.363636</td>\n",
       "    </tr>\n",
       "    <tr>\n",
       "      <th>29871</th>\n",
       "      <td>99929</td>\n",
       "      <td>45911.214953</td>\n",
       "    </tr>\n",
       "  </tbody>\n",
       "</table>\n",
       "</div>"
      ]
     },
     "execution_count": 15,
     "metadata": {},
     "output_type": "execute_result"
    }
   ],
   "execution_count": 15
  },
  {
   "metadata": {
    "ExecuteTime": {
     "end_time": "2024-07-22T21:05:16.075601Z",
     "start_time": "2024-07-22T21:05:16.072583Z"
    }
   },
   "cell_type": "code",
   "source": [
    "# rename the columns\n",
    "df.columns = [\"zipcode\", \"agi_estimate\"]"
   ],
   "id": "9340b1c3fc3e4d32",
   "outputs": [],
   "execution_count": 16
  },
  {
   "metadata": {
    "ExecuteTime": {
     "end_time": "2024-07-22T21:06:27.172244Z",
     "start_time": "2024-07-22T21:06:27.166568Z"
    }
   },
   "cell_type": "code",
   "source": [
    "# check to see the AGI for the zipcode 63017\n",
    "agi_63017 = df[df[\"zipcode\"]==63017]\n",
    "agi_63017"
   ],
   "id": "de3a890b01f10cec",
   "outputs": [
    {
     "data": {
      "text/plain": [
       "       zipcode  agi_estimate\n",
       "19909    63017  88689.892051"
      ],
      "text/html": [
       "<div>\n",
       "<style scoped>\n",
       "    .dataframe tbody tr th:only-of-type {\n",
       "        vertical-align: middle;\n",
       "    }\n",
       "\n",
       "    .dataframe tbody tr th {\n",
       "        vertical-align: top;\n",
       "    }\n",
       "\n",
       "    .dataframe thead th {\n",
       "        text-align: right;\n",
       "    }\n",
       "</style>\n",
       "<table border=\"1\" class=\"dataframe\">\n",
       "  <thead>\n",
       "    <tr style=\"text-align: right;\">\n",
       "      <th></th>\n",
       "      <th>zipcode</th>\n",
       "      <th>agi_estimate</th>\n",
       "    </tr>\n",
       "  </thead>\n",
       "  <tbody>\n",
       "    <tr>\n",
       "      <th>19909</th>\n",
       "      <td>63017</td>\n",
       "      <td>88689.892051</td>\n",
       "    </tr>\n",
       "  </tbody>\n",
       "</table>\n",
       "</div>"
      ]
     },
     "execution_count": 17,
     "metadata": {},
     "output_type": "execute_result"
    }
   ],
   "execution_count": 17
  },
  {
   "metadata": {},
   "cell_type": "markdown",
   "source": [
    "Feature engineering is an essential part of machine learning. For now, we will manually engineer features. However, later in this course, we will see some techniques for automatic feature engineering.\n",
    "\n",
    "\n",
    "\n",
    "### Calculated Fields\n",
    "It is possible to add new fields to the data frame that your program calculates from the other fields. We can create a new column that gives the weight in kilograms. The equation to calculate a metric weight, given in pounds, is: \n",
    "$$\n",
    "m_{(kg)} = m_{(lb)} \\times 0.45359237\n",
    "$$\n",
    "\n"
   ],
   "id": "dc8d7edb248ff54c"
  },
  {
   "metadata": {},
   "cell_type": "code",
   "outputs": [],
   "execution_count": null,
   "source": "",
   "id": "34a6880f34221a71"
  }
 ],
 "metadata": {
  "kernelspec": {
   "display_name": "Python 3",
   "language": "python",
   "name": "python3"
  },
  "language_info": {
   "codemirror_mode": {
    "name": "ipython",
    "version": 2
   },
   "file_extension": ".py",
   "mimetype": "text/x-python",
   "name": "python",
   "nbconvert_exporter": "python",
   "pygments_lexer": "ipython2",
   "version": "2.7.6"
  }
 },
 "nbformat": 4,
 "nbformat_minor": 5
}
