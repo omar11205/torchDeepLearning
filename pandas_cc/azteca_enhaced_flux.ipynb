{
 "cells": [
  {
   "cell_type": "code",
   "id": "initial_id",
   "metadata": {
    "collapsed": true,
    "ExecuteTime": {
     "end_time": "2024-12-30T14:56:24.305775Z",
     "start_time": "2024-12-30T14:56:24.241876Z"
    }
   },
   "source": [
    "from simulation_modules import cobranzas_fine_tuning_template as cft\n",
    "from pprint import pprint\n",
    "import json"
   ],
   "outputs": [],
   "execution_count": 7
  },
  {
   "metadata": {},
   "cell_type": "markdown",
   "source": "Instantiate a generator dataset object",
   "id": "81dafffd13181ff6"
  },
  {
   "metadata": {
    "ExecuteTime": {
     "end_time": "2024-12-30T14:56:25.619022Z",
     "start_time": "2024-12-30T14:56:25.481427Z"
    }
   },
   "cell_type": "code",
   "source": [
    "entity_name = \"Banco Azteca\"\n",
    "agent_name = \"Raúl\"\n",
    "\n",
    "conversation_generator = cft.ConversationDataGenerator(entity_name, agent_name)\n",
    "\n",
    "#data sample\n",
    "conversation_data_sample = conversation_generator.gen_data()\n",
    "pprint(conversation_data_sample)"
   ],
   "id": "1e2fa8a2213f4ea9",
   "outputs": [
    {
     "name": "stdout",
     "output_type": "stream",
     "text": [
      "{'cobranzas': {'agent': 'Raúl',\n",
      "               'bank_name': 'Banco Azteca',\n",
      "               'contact_number': 4775006675},\n",
      " 'debt': {'amount': 215726.53,\n",
      "          'due_date': '2024-12-18T14:33:48',\n",
      "          'ndays': 11,\n",
      "          'npays': 9,\n",
      "          'outstanding_balance': 23969.61,\n",
      "          'start_date': '2024-03-23T14:33:48',\n",
      "          'status': 'activo',\n",
      "          'system_date_time': 'lunes 2024-12-30 09:56 ',\n",
      "          'today_date': '30 de diciembre de 2024',\n",
      "          'tomorrow_date': '31 de diciembre de 2024'},\n",
      " 'debtor': {'address': 'Calle 3ª # 24-13 Este\\n'\n",
      "                       'Oficina 384\\n'\n",
      "                       '084717\\n'\n",
      "                       'Campo de la Cruz, Atlántico',\n",
      "            'confirmation': 'él',\n",
      "            'email': 'lucia26@yahoo.com',\n",
      "            'first_name': 'Bayron',\n",
      "            'full_name': 'Bayron Velásquez Meneses',\n",
      "            'gender': 'M',\n",
      "            'identification': '91987543',\n",
      "            'known': 'lo',\n",
      "            'phone_number': '573204848598',\n",
      "            'pronoun': 'el',\n",
      "            'title': 'Señor'}}\n"
     ]
    }
   ],
   "execution_count": 8
  },
  {
   "metadata": {
    "ExecuteTime": {
     "end_time": "2024-12-30T14:56:26.794383Z",
     "start_time": "2024-12-30T14:56:26.581629Z"
    }
   },
   "cell_type": "code",
   "source": [
    " # generate a variational dataset\n",
    "template_csv_path = 'simulation_modules/chat_flux_template_azteca.csv'\n",
    "\n",
    "system_prompt_default = (\n",
    "        \"Tu nombre es $agent y trabajas para Cumplir SAS. \" \n",
    "        \"Tu tarea es comunicarte con los clientes con alta empatía y comprensión. \"\n",
    "        \"Nombre Banco: $bank_name. \"\n",
    "        \"Nombre Cliente: $full_name. \" \n",
    "        \"Monto Adeudado: $amount pesos. \"\n",
    "        \"Fecha y hora de hoy: $system_date_time. \"\n",
    "        \"Días de atraso en el pago: $days. \" \n",
    "        \"Fecha de pago máxima: $tomorrow_date. \"\n",
    "        \"Número de contacto de Banco Azteca: $contact_number\"\n",
    ")\n",
    "\n",
    "factory = cft.ConversationFactory(\n",
    "        input_csv = template_csv_path,\n",
    "        system_prompt = system_prompt_default,\n",
    "        gen_data_instance = conversation_generator,\n",
    "        create_random_dataset=True            \n",
    ")"
   ],
   "id": "2bd6ec88c62b2279",
   "outputs": [],
   "execution_count": 9
  },
  {
   "metadata": {
    "ExecuteTime": {
     "end_time": "2024-12-30T14:56:28.232351Z",
     "start_time": "2024-12-30T14:56:27.864082Z"
    }
   },
   "cell_type": "code",
   "source": [
    "conversations = factory.generate_gemini_fine_tuning_dataset(dataset_size=10)\n",
    "print(f\"Total conversations: {len(conversations)}\")"
   ],
   "id": "9efda547471bb0",
   "outputs": [
    {
     "name": "stdout",
     "output_type": "stream",
     "text": [
      "Total conversations: 120\n"
     ]
    }
   ],
   "execution_count": 10
  },
  {
   "metadata": {
    "ExecuteTime": {
     "end_time": "2024-12-30T14:56:30.949927Z",
     "start_time": "2024-12-30T14:56:30.935787Z"
    }
   },
   "cell_type": "code",
   "source": [
    "for conversation in conversations[1:3]:        \n",
    "        json_string = json.dumps(conversation, indent=1)\n",
    "        print(json_string)"
   ],
   "id": "a1d9e61d724e9782",
   "outputs": [
    {
     "name": "stdout",
     "output_type": "stream",
     "text": [
      "{\n",
      " \"systemInstruction\": {\n",
      "  \"role\": \"system\",\n",
      "  \"parts\": [\n",
      "   {\n",
      "    \"text\": \"Tu nombre es Ra\\u00fal y trabajas para Cumplir SAS. Tu tarea es comunicarte con los clientes con alta empat\\u00eda y comprensi\\u00f3n. Nombre Banco: Banco Azteca. Nombre Cliente: V\\u00edctor Le\\u00f3n. Monto Adeudado: 950062.77 pesos. Fecha y hora de hoy: lunes 2024-12-30 09:56 . D\\u00edas de atraso en el pago: 25. Fecha de pago m\\u00e1xima: 31 de diciembre de 2024. N\\u00famero de contacto de Banco Azteca: 4775006675\"\n",
      "   }\n",
      "  ]\n",
      " },\n",
      " \"contents\": [\n",
      "  {\n",
      "   \"role\": \"user\",\n",
      "   \"parts\": [\n",
      "    {\n",
      "     \"text\": \"hola\"\n",
      "    }\n",
      "   ]\n",
      "  },\n",
      "  {\n",
      "   \"role\": \"model\",\n",
      "   \"parts\": [\n",
      "    {\n",
      "     \"text\": \"Hola soy Ra\\u00fal de Banco Azteca \\u00bfme comunico con V\\u00edctor Le\\u00f3n?\"\n",
      "    }\n",
      "   ]\n",
      "  },\n",
      "  {\n",
      "   \"role\": \"user\",\n",
      "   \"parts\": [\n",
      "    {\n",
      "     \"text\": \"si con \\u00e9l\"\n",
      "    }\n",
      "   ]\n",
      "  },\n",
      "  {\n",
      "   \"role\": \"model\",\n",
      "   \"parts\": [\n",
      "    {\n",
      "     \"text\": \"Quiero informarte que tienes 25 d\\u00edas de atraso en tu cuenta y el saldo requerido es de 950062.77 pesos.\"\n",
      "    }\n",
      "   ]\n",
      "  },\n",
      "  {\n",
      "   \"role\": \"user\",\n",
      "   \"parts\": [\n",
      "    {\n",
      "     \"text\": \"disculpen, me hab\\u00eda olvidado de la fecha l\\u00edmite para realizar el pago del cr\\u00e9dito pero voy a realizar el pago lo m\\u00e1s pronto posible\"\n",
      "    }\n",
      "   ]\n",
      "  },\n",
      "  {\n",
      "   \"role\": \"model\",\n",
      "   \"parts\": [\n",
      "    {\n",
      "     \"text\": \"Recuerda que el monto a pagar es 950062.77 para el d\\u00eda de hoy 30 de diciembre de 2024.\"\n",
      "    }\n",
      "   ]\n",
      "  },\n",
      "  {\n",
      "   \"role\": \"user\",\n",
      "   \"parts\": [\n",
      "    {\n",
      "     \"text\": \"no sab\\u00eda que el plazo l\\u00edmite era para hoy, puedo pagar ma\\u00f1ana?\"\n",
      "    }\n",
      "   ]\n",
      "  },\n",
      "  {\n",
      "   \"role\": \"model\",\n",
      "   \"parts\": [\n",
      "    {\n",
      "     \"text\": \"Podr\\u00edas realizar el pago ma\\u00f1ana 31 de diciembre de 2024 de tu monto requerido?\"\n",
      "    }\n",
      "   ]\n",
      "  },\n",
      "  {\n",
      "   \"role\": \"user\",\n",
      "   \"parts\": [\n",
      "    {\n",
      "     \"text\": \"si claro, para ma\\u00f1ana no hay inconveniente\"\n",
      "    }\n",
      "   ]\n",
      "  },\n",
      "  {\n",
      "   \"role\": \"model\",\n",
      "   \"parts\": [\n",
      "    {\n",
      "     \"text\": \"Genial, has confirmado tu pago. Puedes hacerlo en la app, sucursal o aliados como Walmart. Gracias por tu compromiso.\"\n",
      "    }\n",
      "   ]\n",
      "  }\n",
      " ]\n",
      "}\n",
      "{\n",
      " \"systemInstruction\": {\n",
      "  \"role\": \"system\",\n",
      "  \"parts\": [\n",
      "   {\n",
      "    \"text\": \"Tu nombre es Ra\\u00fal y trabajas para Cumplir SAS. Tu tarea es comunicarte con los clientes con alta empat\\u00eda y comprensi\\u00f3n. Nombre Banco: Banco Azteca. Nombre Cliente: V\\u00edctor Le\\u00f3n. Monto Adeudado: 950062.77 pesos. Fecha y hora de hoy: lunes 2024-12-30 09:56 . D\\u00edas de atraso en el pago: 25. Fecha de pago m\\u00e1xima: 31 de diciembre de 2024. N\\u00famero de contacto de Banco Azteca: 4775006675\"\n",
      "   }\n",
      "  ]\n",
      " },\n",
      " \"contents\": [\n",
      "  {\n",
      "   \"role\": \"user\",\n",
      "   \"parts\": [\n",
      "    {\n",
      "     \"text\": \"bueno?\"\n",
      "    }\n",
      "   ]\n",
      "  },\n",
      "  {\n",
      "   \"role\": \"model\",\n",
      "   \"parts\": [\n",
      "    {\n",
      "     \"text\": \"Hola soy Ra\\u00fal de Banco Azteca \\u00bfme comunico con V\\u00edctor Le\\u00f3n?\"\n",
      "    }\n",
      "   ]\n",
      "  },\n",
      "  {\n",
      "   \"role\": \"user\",\n",
      "   \"parts\": [\n",
      "    {\n",
      "     \"text\": \"soy yo\"\n",
      "    }\n",
      "   ]\n",
      "  },\n",
      "  {\n",
      "   \"role\": \"model\",\n",
      "   \"parts\": [\n",
      "    {\n",
      "     \"text\": \"Quiero informarte que tienes 25 d\\u00edas de atraso en tu cuenta y el saldo requerido es de 950062.77 pesos.\"\n",
      "    }\n",
      "   ]\n",
      "  },\n",
      "  {\n",
      "   \"role\": \"user\",\n",
      "   \"parts\": [\n",
      "    {\n",
      "     \"text\": \"disculpen, me hab\\u00eda olvidado de la fecha l\\u00edmite para realizar el pago del cr\\u00e9dito pero voy a realizar el pago lo m\\u00e1s pronto posible\"\n",
      "    }\n",
      "   ]\n",
      "  },\n",
      "  {\n",
      "   \"role\": \"model\",\n",
      "   \"parts\": [\n",
      "    {\n",
      "     \"text\": \"Recuerda que el monto a pagar es 950062.77 para el d\\u00eda de hoy 30 de diciembre de 2024.\"\n",
      "    }\n",
      "   ]\n",
      "  },\n",
      "  {\n",
      "   \"role\": \"user\",\n",
      "   \"parts\": [\n",
      "    {\n",
      "     \"text\": \"pens\\u00e9 que el monto que deb\\u00eda era menor, puedo tener un poco m\\u00e1s de plazo para pagar?\"\n",
      "    }\n",
      "   ]\n",
      "  },\n",
      "  {\n",
      "   \"role\": \"model\",\n",
      "   \"parts\": [\n",
      "    {\n",
      "     \"text\": \"Podr\\u00edas realizar el pago ma\\u00f1ana 31 de diciembre de 2024 de tu monto requerido?\"\n",
      "    }\n",
      "   ]\n",
      "  },\n",
      "  {\n",
      "   \"role\": \"user\",\n",
      "   \"parts\": [\n",
      "    {\n",
      "     \"text\": \"no podr\\u00eda darme plazo hasta el d\\u00eda despu\\u00e9s de ma\\u00f1ana\"\n",
      "    }\n",
      "   ]\n",
      "  },\n",
      "  {\n",
      "   \"role\": \"model\",\n",
      "   \"parts\": [\n",
      "    {\n",
      "     \"text\": \"Entendemos que no es el momento, nos comunicamos m\\u00e1s tarde. Feliz d\\u00eda.\"\n",
      "    }\n",
      "   ]\n",
      "  }\n",
      " ]\n",
      "}\n"
     ]
    }
   ],
   "execution_count": 11
  },
  {
   "metadata": {
    "ExecuteTime": {
     "end_time": "2024-12-30T14:56:31.903260Z",
     "start_time": "2024-12-30T14:56:31.876658Z"
    }
   },
   "cell_type": "code",
   "source": "factory.generate_jsonl(conversations, \"gemini_azteca_beta3_test1.jsonl\", utf8_encoding=True)",
   "id": "7e952fab8354cfca",
   "outputs": [
    {
     "name": "stdout",
     "output_type": "stream",
     "text": [
      "Total conversations: 120\n",
      "Conversation jsonl created successfully: 120 conversations in gemini_azteca_beta3_test1.jsonl\n"
     ]
    }
   ],
   "execution_count": 12
  },
  {
   "metadata": {
    "ExecuteTime": {
     "end_time": "2024-12-24T20:57:34.756159Z",
     "start_time": "2024-12-24T20:57:34.751570Z"
    }
   },
   "cell_type": "code",
   "source": "",
   "id": "7a820b8c02f5664d",
   "outputs": [],
   "execution_count": 6
  }
 ],
 "metadata": {
  "kernelspec": {
   "display_name": "Python 3",
   "language": "python",
   "name": "python3"
  },
  "language_info": {
   "codemirror_mode": {
    "name": "ipython",
    "version": 2
   },
   "file_extension": ".py",
   "mimetype": "text/x-python",
   "name": "python",
   "nbconvert_exporter": "python",
   "pygments_lexer": "ipython2",
   "version": "2.7.6"
  }
 },
 "nbformat": 4,
 "nbformat_minor": 5
}
