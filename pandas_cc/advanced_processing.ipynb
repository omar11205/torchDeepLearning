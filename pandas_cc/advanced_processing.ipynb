{
 "cells": [
  {
   "metadata": {
    "ExecuteTime": {
     "end_time": "2024-11-14T12:15:24.894738Z",
     "start_time": "2024-11-14T12:15:24.891429Z"
    }
   },
   "cell_type": "code",
   "source": [
    "import locale\n",
    "from datetime import datetime, timedelta"
   ],
   "id": "c1d9d77bb22f2658",
   "outputs": [],
   "execution_count": 1
  },
  {
   "cell_type": "code",
   "id": "initial_id",
   "metadata": {
    "collapsed": true,
    "ExecuteTime": {
     "end_time": "2024-11-14T12:15:41.421393Z",
     "start_time": "2024-11-14T12:15:41.411052Z"
    }
   },
   "source": [
    "\n",
    "locale.setlocale(locale.LC_ALL, \"es_ES\")\n",
    "\n",
    "date = datetime.now().strftime(\"%B %d de %Y\").capitalize()\n",
    "name = \"Raúl\"\n",
    "print(date)"
   ],
   "outputs": [
    {
     "name": "stdout",
     "output_type": "stream",
     "text": [
      "Noviembre 14 de 2024\n"
     ]
    }
   ],
   "execution_count": 2
  },
  {
   "metadata": {
    "ExecuteTime": {
     "end_time": "2024-11-14T12:15:45.690681Z",
     "start_time": "2024-11-14T12:15:45.227067Z"
    }
   },
   "cell_type": "code",
   "source": [
    "import json\n",
    "import os\n",
    "import pandas as pd"
   ],
   "id": "5d01e00f58eadb58",
   "outputs": [],
   "execution_count": 3
  },
  {
   "metadata": {
    "ExecuteTime": {
     "end_time": "2024-11-14T03:01:34.751381Z",
     "start_time": "2024-11-14T03:01:34.747706Z"
    }
   },
   "cell_type": "code",
   "source": [
    "locale.setlocale(locale.LC_ALL, \"es_ES\")\n",
    "\n",
    "date = datetime.now().strftime(\"%B %d de %Y\").capitalize()\n",
    "name = \"Raúl\"\n",
    "\n",
    "def dataset_chat(json_folder_path, num_files, curr_date, name_a):\n",
    "    \"\"\"\n",
    "    Extracts the user data from conversation json files\n",
    "    \n",
    "    \"\"\"\n",
    "    all_conversations = []\n",
    "\n",
    "    # loop over each JSON file\n",
    "    for i in range(1, num_files + 1):\n",
    "        \n",
    "        # standard filename\n",
    "        json_filename = f\"conversation_{i}.json\"\n",
    "\n",
    "        # load the JSON file\n",
    "        json_filepath = os.path.join(json_folder_path, json_filename)\n",
    "        with open(json_filepath, 'r') as file:\n",
    "            data_json = json.load(file)\n",
    "\n",
    "        # extract conversation and metadata\n",
    "        conversation_json = data_json[\"conversation\"]\n",
    "        \n",
    "        client_name = data_json[\"metadata\"][\"debtor_info\"][\"debt_info\"][\"debtor\"][\"name\"]\n",
    "        amount_pesos = data_json[\"metadata\"][\"debtor_info\"][\"debt_info\"][\"credits\"][0][\"outstanding_balance\"]\n",
    "        days_late = 1\n",
    "        current_date = curr_date\n",
    "        tomorrow_date = (datetime.now() + timedelta(days=1)).strftime(\"%B %d de %Y\").capitalize()\n",
    "        name_agent = name_a\n",
    "        \n",
    "        print(client_name, amount_pesos, days_late, current_date, tomorrow_date, name_agent)\n",
    "        "
   ],
   "id": "a86162201d70b4a7",
   "outputs": [],
   "execution_count": 7
  },
  {
   "metadata": {
    "ExecuteTime": {
     "end_time": "2024-11-14T03:01:46.382583Z",
     "start_time": "2024-11-14T03:01:46.379212Z"
    }
   },
   "cell_type": "code",
   "source": "dataset_chat(\"data/conversations\", 2, date, name)",
   "id": "8df8c314e6a17d7d",
   "outputs": [
    {
     "name": "stdout",
     "output_type": "stream",
     "text": [
      "Mauricio Sanabria 503302.85 1 Noviembre 13 de 2024 Noviembre 14 de 2024 Raúl\n",
      "María Anyi Martínez Murillo 1622595.08 1 Noviembre 13 de 2024 Noviembre 14 de 2024 Raúl\n"
     ]
    }
   ],
   "execution_count": 10
  },
  {
   "metadata": {},
   "cell_type": "code",
   "outputs": [],
   "execution_count": null,
   "source": "",
   "id": "f30b7468d0c46def"
  }
 ],
 "metadata": {
  "kernelspec": {
   "display_name": "Python 3",
   "language": "python",
   "name": "python3"
  },
  "language_info": {
   "codemirror_mode": {
    "name": "ipython",
    "version": 2
   },
   "file_extension": ".py",
   "mimetype": "text/x-python",
   "name": "python",
   "nbconvert_exporter": "python",
   "pygments_lexer": "ipython2",
   "version": "2.7.6"
  }
 },
 "nbformat": 4,
 "nbformat_minor": 5
}
