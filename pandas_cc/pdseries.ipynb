{
 "cells": [
  {
   "cell_type": "code",
   "id": "initial_id",
   "metadata": {
    "collapsed": true,
    "ExecuteTime": {
     "end_time": "2024-04-20T17:26:25.539513Z",
     "start_time": "2024-04-20T17:26:25.536121Z"
    }
   },
   "source": [
    "import pandas as pd\n",
    "import numpy as np"
   ],
   "outputs": [],
   "execution_count": 2
  },
  {
   "metadata": {
    "ExecuteTime": {
     "end_time": "2024-04-20T17:26:35.581221Z",
     "start_time": "2024-04-20T17:26:35.578616Z"
    }
   },
   "cell_type": "code",
   "source": [
    "# a pandas series is build directly on top of a numpy array\n",
    "# a pandas series can have a name index, numpy can only have numeric indices"
   ],
   "id": "950f68f2ce9996b5",
   "outputs": [],
   "execution_count": 3
  },
  {
   "metadata": {
    "ExecuteTime": {
     "end_time": "2024-04-20T17:53:23.424645Z",
     "start_time": "2024-04-20T17:53:23.420828Z"
    }
   },
   "cell_type": "code",
   "source": [
    "labels = ['a', 'b', 'c']\n",
    "mylist = [10, 20, 30]\n",
    "arr = np.array(mylist)\n",
    "ser = pd.Series(arr, index=labels)"
   ],
   "id": "e2433dcad727dc35",
   "outputs": [],
   "execution_count": 4
  },
  {
   "metadata": {
    "ExecuteTime": {
     "end_time": "2024-04-20T17:53:30.189996Z",
     "start_time": "2024-04-20T17:53:30.185491Z"
    }
   },
   "cell_type": "code",
   "source": "print(ser)",
   "id": "960bb055e597853",
   "outputs": [
    {
     "name": "stdout",
     "output_type": "stream",
     "text": [
      "a    10\n",
      "b    20\n",
      "c    30\n",
      "dtype: int32\n"
     ]
    }
   ],
   "execution_count": 5
  },
  {
   "metadata": {
    "ExecuteTime": {
     "end_time": "2024-04-20T18:07:25.425029Z",
     "start_time": "2024-04-20T18:07:25.421613Z"
    }
   },
   "cell_type": "code",
   "source": [
    "dictionary = {'a': 10, 'b': 20, 'c': 30}\n",
    "serfromdict = pd.Series(dictionary)"
   ],
   "id": "f744f1bd924586a0",
   "outputs": [],
   "execution_count": 6
  },
  {
   "metadata": {
    "ExecuteTime": {
     "end_time": "2024-04-20T18:07:33.167471Z",
     "start_time": "2024-04-20T18:07:33.163830Z"
    }
   },
   "cell_type": "code",
   "source": "print(serfromdict)",
   "id": "30b5f7ae43c34433",
   "outputs": [
    {
     "name": "stdout",
     "output_type": "stream",
     "text": [
      "a    10\n",
      "b    20\n",
      "c    30\n",
      "dtype: int64\n"
     ]
    }
   ],
   "execution_count": 7
  },
  {
   "metadata": {
    "ExecuteTime": {
     "end_time": "2024-04-20T18:11:26.386608Z",
     "start_time": "2024-04-20T18:11:26.382866Z"
    }
   },
   "cell_type": "code",
   "source": "type(serfromdict)",
   "id": "e0bde01670d16e9b",
   "outputs": [
    {
     "data": {
      "text/plain": [
       "pandas.core.series.Series"
      ]
     },
     "execution_count": 10,
     "metadata": {},
     "output_type": "execute_result"
    }
   ],
   "execution_count": 10
  },
  {
   "metadata": {},
   "cell_type": "code",
   "outputs": [],
   "execution_count": null,
   "source": "",
   "id": "e263e4a8b06bb373"
  }
 ],
 "metadata": {
  "kernelspec": {
   "display_name": "Python 3",
   "language": "python",
   "name": "python3"
  },
  "language_info": {
   "codemirror_mode": {
    "name": "ipython",
    "version": 2
   },
   "file_extension": ".py",
   "mimetype": "text/x-python",
   "name": "python",
   "nbconvert_exporter": "python",
   "pygments_lexer": "ipython2",
   "version": "2.7.6"
  }
 },
 "nbformat": 4,
 "nbformat_minor": 5
}
