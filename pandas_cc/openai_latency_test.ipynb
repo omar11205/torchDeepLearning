{
 "cells": [
  {
   "cell_type": "code",
   "id": "initial_id",
   "metadata": {
    "collapsed": true,
    "ExecuteTime": {
     "end_time": "2024-12-09T18:14:10.535411Z",
     "start_time": "2024-12-09T18:14:10.532633Z"
    }
   },
   "source": [
    "import os\n",
    "import json\n",
    "import time\n",
    "import matplotlib.pyplot as plt\n",
    "from openai import OpenAI"
   ],
   "outputs": [],
   "execution_count": 8
  },
  {
   "metadata": {
    "ExecuteTime": {
     "end_time": "2024-12-09T18:14:11.536819Z",
     "start_time": "2024-12-09T18:14:11.534109Z"
    }
   },
   "cell_type": "code",
   "source": [
    "# Constants\n",
    "MODEL_NAME = \"ft:gpt-4o-mini-2024-07-18:defytek-sas:azteca3:AYhVjuWH\"\n",
    "LATENCY_DATASET_PATH = \"test_azteca_v1.jsonl\"\n",
    "API_KEY_ENV_VAR = \"GIK_OPEN_AI\""
   ],
   "id": "27bcc030a5ac1567",
   "outputs": [],
   "execution_count": 9
  },
  {
   "metadata": {
    "ExecuteTime": {
     "end_time": "2024-12-09T18:14:12.364883Z",
     "start_time": "2024-12-09T18:14:12.362068Z"
    }
   },
   "cell_type": "code",
   "source": [
    "# Initialize OpenAI client\n",
    "def get_openai_client(api_key_env_var):\n",
    "    api_key = os.getenv(api_key_env_var)\n",
    "    if not api_key:\n",
    "        raise ValueError(f\"API key not found in environment variable '{api_key_env_var}'\")\n",
    "    return OpenAI(api_key=api_key)"
   ],
   "id": "a134f20bc29dfa03",
   "outputs": [],
   "execution_count": 10
  },
  {
   "metadata": {
    "ExecuteTime": {
     "end_time": "2024-12-09T18:14:13.783193Z",
     "start_time": "2024-12-09T18:14:13.780199Z"
    }
   },
   "cell_type": "code",
   "source": [
    "# Test API connection\n",
    "def test_openai_connection(client):\n",
    "    try:\n",
    "        response = client.chat.completions.create(\n",
    "            model=MODEL_NAME,\n",
    "            messages=[\n",
    "                {\n",
    "                    \"role\": \"system\",\n",
    "                    \"content\": (\n",
    "                        \"Tu nombre es Raúl y trabajas para Cumplir SAS. Tu tarea es comunicarte con los clientes \"\n",
    "                        \"con alta empatía y comprensión. Nombre Banco: Banco Azteca. Nombre Cliente: David Cortés. \"\n",
    "                        \"Monto Adeudado: 34384 pesos mexicanos. Fecha y hora de hoy: martes 2024-05-28 05:53 PM. \"\n",
    "                        \"Días de atraso en el pago: 42. Fecha de pago máxima: miércoles 2024-05-29.\"\n",
    "                    ),\n",
    "                },\n",
    "                {\"role\": \"user\", \"content\": \"bueno\"},\n",
    "            ],\n",
    "        )\n",
    "        print(\"Connection test successful!\")\n",
    "        print(\"Model response:\", response.choices[0].message.content)\n",
    "    except Exception as e:\n",
    "        print(f\"Error connecting to OpenAI API: {e}\")\n",
    "        raise"
   ],
   "id": "7cc06f12d79301e3",
   "outputs": [],
   "execution_count": 11
  },
  {
   "metadata": {
    "ExecuteTime": {
     "end_time": "2024-12-09T18:14:14.966856Z",
     "start_time": "2024-12-09T18:14:14.963571Z"
    }
   },
   "cell_type": "code",
   "source": [
    "# Load dataset\n",
    "def load_dataset(filepath):\n",
    "    try:\n",
    "        with open(filepath, 'r') as file:\n",
    "            return [json.loads(line) for line in file]\n",
    "    except FileNotFoundError:\n",
    "        raise ValueError(f\"Dataset file not found at path: {filepath}\")"
   ],
   "id": "7067b796b7326a55",
   "outputs": [],
   "execution_count": 12
  },
  {
   "metadata": {
    "ExecuteTime": {
     "end_time": "2024-12-09T18:14:15.905567Z",
     "start_time": "2024-12-09T18:14:15.901811Z"
    }
   },
   "cell_type": "code",
   "source": [
    "# Measure latency for each conversation\n",
    "def measure_latencies(client, conversations):\n",
    "    latencies = []\n",
    "    for idx, conversation in enumerate(conversations):\n",
    "        try:\n",
    "            system_message = conversation['messages'][0]['content']\n",
    "            user_message = conversation['messages'][1]['content']\n",
    "\n",
    "            start_time = time.time()\n",
    "            client.chat.completions.create(\n",
    "                model=MODEL_NAME,\n",
    "                messages=[\n",
    "                    {\"role\": \"system\", \"content\": system_message},\n",
    "                    {\"role\": \"user\", \"content\": user_message},\n",
    "                ],\n",
    "            )\n",
    "            latency = time.time() - start_time\n",
    "            latencies.append(latency)\n",
    "        except Exception as e:\n",
    "            print(f\"Error processing conversation at index {idx}: {e}\")\n",
    "    return latencies"
   ],
   "id": "c5a30f26cd16f7c2",
   "outputs": [],
   "execution_count": 13
  },
  {
   "metadata": {
    "ExecuteTime": {
     "end_time": "2024-12-09T18:14:17.198919Z",
     "start_time": "2024-12-09T18:14:17.195641Z"
    }
   },
   "cell_type": "code",
   "source": [
    "# Plot latencies\n",
    "def plot_latencies(latencies):\n",
    "    plt.hist(latencies, bins=7, color='blue', edgecolor='black')\n",
    "    plt.title(\"Model Response Latency Histogram\")\n",
    "    plt.xlabel(\"Latency (seconds)\")\n",
    "    plt.ylabel(\"Frequency\")\n",
    "    plt.grid(True)\n",
    "    plt.show()"
   ],
   "id": "14781d557f41cf5a",
   "outputs": [],
   "execution_count": 14
  },
  {
   "metadata": {
    "ExecuteTime": {
     "end_time": "2024-12-09T18:15:46.933148Z",
     "start_time": "2024-12-09T18:14:20.424682Z"
    }
   },
   "cell_type": "code",
   "source": [
    "client = get_openai_client(API_KEY_ENV_VAR)\n",
    "test_openai_connection(client)\n",
    "\n",
    "conversations = load_dataset(LATENCY_DATASET_PATH)\n",
    "print(f\"Loaded {len(conversations)} conversations from dataset.\")\n",
    "\n",
    "latencies = measure_latencies(client, conversations)\n",
    "print(f\"Measured latencies for {len(latencies)} conversations.\")\n",
    "\n",
    "plot_latencies(latencies)"
   ],
   "id": "b9a4a34bbd456c55",
   "outputs": [
    {
     "name": "stdout",
     "output_type": "stream",
     "text": [
      "Connection test successful!\n",
      "Model response: Buenas tardes, ¿me comunico con David Cortés?\n",
      "Loaded 48 conversations from dataset.\n",
      "Measured latencies for 48 conversations.\n"
     ]
    },
    {
     "data": {
      "text/plain": [
       "<Figure size 640x480 with 1 Axes>"
      ],
      "image/png": "[encoded data removed]"
     },
     "metadata": {},
     "output_type": "display_data"
    }
   ],
   "execution_count": 15
  },
  {
   "metadata": {},
   "cell_type": "code",
   "outputs": [],
   "execution_count": null,
   "source": "",
   "id": "602096dd3d243b58"
  }
 ],
 "metadata": {
  "kernelspec": {
   "display_name": "Python 3",
   "language": "python",
   "name": "python3"
  },
  "language_info": {
   "codemirror_mode": {
    "name": "ipython",
    "version": 2
   },
   "file_extension": ".py",
   "mimetype": "text/x-python",
   "name": "python",
   "nbconvert_exporter": "python",
   "pygments_lexer": "ipython2",
   "version": "2.7.6"
  }
 },
 "nbformat": 4,
 "nbformat_minor": 5
}
