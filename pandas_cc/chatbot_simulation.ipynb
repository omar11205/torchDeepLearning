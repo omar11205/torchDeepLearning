{
 "cells": [
  {
   "metadata": {
    "ExecuteTime": {
     "end_time": "2024-12-11T21:04:07.430064Z",
     "start_time": "2024-12-11T21:04:05.850149Z"
    }
   },
   "cell_type": "code",
   "source": [
    "from simulation_modules import chatbot_sim as cs\n",
    "from datetime import datetime, timedelta\n",
    "from sklearn.model_selection import train_test_split\n",
    "import json\n",
    "from pprint import pprint"
   ],
   "id": "f97c2b5cb94a90f6",
   "outputs": [],
   "execution_count": 1
  },
  {
   "metadata": {
    "ExecuteTime": {
     "end_time": "2024-12-11T21:10:09.140043Z",
     "start_time": "2024-12-11T21:10:09.135841Z"
    }
   },
   "cell_type": "code",
   "source": [
    "# load the dataset {'gender': gender, 'name': name}\n",
    "cli_manager = cs.InputManager(\"simulation_modules/client_names.jsonl\") # loads the entire dataset\n",
    "cli_data = cli_manager.get_sample(absolute=80) # retrieve 20 random names\n",
    "train, test = train_test_split(cli_data, test_size=0.2, random_state=42)\n",
    "print(\"Train size:\", len(train), \"Test size:\", len(test), \". Expected total conversations (all possible fluxes): \", len(train)*12)"
   ],
   "id": "b3321b139e42de47",
   "outputs": [
    {
     "name": "stdout",
     "output_type": "stream",
     "text": [
      "Train size: 64 Test size: 16 . Expected total conversations (all possible fluxes):  768\n"
     ]
    }
   ],
   "execution_count": 14
  },
  {
   "metadata": {
    "ExecuteTime": {
     "end_time": "2024-12-11T21:10:13.394501Z",
     "start_time": "2024-12-11T21:10:13.390664Z"
    }
   },
   "cell_type": "code",
   "source": "pprint(test)",
   "id": "beeba7bc081d9d24",
   "outputs": [
    {
     "name": "stdout",
     "output_type": "stream",
     "text": [
      "[{'gender': 'f', 'name': 'Valeria Velásquez'},\n",
      " {'gender': 'f', 'name': 'Guadalupe Zárate'},\n",
      " {'gender': 'm', 'name': 'José Antonio Fernández'},\n",
      " {'gender': 'm', 'name': 'Fernando Díaz'},\n",
      " {'gender': 'f', 'name': 'Julia Campos'},\n",
      " {'gender': 'f', 'name': 'Karina Rodríguez'},\n",
      " {'gender': 'f', 'name': 'Lucía Guzmán'},\n",
      " {'gender': 'f', 'name': 'Dulce Villaseñor'},\n",
      " {'gender': 'f', 'name': 'Marina Espinoza'},\n",
      " {'gender': 'm', 'name': 'Ciro Bustamante'},\n",
      " {'gender': 'm', 'name': 'Diego Martínez'},\n",
      " {'gender': 'm', 'name': 'Gonzalo Esteban Morales'},\n",
      " {'gender': 'f', 'name': 'Graciela Becerra'},\n",
      " {'gender': 'm', 'name': 'Jaime Moreno'},\n",
      " {'gender': 'f', 'name': 'Luciana Paola Hernández'},\n",
      " {'gender': 'f', 'name': 'Beatriz Cordero'}]\n"
     ]
    }
   ],
   "execution_count": 15
  },
  {
   "metadata": {
    "ExecuteTime": {
     "end_time": "2024-12-11T21:10:15.418647Z",
     "start_time": "2024-12-11T21:10:15.399366Z"
    }
   },
   "cell_type": "code",
   "source": [
    "# random dates start\n",
    "s_date = datetime(2024, 1, 1)\n",
    "\n",
    "# random dates end\n",
    "e_date = datetime.now()\n",
    "\n",
    "agent_names = [\"Raúl\"]\n",
    "bank_name = \"Banco Azteca\"\n",
    "\n",
    "dates_generator = cs.DatesGenerator()\n",
    "\n",
    "train_entries_generator = cs.RandomEntryGenerator(\"random_day\", agent_names, train, bank_name, dates_generator)\n",
    "test_entries_generator = cs.RandomEntryGenerator(\"current_day\", agent_names, test, bank_name, dates_generator)\n",
    "\n",
    "train_entries = train_entries_generator.generate_random_entries(s_date, e_date)\n",
    "test_entries = test_entries_generator.generate_random_entries(s_date, e_date)\n",
    "\n",
    "pprint(test_entries)"
   ],
   "id": "4e7659c4dfd91001",
   "outputs": [
    {
     "name": "stdout",
     "output_type": "stream",
     "text": [
      "[{'amount_pesos': 2354,\n",
      "  'ask_for_payment_day': 'jueves',\n",
      "  'bank_name': 'Banco Azteca',\n",
      "  'client_name': {'gender': 'f', 'name': 'Valeria Velásquez'},\n",
      "  'current_date': '11 de diciembre de 2024',\n",
      "  'days_late': 41,\n",
      "  'name_of_the_agent': 'Raúl',\n",
      "  'system_current_date_time': 'miércoles 2024-12-11 04:10 PM',\n",
      "  'system_current_datetime_object': datetime.datetime(2024, 12, 11, 16, 10, 15, 414364),\n",
      "  'system_tomorrow_date': 'jueves 2024-12-12',\n",
      "  'tomorrow_date': '12 de diciembre de 2024'},\n",
      " {'amount_pesos': 27076,\n",
      "  'ask_for_payment_day': 'jueves',\n",
      "  'bank_name': 'Banco Azteca',\n",
      "  'client_name': {'gender': 'f', 'name': 'Guadalupe Zárate'},\n",
      "  'current_date': '11 de diciembre de 2024',\n",
      "  'days_late': 42,\n",
      "  'name_of_the_agent': 'Raúl',\n",
      "  'system_current_date_time': 'miércoles 2024-12-11 04:10 PM',\n",
      "  'system_current_datetime_object': datetime.datetime(2024, 12, 11, 16, 10, 15, 414364),\n",
      "  'system_tomorrow_date': 'jueves 2024-12-12',\n",
      "  'tomorrow_date': '12 de diciembre de 2024'},\n",
      " {'amount_pesos': 5813,\n",
      "  'ask_for_payment_day': 'jueves',\n",
      "  'bank_name': 'Banco Azteca',\n",
      "  'client_name': {'gender': 'm', 'name': 'José Antonio Fernández'},\n",
      "  'current_date': '11 de diciembre de 2024',\n",
      "  'days_late': 22,\n",
      "  'name_of_the_agent': 'Raúl',\n",
      "  'system_current_date_time': 'miércoles 2024-12-11 04:10 PM',\n",
      "  'system_current_datetime_object': datetime.datetime(2024, 12, 11, 16, 10, 15, 414364),\n",
      "  'system_tomorrow_date': 'jueves 2024-12-12',\n",
      "  'tomorrow_date': '12 de diciembre de 2024'},\n",
      " {'amount_pesos': 22187,\n",
      "  'ask_for_payment_day': 'jueves',\n",
      "  'bank_name': 'Banco Azteca',\n",
      "  'client_name': {'gender': 'm', 'name': 'Fernando Díaz'},\n",
      "  'current_date': '11 de diciembre de 2024',\n",
      "  'days_late': 58,\n",
      "  'name_of_the_agent': 'Raúl',\n",
      "  'system_current_date_time': 'miércoles 2024-12-11 04:10 PM',\n",
      "  'system_current_datetime_object': datetime.datetime(2024, 12, 11, 16, 10, 15, 414364),\n",
      "  'system_tomorrow_date': 'jueves 2024-12-12',\n",
      "  'tomorrow_date': '12 de diciembre de 2024'},\n",
      " {'amount_pesos': 40194,\n",
      "  'ask_for_payment_day': 'jueves',\n",
      "  'bank_name': 'Banco Azteca',\n",
      "  'client_name': {'gender': 'f', 'name': 'Julia Campos'},\n",
      "  'current_date': '11 de diciembre de 2024',\n",
      "  'days_late': 8,\n",
      "  'name_of_the_agent': 'Raúl',\n",
      "  'system_current_date_time': 'miércoles 2024-12-11 04:10 PM',\n",
      "  'system_current_datetime_object': datetime.datetime(2024, 12, 11, 16, 10, 15, 414364),\n",
      "  'system_tomorrow_date': 'jueves 2024-12-12',\n",
      "  'tomorrow_date': '12 de diciembre de 2024'},\n",
      " {'amount_pesos': 37154,\n",
      "  'ask_for_payment_day': 'jueves',\n",
      "  'bank_name': 'Banco Azteca',\n",
      "  'client_name': {'gender': 'f', 'name': 'Karina Rodríguez'},\n",
      "  'current_date': '11 de diciembre de 2024',\n",
      "  'days_late': 52,\n",
      "  'name_of_the_agent': 'Raúl',\n",
      "  'system_current_date_time': 'miércoles 2024-12-11 04:10 PM',\n",
      "  'system_current_datetime_object': datetime.datetime(2024, 12, 11, 16, 10, 15, 414364),\n",
      "  'system_tomorrow_date': 'jueves 2024-12-12',\n",
      "  'tomorrow_date': '12 de diciembre de 2024'},\n",
      " {'amount_pesos': 26992,\n",
      "  'ask_for_payment_day': 'jueves',\n",
      "  'bank_name': 'Banco Azteca',\n",
      "  'client_name': {'gender': 'f', 'name': 'Lucía Guzmán'},\n",
      "  'current_date': '11 de diciembre de 2024',\n",
      "  'days_late': 43,\n",
      "  'name_of_the_agent': 'Raúl',\n",
      "  'system_current_date_time': 'miércoles 2024-12-11 04:10 PM',\n",
      "  'system_current_datetime_object': datetime.datetime(2024, 12, 11, 16, 10, 15, 414364),\n",
      "  'system_tomorrow_date': 'jueves 2024-12-12',\n",
      "  'tomorrow_date': '12 de diciembre de 2024'},\n",
      " {'amount_pesos': 30628,\n",
      "  'ask_for_payment_day': 'jueves',\n",
      "  'bank_name': 'Banco Azteca',\n",
      "  'client_name': {'gender': 'f', 'name': 'Dulce Villaseñor'},\n",
      "  'current_date': '11 de diciembre de 2024',\n",
      "  'days_late': 28,\n",
      "  'name_of_the_agent': 'Raúl',\n",
      "  'system_current_date_time': 'miércoles 2024-12-11 04:10 PM',\n",
      "  'system_current_datetime_object': datetime.datetime(2024, 12, 11, 16, 10, 15, 414364),\n",
      "  'system_tomorrow_date': 'jueves 2024-12-12',\n",
      "  'tomorrow_date': '12 de diciembre de 2024'},\n",
      " {'amount_pesos': 1616,\n",
      "  'ask_for_payment_day': 'jueves',\n",
      "  'bank_name': 'Banco Azteca',\n",
      "  'client_name': {'gender': 'f', 'name': 'Marina Espinoza'},\n",
      "  'current_date': '11 de diciembre de 2024',\n",
      "  'days_late': 4,\n",
      "  'name_of_the_agent': 'Raúl',\n",
      "  'system_current_date_time': 'miércoles 2024-12-11 04:10 PM',\n",
      "  'system_current_datetime_object': datetime.datetime(2024, 12, 11, 16, 10, 15, 414364),\n",
      "  'system_tomorrow_date': 'jueves 2024-12-12',\n",
      "  'tomorrow_date': '12 de diciembre de 2024'},\n",
      " {'amount_pesos': 43753,\n",
      "  'ask_for_payment_day': 'jueves',\n",
      "  'bank_name': 'Banco Azteca',\n",
      "  'client_name': {'gender': 'm', 'name': 'Ciro Bustamante'},\n",
      "  'current_date': '11 de diciembre de 2024',\n",
      "  'days_late': 6,\n",
      "  'name_of_the_agent': 'Raúl',\n",
      "  'system_current_date_time': 'miércoles 2024-12-11 04:10 PM',\n",
      "  'system_current_datetime_object': datetime.datetime(2024, 12, 11, 16, 10, 15, 414364),\n",
      "  'system_tomorrow_date': 'jueves 2024-12-12',\n",
      "  'tomorrow_date': '12 de diciembre de 2024'},\n",
      " {'amount_pesos': 17395,\n",
      "  'ask_for_payment_day': 'jueves',\n",
      "  'bank_name': 'Banco Azteca',\n",
      "  'client_name': {'gender': 'm', 'name': 'Diego Martínez'},\n",
      "  'current_date': '11 de diciembre de 2024',\n",
      "  'days_late': 27,\n",
      "  'name_of_the_agent': 'Raúl',\n",
      "  'system_current_date_time': 'miércoles 2024-12-11 04:10 PM',\n",
      "  'system_current_datetime_object': datetime.datetime(2024, 12, 11, 16, 10, 15, 414364),\n",
      "  'system_tomorrow_date': 'jueves 2024-12-12',\n",
      "  'tomorrow_date': '12 de diciembre de 2024'},\n",
      " {'amount_pesos': 10263,\n",
      "  'ask_for_payment_day': 'jueves',\n",
      "  'bank_name': 'Banco Azteca',\n",
      "  'client_name': {'gender': 'm', 'name': 'Gonzalo Esteban Morales'},\n",
      "  'current_date': '11 de diciembre de 2024',\n",
      "  'days_late': 43,\n",
      "  'name_of_the_agent': 'Raúl',\n",
      "  'system_current_date_time': 'miércoles 2024-12-11 04:10 PM',\n",
      "  'system_current_datetime_object': datetime.datetime(2024, 12, 11, 16, 10, 15, 414364),\n",
      "  'system_tomorrow_date': 'jueves 2024-12-12',\n",
      "  'tomorrow_date': '12 de diciembre de 2024'},\n",
      " {'amount_pesos': 34729,\n",
      "  'ask_for_payment_day': 'jueves',\n",
      "  'bank_name': 'Banco Azteca',\n",
      "  'client_name': {'gender': 'f', 'name': 'Graciela Becerra'},\n",
      "  'current_date': '11 de diciembre de 2024',\n",
      "  'days_late': 11,\n",
      "  'name_of_the_agent': 'Raúl',\n",
      "  'system_current_date_time': 'miércoles 2024-12-11 04:10 PM',\n",
      "  'system_current_datetime_object': datetime.datetime(2024, 12, 11, 16, 10, 15, 414364),\n",
      "  'system_tomorrow_date': 'jueves 2024-12-12',\n",
      "  'tomorrow_date': '12 de diciembre de 2024'},\n",
      " {'amount_pesos': 49769,\n",
      "  'ask_for_payment_day': 'jueves',\n",
      "  'bank_name': 'Banco Azteca',\n",
      "  'client_name': {'gender': 'm', 'name': 'Jaime Moreno'},\n",
      "  'current_date': '11 de diciembre de 2024',\n",
      "  'days_late': 42,\n",
      "  'name_of_the_agent': 'Raúl',\n",
      "  'system_current_date_time': 'miércoles 2024-12-11 04:10 PM',\n",
      "  'system_current_datetime_object': datetime.datetime(2024, 12, 11, 16, 10, 15, 414364),\n",
      "  'system_tomorrow_date': 'jueves 2024-12-12',\n",
      "  'tomorrow_date': '12 de diciembre de 2024'},\n",
      " {'amount_pesos': 7623,\n",
      "  'ask_for_payment_day': 'jueves',\n",
      "  'bank_name': 'Banco Azteca',\n",
      "  'client_name': {'gender': 'f', 'name': 'Luciana Paola Hernández'},\n",
      "  'current_date': '11 de diciembre de 2024',\n",
      "  'days_late': 28,\n",
      "  'name_of_the_agent': 'Raúl',\n",
      "  'system_current_date_time': 'miércoles 2024-12-11 04:10 PM',\n",
      "  'system_current_datetime_object': datetime.datetime(2024, 12, 11, 16, 10, 15, 414364),\n",
      "  'system_tomorrow_date': 'jueves 2024-12-12',\n",
      "  'tomorrow_date': '12 de diciembre de 2024'},\n",
      " {'amount_pesos': 4257,\n",
      "  'ask_for_payment_day': 'jueves',\n",
      "  'bank_name': 'Banco Azteca',\n",
      "  'client_name': {'gender': 'f', 'name': 'Beatriz Cordero'},\n",
      "  'current_date': '11 de diciembre de 2024',\n",
      "  'days_late': 31,\n",
      "  'name_of_the_agent': 'Raúl',\n",
      "  'system_current_date_time': 'miércoles 2024-12-11 04:10 PM',\n",
      "  'system_current_datetime_object': datetime.datetime(2024, 12, 11, 16, 10, 15, 414364),\n",
      "  'system_tomorrow_date': 'jueves 2024-12-12',\n",
      "  'tomorrow_date': '12 de diciembre de 2024'}]\n"
     ]
    }
   ],
   "execution_count": 16
  },
  {
   "metadata": {
    "ExecuteTime": {
     "end_time": "2024-12-11T21:10:28.389278Z",
     "start_time": "2024-12-11T21:10:28.386422Z"
    }
   },
   "cell_type": "code",
   "source": [
    "# create an instance of the AztecaBot\n",
    "bot = cs.AztecaBot()\n",
    "print(bot.default_chat_flux)"
   ],
   "id": "6c43196f5a2b0c72",
   "outputs": [
    {
     "name": "stdout",
     "output_type": "stream",
     "text": [
      "[[True, True, True, False, False, False, False, False, False, False, False], [True, True, False, False, False, False, False, False, False, False, False], [True, True, False, True, False, False, False, False, False, False, False], [True, False, False, False, True, True, False, False, False, False, False], [True, False, False, False, True, False, False, False, False, False, False], [True, False, False, False, True, False, True, False, False, False, False], [True, False, False, False, False, False, False, True, True, False, False], [True, False, False, False, False, False, False, True, False, False, False], [True, False, False, False, False, False, False, True, False, True, False], [True, False, False, False, False, False, False, False, False, False, False], [False, False, False, False, False, False, False, False, False, False, True], [False, False, False, False, False, False, False, False, False, False, False]]\n"
     ]
    }
   ],
   "execution_count": 17
  },
  {
   "metadata": {},
   "cell_type": "markdown",
   "source": "Create the train dataset for gpt-4o-mini fine tuning",
   "id": "98dc1c61b0048546"
  },
  {
   "metadata": {
    "ExecuteTime": {
     "end_time": "2024-12-11T21:10:30.021328Z",
     "start_time": "2024-12-11T21:10:29.860232Z"
    }
   },
   "cell_type": "code",
   "source": [
    "cs.FineTuningDataset.create_dataset(\n",
    "    entries=train_entries,\n",
    "    chatbot=bot,\n",
    "    chat_flux=bot.default_chat_flux,\n",
    "    generate_weights=True, #all weights have the value of 1 by default\n",
    "    filename=\"train_azteca_v4.jsonl\"\n",
    ")"
   ],
   "id": "126643d737eec523",
   "outputs": [
    {
     "name": "stdout",
     "output_type": "stream",
     "text": [
      "Dataset created successfully and saved in train_azteca_v4.jsonl\n"
     ]
    }
   ],
   "execution_count": 18
  },
  {
   "metadata": {},
   "cell_type": "markdown",
   "source": "Create the test dataset for gpt-4o-mini fine tuning",
   "id": "5a6eecf623bb6cd0"
  },
  {
   "metadata": {
    "ExecuteTime": {
     "end_time": "2024-12-11T21:10:31.248290Z",
     "start_time": "2024-12-11T21:10:31.203700Z"
    }
   },
   "cell_type": "code",
   "source": [
    "cs.FineTuningDataset.create_dataset(\n",
    "    entries=test_entries,\n",
    "    chatbot=bot,\n",
    "    chat_flux=bot.default_chat_flux,\n",
    "    filename=\"test_azteca_v4.jsonl\"\n",
    ")"
   ],
   "id": "a3d0e4b03652bbf1",
   "outputs": [
    {
     "name": "stdout",
     "output_type": "stream",
     "text": [
      "Dataset created successfully and saved in test_azteca_v4.jsonl\n"
     ]
    }
   ],
   "execution_count": 19
  },
  {
   "metadata": {},
   "cell_type": "markdown",
   "source": [
    "### Analyze Assistant Responses Patterns\n",
    "\n",
    "Perform an analysis of the amount of responses given an 'assistant' pattern. If there are more responses of certain assistant pattern there is more probability that the model learns quickly that specific assistant response."
   ],
   "id": "8790abdef865b7ca"
  },
  {
   "metadata": {
    "ExecuteTime": {
     "end_time": "2024-12-11T21:10:32.597061Z",
     "start_time": "2024-12-11T21:10:32.579834Z"
    }
   },
   "cell_type": "code",
   "source": [
    "patterns = bot.assistant_patterns\n",
    "pattern_statistics = cs.FineTuningDataset.analyze_dataset_patterns(\"train_azteca_v4.jsonl\", patterns)"
   ],
   "id": "7db692ccd2b3dbd6",
   "outputs": [],
   "execution_count": 20
  },
  {
   "metadata": {
    "ExecuteTime": {
     "end_time": "2024-12-11T21:10:34.593111Z",
     "start_time": "2024-12-11T21:10:34.590369Z"
    }
   },
   "cell_type": "code",
   "source": "print(\"Pattern statistics:\", pattern_statistics)",
   "id": "d58131269d0d2593",
   "outputs": [
    {
     "name": "stdout",
     "output_type": "stream",
     "text": [
      "Pattern statistics: {'greeting': 768, 'primary_info': 640, 'amount_reconfirmation': 576, 'final_reconfirmation': 384, 'ask_for_tomorrow_pay': 384, 'contact_you_later': 256, 'first_attempt_agreement': 448, 'second_attempt_agreement': 256, 'ask_for_line_holder': 128, 'ask_for_callback': 64, 'wrong_person': 64}\n"
     ]
    }
   ],
   "execution_count": 21
  },
  {
   "metadata": {},
   "cell_type": "markdown",
   "source": [
    "### Configure the weights of the Assistant Responses\n",
    "Configure the weights for OpenAI chat completion format: 0 for a content that is no longer needed in order to train the model; 1 for a content that the model still needs to learn. In example the 'greeting' pattern appears in 100% of the conversations, its spected that the model learns "
   ],
   "id": "3c12bd04b240f43a"
  },
  {
   "metadata": {
    "ExecuteTime": {
     "end_time": "2024-12-11T21:10:37.309007Z",
     "start_time": "2024-12-11T21:10:37.304498Z"
    }
   },
   "cell_type": "code",
   "source": [
    "assistant_thresholds_config = {\n",
    "    \"greeting\": 0.5,  # After 50% of the dataset, set weight to 0. Set the 30% of the dataset with weight = 0\n",
    "    \"primary_info\": 0.7,  # After 70% of the dataset, set weight to 0. Set the 30% of the dataset with weight = 0\n",
    "    \"amount_reconfirmation\": 1, # After 100% of the dataset, set weight to 0. Set the 0% of the dataset with weight = 0\n",
    "    \"final_reconfirmation\": 1, \n",
    "    \"ask_for_tomorrow_pay\": 1,\n",
    "    \"contact_you_later\": 1,\n",
    "    \"first_attempt_agreement\": 1,\n",
    "    \"second_attempt_agreement\": 1,\n",
    "    \"ask_for_line_holder\": 1,\n",
    "    \"ask_for_callback\": 1,\n",
    "    \"wrong_person\": 1\n",
    "}\n",
    "patterns = bot.assistant_patterns"
   ],
   "id": "31e395b8f82abcaa",
   "outputs": [],
   "execution_count": 22
  },
  {
   "metadata": {
    "ExecuteTime": {
     "end_time": "2024-12-09T16:49:23.658401Z",
     "start_time": "2024-12-09T16:49:23.610856Z"
    }
   },
   "cell_type": "code",
   "source": [
    "cs.FineTuningDataset.adjust_weights_by_line(\n",
    "    input_file=\"train_azteca_v1.jsonl\", \n",
    "    output_file=\"train_azteca_weight.jsonl\", \n",
    "    thresholds=assistant_thresholds_config, \n",
    "    patterns=patterns\n",
    ")"
   ],
   "id": "472c883efe3bd29c",
   "outputs": [
    {
     "name": "stdout",
     "output_type": "stream",
     "text": [
      "Dataset processed successfully. Saved to train_azteca_weight.jsonl.\n"
     ]
    }
   ],
   "execution_count": 15
  }
 ],
 "metadata": {
  "kernelspec": {
   "display_name": "Python 3",
   "language": "python",
   "name": "python3"
  },
  "language_info": {
   "codemirror_mode": {
    "name": "ipython",
    "version": 2
   },
   "file_extension": ".py",
   "mimetype": "text/x-python",
   "name": "python",
   "nbconvert_exporter": "python",
   "pygments_lexer": "ipython2",
   "version": "2.7.6"
  }
 },
 "nbformat": 4,
 "nbformat_minor": 5
}
