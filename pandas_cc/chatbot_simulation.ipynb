{
 "cells": [
  {
   "metadata": {
    "ExecuteTime": {
     "end_time": "2024-11-29T17:25:39.341376Z",
     "start_time": "2024-11-29T17:25:39.338468Z"
    }
   },
   "cell_type": "code",
   "source": [
    "from simulation_modules import chatbot_simulation as cs\n",
    "import random\n",
    "import json\n",
    "import locale\n",
    "from datetime import datetime, timedelta"
   ],
   "id": "3bed4ca5aead0a07",
   "outputs": [],
   "execution_count": 3
  },
  {
   "metadata": {
    "ExecuteTime": {
     "end_time": "2024-11-29T17:29:54.285613Z",
     "start_time": "2024-11-29T17:29:54.275811Z"
    }
   },
   "cell_type": "code",
   "source": [
    "# random dates start\n",
    "start_date = datetime(2024, 1, 1)\n",
    "\n",
    "# random dates end\n",
    "end_date = datetime(2024, 12, 31)\n",
    "\n",
    "# define the agent name\n",
    "agent_name = [\"Raúl\"]\n",
    "\n",
    "# name of the bank\n",
    "b_name = \"Banco Azteca\"\n",
    "\n",
    "# Mexican holidays\n",
    "mexico_holidays = [\n",
    "    datetime(2024, 1, 1),  # Año Nuevo\n",
    "    datetime(2024, 2, 5),  # Día de la Constitución (primer lunes de febrero)\n",
    "    datetime(2024, 3, 18),  # Natalicio de Benito Juárez (tercer lunes de marzo)\n",
    "    datetime(2024, 5, 1),  # Día del Trabajo\n",
    "    datetime(2024, 9, 16),  # Día de la Independencia\n",
    "    datetime(2024, 11, 18),  # Revolución Mexicana (tercer lunes de noviembre)\n",
    "    datetime(2024, 12, 25)  # Navidad\n",
    "]\n",
    "\n",
    "# load 400 client names\n",
    "client_names = cs.load_client_names(\"simulation_modules/client_names.jsonl\")\n",
    "\n",
    "# select a sample of client names\n",
    "clients_subset = random.sample(client_names, 6)\n",
    "\n",
    "# generate the entries for each client conversation\n",
    "entries = cs.generate_random_entries(agent_name, clients_subset, start_date,end_date, mexico_holidays, b_name)\n",
    "\n",
    "chatbot_flux_config_2 = [[True, True, True, False, False, False, False, False, False, False, False]]\n",
    "\n",
    "# create an ordered dataset for the fine tunning\n",
    "cs.create_dataset_v1(entries, chatbot_flux_config_2, filename=\"export/azteca_lat_1.jsonl\")\n"
   ],
   "id": "ae098f7a266b8a9",
   "outputs": [
    {
     "name": "stdout",
     "output_type": "stream",
     "text": [
      "Dataset created successfully.\n"
     ]
    }
   ],
   "execution_count": 6
  },
  {
   "metadata": {
    "ExecuteTime": {
     "end_time": "2024-11-28T17:28:59.465148Z",
     "start_time": "2024-11-28T17:28:59.462609Z"
    }
   },
   "cell_type": "code",
   "source": "bdates = cs.generate_random_business_datetimes(start_date, end_date, 50, holidays=mexico_holidays)",
   "id": "6b4333ff411a23e9",
   "outputs": [],
   "execution_count": 21
  }
 ],
 "metadata": {
  "kernelspec": {
   "display_name": "Python 3",
   "language": "python",
   "name": "python3"
  },
  "language_info": {
   "codemirror_mode": {
    "name": "ipython",
    "version": 2
   },
   "file_extension": ".py",
   "mimetype": "text/x-python",
   "name": "python",
   "nbconvert_exporter": "python",
   "pygments_lexer": "ipython2",
   "version": "2.7.6"
  }
 },
 "nbformat": 4,
 "nbformat_minor": 5
}
