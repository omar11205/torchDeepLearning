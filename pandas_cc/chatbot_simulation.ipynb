{
 "cells": [
  {
   "metadata": {
    "ExecuteTime": {
     "end_time": "2024-12-10T15:23:42.134080Z",
     "start_time": "2024-12-10T15:23:41.115180Z"
    }
   },
   "cell_type": "code",
   "source": [
    "from simulation_modules import chatbot_sim as cs\n",
    "from datetime import datetime, timedelta\n",
    "from sklearn.model_selection import train_test_split\n",
    "import json\n",
    "from pprint import pprint"
   ],
   "id": "f97c2b5cb94a90f6",
   "outputs": [],
   "execution_count": 1
  },
  {
   "metadata": {
    "ExecuteTime": {
     "end_time": "2024-12-10T15:29:09.741357Z",
     "start_time": "2024-12-10T15:29:09.736572Z"
    }
   },
   "cell_type": "code",
   "source": [
    "# load the dataset {'gender': gender, 'name': name}\n",
    "cli_manager = cs.ClientManager(\"simulation_modules/client_names.jsonl\") # loads the entire dataset\n",
    "cli_data = cli_manager.get_sample(absolute=40) # retrieve 20 random names\n",
    "train, test = train_test_split(cli_data, test_size=0.2, random_state=42)\n",
    "print(\"Train size:\", len(train), \"Test size:\", len(test), \". Expected total conversations (all possible fluxes): \", len(train)*12)"
   ],
   "id": "b3321b139e42de47",
   "outputs": [
    {
     "name": "stdout",
     "output_type": "stream",
     "text": [
      "Train size: 32 Test size: 8 . Expected total conversations (all possible fluxes):  384\n"
     ]
    }
   ],
   "execution_count": 14
  },
  {
   "metadata": {
    "ExecuteTime": {
     "end_time": "2024-12-10T15:29:19.699831Z",
     "start_time": "2024-12-10T15:29:19.696984Z"
    }
   },
   "cell_type": "code",
   "source": "pprint(test)",
   "id": "beeba7bc081d9d24",
   "outputs": [
    {
     "name": "stdout",
     "output_type": "stream",
     "text": [
      "[{'gender': 'm', 'name': 'Leonardo Silva'},\n",
      " {'gender': 'm', 'name': 'Óscar René Guzmán'},\n",
      " {'gender': 'm', 'name': 'Iván Darío Castillo'},\n",
      " {'gender': 'm', 'name': 'Daniel Alexander García'},\n",
      " {'gender': 'f', 'name': 'Camila Martínez'},\n",
      " {'gender': 'm', 'name': 'Diego Emiliano Ramírez'},\n",
      " {'gender': 'f', 'name': 'Natalia Herrera'},\n",
      " {'gender': 'm', 'name': 'Mauricio Andrade'}]\n"
     ]
    }
   ],
   "execution_count": 15
  },
  {
   "metadata": {
    "ExecuteTime": {
     "end_time": "2024-12-10T15:29:35.948568Z",
     "start_time": "2024-12-10T15:29:35.936912Z"
    }
   },
   "cell_type": "code",
   "source": [
    "# random dates start\n",
    "s_date = datetime(2024, 1, 1)\n",
    "\n",
    "# random dates end\n",
    "e_date = datetime.now()\n",
    "\n",
    "agent_names = [\"Raúl\"]\n",
    "bank_name = \"Banco Azteca\"\n",
    "\n",
    "dates_generator = cs.DatesGenerator()\n",
    "\n",
    "train_entries_generator = cs.RandomEntryGenerator(\"random_day\", agent_names, train, bank_name, dates_generator)\n",
    "test_entries_generator = cs.RandomEntryGenerator(\"current_day\", agent_names, test, bank_name, dates_generator)\n",
    "\n",
    "train_entries = train_entries_generator.generate_random_entries(s_date, e_date)\n",
    "test_entries = test_entries_generator.generate_random_entries(s_date, e_date)\n",
    "\n",
    "pprint(test_entries)"
   ],
   "id": "4e7659c4dfd91001",
   "outputs": [
    {
     "name": "stdout",
     "output_type": "stream",
     "text": [
      "[{'amount_pesos': 29261,\n",
      "  'ask_for_payment_day': 'miércoles',\n",
      "  'bank_name': 'Banco Azteca',\n",
      "  'client_name': {'gender': 'm', 'name': 'Leonardo Silva'},\n",
      "  'current_date': '10 de diciembre de 2024',\n",
      "  'days_late': 53,\n",
      "  'name_of_the_agent': 'Raúl',\n",
      "  'system_current_date_time': 'martes 2024-12-10 10:29 AM',\n",
      "  'system_current_datetime_object': datetime.datetime(2024, 12, 10, 10, 29, 35, 945924),\n",
      "  'system_tomorrow_date': 'miércoles 2024-12-11',\n",
      "  'tomorrow_date': '11 de diciembre de 2024'},\n",
      " {'amount_pesos': 44853,\n",
      "  'ask_for_payment_day': 'miércoles',\n",
      "  'bank_name': 'Banco Azteca',\n",
      "  'client_name': {'gender': 'm', 'name': 'Óscar René Guzmán'},\n",
      "  'current_date': '10 de diciembre de 2024',\n",
      "  'days_late': 49,\n",
      "  'name_of_the_agent': 'Raúl',\n",
      "  'system_current_date_time': 'martes 2024-12-10 10:29 AM',\n",
      "  'system_current_datetime_object': datetime.datetime(2024, 12, 10, 10, 29, 35, 945924),\n",
      "  'system_tomorrow_date': 'miércoles 2024-12-11',\n",
      "  'tomorrow_date': '11 de diciembre de 2024'},\n",
      " {'amount_pesos': 45873,\n",
      "  'ask_for_payment_day': 'miércoles',\n",
      "  'bank_name': 'Banco Azteca',\n",
      "  'client_name': {'gender': 'm', 'name': 'Iván Darío Castillo'},\n",
      "  'current_date': '10 de diciembre de 2024',\n",
      "  'days_late': 56,\n",
      "  'name_of_the_agent': 'Raúl',\n",
      "  'system_current_date_time': 'martes 2024-12-10 10:29 AM',\n",
      "  'system_current_datetime_object': datetime.datetime(2024, 12, 10, 10, 29, 35, 945924),\n",
      "  'system_tomorrow_date': 'miércoles 2024-12-11',\n",
      "  'tomorrow_date': '11 de diciembre de 2024'},\n",
      " {'amount_pesos': 7387,\n",
      "  'ask_for_payment_day': 'miércoles',\n",
      "  'bank_name': 'Banco Azteca',\n",
      "  'client_name': {'gender': 'm', 'name': 'Daniel Alexander García'},\n",
      "  'current_date': '10 de diciembre de 2024',\n",
      "  'days_late': 56,\n",
      "  'name_of_the_agent': 'Raúl',\n",
      "  'system_current_date_time': 'martes 2024-12-10 10:29 AM',\n",
      "  'system_current_datetime_object': datetime.datetime(2024, 12, 10, 10, 29, 35, 945924),\n",
      "  'system_tomorrow_date': 'miércoles 2024-12-11',\n",
      "  'tomorrow_date': '11 de diciembre de 2024'},\n",
      " {'amount_pesos': 9088,\n",
      "  'ask_for_payment_day': 'miércoles',\n",
      "  'bank_name': 'Banco Azteca',\n",
      "  'client_name': {'gender': 'f', 'name': 'Camila Martínez'},\n",
      "  'current_date': '10 de diciembre de 2024',\n",
      "  'days_late': 15,\n",
      "  'name_of_the_agent': 'Raúl',\n",
      "  'system_current_date_time': 'martes 2024-12-10 10:29 AM',\n",
      "  'system_current_datetime_object': datetime.datetime(2024, 12, 10, 10, 29, 35, 945924),\n",
      "  'system_tomorrow_date': 'miércoles 2024-12-11',\n",
      "  'tomorrow_date': '11 de diciembre de 2024'},\n",
      " {'amount_pesos': 15072,\n",
      "  'ask_for_payment_day': 'miércoles',\n",
      "  'bank_name': 'Banco Azteca',\n",
      "  'client_name': {'gender': 'm', 'name': 'Diego Emiliano Ramírez'},\n",
      "  'current_date': '10 de diciembre de 2024',\n",
      "  'days_late': 5,\n",
      "  'name_of_the_agent': 'Raúl',\n",
      "  'system_current_date_time': 'martes 2024-12-10 10:29 AM',\n",
      "  'system_current_datetime_object': datetime.datetime(2024, 12, 10, 10, 29, 35, 945924),\n",
      "  'system_tomorrow_date': 'miércoles 2024-12-11',\n",
      "  'tomorrow_date': '11 de diciembre de 2024'},\n",
      " {'amount_pesos': 14094,\n",
      "  'ask_for_payment_day': 'miércoles',\n",
      "  'bank_name': 'Banco Azteca',\n",
      "  'client_name': {'gender': 'f', 'name': 'Natalia Herrera'},\n",
      "  'current_date': '10 de diciembre de 2024',\n",
      "  'days_late': 37,\n",
      "  'name_of_the_agent': 'Raúl',\n",
      "  'system_current_date_time': 'martes 2024-12-10 10:29 AM',\n",
      "  'system_current_datetime_object': datetime.datetime(2024, 12, 10, 10, 29, 35, 945924),\n",
      "  'system_tomorrow_date': 'miércoles 2024-12-11',\n",
      "  'tomorrow_date': '11 de diciembre de 2024'},\n",
      " {'amount_pesos': 27337,\n",
      "  'ask_for_payment_day': 'miércoles',\n",
      "  'bank_name': 'Banco Azteca',\n",
      "  'client_name': {'gender': 'm', 'name': 'Mauricio Andrade'},\n",
      "  'current_date': '10 de diciembre de 2024',\n",
      "  'days_late': 29,\n",
      "  'name_of_the_agent': 'Raúl',\n",
      "  'system_current_date_time': 'martes 2024-12-10 10:29 AM',\n",
      "  'system_current_datetime_object': datetime.datetime(2024, 12, 10, 10, 29, 35, 945924),\n",
      "  'system_tomorrow_date': 'miércoles 2024-12-11',\n",
      "  'tomorrow_date': '11 de diciembre de 2024'}]\n"
     ]
    }
   ],
   "execution_count": 16
  },
  {
   "metadata": {
    "ExecuteTime": {
     "end_time": "2024-12-10T15:29:39.267501Z",
     "start_time": "2024-12-10T15:29:39.264428Z"
    }
   },
   "cell_type": "code",
   "source": [
    "# create an instance of the AztecaBot\n",
    "bot = cs.AztecaBot()\n",
    "print(bot.default_chat_flux)"
   ],
   "id": "6c43196f5a2b0c72",
   "outputs": [
    {
     "name": "stdout",
     "output_type": "stream",
     "text": [
      "[[True, True, True, False, False, False, False, False, False, False, False], [True, True, False, False, False, False, False, False, False, False, False], [True, True, False, True, False, False, False, False, False, False, False], [True, False, False, False, True, True, False, False, False, False, False], [True, False, False, False, True, False, False, False, False, False, False], [True, False, False, False, True, False, True, False, False, False, False], [True, False, False, False, False, False, False, True, True, False, False], [True, False, False, False, False, False, False, True, False, False, False], [True, False, False, False, False, False, False, True, False, True, False], [True, False, False, False, False, False, False, False, False, False, False], [False, False, False, False, False, False, False, False, False, False, True], [False, False, False, False, False, False, False, False, False, False, False]]\n"
     ]
    }
   ],
   "execution_count": 17
  },
  {
   "metadata": {},
   "cell_type": "markdown",
   "source": "Create the train dataset for gpt-4o-mini fine tuning",
   "id": "98dc1c61b0048546"
  },
  {
   "metadata": {
    "ExecuteTime": {
     "end_time": "2024-12-10T15:29:54.222578Z",
     "start_time": "2024-12-10T15:29:54.138805Z"
    }
   },
   "cell_type": "code",
   "source": [
    "cs.FineTuningDataset.create_dataset(\n",
    "    entries=train_entries,\n",
    "    chatbot=bot,\n",
    "    chat_flux=bot.default_chat_flux,\n",
    "    generate_weights=True, #all weights have the value of 1 by default\n",
    "    filename=\"train_azteca_v4.jsonl\"\n",
    ")"
   ],
   "id": "126643d737eec523",
   "outputs": [
    {
     "name": "stdout",
     "output_type": "stream",
     "text": [
      "Dataset created successfully and saved in train_azteca_v4.jsonl\n"
     ]
    }
   ],
   "execution_count": 18
  },
  {
   "metadata": {},
   "cell_type": "markdown",
   "source": "Create the test dataset for gpt-4o-mini fine tuning",
   "id": "5a6eecf623bb6cd0"
  },
  {
   "metadata": {
    "ExecuteTime": {
     "end_time": "2024-12-10T15:25:21.012455Z",
     "start_time": "2024-12-10T15:25:20.985439Z"
    }
   },
   "cell_type": "code",
   "source": [
    "cs.FineTuningDataset.create_dataset(\n",
    "    entries=test_entries,\n",
    "    chatbot=bot,\n",
    "    chat_flux=bot.default_chat_flux,\n",
    "    filename=\"test_azteca_v4.jsonl\"\n",
    ")"
   ],
   "id": "a3d0e4b03652bbf1",
   "outputs": [
    {
     "name": "stdout",
     "output_type": "stream",
     "text": [
      "Dataset created successfully and saved in test_azteca_v4.jsonl\n"
     ]
    }
   ],
   "execution_count": 9
  },
  {
   "metadata": {},
   "cell_type": "markdown",
   "source": [
    "### Analyze Assistant Responses Patterns\n",
    "\n",
    "Perform an analysis of the amount of responses given an 'assistant' pattern. If there are more responses of certain assistant pattern there is more probability that the model learns quickly that specific assistant response."
   ],
   "id": "8790abdef865b7ca"
  },
  {
   "metadata": {
    "ExecuteTime": {
     "end_time": "2024-12-10T15:25:46.563553Z",
     "start_time": "2024-12-10T15:25:46.553284Z"
    }
   },
   "cell_type": "code",
   "source": [
    "patterns = bot.assistant_patterns\n",
    "pattern_statistics = cs.FineTuningDataset.analyze_dataset_patterns(\"train_azteca_v1.jsonl\", patterns)"
   ],
   "id": "7db692ccd2b3dbd6",
   "outputs": [],
   "execution_count": 10
  },
  {
   "metadata": {
    "ExecuteTime": {
     "end_time": "2024-12-10T15:25:51.539809Z",
     "start_time": "2024-12-10T15:25:51.536898Z"
    }
   },
   "cell_type": "code",
   "source": "print(\"Pattern statistics:\", pattern_statistics)",
   "id": "d58131269d0d2593",
   "outputs": [
    {
     "name": "stdout",
     "output_type": "stream",
     "text": [
      "Pattern statistics: {'greeting': 384, 'primary_info': 320, 'amount_reconfirmation': 288, 'final_reconfirmation': 192, 'ask_for_tomorrow_pay': 192, 'contact_you_later': 128, 'first_attempt_agreement': 224, 'second_attempt_agreement': 128, 'ask_for_line_holder': 64, 'ask_for_callback': 32, 'wrong_person': 32}\n"
     ]
    }
   ],
   "execution_count": 11
  },
  {
   "metadata": {},
   "cell_type": "markdown",
   "source": [
    "### Configure the weights of the Assistant Responses\n",
    "Configure the weights for OpenAI chat completion format: 0 for a content that is no longer needed in order to train the model; 1 for a content that the model still needs to learn. In example the 'greeting' pattern appears in 100% of the conversations, its spected that the model learns "
   ],
   "id": "3c12bd04b240f43a"
  },
  {
   "metadata": {
    "ExecuteTime": {
     "end_time": "2024-12-10T15:31:24.225228Z",
     "start_time": "2024-12-10T15:31:24.221977Z"
    }
   },
   "cell_type": "code",
   "source": [
    "assistant_thresholds_config = {\n",
    "    \"greeting\": 1,  # After 70% of the dataset, set weight to 0. Set the 30% of the dataset with weight = 0\n",
    "    \"primary_info\": 1,  # After 70% of the dataset, set weight to 0. Set the 30% of the dataset with weight = 0\n",
    "    \"amount_reconfirmation\": 1, # After 100% of the dataset, set weight to 0. Set the 0% of the dataset with weight = 0\n",
    "    \"final_reconfirmation\": 1, \n",
    "    \"ask_for_tomorrow_pay\": 1,\n",
    "    \"contact_you_later\": 1,\n",
    "    \"first_attempt_agreement\": 1,\n",
    "    \"second_attempt_agreement\": 1,\n",
    "    \"ask_for_line_holder\": 1,\n",
    "    \"ask_for_callback\": 1,\n",
    "    \"wrong_person\": 1\n",
    "}\n",
    "patterns = bot.assistant_patterns"
   ],
   "id": "31e395b8f82abcaa",
   "outputs": [],
   "execution_count": 19
  },
  {
   "metadata": {
    "ExecuteTime": {
     "end_time": "2024-12-09T16:49:23.658401Z",
     "start_time": "2024-12-09T16:49:23.610856Z"
    }
   },
   "cell_type": "code",
   "source": [
    "cs.FineTuningDataset.adjust_weights_by_line(\n",
    "    input_file=\"train_azteca_v1.jsonl\", \n",
    "    output_file=\"train_azteca_weight.jsonl\", \n",
    "    thresholds=assistant_thresholds_config, \n",
    "    patterns=patterns\n",
    ")"
   ],
   "id": "472c883efe3bd29c",
   "outputs": [
    {
     "name": "stdout",
     "output_type": "stream",
     "text": [
      "Dataset processed successfully. Saved to train_azteca_weight.jsonl.\n"
     ]
    }
   ],
   "execution_count": 15
  },
  {
   "metadata": {},
   "cell_type": "code",
   "outputs": [],
   "execution_count": null,
   "source": "\n",
   "id": "a79aa2640f9f1285"
  }
 ],
 "metadata": {
  "kernelspec": {
   "display_name": "Python 3",
   "language": "python",
   "name": "python3"
  },
  "language_info": {
   "codemirror_mode": {
    "name": "ipython",
    "version": 2
   },
   "file_extension": ".py",
   "mimetype": "text/x-python",
   "name": "python",
   "nbconvert_exporter": "python",
   "pygments_lexer": "ipython2",
   "version": "2.7.6"
  }
 },
 "nbformat": 4,
 "nbformat_minor": 5
}
