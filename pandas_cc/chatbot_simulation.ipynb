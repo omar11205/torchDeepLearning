{
 "cells": [
  {
   "cell_type": "code",
   "id": "initial_id",
   "metadata": {
    "collapsed": true,
    "ExecuteTime": {
     "end_time": "2024-11-19T17:59:18.676875Z",
     "start_time": "2024-11-19T17:59:18.672873Z"
    }
   },
   "source": [
    "import locale\n",
    "from datetime import datetime, timedelta\n",
    "import json\n",
    "import random"
   ],
   "outputs": [],
   "execution_count": 1
  },
  {
   "metadata": {
    "ExecuteTime": {
     "end_time": "2024-11-19T17:59:22.446100Z",
     "start_time": "2024-11-19T17:59:22.434477Z"
    }
   },
   "cell_type": "code",
   "source": [
    "random.seed(42)\n",
    "locale.setlocale(locale.LC_ALL, \"es_ES\")\n",
    "\n",
    "date = datetime.now().strftime(\"%B %d de %Y\").capitalize()\n",
    "name = \"Raúl\"\n",
    "print(date)"
   ],
   "id": "b443eb58e14a6a66",
   "outputs": [
    {
     "name": "stdout",
     "output_type": "stream",
     "text": [
      "Noviembre 19 de 2024\n"
     ]
    }
   ],
   "execution_count": 2
  },
  {
   "metadata": {
    "ExecuteTime": {
     "end_time": "2024-11-19T17:59:48.967087Z",
     "start_time": "2024-11-19T17:59:48.963655Z"
    }
   },
   "cell_type": "code",
   "source": [
    "agent_names = [\"Raúl\", \"Carla\", \"Jorge\", \"Ana\", \"Luis\", \"María\", \"Pedro\", \"Laura\", \"José\", \"Elena\"]\n",
    "raul = [agent_names[0]]"
   ],
   "id": "3db92346dbab9308",
   "outputs": [],
   "execution_count": 3
  },
  {
   "metadata": {
    "ExecuteTime": {
     "end_time": "2024-11-19T18:00:03.857866Z",
     "start_time": "2024-11-19T18:00:03.833858Z"
    }
   },
   "cell_type": "code",
   "source": [
    "client_names = [{\"name\": \"Héctor Delgado\", \"gender\": \"m\"}, {\"name\":\"Sofía Gómez\", \"gender\": \"f\"}, {\"name\": \"Carlos Pérez\", \"gender\": \"m\"}, {\"name\": \"Laura Rodríguez\", \"gender\": \"f\"},\n",
    " {\"name\": \"Diego Martínez\", \"gender\":\"m\"},{\"name\": \"Ana López\", \"gender\": \"f\"},{\"name\": \"Juan Rodríguez\", \"gender\": \"m\"},{\"name\": \"Lucía Torres\", \"gender\": \"f\"},\n",
    "  {\"name\": \"Fernando Díaz\", \"gender\": \"m\"},{\"name\": \"Raquel Herrera\", \"gender\": \"f\"},{\"name\": \"Alejandra Sánchez\", \"gender\": \"f\"},{\"name\": \"Roberto Gutiérrez\", \"gender\": \"m\"}, {\"name\": \"Valentina Morales\", \"gender\": \"f\"},\n",
    "{\"name\": \"Javier Reyes\", \"gender\": \"m\"}, {\"name\": \"Camila Vargas\", \"gender\": \"f\"}, {\"name\": \"Isabella Ramos\", \"gender\": \"f\"}, {\"name\": \"Eduardo Flores\", \"gender\": \"m\"}, {\"name\": \"Valeria Jiménez\", \"gender\": \"f\"}, {\"name\": \"Gabriel Díaz\", \"gender\": \"m\"},\n",
    "{\"name\": \"Andrés Castillo\", \"gender\": \"m\"},{\"name\": \"Sofía Aguilar\", \"gender\": \"f\"},{\"name\": \"Miguel Ángel Rosales\", \"gender\": \"m\"},{\"name\": \"Mía Ramírez\", \"gender\": \"f\"}, {\"name\": \"Daniel Méndez\", \"gender\": \"m\"}, {\"name\": \"Emilia Hernández\", \"gender\": \"f\"}, {\"name\": \"Pedro Soto\", \"gender\": \"m\"},\n",
    "{\"name\": \"Isabela Ríos\", \"gender\": \"f\"}, {\"name\": \"Mateo Navarro\", \"gender\": \"m\"}, {\"name\": \"Lucía Guzmán\", \"gender\": \"f\"},{\"name\": \"Sebastián Herrera\", \"gender\": \"m\"},{\"name\": \"Mariana Flores\", \"gender\": \"f\"},{\"name\": \"Francisco Muñoz\", \"gender\": \"m\"},\n",
    "{\"name\": \"Fernanda Moreno\", \"gender\": \"f\"},{\"name\": \"Ángel Camacho\", \"gender\": \"m\"},{\"name\": \"Gabriela Ortiz\", \"gender\": \"f\"},{\"name\": \"David Cortés\", \"gender\": \"m\"},{\"name\": \"Ana Vega\", \"gender\": \"f\"},{\"name\": \"Julio Benavides\", \"gender\": \"m\"},{\"name\": \"María José Guerrero\", \"gender\": \"f\"},{\"name\": \"Pablo Domínguez\", \"gender\": \"m\"},{\"name\": \"Sara Nieto\", \"gender\": \"f\"},\n",
    "{\"name\": \"Cristian Acosta\", \"gender\": \"m\"},{\"name\": \"Natalia Carreño\", \"gender\": \"f\"},{\"name\": \"Jorge Ibarra\", \"gender\": \"m\"},{\"name\": \"Daniela Gómez\", \"gender\": \"f\"},{\"name\": \"Rodrigo Morales\", \"gender\": \"m\"},\n",
    "{\"name\": \"Carla Hernández\", \"gender\": \"f\"},{\"name\": \"Enrique Castillo\", \"gender\": \"m\"},{\"name\": \"Mariana Fuentes\", \"gender\": \"f\"},{\"name\": \"Alejandro Ramírez\", \"gender\": \"m\"},\n",
    "{\"name\": \"Guadalupe Zárate\", \"gender\": \"f\"},{\"name\": \"José Luis Ochoa\", \"gender\": \"m\"},{\"name\": \"Socorro Quintana\", \"gender\": \"f\"},{\"name\": \"Rigoberto Rangel\", \"gender\": \"m\"},{\"name\": \"Xóchitl Medrano\", \"gender\": \"f\"},\n",
    "{\"name\": \"Cuauhtémoc Galván\", \"gender\": \"m\"},{\"name\": \"Citlalli Mondragón\", \"gender\": \"f\"},{\"name\": \"Ignacio Quiroz\", \"gender\": \"m\"},{\"name\": \"Itzel Villalobos\", \"gender\": \"f\"},{\"name\": \"Jesús Hinojosa\", \"gender\": \"m\"},\n",
    "{\"name\": \"Marisol Quezada\", \"gender\": \"f\"},{\"name\": \"Porfirio Escobar\", \"gender\": \"m\"},{\"name\": \"Yolanda Tamayo\", \"gender\": \"f\"},{\"name\": \"Benito Garza\", \"gender\": \"m\"},{\"name\": \"Lupita Ordóñez\", \"gender\": \"f\"},{\"name\": \"Chuy Mascareño\", \"gender\": \"m\"},\n",
    "{\"name\": \"Araceli Sepúlveda\", \"gender\": \"f\"},{\"name\": \"Pancho Treviño\", \"gender\": \"m\"},{\"name\": \"Dulce Villaseñor\", \"gender\": \"f\"},{\"name\": \"Timoteo Mendoza\", \"gender\": \"m\"},{\"name\": \"Esperanza Avalos\", \"gender\": \"f\"},{\"name\": \"Raymundo Olivas\", \"gender\": \"m\"},\n",
    "{\"name\": \"Yaretzi Durán\", \"gender\": \"f\"},{\"name\": \"Ciro Bustamante\", \"gender\": \"m\"},{\"name\": \"Refugio Almanza\", \"gender\": \"f\"},{\"name\": \"Bonifacio Meraz\", \"gender\": \"m\"},{\"name\": \"Luz María Rendón\", \"gender\": \"f\"},{\"name\": \"Nabor Escalante\", \"gender\": \"m\"},{\"name\": \"Concepción Padilla\", \"gender\": \"f\"},\n",
    "{\"name\": \"Abundio Nájera\", \"gender\": \"m\"}, {\"name\": \"Lourdes Frausto\", \"gender\": \"f\"}, {\"name\": \"Macario Solano\", \"gender\": \"m\"}, {\"name\": \"Soledad Cárdenas\", \"gender\": \"f\"},\n",
    "{\"name\": \"Tiburcio Ontiveros\", \"gender\": \"m\"}, {\"name\": \"Remedios Saldívar\", \"gender\": \"f\"}, {\"name\": \"Maximino Aguayo\", \"gender\": \"m\"}, {\"name\": \"Rosario Gaytán\", \"gender\": \"f\"},\n",
    "{\"name\": \"Filemón Palacios\", \"gender\": \"m\"}, {\"name\": \"Graciela Becerra\", \"gender\": \"f\"}, {\"name\": \"Hermenegildo Jaramillo\", \"gender\": \"m\"}, {\"name\": \"Santiago Hernández García\", \"gender\": \"m\"},\n",
    "{\"name\": \"María José López González\", \"gender\": \"f\"}, {\"name\": \"Mateo Martínez Pérez\", \"gender\": \"m\"}, {\"name\": \"Sofía Ramírez Cruz\", \"gender\": \"f\"}, {\"name\": \"Leonardo García Sánchez\", \"gender\": \"m\"},\n",
    "{\"name\": \"Valentina González Hernández\", \"gender\": \"f\"}, {\"name\": \"Sebastián Cruz Martínez\", \"gender\": \"m\"}, {\"name\": \"Ximena Rodríguez López\", \"gender\": \"f\"}, {\"name\": \"Emiliano Pérez González\", \"gender\": \"m\"},\n",
    "{\"name\": \"Regina Sánchez García\", \"gender\": \"f\"}, {\"name\": \"Miguel Ángel Hernández\", \"gender\": \"m\"}, {\"name\": \"María Fernanda López\", \"gender\": \"f\"}, {\"name\": \"Matías González\", \"gender\": \"m\"},\n",
    "{\"name\": \"Camila Martínez\", \"gender\": \"f\"}, {\"name\": \"Daniel Alexander García\", \"gender\": \"m\"}, {\"name\": \"Valeria Renata Pérez\", \"gender\": \"f\"}, {\"name\": \"Santiago Diego Ramírez\", \"gender\": \"m\"},\n",
    "{\"name\": \"Victoria Regina Cruz\", \"gender\": \"f\"}, {\"name\": \"Leonardo Matías Sánchez\", \"gender\": \"m\"}, {\"name\": \"Sofía Valentina Hernández\", \"gender\": \"f\"}, {\"name\": \"Emiliano Daniel García\", \"gender\": \"m\"},\n",
    "{\"name\": \"María José Ximena López\", \"gender\": \"f\"}, {\"name\": \"Sebastián Alexander González\", \"gender\": \"m\"}, {\"name\": \"Camila Victoria Martínez\", \"gender\": \"f\"}, {\"name\": \"Miguel Ángel Santiago Pérez\", \"gender\": \"m\"},\n",
    "{\"name\": \"Regina Valeria Rodríguez\", \"gender\": \"f\"}, {\"name\": \"Mateo Leonardo Cruz\", \"gender\": \"m\"}, {\"name\": \"María Fernanda Renata Sánchez\", \"gender\": \"f\"}, {\"name\": \"Diego Emiliano Ramírez\", \"gender\": \"m\"},\n",
    "{\"name\": \"Valentina Sofía García\", \"gender\": \"f\"}, {\"name\": \"Valeria Renata Pérez\", \"gender\": \"f\"}, {\"name\": \"Santiago Diego Ramírez\", \"gender\": \"m\"}, {\"name\": \"Victoria Regina Cruz\", \"gender\": \"f\"},\n",
    "{\"name\": \"Leonardo Matías Sánchez\", \"gender\": \"m\"}, {\"name\": \"Sofía Valentina Hernández\", \"gender\": \"f\"}, {\"name\": \"Emiliano Daniel García\", \"gender\": \"m\"}, {\"name\": \"María José Ximena López\", \"gender\": \"f\"},\n",
    "{\"name\": \"Sebastián Alexander González\", \"gender\": \"m\"}, {\"name\": \"Camila Victoria Martínez\", \"gender\": \"f\"}, {\"name\": \"Miguel Ángel Santiago Pérez\", \"gender\": \"m\"}, {\"name\": \"Regina Valeria Rodríguez\", \"gender\": \"f\"},\n",
    "{\"name\": \"Mateo Leonardo Cruz\", \"gender\": \"m\"}, {\"name\": \"María Fernanda Renata Sánchez\", \"gender\": \"f\"}, {\"name\": \"Diego Emiliano Ramírez\", \"gender\": \"m\"}, {\"name\": \"Valentina Sofía García\", \"gender\": \"f\"},\n",
    "{\"name\": \"José Ángel Hernández\", \"gender\": \"m\"}, {\"name\": \"Ana Sofía López\", \"gender\": \"f\"}, {\"name\": \"Carlos Eduardo González\", \"gender\": \"m\"}, {\"name\": \"Isabela Victoria Martínez\", \"gender\": \"f\"},\n",
    "{\"name\": \"Luis Fernando Ramírez\", \"gender\": \"m\"}, {\"name\": \"Mariana Alejandra Pérez\", \"gender\": \"f\"}, {\"name\": \"Daniel Santiago Cruz\", \"gender\": \"m\"}, {\"name\": \"Andrea Valeria Sánchez\", \"gender\": \"f\"},\n",
    "{\"name\": \"Juan Pablo Hernández\", \"gender\": \"m\"}, {\"name\": \"Emma Victoria García\", \"gender\": \"f\"}, {\"name\": \"Ricardo Emilio López\", \"gender\": \"m\"}, {\"name\": \"Luciana Valentina Rodríguez\", \"gender\": \"f\"},\n",
    "{\"name\": \"Ángel David Ramírez\", \"gender\": \"m\"}, {\"name\": \"María Guadalupe Martínez\", \"gender\": \"f\"}, {\"name\": \"Jorge Luis González\", \"gender\": \"m\"}, {\"name\": \"Natalia Camila Sánchez\", \"gender\": \"f\"},\n",
    "{\"name\": \"José Eduardo Pérez\", \"gender\": \"m\"}, {\"name\": \"Ariana Regina Cruz\", \"gender\": \"f\"}, {\"name\": \"Tomás Sebastián Hernández\", \"gender\": \"m\"}, {\"name\": \"Ximena Fernanda López\", \"gender\": \"f\"},\n",
    "{\"name\": \"Héctor Manuel Ramírez\", \"gender\": \"m\"}, {\"name\": \"Adriana Sofía García\", \"gender\": \"f\"}, {\"name\": \"Alejandro Matías González\", \"gender\": \"m\"}, {\"name\": \"Sara Isabela Martínez\", \"gender\": \"f\"},\n",
    "{\"name\": \"Iván Francisco Rodríguez\", \"gender\": \"m\"}, {\"name\": \"Miguel Sánchez\", \"gender\": \"m\"}, {\"name\": \"Isabel Morales\", \"gender\": \"f\"}, {\"name\": \"Javier Ortega\", \"gender\": \"m\"}, {\"name\": \"María Fernanda Ruiz\", \"gender\": \"f\"},\n",
    "{\"name\": \"Luis Gómez\", \"gender\": \"m\"}, {\"name\": \"Carmen García\", \"gender\": \"f\"}, {\"name\": \"Álvaro Castillo\", \"gender\": \"m\"}, {\"name\": \"Rocío Jiménez\", \"gender\": \"f\"},\n",
    "{\"name\": \"José Antonio Fernández\", \"gender\": \"m\"}, {\"name\": \"Elena Vargas\", \"gender\": \"f\"}, {\"name\": \"Andrés Ramírez\", \"gender\": \"m\"}, {\"name\": \"Victoria Medina\", \"gender\": \"f\"},\n",
    "{\"name\": \"Pedro García\", \"gender\": \"m\"}, {\"name\": \"Silvia Romero\", \"gender\": \"f\"}, {\"name\": \"Hugo Lozano\", \"gender\": \"m\"}, {\"name\": \"Natalia Cordero\", \"gender\": \"f\"},\n",
    "{\"name\": \"Daniel Márquez\", \"gender\": \"m\"}, {\"name\": \"Patricia Reyes\", \"gender\": \"f\"}, {\"name\": \"Francisco Rivas\", \"gender\": \"m\"}, {\"name\": \"Gabriela Vega\", \"gender\": \"f\"},\n",
    "{\"name\": \"Sebastián Rivera\", \"gender\": \"m\"}, {\"name\": \"Lorena López\", \"gender\": \"f\"}, {\"name\": \"Manuel Aguirre\", \"gender\": \"m\"}, {\"name\": \"Claudia Castro\", \"gender\": \"f\"},\n",
    "{\"name\": \"Ricardo Muñoz\", \"gender\": \"m\"}, {\"name\": \"Julia Navarro\", \"gender\": \"f\"}, {\"name\": \"David Paredes\", \"gender\": \"m\"}, {\"name\": \"Paula Santos\", \"gender\": \"f\"},\n",
    "{\"name\": \"Marcos Hernández\", \"gender\": \"m\"}, {\"name\": \"Alejandra Prieto\", \"gender\": \"f\"}, {\"name\": \"Óscar Delgado\", \"gender\": \"m\"}, {\"name\": \"Diana Cruz\", \"gender\": \"f\"},\n",
    "{\"name\": \"Cristian Flores\", \"gender\": \"m\"}, {\"name\": \"Verónica Castillo\", \"gender\": \"f\"}, {\"name\": \"Felipe Ramos\", \"gender\": \"m\"}, {\"name\": \"Beatriz Soto\", \"gender\": \"f\"},\n",
    "{\"name\": \"Ernesto León\", \"gender\": \"m\"}, {\"name\": \"Monica Peña\", \"gender\": \"f\"}, {\"name\": \"Victor Salinas\", \"gender\": \"m\"}, {\"name\": \"Camila Gutiérrez\", \"gender\": \"f\"},\n",
    "{\"name\": \"Rodrigo Valenzuela\", \"gender\": \"m\"}, {\"name\": \"Eva Márquez\", \"gender\": \"f\"}, {\"name\": \"Emilio Aranda\", \"gender\": \"m\"}, {\"name\": \"Teresa Ortiz\", \"gender\": \"f\"},\n",
    "{\"name\": \"Santiago Lara\", \"gender\": \"m\"}, {\"name\": \"Adriana Mejía\", \"gender\": \"f\"}, {\"name\": \"Tomás Moreno\", \"gender\": \"m\"}, {\"name\": \"Luciana Ramos\", \"gender\": \"f\"},\n",
    "{\"name\": \"Pablo Cruz\", \"gender\": \"m\"}, {\"name\": \"Valeria Ruiz\", \"gender\": \"f\"}, {\"name\": \"Luis García\", \"gender\": \"m\"}, {\"name\": \"María Sánchez\", \"gender\": \"f\"},\n",
    "{\"name\": \"Jorge Romero\", \"gender\": \"m\"}, {\"name\": \"Isabel Fernández\", \"gender\": \"f\"}, {\"name\": \"Miguel Castro\", \"gender\": \"m\"}, {\"name\": \"Clara Méndez\", \"gender\": \"f\"},\n",
    "{\"name\": \"Andrés Ortiz\", \"gender\": \"m\"}, {\"name\": \"Camila Ruiz\", \"gender\": \"f\"}, {\"name\": \"Francisco Jiménez\", \"gender\": \"m\"}, {\"name\": \"Valeria Morales\", \"gender\": \"f\"},\n",
    "{\"name\": \"Ricardo Vargas\", \"gender\": \"m\"}, {\"name\": \"Natalia Herrera\", \"gender\": \"f\"}, {\"name\": \"Álvaro Peña\", \"gender\": \"m\"}, {\"name\": \"Elena Paredes\", \"gender\": \"f\"},\n",
    "{\"name\": \"Tomás Gutiérrez\", \"gender\": \"m\"}, {\"name\": \"Rosa Navarro\", \"gender\": \"f\"}, {\"name\": \"Manuel Aguilar\", \"gender\": \"m\"}, {\"name\": \"Daniela Silva\", \"gender\": \"f\"},\n",
    "{\"name\": \"Pedro Cortés\", \"gender\": \"m\"}, {\"name\": \"Alicia Flores\", \"gender\": \"f\"}, {\"name\": \"Sebastián Campos\", \"gender\": \"m\"}, {\"name\": \"Paula Vega\", \"gender\": \"f\"},\n",
    "{\"name\": \"Gonzalo Reyes\", \"gender\": \"m\"}, {\"name\": \"Ángela Lozano\", \"gender\": \"f\"},{\"name\": \"Jaime Moreno\", \"gender\": \"m\"},{\"name\": \"Eva Guzmán\", \"gender\": \"f\"},\n",
    "{\"name\": \"Hugo Cabrera\", \"gender\": \"m\"},{\"name\": \"Carolina Castillo\", \"gender\": \"f\"},{\"name\": \"Marcos Espinoza\", \"gender\": \"m\"}, {\"name\": \"Silvia Blanco\", \"gender\": \"f\"},\n",
    "{\"name\": \"Roberto Salazar\", \"gender\": \"m\"},{\"name\": \"Beatriz Fuentes\", \"gender\": \"f\"},{\"name\": \"Victor Acosta\", \"gender\": \"m\"},{\"name\": \"Cristina Díaz\", \"gender\": \"f\"},\n",
    "{\"name\": \"Oscar Naranjo\", \"gender\": \"m\"},{\"name\": \"Lorena Pastor\", \"gender\": \"f\"}, {\"name\": \"Fabián Medina\", \"gender\": \"m\"},{\"name\": \"Marta Cabrera\", \"gender\": \"f\"},\n",
    "{\"name\": \"Enrique Serrano\", \"gender\": \"m\"},{\"name\": \"Noelia Ibáñez\", \"gender\": \"f\"},{\"name\": \"Ramón Mendoza\", \"gender\": \"m\"},{\"name\": \"Patricia Santana\", \"gender\": \"f\"},\n",
    "{\"name\": \"Alejandro Escobar\", \"gender\": \"m\"},{\"name\": \"Sandra Bautista\", \"gender\": \"f\"}, {\"name\": \"Esteban Rivas\", \"gender\": \"m\"},{\"name\": \"Verónica Domínguez\", \"gender\": \"f\"},\n",
    "{\"name\": \"Iván Molina\", \"gender\": \"m\"},{\"name\": \"Gloria Aranda\", \"gender\": \"f\"},{\"name\": \"Cristóbal Pacheco\", \"gender\": \"m\"},{\"name\": \"Julia Barrera\", \"gender\": \"f\"},\n",
    "{\"name\": \"Regina Castro\", \"gender\": \"f\"}, {\"name\": \"Ricardo Ortega\", \"gender\": \"m\"}, {\"name\": \"Victoria Luna\", \"gender\": \"f\"}, {\"name\": \"Antonio Medina\", \"gender\": \"m\"},\n",
    "{\"name\": \"Paula Quintana\", \"gender\": \"f\"}, {\"name\": \"José Luis Moreno\", \"gender\": \"m\"}, {\"name\": \"Carmen Miranda\", \"gender\": \"f\"}, {\"name\": \"Arturo Vega\", \"gender\": \"m\"},\n",
    "{\"name\": \"Elena Palacios\", \"gender\": \"f\"}, {\"name\": \"Manuel Ochoa\", \"gender\": \"m\"}, {\"name\": \"Beatriz Cordero\", \"gender\": \"f\"}, {\"name\": \"Guillermo Paredes\", \"gender\": \"m\"},\n",
    "{\"name\": \"Diana Escobar\", \"gender\": \"f\"}, {\"name\": \"Raúl Mendoza\", \"gender\": \"m\"}, {\"name\": \"Julia Campos\", \"gender\": \"f\"}, {\"name\": \"Adrián Rivas\", \"gender\": \"m\"},\n",
    "{\"name\": \"Daniela Coronado\", \"gender\": \"f\"}, {\"name\": \"Xavier Guerrero\", \"gender\": \"m\"}, {\"name\": \"Natalia Fuentes\", \"gender\": \"f\"}, {\"name\": \"Felipe Rojas\", \"gender\": \"m\"},\n",
    "{\"name\": \"Carolina Acosta\", \"gender\": \"f\"}, {\"name\": \"Ernesto Valle\", \"gender\": \"m\"}, {\"name\": \"Patricia Duarte\", \"gender\": \"f\"}, {\"name\": \"Leonardo Silva\", \"gender\": \"m\"},\n",
    "{\"name\": \"Marina Espinoza\", \"gender\": \"f\"}, {\"name\": \"Óscar Varela\", \"gender\": \"m\"}, {\"name\": \"Rosa Montoya\", \"gender\": \"f\"}, {\"name\": \"Ignacio Bustamante\", \"gender\": \"m\"},\n",
    "{\"name\": \"Andrea Ponce\", \"gender\": \"f\"}, {\"name\": \"Tomás Contreras\", \"gender\": \"m\"}, {\"name\": \"Mónica Salazar\", \"gender\": \"f\"}, {\"name\": \"Hugo Zamora\", \"gender\": \"m\"},\n",
    "{\"name\": \"Catalina Ortiz\", \"gender\": \"f\"}, {\"name\": \"Julio Cárdenas\", \"gender\": \"m\"}, {\"name\": \"Daniela García\", \"gender\": \"f\"}, {\"name\": \"Ricardo Moreno\", \"gender\": \"m\"},\n",
    "{\"name\": \"Evelyn Martínez\", \"gender\": \"f\"}, {\"name\": \"Leonardo López\", \"gender\": \"m\"}, {\"name\": \"Ximena Gómez\", \"gender\": \"f\"}, {\"name\": \"Cristian Ramírez\", \"gender\": \"m\"},\n",
    "{\"name\": \"Natalia Pérez\", \"gender\": \"f\"}, {\"name\": \"Jorge Díaz\", \"gender\": \"m\"}, {\"name\": \"Gabriela Torres\", \"gender\": \"f\"}, {\"name\": \"Alejandro Sánchez\", \"gender\": \"m\"},\n",
    "{\"name\": \"Valeria Velásquez\", \"gender\": \"f\"}, {\"name\": \"Óscar Reyes\", \"gender\": \"m\"}, {\"name\": \"Leticia Hernández\", \"gender\": \"f\"}, {\"name\": \"Marcos Flores\", \"gender\": \"m\"},\n",
    "{\"name\": \"Sandra Navarro\", \"gender\": \"f\"}, {\"name\": \"Ernesto Aguilar\", \"gender\": \"m\"}, {\"name\": \"Cinthia Vargas\", \"gender\": \"f\"}, {\"name\": \"Luis Fernando Gutiérrez\", \"gender\": \"m\"},\n",
    "{\"name\": \"Mónica Jiménez\", \"gender\": \"f\"}, {\"name\": \"José Carlos Ruiz\", \"gender\": \"m\"}, {\"name\": \"Andrea Morales\", \"gender\": \"f\"}, {\"name\": \"Felipe Salazar\", \"gender\": \"m\"},\n",
    "{\"name\": \"Karina Rodríguez\", \"gender\": \"f\"}, {\"name\": \"Gonzalo Martín\", \"gender\": \"m\"}, {\"name\": \"Luz Marina Ibarra\", \"gender\": \"f\"}, {\"name\": \"Hugo López\", \"gender\": \"m\"},\n",
    "{\"name\": \"Verónica Soto\", \"gender\": \"f\"}, {\"name\": \"Esteban Álvarez\", \"gender\": \"m\"}, {\"name\": \"Marcela Rincón\", \"gender\": \"f\"}, {\"name\": \"César Patiño\", \"gender\": \"m\"},\n",
    "{\"name\": \"Paula Escobar\", \"gender\": \"f\"}, {\"name\": \"Juan Pablo Montoya\", \"gender\": \"m\"}, {\"name\": \"Angélica Osorio\", \"gender\": \"f\"}, {\"name\": \"Luis Enrique Arias\", \"gender\": \"m\"},\n",
    "{\"name\": \"Diana Patricia Gómez\", \"gender\": \"f\"}, {\"name\": \"Jhon Jairo Vélez\", \"gender\": \"m\"}, {\"name\": \"Luisa Fernanda Díaz Torres\", \"gender\": \"f\"}, {\"name\": \"Julián Alejandro Reyes\", \"gender\": \"m\"},\n",
    "{\"name\": \"Gabriela Guadalupe Moreno\", \"gender\": \"f\"}, {\"name\": \"Cristóbal Antonio Rivas\", \"gender\": \"m\"}, {\"name\": \"Jimena Elizabeth Álvarez\", \"gender\": \"f\"}, {\"name\": \"Gonzalo Esteban Morales\", \"gender\": \"m\"},\n",
    "{\"name\": \"Paula Sofía Gómez\", \"gender\": \"f\"}, {\"name\": \"Rafael Leonardo Santos\", \"gender\": \"m\"}, {\"name\": \"Evelyn Nicole Vargas\", \"gender\": \"f\"}, {\"name\": \"Iván Darío Castillo\", \"gender\": \"m\"},\n",
    "{\"name\": \"Luciana Paola Hernández\", \"gender\": \"f\"}, {\"name\": \"Diego Julián Cárdenas\", \"gender\": \"m\"}, {\"name\": \"Natalia Valeria Ramírez\", \"gender\": \"f\"}, {\"name\": \"Sergio Andrés García\", \"gender\": \"m\"},\n",
    "{\"name\": \"Andrea Gabriela López\", \"gender\": \"f\"}, {\"name\": \"Kevin Antonio Martínez\", \"gender\": \"m\"}, {\"name\": \"Daniela Patricia Díaz\", \"gender\": \"f\"}, {\"name\": \"Óscar René Guzmán\", \"gender\": \"m\"},\n",
    "{\"name\": \"Miriam Elizabeth Sánchez\", \"gender\": \"f\"}, {\"name\": \"Jorge Luis Torres\", \"gender\": \"m\"}, {\"name\": \"Verónica Lucía Rodríguez\", \"gender\": \"f\"}, {\"name\": \"Carlos Eduardo Pérez\", \"gender\": \"m\"},\n",
    "{\"name\": \"Amanda Sofía Moreno\", \"gender\": \"f\"}, {\"name\": \"Juan Pablo Rivas\", \"gender\": \"m\"}, {\"name\": \"Isabella Rebeca Álvarez\", \"gender\": \"f\"}, {\"name\": \"Francisco Javier Morales\", \"gender\": \"m\"},\n",
    "{\"name\": \"Valeria Nicole Gómez\", \"gender\": \"f\"}, {\"name\": \"Héctor Miguel Santos\", \"gender\": \"m\"}, {\"name\": \"Cynthia Elizabeth Vargas\", \"gender\": \"f\"}, {\"name\": \"Alan Cristian Castillo\", \"gender\": \"m\"},\n",
    "{\"name\": \"Lizbeth Paola Hernández\", \"gender\": \"f\"}, {\"name\": \"Marco Antonio Cárdenas\", \"gender\": \"m\"}, {\"name\": \"Karina Valeria Ramírez\", \"gender\": \"f\"}, {\"name\": \"Enrique Andrés García\", \"gender\": \"m\"},\n",
    "{\"name\": \"Giselle Gabriela López\", \"gender\": \"f\"}, {\"name\": \"José Luis Martínez\", \"gender\": \"m\"}, {\"name\": \"Tatiana Patricia Díaz\", \"gender\": \"f\"}, {\"name\": \"Ricardo René Guzmán\", \"gender\": \"m\"},\n",
    "{\"name\": \"Marcela Elizabeth Sánchez\", \"gender\": \"f\"}, {\"name\": \"Pedro Luis Torres\", \"gender\": \"m\"}, {\"name\": \"Liliana Lucía Rodríguez\", \"gender\": \"f\"}, {\"name\": \"Alejandro Eduardo Pérez\", \"gender\": \"m\"},\n",
    "{\"name\": \"Brenda Sofía Moreno\", \"gender\": \"f\"}, {\"name\": \"Samuel Pablo Rivas\", \"gender\": \"m\"}, {\"name\": \"Rebeca Rebeca Álvarez\", \"gender\": \"f\"}, {\"name\": \"Jesús Javier Morales\", \"gender\": \"m\"},\n",
    "{\"name\": \"Alonso Quiroga\", \"gender\": \"m\"}, {\"name\": \"Renata Iglesias\", \"gender\": \"f\"}, {\"name\": \"Salvador Pacheco\", \"gender\": \"m\"}, {\"name\": \"Isabel Quintero\", \"gender\": \"f\"},\n",
    "{\"name\": \"Marcos Velasco\", \"gender\": \"m\"}, {\"name\": \"Ximena Cárdenas\", \"gender\": \"f\"}, {\"name\": \"Nicolás Arellano\", \"gender\": \"m\"}, {\"name\": \"Teresa Gallardo\", \"gender\": \"f\"},\n",
    "{\"name\": \"Bernardo Ulloa\", \"gender\": \"m\"}, {\"name\": \"Magdalena Barrios\", \"gender\": \"f\"}, {\"name\": \"Vicente Sepúlveda\", \"gender\": \"m\"}, {\"name\": \"Catalina Figueroa\", \"gender\": \"f\"}, {\"name\": \"Rodrigo Uribe\", \"gender\": \"m\"}, {\"name\": \"Olivia Zúñiga\", \"gender\": \"f\"},\n",
    "{\"name\": \"Cristóbal Montes\", \"gender\": \"m\"}, {\"name\": \"Maite Villalobos\", \"gender\": \"f\"}, {\"name\": \"Alberto Carvajal\", \"gender\": \"m\"}, {\"name\": \"Fernanda Osorio\", \"gender\": \"f\"},\n",
    "{\"name\": \"Ramón Betancourt\", \"gender\": \"m\"}, {\"name\": \"Luna Maldonado\", \"gender\": \"f\"}, {\"name\": \"Mauricio Andrade\", \"gender\": \"m\"}, {\"name\": \"Julieta Araya\", \"gender\": \"f\"},\n",
    "{\"name\": \"César Benavides\", \"gender\": \"m\"}, {\"name\": \"Antonia Valenzuela\", \"gender\": \"f\"}]"
   ],
   "id": "ab37839db35f13b5",
   "outputs": [],
   "execution_count": 4
  },
  {
   "metadata": {
    "ExecuteTime": {
     "end_time": "2024-11-19T18:00:07.336096Z",
     "start_time": "2024-11-19T18:00:07.333487Z"
    }
   },
   "cell_type": "code",
   "source": [
    "print(len(client_names))\n",
    "print(raul)"
   ],
   "id": "299954c1dab17f22",
   "outputs": [
    {
     "name": "stdout",
     "output_type": "stream",
     "text": [
      "400\n",
      "['Raúl']\n"
     ]
    }
   ],
   "execution_count": 5
  },
  {
   "metadata": {
    "ExecuteTime": {
     "end_time": "2024-11-19T18:01:45.078426Z",
     "start_time": "2024-11-19T18:01:45.073891Z"
    }
   },
   "cell_type": "code",
   "source": [
    "# Generate random entries for the dataset\n",
    "\n",
    "def generate_random_entries(ag_names, cli_names):\n",
    "    random.shuffle(ag_names)\n",
    "    random.shuffle(cli_names)\n",
    "    entries = []\n",
    "\n",
    "    for name in client_names:\n",
    "        # Randomly choose an agent and client name\n",
    "        name_of_the_agent = random.choice(ag_names)\n",
    "        client_name = name\n",
    "\n",
    "        # Generate a random number of days late and corresponding amount in pesos\n",
    "        days_late = random.randint(1, 60)  # e.g., 1 to 60 days late\n",
    "        amount_pesos = random.randint(1000, 50000)  # e.g., 1000 to 50000 pesos\n",
    "\n",
    "        # Generate current date and tomorrow's date\n",
    "        current_date = datetime.now().strftime(\"%d de %B de %Y\")  # E.g., \"Noviembre 14 de 2024\"\n",
    "        tomorrow_date = (datetime.now() + timedelta(days=1)).strftime(\"%d de %B de %Y\")\n",
    "\n",
    "        # Generate system current and tomorrow's date\n",
    "        system_current_date = datetime.now().strftime(\"%A %Y-%m-%d\")  # E.g: \"viernes 2024-11-16\"\n",
    "        system_tomorrow_date = (datetime.now() + timedelta(days=1)).strftime(\"%A %Y-%m-%d\")  # E.g \"sábado 2024-11-17\"\n",
    "        ask_for_payment_day = (datetime.now() + timedelta(days=1)).strftime(\"%A\")\n",
    "\n",
    "        # Append each generated entry as a dictionary\n",
    "        entries.append({\n",
    "            \"ask_for_payment_day\": ask_for_payment_day,\n",
    "            \"system_current_date\": system_current_date,\n",
    "            \"system_tomorrow_date\": system_tomorrow_date,\n",
    "            \"current_date\": current_date,\n",
    "            \"tomorrow_date\": tomorrow_date,\n",
    "            \"name_of_the_agent\": name_of_the_agent,\n",
    "            \"days_late\": days_late,\n",
    "            \"amount_pesos\": amount_pesos,\n",
    "            \"client_name\": client_name\n",
    "        })\n",
    "\n",
    "    return entries"
   ],
   "id": "ebdfef5a31c7ee5",
   "outputs": [],
   "execution_count": 6
  },
  {
   "metadata": {
    "ExecuteTime": {
     "end_time": "2024-11-19T18:01:46.620610Z",
     "start_time": "2024-11-19T18:01:46.610767Z"
    }
   },
   "cell_type": "code",
   "source": [
    "# Generate and print 120 random entries\n",
    "random_entries = generate_random_entries(raul, client_names)"
   ],
   "id": "8000bb9443c88dc",
   "outputs": [],
   "execution_count": 7
  },
  {
   "metadata": {
    "ExecuteTime": {
     "end_time": "2024-11-19T18:01:47.557887Z",
     "start_time": "2024-11-19T18:01:47.555049Z"
    }
   },
   "cell_type": "code",
   "source": "print(random_entries[0])",
   "id": "b0f4e9a0c3314bfc",
   "outputs": [
    {
     "name": "stdout",
     "output_type": "stream",
     "text": [
      "{'ask_for_payment_day': 'miércoles', 'system_current_date': 'martes 2024-11-19', 'system_tomorrow_date': 'miércoles 2024-11-20', 'current_date': '19 de noviembre de 2024', 'tomorrow_date': '20 de noviembre de 2024', 'name_of_the_agent': 'Raúl', 'days_late': 17, 'amount_pesos': 4329, 'client_name': {'name': 'Noelia Ibáñez', 'gender': 'f'}}\n"
     ]
    }
   ],
   "execution_count": 8
  },
  {
   "metadata": {
    "ExecuteTime": {
     "end_time": "2024-11-19T18:03:14.781038Z",
     "start_time": "2024-11-19T18:03:14.768630Z"
    }
   },
   "cell_type": "code",
   "source": [
    "# Define subroutine for reconfirmation block\n",
    "def corrected_reconfirmation_block(entry):\n",
    "      reconfirmation = []\n",
    "      reconfirmation.append({\"role\": \"assistant\", \"content\": f\"Recuerda que el monto a pagar es {entry['amount_pesos']} pesos para el día {entry['current_date']}. ¿Confirmamos tu pago completo?\"})\n",
    "      if random.choice([True, False]):\n",
    "          reconfirmation.append({\"role\": \"user\", \"content\": random.choice([\"si, confirmo el pago\", \"confirmo el pago completo para el día de hoy\", \"confirmo el pago\", \"confirmo el pago para esa fecha\", \"confirmo para hoy el pago\", \"si, para hoy\"])})\n",
    "          reconfirmation.append({\"role\": \"assistant\", \"content\": \"Genial, has confirmado tu pago. Puedes hacerlo en la app, sucursal o aliados como Wallmart. ¡Gracias por tu compromiso!\"})\n",
    "      else:\n",
    "          reconfirmation.append({\"role\": \"user\", \"content\": random.choice([\"no estoy seguro la verdad\", \"no se si pueda pagar hoy\", \"ahora que lo pensé la verdad no puedo\", \"no creo poder hoy\", \"no puedo tener mas tiempo?\", \"me puedes dar plazo para completar?\", f\"puedo pagar el {entry['ask_for_payment_day']}?\"])})\n",
    "          reconfirmation.append({\"role\": \"assistant\", \"content\": f\"¿Podrías realizar el pago mañana {entry['tomorrow_date']} de tu monto requerido?\"})\n",
    "          if random.choice([True, False]):\n",
    "              reconfirmation.append({\"role\": \"user\", \"content\": random.choice([\"si\", \"si claro\", f\"el {entry['ask_for_payment_day']} si puedo\", \"si claro no hay problema para mañana\", \"si, para mañana si puedo\", \"si puedo para mañana gracias\", \"gracias por el plazo, para mañana si puedo pagar\"])})\n",
    "              reconfirmation.append({\"role\": \"assistant\", \"content\": \"Genial, has confirmado tu pago. Puedes hacerlo en la app, sucursal o aliados como Wallmart. ¡Gracias por tu compromiso!\"})\n",
    "          else:\n",
    "              reconfirmation.append({\"role\": \"user\", \"content\": random.choice([\"no\", \"definitivamente no puedo tampoco para mañana\", \"ni siquiera para mañana puedo necesito más plazo\", \"no, no puede darme mas plazo?\", \"no puedo para mañana\", \"no podría ser para la siguiente semana?\"])})\n",
    "              reconfirmation.append({\"role\": \"assistant\", \"content\": \"Entendemos que no es el momento. Nos comunicamos más tarde. ¡Feliz día!\"})\n",
    "\n",
    "      return reconfirmation\n",
    "\n",
    "\n",
    "# gives the singular or plurar of the days late\n",
    "def plural_singular_day(entry):\n",
    "    if entry['days_late'] == 1:\n",
    "        return \"día\"\n",
    "    else:\n",
    "        return \"días\"\n",
    "\n",
    "\n",
    "# gives the positive client identity confirmation\n",
    "def confirmation_with_gender(entry):\n",
    "    if entry['client_name']['gender'] == \"m\":\n",
    "        return [\"si\", \"si, con el\", \"si el habla\", \"si con el\"]\n",
    "    elif entry['client_name']['gender'] == \"f\":\n",
    "        return [\"si\", \"si, con ella\", \"si ella habla\", \"si con ella\"]\n",
    "\n",
    "\n",
    "# gives the negative client identity confirmation\n",
    "def negative_confirmation_gender(entry):\n",
    "    if entry['client_name']['gender'] == \"m\":\n",
    "        return [\"no\", \"no señor\", \"no nabla con él\"]\n",
    "    elif entry['client_name']['gender'] == \"f\":\n",
    "        return [\"no\", \"no señor\", \"no habla con ella\"]\n",
    "\n",
    "\n",
    "# returns the name of the line holder\n",
    "def line_holder_gender(entry):\n",
    "    if entry['client_name']['gender'] == \"m\":\n",
    "        return f\"el titular de la línea es {entry['client_name']['name']}\"\n",
    "    elif entry['client_name']['gender'] == \"f\":\n",
    "        return f\"la titular de la línea es {entry['client_name']['name']}\"\n",
    "\n",
    "\n",
    "# returns a negative reconfirmation abouth the identity of the line holder\n",
    "def negative_reconfirmation_gender(entry):\n",
    "    if entry['client_name']['gender'] == \"m\":\n",
    "        return [\"no\", \"no conozco al señor que usted menciona\", \"no lo conozco\", f\"no conozco al señor {entry['client_name']['name']}\", \"no se a quién busca\", \"no se a quién se refiere\"]\n",
    "    elif entry['client_name']['gender'] == \"f\":\n",
    "        return [\"no\", \"no conozco a la señora que usted menciona\", \"no la conozco\", f\"no conozco a la señora {entry['client_name']['name']}\", \"no se a quién busca\", \"no se a quién se refiere\"]\n",
    "\n",
    "\n",
    "# generates the conversation for the client negative identity\n",
    "def negative_identity_confirmation_block(entry):\n",
    "    identity_confirmation = []\n",
    "    identity_confirmation.append({\"role\": \"user\", \"content\": random.choice(negative_confirmation_gender(entry))})\n",
    "    identity_confirmation.append({\"role\": \"assistant\", \"content\": \"¿Conoces al titular de la línea?\"})\n",
    "    if random.choice([True, False]):\n",
    "        identity_confirmation.append({\"role\": \"user\", \"content\": random.choice([\"si\", \"si le conozco\", \"si se a quién se refiere\", f\"{line_holder_gender(entry)}\"])})\n",
    "        identity_confirmation.append({\"role\": \"assistant\", \"content\": \"¿Podrías pedirle que se comunique con nosotros lo antes posible al 4775006675? Estamos disponibles de Lunes a domingo de 08:00am a 09:00pm. Agradecemos mucho tu ayuda. ¡Que tengas un buen día!\"})\n",
    "    else:\n",
    "        identity_confirmation.append({\"role\": \"user\", \"content\": random.choice(negative_reconfirmation_gender(entry))})\n",
    "        identity_confirmation.append({\"role\": \"assistant\", \"content\": \"Gracias por tu tiempo y atención Lamento la confusión, parece que no eres la persona que estamos buscando. Agradezco tu ayuda ¡Que tengas un excelente día!\"})\n",
    "\n",
    "    return identity_confirmation\n",
    "\n",
    "\n",
    "# generates the system prompt for the fine tunning\n",
    "def system_block(entry):\n",
    "    system_str = (\n",
    "      f\"Tu nombre es {entry['name_of_the_agent']} y trabajas para Cumplir SAS.\\n\"\n",
    "      f\"Tu tarea es comunicarte con los clientes con alta empatía y comprensión.\\n\"\n",
    "      f\"Información para esta conversación:\\n\"\n",
    "      f\"- Nombre Cliente: {entry['client_name']['name']}.\\n\"\n",
    "      f\"- Monto Adeudado: {entry['amount_pesos']} pesos mexicanos.\\n\"\n",
    "      f\"- Fecha de hoy: {entry['system_current_date']}.\\n\"\n",
    "      f\"- Días de atraso en el pago: {entry['days_late']}.\\n\"\n",
    "      f\"- Fecha de pago máxima: {entry['system_tomorrow_date']}.\"\n",
    "    )\n",
    "    return system_str\n",
    "\n",
    "\n",
    "# Generate a conversation based on one entry\n",
    "def generate_conversation(entry):\n",
    "    conversation = [\n",
    "        {\"role\": \"system\", \"content\": system_block(entry)},\n",
    "        {\"role\": \"user\", \"content\": random.choice([\"hola\", \"aló\", \"buenas\", \"bueno\"])},\n",
    "        {\"role\": \"assistant\", \"content\": f\"Buenas tardes, ¿me comunico con {entry['client_name']['name']}?\"}\n",
    "    ]\n",
    "\n",
    "    # identity confirmation\n",
    "    if random.choice([True, True, True, False]): # 75% of chance of find the client\n",
    "        conversation.append({\"role\": \"user\", \"content\": random.choice(confirmation_with_gender(entry))})\n",
    "        conversation.append({\"role\": \"assistant\", \"content\": f\"Perfecto, soy {entry['name_of_the_agent']} de Banco Azteca y estamos contactándole para informarte que tienes {entry['days_late']} {plural_singular_day(entry)} de atraso en tu cuenta y el saldo requerido para ponerla al día es de {entry['amount_pesos']} pesos. ¿Contamos con tu pago el día de hoy?\"})\n",
    "\n",
    "        # Choose user response to payment request\n",
    "        if random.choice([True, False]):  # Assume a 50% chance of \"yes\" or \"no\"\n",
    "            # Client agrees to pay today\n",
    "            conversation.append({\"role\": \"user\", \"content\": random.choice([\"Si\", \"si, Voy a pagar hoy\", \"si, cuente con el pago el día de hoy\"])})\n",
    "            conversation.extend(corrected_reconfirmation_block(entry))\n",
    "        else:\n",
    "            # Client cannot pay today, enter negotiation\n",
    "            conversation.append({\"role\": \"user\", \"content\": random.choice([\"No, no puedo para hoy\", \"no tengo tiempo para realizar el pago hoy\"])})\n",
    "            conversation.append({\"role\": \"assistant\", \"content\": f\"Entendemos que puede ser complicado, pero si no regularizas tu pago hoy, podrías enfrentar mayores cargos o restricciones. ¿Podemos confirmar tu pago el día de hoy {entry['current_date']}?\"})\n",
    "\n",
    "            if random.choice([True, False]):\n",
    "                # Client agrees to pay\n",
    "                conversation.append({\"role\": \"user\", \"content\": random.choice([\"ok, voy a pagar hoy\", \"esta bien, pago hoy\"])})\n",
    "                conversation.extend(corrected_reconfirmation_block(entry))\n",
    "            else:\n",
    "                # Client still cannot pay\n",
    "                conversation.append({\"role\": \"user\", \"content\": random.choice([\"definitivamente no puedo\", \"no tengo acceso a un punto de pago el día de hoy\", \"puedo pagar otro día\"])})\n",
    "                conversation.append({\"role\": \"assistant\", \"content\": \"Si no pagas hoy podrías recibir molestias en tus teléfonos y cargos adicionales. Te invitamos a resolverlo ahora. ¿Confirmamos tu pago hoy?\"})\n",
    "\n",
    "                if random.choice([True, False]):\n",
    "                    conversation.append({\"role\": \"user\", \"content\": random.choice([\"ok, voy a pagar hoy\", \"esta bien, ya voy a realizar el pago\"])})\n",
    "                    conversation.extend(corrected_reconfirmation_block(entry))\n",
    "                else:\n",
    "                    conversation.append({\"role\": \"user\", \"content\": random.choice([\"no puedo\", \"definitivamente no puedo pagar hoy\"])})\n",
    "                    conversation.append({\"role\": \"assistant\", \"content\": \"Entendemos que no es el momento. Nos comunicamos más tarde. ¡Feliz día!\"})\n",
    "\n",
    "    else:\n",
    "        conversation.extend(negative_identity_confirmation_block(entry))\n",
    "\n",
    "\n",
    "    return {\"messages\": conversation}\n",
    "\n",
    "\n",
    "# Generate dataset\n",
    "def create_dataset(dataset, filename=\"dataset3.jsonl\"):\n",
    "    with open(filename, 'w', encoding='utf-8') as f:\n",
    "        for entry in dataset:\n",
    "            conversation = generate_conversation(entry)\n",
    "            f.write(json.dumps(conversation, ensure_ascii=False) + \"\\n\")"
   ],
   "id": "b51d32e148e97304",
   "outputs": [],
   "execution_count": 9
  },
  {
   "metadata": {
    "ExecuteTime": {
     "end_time": "2024-11-19T18:03:18.381055Z",
     "start_time": "2024-11-19T18:03:18.291095Z"
    }
   },
   "cell_type": "code",
   "source": [
    "# Run dataset creation\n",
    "create_dataset(dataset=random_entries, filename=\"beta_dataset.jsonl\")\n",
    "print(\"Dataset created successfully.\")"
   ],
   "id": "186110a6e78f1b6f",
   "outputs": [
    {
     "name": "stdout",
     "output_type": "stream",
     "text": [
      "Dataset created successfully.\n"
     ]
    }
   ],
   "execution_count": 10
  },
  {
   "metadata": {},
   "cell_type": "code",
   "outputs": [],
   "execution_count": null,
   "source": "",
   "id": "73f89d3293e800ca"
  }
 ],
 "metadata": {
  "kernelspec": {
   "display_name": "Python 3",
   "language": "python",
   "name": "python3"
  },
  "language_info": {
   "codemirror_mode": {
    "name": "ipython",
    "version": 2
   },
   "file_extension": ".py",
   "mimetype": "text/x-python",
   "name": "python",
   "nbconvert_exporter": "python",
   "pygments_lexer": "ipython2",
   "version": "2.7.6"
  }
 },
 "nbformat": 4,
 "nbformat_minor": 5
}
