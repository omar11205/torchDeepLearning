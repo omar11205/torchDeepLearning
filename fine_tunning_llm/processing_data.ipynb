{
 "cells": [
  {
   "metadata": {},
   "cell_type": "code",
   "outputs": [],
   "execution_count": null,
   "source": [
    "import re\n",
    "import json\n",
    "import tkinter as tk\n",
    "from tkinter import filedialog"
   ],
   "id": "eb8b05904972e2ef"
  },
  {
   "cell_type": "code",
   "execution_count": null,
   "id": "initial_id",
   "metadata": {
    "collapsed": true
   },
   "outputs": [],
   "source": [
    "# Function to choose multiple input files\n",
    "def choose_files():\n",
    "    root = tk.Tk()\n",
    "    root.withdraw()\n",
    "    filepath = filedialog.askopenfilename(\n",
    "        title=\"Select Markdown files\",\n",
    "        filetypes=[(\"Markdown files\", \"*.md\"), (\"All Files\", \"*.*\")]\n",
    "    )\n",
    "    return filepath\n",
    "\n",
    "# Function to shoose the location to save the output file\n",
    "def save_file_dialog():\n",
    "    root = tk.Tk()\n",
    "    root.withdraw()\n",
    "    output_path = filedialog.asksaveasfilename(\n",
    "        title=\"Save Processed File\",\n",
    "        defaultextension=\".jsonl\",\n",
    "        filetypes=[(\"JSON Lines files\", \".jsonl\"), (\"All Files\", \"*.*\")]\n",
    "    ) \n",
    "    return output_path\n",
    "\n",
    "# Function to process the content by removing unwanted text and adjusting spacing\n",
    "def process_content(content):\n",
    "    content = re.sub(r'!\\[]')"
   ]
  }
 ],
 "metadata": {
  "kernelspec": {
   "display_name": "Python 3",
   "language": "python",
   "name": "python3"
  },
  "language_info": {
   "codemirror_mode": {
    "name": "ipython",
    "version": 2
   },
   "file_extension": ".py",
   "mimetype": "text/x-python",
   "name": "python",
   "nbconvert_exporter": "python",
   "pygments_lexer": "ipython2",
   "version": "2.7.6"
  }
 },
 "nbformat": 4,
 "nbformat_minor": 5
}
