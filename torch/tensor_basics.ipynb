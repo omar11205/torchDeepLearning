{
 "cells": [
  {
   "cell_type": "code",
   "id": "initial_id",
   "metadata": {
    "collapsed": true,
    "ExecuteTime": {
     "end_time": "2024-04-25T13:12:14.671204Z",
     "start_time": "2024-04-25T13:12:12.717180Z"
    }
   },
   "source": [
    "import torch\n",
    "import numpy as np"
   ],
   "outputs": [],
   "execution_count": 2
  },
  {
   "metadata": {
    "ExecuteTime": {
     "end_time": "2024-04-24T23:39:43.880183Z",
     "start_time": "2024-04-24T23:39:43.875254Z"
    }
   },
   "cell_type": "code",
   "source": "torch.__version__",
   "id": "ca608b31957c4369",
   "outputs": [
    {
     "data": {
      "text/plain": [
       "'2.2.2+cpu'"
      ]
     },
     "execution_count": 3,
     "metadata": {},
     "output_type": "execute_result"
    }
   ],
   "execution_count": 3
  },
  {
   "metadata": {
    "ExecuteTime": {
     "end_time": "2024-04-24T23:40:51.532771Z",
     "start_time": "2024-04-24T23:40:51.529112Z"
    }
   },
   "cell_type": "code",
   "source": [
    "arr = np.array(range(1,6))\n",
    "print(arr)"
   ],
   "id": "43e905e9ee611767",
   "outputs": [
    {
     "name": "stdout",
     "output_type": "stream",
     "text": [
      "[1 2 3 4 5]\n"
     ]
    }
   ],
   "execution_count": 6
  },
  {
   "metadata": {
    "ExecuteTime": {
     "end_time": "2024-04-24T23:42:34.401994Z",
     "start_time": "2024-04-24T23:42:34.398644Z"
    }
   },
   "cell_type": "code",
   "source": [
    "# create a tensor pointing the same memory location than the np array\n",
    "x = torch.from_numpy(arr)\n",
    "# torch.as_tensor(arr)\n",
    "type(x)"
   ],
   "id": "24fd3dd78aa8ff9d",
   "outputs": [
    {
     "data": {
      "text/plain": [
       "torch.Tensor"
      ]
     },
     "execution_count": 9,
     "metadata": {},
     "output_type": "execute_result"
    }
   ],
   "execution_count": 9
  },
  {
   "metadata": {
    "ExecuteTime": {
     "end_time": "2024-04-24T23:44:44.299131Z",
     "start_time": "2024-04-24T23:44:44.296273Z"
    }
   },
   "cell_type": "code",
   "source": [
    "# creating a torch 2d tensor from nparray (pointing the same memory location)\n",
    "arr2d = np.arange(0.0, 12.0).reshape(4, 3)"
   ],
   "id": "e919f969636bbf0b",
   "outputs": [],
   "execution_count": 10
  },
  {
   "metadata": {
    "ExecuteTime": {
     "end_time": "2024-04-24T23:44:57.874356Z",
     "start_time": "2024-04-24T23:44:57.871919Z"
    }
   },
   "cell_type": "code",
   "source": "x2 = torch.from_numpy(arr2d)",
   "id": "29e389ac93685511",
   "outputs": [],
   "execution_count": 11
  },
  {
   "metadata": {
    "ExecuteTime": {
     "end_time": "2024-04-24T23:45:04.972214Z",
     "start_time": "2024-04-24T23:45:04.968038Z"
    }
   },
   "cell_type": "code",
   "source": "x2",
   "id": "32039da5104a2425",
   "outputs": [
    {
     "data": {
      "text/plain": [
       "tensor([[ 0.,  1.,  2.],\n",
       "        [ 3.,  4.,  5.],\n",
       "        [ 6.,  7.,  8.],\n",
       "        [ 9., 10., 11.]], dtype=torch.float64)"
      ]
     },
     "execution_count": 12,
     "metadata": {},
     "output_type": "execute_result"
    }
   ],
   "execution_count": 12
  },
  {
   "metadata": {
    "ExecuteTime": {
     "end_time": "2024-04-24T23:46:26.263254Z",
     "start_time": "2024-04-24T23:46:26.260663Z"
    }
   },
   "cell_type": "code",
   "source": "arr[0] = 99",
   "id": "a537b9c8e39cfbf8",
   "outputs": [],
   "execution_count": 13
  },
  {
   "metadata": {
    "ExecuteTime": {
     "end_time": "2024-04-24T23:46:30.747148Z",
     "start_time": "2024-04-24T23:46:30.742758Z"
    }
   },
   "cell_type": "code",
   "source": "x",
   "id": "4c1990ec51d44414",
   "outputs": [
    {
     "data": {
      "text/plain": [
       "tensor([99,  2,  3,  4,  5], dtype=torch.int32)"
      ]
     },
     "execution_count": 14,
     "metadata": {},
     "output_type": "execute_result"
    }
   ],
   "execution_count": 14
  },
  {
   "metadata": {
    "ExecuteTime": {
     "end_time": "2024-04-24T23:51:28.028756Z",
     "start_time": "2024-04-24T23:51:28.025030Z"
    }
   },
   "cell_type": "code",
   "source": [
    "# creating a working copy\n",
    "my_arr = np.arange(0,10)\n",
    "my_tensor = torch.tensor(my_arr) #integer tensor\n",
    "my_tensor_f = torch.Tensor(my_arr) #flotating point tensor"
   ],
   "id": "702c708baa9b71a1",
   "outputs": [],
   "execution_count": 17
  },
  {
   "metadata": {
    "ExecuteTime": {
     "end_time": "2024-04-24T23:51:48.762539Z",
     "start_time": "2024-04-24T23:51:48.758949Z"
    }
   },
   "cell_type": "code",
   "source": "my_tensor.dtype",
   "id": "7c08b7e950b173f",
   "outputs": [
    {
     "data": {
      "text/plain": [
       "torch.int32"
      ]
     },
     "execution_count": 20,
     "metadata": {},
     "output_type": "execute_result"
    }
   ],
   "execution_count": 20
  },
  {
   "metadata": {
    "ExecuteTime": {
     "end_time": "2024-04-24T23:51:41.826919Z",
     "start_time": "2024-04-24T23:51:41.823543Z"
    }
   },
   "cell_type": "code",
   "source": "my_tensor_f.dtype",
   "id": "44ef275ac2463c66",
   "outputs": [
    {
     "data": {
      "text/plain": [
       "torch.float32"
      ]
     },
     "execution_count": 19,
     "metadata": {},
     "output_type": "execute_result"
    }
   ],
   "execution_count": 19
  },
  {
   "metadata": {
    "ExecuteTime": {
     "end_time": "2024-04-24T23:54:17.888704Z",
     "start_time": "2024-04-24T23:54:17.885143Z"
    }
   },
   "cell_type": "code",
   "source": [
    "# creating tensors with torch\n",
    "# uninitialized tensor (block of memory of size of the tensor)\n",
    "torch.empty(4,2)"
   ],
   "id": "6af41b6b612c84d4",
   "outputs": [
    {
     "data": {
      "text/plain": [
       "tensor([[0., 0.],\n",
       "        [0., 0.],\n",
       "        [0., 0.],\n",
       "        [0., 0.]])"
      ]
     },
     "execution_count": 23,
     "metadata": {},
     "output_type": "execute_result"
    }
   ],
   "execution_count": 23
  },
  {
   "metadata": {
    "ExecuteTime": {
     "end_time": "2024-04-24T23:55:13.407385Z",
     "start_time": "2024-04-24T23:55:13.403601Z"
    }
   },
   "cell_type": "code",
   "source": [
    "# zeros tensor \n",
    "torch.zeros(4,2, dtype=torch.int32)"
   ],
   "id": "81796f14da40856e",
   "outputs": [
    {
     "data": {
      "text/plain": [
       "tensor([[0, 0],\n",
       "        [0, 0],\n",
       "        [0, 0],\n",
       "        [0, 0]], dtype=torch.int32)"
      ]
     },
     "execution_count": 25,
     "metadata": {},
     "output_type": "execute_result"
    }
   ],
   "execution_count": 25
  },
  {
   "metadata": {
    "ExecuteTime": {
     "end_time": "2024-04-25T13:12:41.175054Z",
     "start_time": "2024-04-25T13:12:41.136058Z"
    }
   },
   "cell_type": "code",
   "source": "torch.ones(3, 3)",
   "id": "de26f61ff5b2ced2",
   "outputs": [
    {
     "data": {
      "text/plain": [
       "tensor([[1., 1., 1.],\n",
       "        [1., 1., 1.],\n",
       "        [1., 1., 1.]])"
      ]
     },
     "execution_count": 4,
     "metadata": {},
     "output_type": "execute_result"
    }
   ],
   "execution_count": 4
  },
  {
   "metadata": {
    "ExecuteTime": {
     "end_time": "2024-04-25T13:20:43.586351Z",
     "start_time": "2024-04-25T13:20:43.581948Z"
    }
   },
   "cell_type": "code",
   "source": "torch.linspace(2, 20, 10)",
   "id": "9c5852dd026ca894",
   "outputs": [
    {
     "data": {
      "text/plain": [
       "tensor([ 2.,  4.,  6.,  8., 10., 12., 14., 16., 18., 20.])"
      ]
     },
     "execution_count": 12,
     "metadata": {},
     "output_type": "execute_result"
    }
   ],
   "execution_count": 12
  },
  {
   "metadata": {
    "ExecuteTime": {
     "end_time": "2024-04-25T13:21:15.538515Z",
     "start_time": "2024-04-25T13:21:15.533135Z"
    }
   },
   "cell_type": "code",
   "source": "torch.arange(0, 18, 2).reshape(3, 3)",
   "id": "90e56e164528c182",
   "outputs": [
    {
     "data": {
      "text/plain": [
       "tensor([[ 0,  2,  4],\n",
       "        [ 6,  8, 10],\n",
       "        [12, 14, 16]])"
      ]
     },
     "execution_count": 13,
     "metadata": {},
     "output_type": "execute_result"
    }
   ],
   "execution_count": 13
  },
  {
   "metadata": {
    "ExecuteTime": {
     "end_time": "2024-04-25T13:22:40.582396Z",
     "start_time": "2024-04-25T13:22:40.576677Z"
    }
   },
   "cell_type": "code",
   "source": [
    "# changing precision \n",
    "my_ten = torch.tensor([1,2,3])\n",
    "print(my_ten.dtype)\n",
    "my_ten.type(torch.int32)"
   ],
   "id": "65bf41d93d664f8",
   "outputs": [
    {
     "name": "stdout",
     "output_type": "stream",
     "text": [
      "torch.int64\n"
     ]
    },
    {
     "data": {
      "text/plain": [
       "tensor([1, 2, 3], dtype=torch.int32)"
      ]
     },
     "execution_count": 14,
     "metadata": {},
     "output_type": "execute_result"
    }
   ],
   "execution_count": 14
  },
  {
   "metadata": {
    "ExecuteTime": {
     "end_time": "2024-04-25T13:23:31.222813Z",
     "start_time": "2024-04-25T13:23:31.214745Z"
    }
   },
   "cell_type": "code",
   "source": "torch.rand(4,3) # random samples from an equal distribution between 0 and 1",
   "id": "f3c2db1429257dcb",
   "outputs": [
    {
     "data": {
      "text/plain": [
       "tensor([[0.7108, 0.6421, 0.3419],\n",
       "        [0.9385, 0.5377, 0.0802],\n",
       "        [0.2981, 0.8277, 0.1546],\n",
       "        [0.8588, 0.9309, 0.1958]])"
      ]
     },
     "execution_count": 15,
     "metadata": {},
     "output_type": "execute_result"
    }
   ],
   "execution_count": 15
  },
  {
   "metadata": {
    "ExecuteTime": {
     "end_time": "2024-04-25T13:31:48.774544Z",
     "start_time": "2024-04-25T13:31:48.767342Z"
    }
   },
   "cell_type": "code",
   "source": "torch.randn(4,3) # normal standard distribution between -1 and 1 (std = 1)",
   "id": "1d9fa2a42868d9da",
   "outputs": [
    {
     "data": {
      "text/plain": [
       "tensor([[-0.7729,  0.9328, -0.5099],\n",
       "        [-0.9252,  1.7193, -1.5759],\n",
       "        [-1.2990,  0.5646, -0.3330],\n",
       "        [-0.1715, -1.3043, -0.4477]])"
      ]
     },
     "execution_count": 16,
     "metadata": {},
     "output_type": "execute_result"
    }
   ],
   "execution_count": 16
  },
  {
   "metadata": {
    "ExecuteTime": {
     "end_time": "2024-04-25T13:42:33.491335Z",
     "start_time": "2024-04-25T13:42:33.489065Z"
    }
   },
   "cell_type": "code",
   "source": "x = torch.randint(low=0, high=10, size=[4,3], dtype=torch.float32)",
   "id": "f36b96bcc450620e",
   "outputs": [],
   "execution_count": 22
  },
  {
   "metadata": {
    "ExecuteTime": {
     "end_time": "2024-04-25T13:42:35.867770Z",
     "start_time": "2024-04-25T13:42:35.864066Z"
    }
   },
   "cell_type": "code",
   "source": "torch.randn_like(x)",
   "id": "3165e3f270c15930",
   "outputs": [
    {
     "data": {
      "text/plain": [
       "tensor([[-1.8707, -0.5673, -0.3799],\n",
       "        [-0.0902,  0.4885, -1.0111],\n",
       "        [ 0.2238, -0.7931,  2.0462],\n",
       "        [ 0.6534, -0.9778, -0.1130]])"
      ]
     },
     "execution_count": 23,
     "metadata": {},
     "output_type": "execute_result"
    }
   ],
   "execution_count": 23
  },
  {
   "metadata": {
    "ExecuteTime": {
     "end_time": "2024-04-25T13:45:45.934257Z",
     "start_time": "2024-04-25T13:45:45.926268Z"
    }
   },
   "cell_type": "code",
   "source": [
    "torch.manual_seed(42)\n",
    "torch.rand(2,3)"
   ],
   "id": "8e17e125828e29e1",
   "outputs": [
    {
     "data": {
      "text/plain": [
       "tensor([[0.8823, 0.9150, 0.3829],\n",
       "        [0.9593, 0.3904, 0.6009]])"
      ]
     },
     "execution_count": 24,
     "metadata": {},
     "output_type": "execute_result"
    }
   ],
   "execution_count": 24
  },
  {
   "metadata": {},
   "cell_type": "code",
   "outputs": [],
   "execution_count": null,
   "source": "",
   "id": "79522ee3614621db"
  }
 ],
 "metadata": {
  "kernelspec": {
   "display_name": "Python 3",
   "language": "python",
   "name": "python3"
  },
  "language_info": {
   "codemirror_mode": {
    "name": "ipython",
    "version": 2
   },
   "file_extension": ".py",
   "mimetype": "text/x-python",
   "name": "python",
   "nbconvert_exporter": "python",
   "pygments_lexer": "ipython2",
   "version": "2.7.6"
  }
 },
 "nbformat": 4,
 "nbformat_minor": 5
}
