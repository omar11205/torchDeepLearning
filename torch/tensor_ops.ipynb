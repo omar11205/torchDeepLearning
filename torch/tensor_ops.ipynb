{
 "cells": [
  {
   "cell_type": "code",
   "id": "initial_id",
   "metadata": {
    "collapsed": true,
    "ExecuteTime": {
     "end_time": "2024-04-29T15:10:40.524367Z",
     "start_time": "2024-04-29T15:10:40.507740Z"
    }
   },
   "source": [
    "import torch\n",
    "import numpy as np"
   ],
   "outputs": [],
   "execution_count": 22
  },
  {
   "metadata": {
    "ExecuteTime": {
     "end_time": "2024-04-29T15:10:40.543445Z",
     "start_time": "2024-04-29T15:10:40.539398Z"
    }
   },
   "cell_type": "code",
   "source": [
    "x = torch.arange(6).reshape(3,2)\n",
    "print(x)"
   ],
   "id": "a4e91fcfe2746a0f",
   "outputs": [
    {
     "name": "stdout",
     "output_type": "stream",
     "text": [
      "tensor([[0, 1],\n",
      "        [2, 3],\n",
      "        [4, 5]])\n"
     ]
    }
   ],
   "execution_count": 23
  },
  {
   "metadata": {
    "ExecuteTime": {
     "end_time": "2024-04-29T15:10:40.582459Z",
     "start_time": "2024-04-29T15:10:40.571149Z"
    }
   },
   "cell_type": "code",
   "source": "type(x[1,1])",
   "id": "da05c3afbc0611f4",
   "outputs": [
    {
     "data": {
      "text/plain": [
       "torch.Tensor"
      ]
     },
     "execution_count": 24,
     "metadata": {},
     "output_type": "execute_result"
    }
   ],
   "execution_count": 24
  },
  {
   "metadata": {
    "ExecuteTime": {
     "end_time": "2024-04-29T15:10:40.593426Z",
     "start_time": "2024-04-29T15:10:40.586967Z"
    }
   },
   "cell_type": "code",
   "source": [
    "# returns a 1d tensor\n",
    "x[:,1]"
   ],
   "id": "a1cfeb56e4b4e572",
   "outputs": [
    {
     "data": {
      "text/plain": [
       "tensor([1, 3, 5])"
      ]
     },
     "execution_count": 25,
     "metadata": {},
     "output_type": "execute_result"
    }
   ],
   "execution_count": 25
  },
  {
   "metadata": {
    "ExecuteTime": {
     "end_time": "2024-04-29T15:10:40.597284Z",
     "start_time": "2024-04-29T15:10:40.593426Z"
    }
   },
   "cell_type": "code",
   "source": [
    "# returns a column tensor (column vector) (used often)\n",
    "x[:, 1:]"
   ],
   "id": "44b8a59e2ba97e78",
   "outputs": [
    {
     "data": {
      "text/plain": [
       "tensor([[1],\n",
       "        [3],\n",
       "        [5]])"
      ]
     },
     "execution_count": 26,
     "metadata": {},
     "output_type": "execute_result"
    }
   ],
   "execution_count": 26
  },
  {
   "metadata": {
    "ExecuteTime": {
     "end_time": "2024-04-29T15:10:40.603088Z",
     "start_time": "2024-04-29T15:10:40.597284Z"
    }
   },
   "cell_type": "code",
   "source": [
    "x = torch.arange(10)\n",
    "print(x)"
   ],
   "id": "727ef2ebaa02b38a",
   "outputs": [
    {
     "name": "stdout",
     "output_type": "stream",
     "text": [
      "tensor([0, 1, 2, 3, 4, 5, 6, 7, 8, 9])\n"
     ]
    }
   ],
   "execution_count": 27
  },
  {
   "metadata": {
    "ExecuteTime": {
     "end_time": "2024-04-29T15:10:40.606158Z",
     "start_time": "2024-04-29T15:10:40.603088Z"
    }
   },
   "cell_type": "code",
   "source": "z = x.view(2, 5)",
   "id": "d1a57040afca3056",
   "outputs": [],
   "execution_count": 28
  },
  {
   "metadata": {
    "ExecuteTime": {
     "end_time": "2024-04-29T15:10:40.628747Z",
     "start_time": "2024-04-29T15:10:40.618741Z"
    }
   },
   "cell_type": "code",
   "source": "y = x.reshape(2, 5)",
   "id": "5c87f5a7f54c35be",
   "outputs": [],
   "execution_count": 29
  },
  {
   "metadata": {
    "ExecuteTime": {
     "end_time": "2024-04-29T15:10:40.631890Z",
     "start_time": "2024-04-29T15:10:40.628747Z"
    }
   },
   "cell_type": "code",
   "source": "x[0] = 9999",
   "id": "cb278b3f5650e73",
   "outputs": [],
   "execution_count": 30
  },
  {
   "metadata": {
    "ExecuteTime": {
     "end_time": "2024-04-29T15:10:40.640733Z",
     "start_time": "2024-04-29T15:10:40.637401Z"
    }
   },
   "cell_type": "code",
   "source": [
    "print(z)\n",
    "print(y)"
   ],
   "id": "f072ffaee49ea332",
   "outputs": [
    {
     "name": "stdout",
     "output_type": "stream",
     "text": [
      "tensor([[9999,    1,    2,    3,    4],\n",
      "        [   5,    6,    7,    8,    9]])\n",
      "tensor([[9999,    1,    2,    3,    4],\n",
      "        [   5,    6,    7,    8,    9]])\n"
     ]
    }
   ],
   "execution_count": 31
  },
  {
   "metadata": {
    "ExecuteTime": {
     "end_time": "2024-04-29T15:10:40.644452Z",
     "start_time": "2024-04-29T15:10:40.640733Z"
    }
   },
   "cell_type": "code",
   "source": "torch.cuda.is_available()",
   "id": "c63bc2588bf54739",
   "outputs": [
    {
     "data": {
      "text/plain": [
       "True"
      ]
     },
     "execution_count": 32,
     "metadata": {},
     "output_type": "execute_result"
    }
   ],
   "execution_count": 32
  },
  {
   "metadata": {
    "ExecuteTime": {
     "end_time": "2024-04-29T15:10:48.088999Z",
     "start_time": "2024-04-29T15:10:48.085696Z"
    }
   },
   "cell_type": "code",
   "source": "torch.cuda.get_device_name(0)",
   "id": "13cb69aeee63dd59",
   "outputs": [
    {
     "data": {
      "text/plain": [
       "'NVIDIA GeForce GTX 1070'"
      ]
     },
     "execution_count": 42,
     "metadata": {},
     "output_type": "execute_result"
    }
   ],
   "execution_count": 42
  },
  {
   "metadata": {
    "ExecuteTime": {
     "end_time": "2024-04-29T15:10:40.657510Z",
     "start_time": "2024-04-29T15:10:40.651232Z"
    }
   },
   "cell_type": "code",
   "source": [
    "a = torch.arange(3)\n",
    "b = torch.arange(3)"
   ],
   "id": "e1ea04dc56d851ee",
   "outputs": [],
   "execution_count": 34
  },
  {
   "metadata": {
    "ExecuteTime": {
     "end_time": "2024-04-29T15:10:40.696830Z",
     "start_time": "2024-04-29T15:10:40.682614Z"
    }
   },
   "cell_type": "code",
   "source": "c = torch.add(a, b)",
   "id": "b0e3f4a9539cfd3d",
   "outputs": [],
   "execution_count": 35
  },
  {
   "metadata": {
    "ExecuteTime": {
     "end_time": "2024-04-29T15:10:40.708290Z",
     "start_time": "2024-04-29T15:10:40.698334Z"
    }
   },
   "cell_type": "code",
   "source": "print(c)",
   "id": "dcedf9c0a75daefc",
   "outputs": [
    {
     "name": "stdout",
     "output_type": "stream",
     "text": [
      "tensor([0, 2, 4])\n"
     ]
    }
   ],
   "execution_count": 36
  },
  {
   "metadata": {
    "ExecuteTime": {
     "end_time": "2024-04-29T15:10:40.711948Z",
     "start_time": "2024-04-29T15:10:40.708290Z"
    }
   },
   "cell_type": "code",
   "source": [
    "print(a)\n",
    "a.mul_(b) # re-assigns the value of a with the multiplication of a and b\n",
    "print(a)"
   ],
   "id": "52905849953627ec",
   "outputs": [
    {
     "name": "stdout",
     "output_type": "stream",
     "text": [
      "tensor([0, 1, 2])\n",
      "tensor([0, 1, 4])\n"
     ]
    }
   ],
   "execution_count": 37
  },
  {
   "metadata": {
    "ExecuteTime": {
     "end_time": "2024-04-29T15:10:40.720207Z",
     "start_time": "2024-04-29T15:10:40.714587Z"
    }
   },
   "cell_type": "code",
   "source": [
    "x = torch.randint(0, 10, (3, 3))\n",
    "y = torch.randint(0, 10, (3, 3))\n",
    "print(x, y)"
   ],
   "id": "3b47554918ef25ab",
   "outputs": [
    {
     "name": "stdout",
     "output_type": "stream",
     "text": [
      "tensor([[0, 6, 6],\n",
      "        [9, 9, 5],\n",
      "        [4, 0, 9]]) tensor([[6, 4, 8],\n",
      "        [6, 5, 0],\n",
      "        [6, 7, 8]])\n"
     ]
    }
   ],
   "execution_count": 38
  },
  {
   "metadata": {
    "ExecuteTime": {
     "end_time": "2024-04-29T15:10:40.740914Z",
     "start_time": "2024-04-29T15:10:40.737244Z"
    }
   },
   "cell_type": "code",
   "source": [
    "# matrix multiplication\n",
    "z = torch.mm(x, y) #also valid a @ b\n",
    "print(z)"
   ],
   "id": "aa20aab2b4e5f846",
   "outputs": [
    {
     "name": "stdout",
     "output_type": "stream",
     "text": [
      "tensor([[ 72,  72,  48],\n",
      "        [138, 116, 112],\n",
      "        [ 78,  79, 104]])\n"
     ]
    }
   ],
   "execution_count": 39
  },
  {
   "metadata": {
    "ExecuteTime": {
     "end_time": "2024-04-29T15:10:40.753066Z",
     "start_time": "2024-04-29T15:10:40.745226Z"
    }
   },
   "cell_type": "code",
   "source": [
    "# dot product\n",
    "z_dot = torch.dot(a, b)\n",
    "print(z_dot)"
   ],
   "id": "fb47421193e4f1c9",
   "outputs": [
    {
     "name": "stdout",
     "output_type": "stream",
     "text": [
      "tensor(9)\n"
     ]
    }
   ],
   "execution_count": 40
  },
  {
   "metadata": {
    "ExecuteTime": {
     "end_time": "2024-04-29T15:10:40.765837Z",
     "start_time": "2024-04-29T15:10:40.761999Z"
    }
   },
   "cell_type": "code",
   "source": [
    "# euclidean norm\n",
    "a = torch.randn(3, 3)\n",
    "a.norm()"
   ],
   "id": "e7527a8dfab88afd",
   "outputs": [
    {
     "data": {
      "text/plain": [
       "tensor(3.7957)"
      ]
     },
     "execution_count": 41,
     "metadata": {},
     "output_type": "execute_result"
    }
   ],
   "execution_count": 41
  },
  {
   "metadata": {
    "ExecuteTime": {
     "end_time": "2024-04-29T15:19:05.737696Z",
     "start_time": "2024-04-29T15:19:05.732991Z"
    }
   },
   "cell_type": "code",
   "source": [
    "# set the random seed for numpy and pytorch both to 42\n",
    "np.random.seed(42)\n",
    "torch.manual_seed(42)"
   ],
   "id": "b19d9d1e3a611d8a",
   "outputs": [
    {
     "data": {
      "text/plain": [
       "<torch._C.Generator at 0x1bda0049230>"
      ]
     },
     "execution_count": 43,
     "metadata": {},
     "output_type": "execute_result"
    }
   ],
   "execution_count": 43
  },
  {
   "metadata": {
    "ExecuteTime": {
     "end_time": "2024-04-29T15:20:40.976023Z",
     "start_time": "2024-04-29T15:20:40.973493Z"
    }
   },
   "cell_type": "code",
   "source": "arr = np.random.randint(0, 5, 6)",
   "id": "e61a45952518dbd2",
   "outputs": [],
   "execution_count": 44
  },
  {
   "metadata": {
    "ExecuteTime": {
     "end_time": "2024-04-29T15:20:49.954966Z",
     "start_time": "2024-04-29T15:20:49.952286Z"
    }
   },
   "cell_type": "code",
   "source": "print(arr)",
   "id": "97809cc755dda152",
   "outputs": [
    {
     "name": "stdout",
     "output_type": "stream",
     "text": [
      "[3 4 2 4 4 1]\n"
     ]
    }
   ],
   "execution_count": 45
  },
  {
   "metadata": {
    "ExecuteTime": {
     "end_time": "2024-04-29T15:35:42.182819Z",
     "start_time": "2024-04-29T15:35:42.179084Z"
    }
   },
   "cell_type": "code",
   "source": [
    "# create an x tensor from arr\n",
    "x = torch.from_numpy(arr)\n",
    "x"
   ],
   "id": "51ee89509868d914",
   "outputs": [
    {
     "data": {
      "text/plain": [
       "tensor([3, 4, 2, 4, 4, 1], dtype=torch.int32)"
      ]
     },
     "execution_count": 46,
     "metadata": {},
     "output_type": "execute_result"
    }
   ],
   "execution_count": 46
  },
  {
   "metadata": {
    "ExecuteTime": {
     "end_time": "2024-04-29T15:38:49.172420Z",
     "start_time": "2024-04-29T15:38:49.169128Z"
    }
   },
   "cell_type": "code",
   "source": [
    "# Change the dtype of x from 'int32' to 'int64'\n",
    "x = x.type(torch.int64)\n",
    "x.type()"
   ],
   "id": "bee9152d38ad6ca0",
   "outputs": [
    {
     "data": {
      "text/plain": [
       "'torch.LongTensor'"
      ]
     },
     "execution_count": 49,
     "metadata": {},
     "output_type": "execute_result"
    }
   ],
   "execution_count": 49
  },
  {
   "metadata": {
    "ExecuteTime": {
     "end_time": "2024-04-29T15:42:51.786432Z",
     "start_time": "2024-04-29T15:42:51.784130Z"
    }
   },
   "cell_type": "code",
   "source": [
    "# reshape x into a 3x2 tensor\n",
    "x = x.reshape(3, 2)"
   ],
   "id": "2e7c8d219a0d5be5",
   "outputs": [],
   "execution_count": 50
  },
  {
   "metadata": {
    "ExecuteTime": {
     "end_time": "2024-04-29T15:45:58.748648Z",
     "start_time": "2024-04-29T15:45:58.744600Z"
    }
   },
   "cell_type": "code",
   "source": [
    "# return the right-hand column of tensor x as a column tensor\n",
    "x[:, 1:]"
   ],
   "id": "21726da6bad6a389",
   "outputs": [
    {
     "data": {
      "text/plain": [
       "tensor([[4],\n",
       "        [4],\n",
       "        [1]])"
      ]
     },
     "execution_count": 52,
     "metadata": {},
     "output_type": "execute_result"
    }
   ],
   "execution_count": 52
  },
  {
   "metadata": {
    "ExecuteTime": {
     "end_time": "2024-04-29T15:46:52.072567Z",
     "start_time": "2024-04-29T15:46:52.069004Z"
    }
   },
   "cell_type": "code",
   "source": [
    "# without changing x, return a tensor of square values of x\n",
    "x ** 2"
   ],
   "id": "3a034cc558526a24",
   "outputs": [
    {
     "data": {
      "text/plain": [
       "tensor([[ 9, 16],\n",
       "        [ 4, 16],\n",
       "        [16,  1]])"
      ]
     },
     "execution_count": 53,
     "metadata": {},
     "output_type": "execute_result"
    }
   ],
   "execution_count": 53
  },
  {
   "metadata": {
    "ExecuteTime": {
     "end_time": "2024-04-29T15:52:41.472058Z",
     "start_time": "2024-04-29T15:52:41.468763Z"
    }
   },
   "cell_type": "code",
   "source": [
    "# create a tensor \"y\" with the same number of elements as x that can be matrix-multiplied with x. Use torch directly to create a tensor of random integers between 0 (inclusive) and 5 (exclusive).\n",
    "y = torch.randint(0, 5, (2,3))"
   ],
   "id": "7f1d0caf21246049",
   "outputs": [],
   "execution_count": 54
  },
  {
   "metadata": {
    "ExecuteTime": {
     "end_time": "2024-04-29T15:53:18.899403Z",
     "start_time": "2024-04-29T15:53:18.895368Z"
    }
   },
   "cell_type": "code",
   "source": [
    "# find the matrix product of x and y\n",
    "x.mm(y)"
   ],
   "id": "28419c64645f1b44",
   "outputs": [
    {
     "data": {
      "text/plain": [
       "tensor([[22, 10,  3],\n",
       "        [20,  8,  2],\n",
       "        [12,  9,  4]])"
      ]
     },
     "execution_count": 55,
     "metadata": {},
     "output_type": "execute_result"
    }
   ],
   "execution_count": 55
  },
  {
   "metadata": {},
   "cell_type": "code",
   "outputs": [],
   "execution_count": null,
   "source": "",
   "id": "947fdb7f905f9b3f"
  }
 ],
 "metadata": {
  "kernelspec": {
   "display_name": "Python 3",
   "language": "python",
   "name": "python3"
  },
  "language_info": {
   "codemirror_mode": {
    "name": "ipython",
    "version": 2
   },
   "file_extension": ".py",
   "mimetype": "text/x-python",
   "name": "python",
   "nbconvert_exporter": "python",
   "pygments_lexer": "ipython2",
   "version": "2.7.6"
  }
 },
 "nbformat": 4,
 "nbformat_minor": 5
}
