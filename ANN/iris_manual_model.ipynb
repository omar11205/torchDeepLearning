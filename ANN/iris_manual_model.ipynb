{
 "cells": [
  {
   "metadata": {},
   "cell_type": "markdown",
   "source": [
    "## PyTorch vs Manual Model for Classification\n",
    "In this section I would compare the performance of a classification task using PyTorch instances and an instance of the used NNetwork class with the IRIS dataset (lately used to train MNIST dataset).\n",
    "\n",
    "Import the data"
   ],
   "id": "2f07c154770dca3a"
  },
  {
   "metadata": {
    "ExecuteTime": {
     "end_time": "2024-07-25T20:27:09.852486Z",
     "start_time": "2024-07-25T20:27:09.847367Z"
    }
   },
   "cell_type": "code",
   "source": [
    "import model_class as mm\n",
    "import numpy as np\n",
    "import pandas as pd\n",
    "from sklearn.model_selection import train_test_split\n",
    "from sklearn.preprocessing import OneHotEncoder\n",
    "import torch\n",
    "from sklearn.preprocessing import StandardScaler, LabelEncoder\n",
    "from torch import nn\n",
    "from torch.utils.data import DataLoader, TensorDataset"
   ],
   "id": "a7ca61191d755c55",
   "outputs": [],
   "execution_count": 21
  },
  {
   "metadata": {
    "ExecuteTime": {
     "end_time": "2024-07-25T20:27:12.488745Z",
     "start_time": "2024-07-25T20:27:12.471752Z"
    }
   },
   "cell_type": "code",
   "source": [
    "np.random.seed(42)\n",
    "torch.manual_seed(42)\n",
    "\n",
    "df = pd.read_csv('data/iris.csv', na_values=[\"NA\", \"?\"])\n",
    "df.info()\n",
    "print(f\"Labels: {df['species'].unique()}\")"
   ],
   "id": "5321aa187ac0e6ba",
   "outputs": [
    {
     "name": "stdout",
     "output_type": "stream",
     "text": [
      "<class 'pandas.core.frame.DataFrame'>\n",
      "RangeIndex: 150 entries, 0 to 149\n",
      "Data columns (total 5 columns):\n",
      " #   Column   Non-Null Count  Dtype  \n",
      "---  ------   --------------  -----  \n",
      " 0   sepal_l  150 non-null    float64\n",
      " 1   sepal_w  150 non-null    float64\n",
      " 2   petal_l  150 non-null    float64\n",
      " 3   petal_w  150 non-null    float64\n",
      " 4   species  150 non-null    object \n",
      "dtypes: float64(4), object(1)\n",
      "memory usage: 6.0+ KB\n",
      "Labels: ['Iris-setosa' 'Iris-versicolor' 'Iris-virginica']\n"
     ]
    }
   ],
   "execution_count": 22
  },
  {
   "metadata": {},
   "cell_type": "markdown",
   "source": "### Training with manual model",
   "id": "8e0af566d052850f"
  },
  {
   "metadata": {
    "ExecuteTime": {
     "end_time": "2024-07-25T20:27:14.646139Z",
     "start_time": "2024-07-25T20:27:14.627366Z"
    }
   },
   "cell_type": "code",
   "source": [
    "def load_mm_data():\n",
    "    X = df[['sepal_l', 'sepal_w', 'petal_l', 'petal_w']].values.astype(np.float32)\n",
    "    y = df['species'].values\n",
    "    \n",
    "    # encoding the labels in y\n",
    "    encoder = OneHotEncoder(sparse_output=False)\n",
    "    y_encoded = encoder.fit_transform(y.reshape(-1,1)).astype(np.int32)\n",
    "    \n",
    "    # split training and validation data\n",
    "    x_train, x_test, y_train, y_test = train_test_split(X, y_encoded, test_size=0.2, random_state=42)\n",
    "    \n",
    "    # normalize x set\n",
    "    scaler = StandardScaler()\n",
    "    x_train = scaler.fit_transform(x_train)\n",
    "    x_test = scaler.transform(x_test)\n",
    "    \n",
    "    return x_train, x_test, y_train, y_test\n",
    "\n",
    "def iris_data_wrapper(X, y):\n",
    "    inputs = [np.reshape(x, (4, 1)) for x in X ]\n",
    "    results = [np.reshape(y_i, (3, 1)) for y_i in y]\n",
    "    data = list(zip(inputs, results))\n",
    "    return data\n",
    "\n",
    "# load normalized and encoded data\n",
    "x_train, x_test, y_train, y_test = load_mm_data()\n",
    "\n",
    "# prepare data for NNetwork\n",
    "train_data = iris_data_wrapper(x_train, y_train)\n",
    "test_data = iris_data_wrapper(x_test, y_test)\n",
    "\n",
    "# initialize and train the network\n",
    "net = mm.NNetwork([4, 30, 3]) "
   ],
   "id": "9c8e04dcb76a3545",
   "outputs": [],
   "execution_count": 23
  },
  {
   "metadata": {
    "ExecuteTime": {
     "end_time": "2024-07-25T20:27:16.980061Z",
     "start_time": "2024-07-25T20:27:16.929672Z"
    }
   },
   "cell_type": "code",
   "source": [
    "# train with stochastic gradient descend\n",
    "net.sgd(train_data, epochs=30, mini_batch_size=10, eta_learning_rate=0.5, test_data=test_data)   "
   ],
   "id": "c1703606d846d153",
   "outputs": [
    {
     "name": "stdout",
     "output_type": "stream",
     "text": [
      "bias sample b[0][5] [-0.12534931]\n"
     ]
    },
    {
     "ename": "TypeError",
     "evalue": "only length-1 arrays can be converted to Python scalars",
     "output_type": "error",
     "traceback": [
      "\u001B[1;31m---------------------------------------------------------------------------\u001B[0m",
      "\u001B[1;31mTypeError\u001B[0m                                 Traceback (most recent call last)",
      "Cell \u001B[1;32mIn[24], line 2\u001B[0m\n\u001B[0;32m      1\u001B[0m \u001B[38;5;66;03m# train with stochastic gradient descend\u001B[39;00m\n\u001B[1;32m----> 2\u001B[0m net\u001B[38;5;241m.\u001B[39msgd(train_data, epochs\u001B[38;5;241m=\u001B[39m\u001B[38;5;241m30\u001B[39m, mini_batch_size\u001B[38;5;241m=\u001B[39m\u001B[38;5;241m10\u001B[39m, eta_learning_rate\u001B[38;5;241m=\u001B[39m\u001B[38;5;241m0.5\u001B[39m, test_data\u001B[38;5;241m=\u001B[39mtest_data)\n",
      "File \u001B[1;32mC:\\GITAI\\artificial_intelligence\\torchDeepLearning\\ANN\\model_class.py:122\u001B[0m, in \u001B[0;36mNNetwork.sgd\u001B[1;34m(self, training_data, epochs, mini_batch_size, eta_learning_rate, test_data)\u001B[0m\n\u001B[0;32m    120\u001B[0m \u001B[38;5;28mprint\u001B[39m(\u001B[38;5;124m\"\u001B[39m\u001B[38;5;124mbias sample b[0][5]\u001B[39m\u001B[38;5;124m\"\u001B[39m, \u001B[38;5;28mself\u001B[39m\u001B[38;5;241m.\u001B[39mbiases[\u001B[38;5;241m0\u001B[39m][\u001B[38;5;241m5\u001B[39m])\n\u001B[0;32m    121\u001B[0m \u001B[38;5;28;01mif\u001B[39;00m test_data:\n\u001B[1;32m--> 122\u001B[0m     \u001B[38;5;28mprint\u001B[39m(\u001B[38;5;124mf\u001B[39m\u001B[38;5;124m'\u001B[39m\u001B[38;5;124mEpoch \u001B[39m\u001B[38;5;132;01m{\u001B[39;00mj\u001B[38;5;132;01m}\u001B[39;00m\u001B[38;5;124m: \u001B[39m\u001B[38;5;132;01m{\u001B[39;00m\u001B[38;5;28mself\u001B[39m\u001B[38;5;241m.\u001B[39mevaluate(test_data)\u001B[38;5;132;01m}\u001B[39;00m\u001B[38;5;124m / \u001B[39m\u001B[38;5;132;01m{\u001B[39;00mn_test\u001B[38;5;132;01m}\u001B[39;00m\u001B[38;5;124m'\u001B[39m)\n\u001B[0;32m    123\u001B[0m \u001B[38;5;28;01melse\u001B[39;00m:\n\u001B[0;32m    124\u001B[0m     \u001B[38;5;28mprint\u001B[39m(\u001B[38;5;124mf\u001B[39m\u001B[38;5;124m'\u001B[39m\u001B[38;5;124mEpoch \u001B[39m\u001B[38;5;132;01m{\u001B[39;00mj\u001B[38;5;132;01m}\u001B[39;00m\u001B[38;5;124m complete\u001B[39m\u001B[38;5;124m'\u001B[39m)\n",
      "File \u001B[1;32mC:\\GITAI\\artificial_intelligence\\torchDeepLearning\\ANN\\model_class.py:45\u001B[0m, in \u001B[0;36mNNetwork.evaluate\u001B[1;34m(self, test_data)\u001B[0m\n\u001B[0;32m     41\u001B[0m \u001B[38;5;250m\u001B[39m\u001B[38;5;124;03m\"\"\"Return the number of test inputs for which the neural network outputs the correct result. Note that the\u001B[39;00m\n\u001B[0;32m     42\u001B[0m \u001B[38;5;124;03mneural network's output is assumed to be the index of whichever neuron in the final layer has the highest\u001B[39;00m\n\u001B[0;32m     43\u001B[0m \u001B[38;5;124;03mactivation.\"\"\"\u001B[39;00m\n\u001B[0;32m     44\u001B[0m test_results \u001B[38;5;241m=\u001B[39m [(np\u001B[38;5;241m.\u001B[39margmax(\u001B[38;5;28mself\u001B[39m\u001B[38;5;241m.\u001B[39mfeedforward(x)), y) \u001B[38;5;28;01mfor\u001B[39;00m (x, y) \u001B[38;5;129;01min\u001B[39;00m test_data]\n\u001B[1;32m---> 45\u001B[0m \u001B[38;5;28;01mreturn\u001B[39;00m \u001B[38;5;28msum\u001B[39m(\u001B[38;5;28mint\u001B[39m(x \u001B[38;5;241m==\u001B[39m y) \u001B[38;5;28;01mfor\u001B[39;00m (x, y) \u001B[38;5;129;01min\u001B[39;00m test_results)\n",
      "File \u001B[1;32mC:\\GITAI\\artificial_intelligence\\torchDeepLearning\\ANN\\model_class.py:45\u001B[0m, in \u001B[0;36m<genexpr>\u001B[1;34m(.0)\u001B[0m\n\u001B[0;32m     41\u001B[0m \u001B[38;5;250m\u001B[39m\u001B[38;5;124;03m\"\"\"Return the number of test inputs for which the neural network outputs the correct result. Note that the\u001B[39;00m\n\u001B[0;32m     42\u001B[0m \u001B[38;5;124;03mneural network's output is assumed to be the index of whichever neuron in the final layer has the highest\u001B[39;00m\n\u001B[0;32m     43\u001B[0m \u001B[38;5;124;03mactivation.\"\"\"\u001B[39;00m\n\u001B[0;32m     44\u001B[0m test_results \u001B[38;5;241m=\u001B[39m [(np\u001B[38;5;241m.\u001B[39margmax(\u001B[38;5;28mself\u001B[39m\u001B[38;5;241m.\u001B[39mfeedforward(x)), y) \u001B[38;5;28;01mfor\u001B[39;00m (x, y) \u001B[38;5;129;01min\u001B[39;00m test_data]\n\u001B[1;32m---> 45\u001B[0m \u001B[38;5;28;01mreturn\u001B[39;00m \u001B[38;5;28msum\u001B[39m(\u001B[38;5;28mint\u001B[39m(x \u001B[38;5;241m==\u001B[39m y) \u001B[38;5;28;01mfor\u001B[39;00m (x, y) \u001B[38;5;129;01min\u001B[39;00m test_results)\n",
      "\u001B[1;31mTypeError\u001B[0m: only length-1 arrays can be converted to Python scalars"
     ]
    }
   ],
   "execution_count": 24
  },
  {
   "metadata": {},
   "cell_type": "code",
   "outputs": [],
   "execution_count": null,
   "source": "",
   "id": "2ffd72fb5f1b1e28"
  }
 ],
 "metadata": {
  "kernelspec": {
   "display_name": "Python 3",
   "language": "python",
   "name": "python3"
  },
  "language_info": {
   "codemirror_mode": {
    "name": "ipython",
    "version": 2
   },
   "file_extension": ".py",
   "mimetype": "text/x-python",
   "name": "python",
   "nbconvert_exporter": "python",
   "pygments_lexer": "ipython2",
   "version": "2.7.6"
  }
 },
 "nbformat": 4,
 "nbformat_minor": 5
}
