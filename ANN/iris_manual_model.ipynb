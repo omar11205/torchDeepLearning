{
 "cells": [
  {
   "metadata": {},
   "cell_type": "markdown",
   "source": [
    "## PyTorch vs Manual Model for Classification\n",
    "In this section I would compare the performance of a classification task using PyTorch instances and an instance of the used NNetwork class with the IRIS dataset (lately used to train MNIST dataset).\n",
    "\n",
    "Import the data"
   ],
   "id": "2f07c154770dca3a"
  },
  {
   "metadata": {
    "ExecuteTime": {
     "end_time": "2024-07-25T23:21:50.486389Z",
     "start_time": "2024-07-25T23:21:49.085062Z"
    }
   },
   "cell_type": "code",
   "source": [
    "import numpy as np\n",
    "import pandas as pd\n",
    "from sklearn.model_selection import train_test_split\n",
    "from sklearn.preprocessing import OneHotEncoder, StandardScaler\n",
    "from sklearn.metrics import classification_report"
   ],
   "id": "a7ca61191d755c55",
   "outputs": [],
   "execution_count": 1
  },
  {
   "metadata": {
    "ExecuteTime": {
     "end_time": "2024-07-25T23:27:40.957648Z",
     "start_time": "2024-07-25T23:27:40.939919Z"
    }
   },
   "cell_type": "code",
   "source": [
    "# Seed for reproducibility\n",
    "np.random.seed(42)\n",
    "\n",
    "# Define the sigmoid function and its derivative\n",
    "def sigmoid(z):\n",
    "    return 1.0 / (1.0 + np.exp(-z))\n",
    "\n",
    "def sigmoid_prime(z):\n",
    "    return sigmoid(z) * (1 - sigmoid(z))"
   ],
   "id": "ee65ea076762599a",
   "outputs": [],
   "execution_count": 8
  },
  {
   "metadata": {
    "ExecuteTime": {
     "end_time": "2024-07-25T23:27:43.097317Z",
     "start_time": "2024-07-25T23:27:43.071537Z"
    }
   },
   "cell_type": "code",
   "source": [
    "# Neural Network Class\n",
    "class NNetwork(object):\n",
    "    def __init__(self, sizes):\n",
    "        self.num_layers = len(sizes)\n",
    "        self.sizes = sizes\n",
    "        self.biases = [np.random.randn(y, 1) for y in sizes[1:]]\n",
    "        self.weights = [np.random.randn(y, x) for x, y in zip(sizes[:-1], sizes[1:])]\n",
    "\n",
    "    def feedforward(self, a):\n",
    "        for b, w in zip(self.biases, self.weights):\n",
    "            a = sigmoid(np.dot(w, a) + b)\n",
    "        return a\n",
    "\n",
    "    def evaluate(self, test_data):\n",
    "        test_results = [(np.argmax(self.feedforward(x)), np.argmax(y)) for (x, y) in test_data]\n",
    "        return sum(int(x == y) for (x, y) in test_results)\n",
    "\n",
    "    def cost_derivative(self, output_activations, y):\n",
    "        return (output_activations - y)\n",
    "\n",
    "    def backprop(self, x, y):\n",
    "        nabla_b = [np.zeros(b.shape) for b in self.biases]\n",
    "        nabla_w = [np.zeros(w.shape) for w in self.weights]\n",
    "        activation = x\n",
    "        activations = [x]\n",
    "        zs = []\n",
    "        for b, w in zip(self.biases, self.weights):\n",
    "            z = np.dot(w, activation) + b\n",
    "            zs.append(z)\n",
    "            activation = sigmoid(z)\n",
    "            activations.append(activation)\n",
    "        delta = self.cost_derivative(activations[-1], y) * sigmoid_prime(zs[-1])\n",
    "        nabla_b[-1] = delta\n",
    "        nabla_w[-1] = np.dot(delta, activations[-2].transpose())\n",
    "        for l in range(2, self.num_layers):\n",
    "            z = zs[-l]\n",
    "            sp = sigmoid_prime(z)\n",
    "            delta = np.dot(self.weights[-l + 1].transpose(), delta) * sp\n",
    "            nabla_b[-l] = delta\n",
    "            nabla_w[-l] = np.dot(delta, activations[-l - 1].transpose())\n",
    "        return (nabla_b, nabla_w)\n",
    "\n",
    "    def update_mini_batch(self, mini_batch, eta_learning_rate):\n",
    "        nabla_b = [np.zeros(b.shape) for b in self.biases]\n",
    "        nabla_w = [np.zeros(w.shape) for w in self.weights]\n",
    "        for x, y in mini_batch:\n",
    "            delta_nabla_b, delta_nabla_w = self.backprop(x, y)\n",
    "            nabla_b = [nb + dnb for nb, dnb in zip(nabla_b, delta_nabla_b)]\n",
    "            nabla_w = [nw + dnw for nw, dnw in zip(nabla_w, delta_nabla_w)]\n",
    "        self.weights = [w - (eta_learning_rate / len(mini_batch)) * nw for w, nw in zip(self.weights, nabla_w)]\n",
    "        self.biases = [b - (eta_learning_rate / len(mini_batch)) * nb for b, nb in zip(self.biases, nabla_b)]\n",
    "\n",
    "    def sgd(self, training_data, epochs, mini_batch_size, eta_learning_rate, test_data=None):\n",
    "        training_data = list(training_data)\n",
    "        n = len(training_data)\n",
    "        if test_data:\n",
    "            test_data = list(test_data)\n",
    "            n_test = len(test_data)\n",
    "        for j in range(epochs):\n",
    "            np.random.shuffle(training_data)\n",
    "            mini_batches = [training_data[k:k + mini_batch_size] for k in range(0, n, mini_batch_size)]\n",
    "            for mini_batch in mini_batches:\n",
    "                self.update_mini_batch(mini_batch, eta_learning_rate)\n",
    "            if test_data:\n",
    "                print(f'Epoch {j}: {self.evaluate(test_data)} / {n_test}')\n",
    "            else:\n",
    "                print(f'Epoch {j} complete')"
   ],
   "id": "1c18a5df17a37651",
   "outputs": [],
   "execution_count": 9
  },
  {
   "metadata": {
    "ExecuteTime": {
     "end_time": "2024-07-25T23:27:45.237262Z",
     "start_time": "2024-07-25T23:27:45.221857Z"
    }
   },
   "cell_type": "code",
   "source": [
    "# Load and preprocess the IRIS dataset\n",
    "def load_iris_data():\n",
    "    df = pd.read_csv('data/iris.csv', na_values=[\"NA\", \"?\"])\n",
    "    X = df[['sepal_l', 'sepal_w', 'petal_l', 'petal_w']].values.astype(np.float32)\n",
    "    y = df['species'].values\n",
    "\n",
    "    # Encoding the labels in y\n",
    "    encoder = OneHotEncoder(sparse_output=False)\n",
    "    y_encoded = encoder.fit_transform(y.reshape(-1, 1)).astype(np.float32)\n",
    "\n",
    "    # Split training and validation data\n",
    "    x_train, x_test, y_train, y_test = train_test_split(X, y_encoded, test_size=0.2, random_state=42)\n",
    "\n",
    "    # Normalize x set\n",
    "    scaler = StandardScaler()\n",
    "    x_train = scaler.fit_transform(x_train)\n",
    "    x_test = scaler.transform(x_test)\n",
    "\n",
    "    return x_train, x_test, y_train, y_test\n",
    "\n",
    "def iris_data_wrapper(X, y):\n",
    "    inputs = [np.reshape(x, (4, 1)) for x in X]\n",
    "    results = [np.reshape(y_i, (3, 1)) for y_i in y]\n",
    "    data = list(zip(inputs, results))\n",
    "    return data"
   ],
   "id": "22cdbc7b8abfb233",
   "outputs": [],
   "execution_count": 10
  },
  {
   "metadata": {
    "ExecuteTime": {
     "end_time": "2024-07-25T23:28:20.005066Z",
     "start_time": "2024-07-25T23:28:19.991013Z"
    }
   },
   "cell_type": "code",
   "source": [
    "# Load normalized and encoded data\n",
    "x_train, x_test, y_train, y_test = load_iris_data()\n",
    "\n",
    "# Prepare data for NNetwork\n",
    "train_data = iris_data_wrapper(x_train, y_train)\n",
    "test_data = iris_data_wrapper(x_test, y_test)\n",
    "print(test_data[0])"
   ],
   "id": "24b0177a37a299bd",
   "outputs": [
    {
     "name": "stdout",
     "output_type": "stream",
     "text": [
      "(array([[ 0.3545167 ],\n",
      "       [-0.5850599 ],\n",
      "       [ 0.55777514],\n",
      "       [ 0.02224758]], dtype=float32), array([[0.],\n",
      "       [1.],\n",
      "       [0.]], dtype=float32))\n"
     ]
    }
   ],
   "execution_count": 12
  },
  {
   "metadata": {
    "ExecuteTime": {
     "end_time": "2024-07-25T23:22:10.000210Z",
     "start_time": "2024-07-25T23:22:09.836803Z"
    }
   },
   "cell_type": "code",
   "source": [
    "# Initialize and train the network\n",
    "net = NNetwork([4, 30, 3])\n",
    "net.sgd(train_data, 30, 10, 3.0, test_data=test_data)"
   ],
   "id": "beeeb447f8876572",
   "outputs": [
    {
     "name": "stdout",
     "output_type": "stream",
     "text": [
      "Epoch 0: 27 / 30\n",
      "Epoch 1: 27 / 30\n",
      "Epoch 2: 27 / 30\n",
      "Epoch 3: 29 / 30\n",
      "Epoch 4: 30 / 30\n",
      "Epoch 5: 28 / 30\n",
      "Epoch 6: 30 / 30\n",
      "Epoch 7: 29 / 30\n",
      "Epoch 8: 30 / 30\n",
      "Epoch 9: 30 / 30\n",
      "Epoch 10: 27 / 30\n",
      "Epoch 11: 30 / 30\n",
      "Epoch 12: 30 / 30\n",
      "Epoch 13: 30 / 30\n",
      "Epoch 14: 30 / 30\n",
      "Epoch 15: 30 / 30\n",
      "Epoch 16: 30 / 30\n",
      "Epoch 17: 30 / 30\n",
      "Epoch 18: 29 / 30\n",
      "Epoch 19: 30 / 30\n",
      "Epoch 20: 30 / 30\n",
      "Epoch 21: 29 / 30\n",
      "Epoch 22: 29 / 30\n",
      "Epoch 23: 30 / 30\n",
      "Epoch 24: 30 / 30\n",
      "Epoch 25: 30 / 30\n",
      "Epoch 26: 30 / 30\n",
      "Epoch 27: 30 / 30\n",
      "Epoch 28: 30 / 30\n",
      "Epoch 29: 30 / 30\n"
     ]
    }
   ],
   "execution_count": 6
  },
  {
   "metadata": {
    "ExecuteTime": {
     "end_time": "2024-07-25T23:22:13.154749Z",
     "start_time": "2024-07-25T23:22:13.132283Z"
    }
   },
   "cell_type": "code",
   "source": [
    "# Function to get the model's predictions and compare with the actual labels\n",
    "def compare_outputs(net, test_data):\n",
    "    predictions = []\n",
    "    actuals = []\n",
    "    for x, y in test_data:\n",
    "        predicted = np.argmax(net.feedforward(x))\n",
    "        actual = np.argmax(y)\n",
    "        predictions.append(predicted)\n",
    "        actuals.append(actual)\n",
    "        print(f'Predicted: {predicted}, Actual: {actual}')\n",
    "\n",
    "    return predictions, actuals\n",
    "\n",
    "# Compare outputs on the test data\n",
    "predictions, actuals = compare_outputs(net, test_data)\n",
    "\n",
    "# Calculate and print the accuracy\n",
    "correct_predictions = sum(int(p == a) for p, a in zip(predictions, actuals))\n",
    "total_samples = len(test_data)\n",
    "accuracy = correct_predictions / total_samples\n",
    "print(f'Accuracy: {accuracy * 100:.2f}%')\n",
    "\n",
    "# Since the labels are integers (0, 1, 2), they directly map to the class indices\n",
    "print(classification_report(actuals, predictions, target_names=['Iris-setosa', 'Iris-versicolor', 'Iris-virginica']))"
   ],
   "id": "44cd77aaaa0d1c33",
   "outputs": [
    {
     "name": "stdout",
     "output_type": "stream",
     "text": [
      "Predicted: 1, Actual: 1\n",
      "Predicted: 0, Actual: 0\n",
      "Predicted: 2, Actual: 2\n",
      "Predicted: 1, Actual: 1\n",
      "Predicted: 1, Actual: 1\n",
      "Predicted: 0, Actual: 0\n",
      "Predicted: 1, Actual: 1\n",
      "Predicted: 2, Actual: 2\n",
      "Predicted: 1, Actual: 1\n",
      "Predicted: 1, Actual: 1\n",
      "Predicted: 2, Actual: 2\n",
      "Predicted: 0, Actual: 0\n",
      "Predicted: 0, Actual: 0\n",
      "Predicted: 0, Actual: 0\n",
      "Predicted: 0, Actual: 0\n",
      "Predicted: 1, Actual: 1\n",
      "Predicted: 2, Actual: 2\n",
      "Predicted: 1, Actual: 1\n",
      "Predicted: 1, Actual: 1\n",
      "Predicted: 2, Actual: 2\n",
      "Predicted: 0, Actual: 0\n",
      "Predicted: 2, Actual: 2\n",
      "Predicted: 0, Actual: 0\n",
      "Predicted: 2, Actual: 2\n",
      "Predicted: 2, Actual: 2\n",
      "Predicted: 2, Actual: 2\n",
      "Predicted: 2, Actual: 2\n",
      "Predicted: 2, Actual: 2\n",
      "Predicted: 0, Actual: 0\n",
      "Predicted: 0, Actual: 0\n",
      "Accuracy: 100.00%\n",
      "                 precision    recall  f1-score   support\n",
      "\n",
      "    Iris-setosa       1.00      1.00      1.00        10\n",
      "Iris-versicolor       1.00      1.00      1.00         9\n",
      " Iris-virginica       1.00      1.00      1.00        11\n",
      "\n",
      "       accuracy                           1.00        30\n",
      "      macro avg       1.00      1.00      1.00        30\n",
      "   weighted avg       1.00      1.00      1.00        30\n",
      "\n"
     ]
    }
   ],
   "execution_count": 7
  },
  {
   "metadata": {},
   "cell_type": "code",
   "outputs": [],
   "execution_count": null,
   "source": "",
   "id": "7718252bcf3586ac"
  }
 ],
 "metadata": {
  "kernelspec": {
   "display_name": "Python 3",
   "language": "python",
   "name": "python3"
  },
  "language_info": {
   "codemirror_mode": {
    "name": "ipython",
    "version": 2
   },
   "file_extension": ".py",
   "mimetype": "text/x-python",
   "name": "python",
   "nbconvert_exporter": "python",
   "pygments_lexer": "ipython2",
   "version": "2.7.6"
  }
 },
 "nbformat": 4,
 "nbformat_minor": 5
}
