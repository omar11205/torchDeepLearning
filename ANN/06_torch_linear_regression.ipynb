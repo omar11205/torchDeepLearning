{
 "cells": [
  {
   "cell_type": "code",
   "id": "initial_id",
   "metadata": {
    "collapsed": true,
    "ExecuteTime": {
     "end_time": "2024-09-05T22:59:58.618908Z",
     "start_time": "2024-09-05T22:59:53.561475Z"
    }
   },
   "source": [
    "import torch\n",
    "import numpy as np\n",
    "import matplotlib.pyplot as plt\n",
    "import torch.nn as nn"
   ],
   "outputs": [],
   "execution_count": 1
  },
  {
   "metadata": {},
   "cell_type": "markdown",
   "source": [
    "# Linear regressions and nn.Module\n",
    "In this section I will discuss how to perform linear regressions using pytorch backpropagation and the basics of training pytorch models with instances of the nn.Module class.\n",
    "\n",
    "To perform a simple linear regression with pytorch we need:\n",
    " \n",
    "1. Specify an input feature in a torch tensor datatype named x\n",
    "2. Specify a *desired result* that in this case could be a simple linear function $y = wx+b$\n",
    "3. Initialize tensors for *w* and *b*. This tensors would be the `optimization parameters` and will require grad.\n",
    "4. Define an optimization task that change the values of the optimization parameters in order to reduce the difference (loss) between the desired result `y` and the predicted result `y_hat`. This task is named`training task`. Inside this training task the `learning rate` is a `hyperparameter` that need to be 'manually' guessed (for now).\n",
    "5. Update the parameters *w* and *b* in order to recalculate the predicted result. \n",
    "\n",
    "## Example 1. Simple linear regression \n",
    "Specifying the input feature tensor x "
   ],
   "id": "b31a8ddd666b4287"
  },
  {
   "metadata": {
    "ExecuteTime": {
     "end_time": "2024-09-05T22:59:58.699997Z",
     "start_time": "2024-09-05T22:59:58.621054Z"
    }
   },
   "cell_type": "code",
   "source": "x = torch.tensor(range(-5, 5)).float() # <- this is the only input feature",
   "id": "60510d601da08400",
   "outputs": [
    {
     "data": {
      "text/plain": [
       "tensor([-11.,  -8.,  -5.,  -2.,   1.,   4.,   7.,  10.,  13.,  16.])"
      ]
     },
     "execution_count": 2,
     "metadata": {},
     "output_type": "execute_result"
    }
   ],
   "execution_count": 2
  },
  {
   "metadata": {},
   "cell_type": "markdown",
   "source": "Defining a Desired result y",
   "id": "b9ec2d5931c004fa"
  },
  {
   "metadata": {},
   "cell_type": "code",
   "outputs": [],
   "execution_count": null,
   "source": [
    "w_gt = 3 # 'real' w\n",
    "b_gt = 4 # 'real' b\n",
    "\n",
    "# desired result \n",
    "y = w_gt * x + b_gt\n",
    "y"
   ],
   "id": "20e0c39bd7d993f2"
  },
  {
   "metadata": {},
   "cell_type": "markdown",
   "source": "Creating the parameters $w$ and $b$. This parameters will be updated in a training task",
   "id": "ebc25da7254d4c12"
  },
  {
   "metadata": {
    "ExecuteTime": {
     "end_time": "2024-09-05T22:59:58.713356Z",
     "start_time": "2024-09-05T22:59:58.701002Z"
    }
   },
   "cell_type": "code",
   "source": [
    "w = torch.randn(1, requires_grad=True) #new value of w to be calculated through the training\n",
    "b = torch.randn(1, requires_grad=True) #new value of b to be calculated through the training\n",
    "print(w, b)"
   ],
   "id": "b9c535874f210a96",
   "outputs": [
    {
     "name": "stdout",
     "output_type": "stream",
     "text": [
      "tensor([0.0049], requires_grad=True) tensor([0.7546], requires_grad=True)\n"
     ]
    }
   ],
   "execution_count": 3
  },
  {
   "metadata": {},
   "cell_type": "markdown",
   "source": [
    "### Defining a training task with gradient descend\n",
    "Remembering the definitions expressed in the notebook `gradient_descend_manual_model` and aplying for this case:\n",
    "\n",
    "Since there is one training input feature (the tensor y) the mean squared loss function $C$ in terms of each pair, desired result $y_i$ and predicted result $\\hat y_i$ is:\n",
    "\n",
    "$$\n",
    "\\begin{eqnarray}  C = \\frac{1}{n} \\sum_{i=1}^{n} (y_i - \\hat{y}_i)^2\n",
    "\\end{eqnarray} \\tag{1}\n",
    "$$ \n",
    "\n",
    "For the bias $b$ and the weight $w$ the gradient descent rules are:\n",
    "\n",
    "\\begin{eqnarray}\n",
    "  w & \\rightarrow & w' = w - \\eta \\frac{\\partial C}{\\partial w} \\tag{2}\\\\\n",
    "  b & \\rightarrow & b' = b - \\eta \\frac{\\partial C}{\\partial b}\n",
    "\\tag{3}\\end{eqnarray}\n",
    "\n",
    "### Training function\n",
    "In this function the `y_hat` is the predicted value of the label tensor `y` and is updated for every epoch with the updated `w` and `b` tensors. Since the tensor track is set on in the `w` and `b` tensors, when the backward method is called in the Mean Squared loss function we are calculating the partial derivative of C with respect to w and b ($\\frac{\\partial{C}}{\\partial{w}}$, $\\frac{\\partial{C}}{\\partial{b}}$) and those derivatives are stored in the .grad property of each tensor. The learning rule is applied to update `w` and `b` tensors and the gradient is restarted for the `w` and `b` tensors for a new gradient descent in the new epoch."
   ],
   "id": "192cfefbbd348613"
  },
  {
   "metadata": {
    "ExecuteTime": {
     "end_time": "2024-09-05T22:59:58.728885Z",
     "start_time": "2024-09-05T22:59:58.721159Z"
    }
   },
   "cell_type": "code",
   "source": [
    "# training function\n",
    "\n",
    "learning_rate = 0.1\n",
    "\n",
    "def trainManual(w, b, lr, epoch):\n",
    "    for i in range(epoch):\n",
    "        # forward pass: with each new w and b, evaluate the tensor y_hat\n",
    "        y_hat = w * x + b\n",
    "        \n",
    "        # compute the tensor error cost function c\n",
    "        c = torch.sum(torch.pow(y-y_hat, 2)/y.numel())\n",
    "        \n",
    "        # backward pass: compute the gradients dC/dw for w, and dC/db for b\n",
    "        c.backward()\n",
    "        \n",
    "        # gradient descend and updating parameters\n",
    "        with torch.no_grad(): # Temporarily set all requires_grad=False\n",
    "            # The -= operator updates w and b in-place without affecting the computational graph because gradient tracking is disabled.\n",
    "            w -= lr*w.grad\n",
    "            b -= lr*b.grad\n",
    "            # restart the gradient descent with zero gradients for the next epoch\n",
    "            w.grad.zero_()\n",
    "            b.grad.zero_()\n",
    "        print(f'w_pred: {w[0]:.4f}, b_pred: {b[0]:.4f}, error: {c:.4f}')"
   ],
   "id": "df85138bb80c5330",
   "outputs": [],
   "execution_count": 5
  },
  {
   "metadata": {
    "ExecuteTime": {
     "end_time": "2024-09-05T22:59:58.764043Z",
     "start_time": "2024-09-05T22:59:58.731894Z"
    }
   },
   "cell_type": "code",
   "source": "trainManual(w, b, learning_rate, epoch=20)",
   "id": "3bc3b50f11b65cb7",
   "outputs": [
    {
     "name": "stdout",
     "output_type": "stream",
     "text": [
      "w_pred: 4.7720, b_pred: 1.1042, error: 77.0618\n",
      "w_pred: 1.4700, b_pred: 1.8605, error: 40.2077\n",
      "w_pred: 3.8570, b_pred: 2.1354, error: 21.2015\n",
      "w_pred: 2.2136, b_pred: 2.5940, error: 11.3182\n",
      "w_pred: 3.4099, b_pred: 2.7966, error: 6.1276\n",
      "w_pred: 2.5927, b_pred: 3.0783, error: 3.3694\n",
      "w_pred: 3.1929, b_pred: 3.2219, error: 1.8840\n",
      "w_pred: 2.7872, b_pred: 3.3968, error: 1.0719\n",
      "w_pred: 3.0887, b_pred: 3.4962, error: 0.6205\n",
      "w_pred: 2.8875, b_pred: 3.6058, error: 0.3654\n",
      "w_pred: 3.0393, b_pred: 3.6734, error: 0.2186\n",
      "w_pred: 2.9398, b_pred: 3.7426, error: 0.1326\n",
      "w_pred: 3.0164, b_pred: 3.7881, error: 0.0815\n",
      "w_pred: 2.9673, b_pred: 3.8321, error: 0.0507\n",
      "w_pred: 3.0061, b_pred: 3.8624, error: 0.0318\n",
      "w_pred: 2.9820, b_pred: 3.8905, error: 0.0201\n",
      "w_pred: 3.0017, b_pred: 3.9106, error: 0.0128\n",
      "w_pred: 2.9899, b_pred: 3.9287, error: 0.0082\n",
      "w_pred: 2.9999, b_pred: 3.9419, error: 0.0052\n",
      "w_pred: 2.9942, b_pred: 3.9535, error: 0.0034\n"
     ]
    }
   ],
   "execution_count": 6
  },
  {
   "metadata": {},
   "cell_type": "markdown",
   "source": [
    "## Example 2. Training with torch.nn.Module\n",
    "\n",
    "### Dataset for linear regression\n",
    "Creating the input feature a column tensor of 50 linearly spaced elements"
   ],
   "id": "64ac7808783eebae"
  },
  {
   "metadata": {
    "ExecuteTime": {
     "end_time": "2024-09-05T22:59:58.774898Z",
     "start_time": "2024-09-05T22:59:58.766056Z"
    }
   },
   "cell_type": "code",
   "source": [
    "X = torch.linspace(1, 50, 50).reshape(-1, 1)\n",
    "print(X)"
   ],
   "id": "8d51ce0e976c4f9a",
   "outputs": [
    {
     "name": "stdout",
     "output_type": "stream",
     "text": [
      "tensor([[ 1.],\n",
      "        [ 2.],\n",
      "        [ 3.],\n",
      "        [ 4.],\n",
      "        [ 5.],\n",
      "        [ 6.],\n",
      "        [ 7.],\n",
      "        [ 8.],\n",
      "        [ 9.],\n",
      "        [10.],\n",
      "        [11.],\n",
      "        [12.],\n",
      "        [13.],\n",
      "        [14.],\n",
      "        [15.],\n",
      "        [16.],\n",
      "        [17.],\n",
      "        [18.],\n",
      "        [19.],\n",
      "        [20.],\n",
      "        [21.],\n",
      "        [22.],\n",
      "        [23.],\n",
      "        [24.],\n",
      "        [25.],\n",
      "        [26.],\n",
      "        [27.],\n",
      "        [28.],\n",
      "        [29.],\n",
      "        [30.],\n",
      "        [31.],\n",
      "        [32.],\n",
      "        [33.],\n",
      "        [34.],\n",
      "        [35.],\n",
      "        [36.],\n",
      "        [37.],\n",
      "        [38.],\n",
      "        [39.],\n",
      "        [40.],\n",
      "        [41.],\n",
      "        [42.],\n",
      "        [43.],\n",
      "        [44.],\n",
      "        [45.],\n",
      "        [46.],\n",
      "        [47.],\n",
      "        [48.],\n",
      "        [49.],\n",
      "        [50.]])\n"
     ]
    }
   ],
   "execution_count": 7
  },
  {
   "metadata": {},
   "cell_type": "markdown",
   "source": "Creating a random array of error values of the same shape of the X column matrix (50,1)",
   "id": "1edde474c00e155c"
  },
  {
   "metadata": {
    "ExecuteTime": {
     "end_time": "2024-09-05T22:59:58.822820Z",
     "start_time": "2024-09-05T22:59:58.776904Z"
    }
   },
   "cell_type": "code",
   "source": [
    "torch.manual_seed(71)\n",
    "e = torch.randint(-8, 9, (50,1), dtype=torch.float)\n",
    "print(e)"
   ],
   "id": "80767556c1fc445f",
   "outputs": [
    {
     "name": "stdout",
     "output_type": "stream",
     "text": [
      "tensor([[ 2.],\n",
      "        [ 7.],\n",
      "        [ 2.],\n",
      "        [ 6.],\n",
      "        [ 2.],\n",
      "        [-4.],\n",
      "        [ 2.],\n",
      "        [-5.],\n",
      "        [ 4.],\n",
      "        [ 1.],\n",
      "        [ 2.],\n",
      "        [ 3.],\n",
      "        [ 1.],\n",
      "        [-8.],\n",
      "        [ 5.],\n",
      "        [ 5.],\n",
      "        [-6.],\n",
      "        [ 0.],\n",
      "        [-7.],\n",
      "        [-8.],\n",
      "        [-3.],\n",
      "        [-1.],\n",
      "        [ 2.],\n",
      "        [-6.],\n",
      "        [-3.],\n",
      "        [ 3.],\n",
      "        [ 2.],\n",
      "        [ 3.],\n",
      "        [ 4.],\n",
      "        [ 5.],\n",
      "        [ 1.],\n",
      "        [ 7.],\n",
      "        [ 6.],\n",
      "        [-1.],\n",
      "        [-6.],\n",
      "        [-5.],\n",
      "        [-3.],\n",
      "        [ 7.],\n",
      "        [ 0.],\n",
      "        [ 8.],\n",
      "        [-1.],\n",
      "        [-2.],\n",
      "        [ 2.],\n",
      "        [-8.],\n",
      "        [-1.],\n",
      "        [ 6.],\n",
      "        [-8.],\n",
      "        [-3.],\n",
      "        [-7.],\n",
      "        [-2.]])\n"
     ]
    }
   ],
   "execution_count": 8
  },
  {
   "metadata": {},
   "cell_type": "markdown",
   "source": "Creating the output feature a tensor for the linear function $y(x) = 2*x + 1$ plus an random error $e$ (noise)",
   "id": "625fc6aaa52e6ee1"
  },
  {
   "metadata": {
    "ExecuteTime": {
     "end_time": "2024-09-05T22:59:58.831879Z",
     "start_time": "2024-09-05T22:59:58.823825Z"
    }
   },
   "cell_type": "code",
   "source": [
    "y = 2*X + 1 + e\n",
    "y.shape"
   ],
   "id": "23d5cc9c28eb80cb",
   "outputs": [
    {
     "data": {
      "text/plain": [
       "torch.Size([50, 1])"
      ]
     },
     "execution_count": 9,
     "metadata": {},
     "output_type": "execute_result"
    }
   ],
   "execution_count": 9
  },
  {
   "metadata": {},
   "cell_type": "code",
   "source": [
    "# in order to plot, first convert the tensors into numpy arrays\n",
    "plt.scatter(X.numpy(), y.numpy())"
   ],
   "id": "69f5685877c63712",
   "outputs": [],
   "execution_count": null
  },
  {
   "metadata": {},
   "cell_type": "markdown",
   "source": [
    "## Definition of a model class\n",
    "The next class customize instances of the pytorch `nn.Module` class with the aim of set the neural network architecture and a forward method according to the desired network architecture. The instances of this new class are used in the training algorithms and are often named 'model'. By default, the forward method must be named `forward` in order to use the syntactic sugar `model(X)` to perform the forward pass. Without this naming convention, `model(X)` would not perform the forward pass automatically.   "
   ],
   "id": "cd72b42cfeec760b"
  },
  {
   "metadata": {
    "ExecuteTime": {
     "end_time": "2024-09-05T22:59:59.189711Z",
     "start_time": "2024-09-05T22:59:59.114934Z"
    }
   },
   "cell_type": "code",
   "source": [
    "class Model(nn.Module):\n",
    "    def __init__(self, in_features, out_features):\n",
    "        super().__init__() #inherits the constructor method of the parent class (nn.Module)\n",
    "        self.linear = nn.Linear(in_features, out_features) # the type of neural network layer that is employed here: Linear is a fully connected or Dense layer \n",
    "    \n",
    "    def forward(self, x):\n",
    "        y_pred = self.linear(x) #applies the linear transformation\n",
    "        return y_pred"
   ],
   "id": "6da3ed3850cbe901",
   "outputs": [],
   "execution_count": 11
  },
  {
   "metadata": {},
   "cell_type": "markdown",
   "source": [
    "### What does nn.Linear() do?\n",
    "The nn.Linear() layer in PyTorch performs a linear transformation of the input data in order to create the weights and biases that requires a model for the desired input features and the desired output features. Mathematically, for an input vector $x \\in \\mathbb{R}^n$, the linear layer computes: \n",
    "\n",
    "$$y = W x + b$$\n",
    "\n",
    "Where:\n",
    "\n",
    "- $W$ is the weight matrix\n",
    "- $x$ is the input vector\n",
    "- $b$ is the bias vector\n",
    "- $y$ is the output vector\n",
    "\n",
    "This linear transformation is also known as an affine transformation, which combines a linear transformation (through matrix multiplication) and a translation (through the bias).\n",
    "\n",
    "#### Example, creating a model for 2 features and 2 outputs:\n",
    "\n",
    "When you create a model with `model(2, 2)`, the linear layer is initialized as `nn.Linear(in_features=2, out_features=2)`. This means:\n",
    "\n",
    "- The input tensor $X$ has 2 features (e.g,. $X = [x_1, x_2]$)\n",
    "- The output tensor y will also have 2 values.\n",
    "\n",
    "The linear transformation for this model is:\n",
    "$$\n",
    "y = W \\begin{bmatrix} x_1 \\\\ x_2 \\end{bmatrix} + b\n",
    "= \\begin{bmatrix} w_{11} & w_{12} \\\\ w_{21} & w_{22} \\end{bmatrix} \\begin{bmatrix} x_1 \\\\ x_2 \\end{bmatrix} + \\begin{bmatrix} b_1 \\\\ b_2 \\end{bmatrix}\n",
    "$$\n",
    "\n",
    "which expands to: \n",
    "\n",
    "$$ y_1 = w_{11} x_1 + w_{12} x_2 + b_1 $$\n",
    "$$ y_2 = w_{21} x_1 + w_{22} x_2 + b_2 $$\n",
    " \n",
    "Thus, and this is important to understand in pytorch, when you call `model(X)` PyTorch performs this matrix multiplication and bias addition to return the transformed tensor $\\hat{y}$ (forward pass). **These are part of the operations that will be tracked and later will be used in the training algorithm to perform the backpropagation pass**.\n",
    "\n",
    "### How can be performed the training and optimization of a PyTorch model\n",
    "Once the linear transformation is defined, the `model` is trained using a dataset to learn the optimal values for the weight matrix $W$ and bias vector $b$ through backpropagation and gradient descent. During each forward pass, the input data $X$ is transformed linearly, and the resulting output is used to compute the loss, which informs how the weights $W$ and biases $b$ needs to be updated in a training loop.\n",
    "\n",
    "### Model instance for a linear regression\n",
    "The only input feature in a linear regression is the $x$ tensor and the only \"label\" or output feature is the $y$ tensor then the model requires one input feature and one output feature. When an instance of the Model class is defined a set of biases and weights are being created as a properties of Linear."
   ],
   "id": "648d484f6bda4f67"
  },
  {
   "metadata": {
    "ExecuteTime": {
     "end_time": "2024-09-05T22:59:59.222273Z",
     "start_time": "2024-09-05T22:59:59.193719Z"
    }
   },
   "cell_type": "code",
   "source": [
    "torch.manual_seed(59) \n",
    "\n",
    "model = Model(1,1) # one simple feature x in, one simple out feature y\n",
    "print(model.linear.weight)\n",
    "print(model.linear.bias)"
   ],
   "id": "60988ff1dd4ffd29",
   "outputs": [
    {
     "name": "stdout",
     "output_type": "stream",
     "text": [
      "Parameter containing:\n",
      "tensor([[0.1060]], requires_grad=True)\n",
      "Parameter containing:\n",
      "tensor([0.9638], requires_grad=True)\n"
     ]
    }
   ],
   "execution_count": 12
  },
  {
   "metadata": {},
   "cell_type": "markdown",
   "source": [
    "### PyTorch instances for the loss function and the optimizer (type of gradient descend)\n",
    "For the definition of a training loop to update the values of the weights and the biases we can use PyTorch instances for the type of gradient descend also called *optimizer* and the type of loss function (commonly called *criterion*) that we want. Within the definition of the optimizer we need to pass an initial guessed learning rate in the \"lr\" parameter."
   ],
   "id": "15d55b1cf66a68ec"
  },
  {
   "metadata": {
    "ExecuteTime": {
     "end_time": "2024-09-05T22:59:59.229399Z",
     "start_time": "2024-09-05T22:59:59.224279Z"
    }
   },
   "cell_type": "code",
   "source": [
    "# setting the loss function: mean square error loss (the target function for the optimization)\n",
    "criterion = nn.MSELoss()\n",
    "print(criterion.type)"
   ],
   "id": "848f81e4746805e1",
   "outputs": [
    {
     "name": "stdout",
     "output_type": "stream",
     "text": [
      "<bound method Module.type of MSELoss()>\n"
     ]
    }
   ],
   "execution_count": 13
  },
  {
   "metadata": {
    "ExecuteTime": {
     "end_time": "2024-09-05T23:00:02.704884Z",
     "start_time": "2024-09-05T22:59:59.232409Z"
    }
   },
   "cell_type": "code",
   "source": [
    "# setting the learning rate as stochastic gradient descend, learning rate, lr = 0.01\n",
    "# this could be used to update the weights and biases \n",
    "optimizer = torch.optim.SGD(model.parameters(), lr=0.001)\n",
    "type(optimizer)"
   ],
   "id": "952f577074cd19d6",
   "outputs": [
    {
     "data": {
      "text/plain": [
       "torch.optim.sgd.SGD"
      ]
     },
     "execution_count": 14,
     "metadata": {},
     "output_type": "execute_result"
    }
   ],
   "execution_count": 14
  },
  {
   "metadata": {},
   "cell_type": "markdown",
   "source": [
    "### Basic training loop for linear regression\n",
    "The epochs are defined as: the entire pass or entire processing of the dataset that ends updating the biases and weights of the network. With this update, the next epoch will be closer and closer to the optimization. In order to reach an optimum number of epochs we need to track the losses."
   ],
   "id": "9aa88dd74f06b9a9"
  },
  {
   "metadata": {
    "ExecuteTime": {
     "end_time": "2024-09-05T23:00:02.756683Z",
     "start_time": "2024-09-05T23:00:02.705897Z"
    }
   },
   "cell_type": "code",
   "source": [
    "epochs = 25\n",
    "losses = []\n",
    "for epoch in range(epochs):\n",
    "    epoch += 1\n",
    "    \n",
    "    #to prevent the accumulation of the gradients steps in the next epoch\n",
    "    #starting \"fresh\" for the next epoch\n",
    "    optimizer.zero_grad()\n",
    "    \n",
    "    # prediction of y (forward pass)\n",
    "    y_pred = model.forward(X)\n",
    "    \n",
    "    # calculate the loss (error)\n",
    "    loss = criterion(y_pred, y)\n",
    "    \n",
    "    # record the error\n",
    "    losses.append(loss.detach().numpy())\n",
    "    \n",
    "    print(f'epoch: {epoch}, loss: {loss.item()}, weight: {model.linear.weight.item()}, bias {model.linear.bias.item()}')\n",
    "    \n",
    "    #find the derivatives with respect to the loss function (backward step)\n",
    "    # the derivatives of the weights and biases will be stored inside the 'model' object  (see the notebook 'computational_graph_from_scratch.ipynb' to look simple examples of how could be done this with OOP)\n",
    "    loss.backward() \n",
    "    \n",
    "    #apply gradient descent with the derivatives calculated in the previous step to minimize the weight and the bias parameters and update this values inside the 'model' object \n",
    "    optimizer.step()"
   ],
   "id": "b88ebf5d8fb79ac",
   "outputs": [
    {
     "name": "stdout",
     "output_type": "stream",
     "text": [
      "epoch: 1, loss: 3057.216796875, weight: 0.10597813129425049, bias 0.9637961387634277\n",
      "epoch: 2, loss: 1588.5311279296875, weight: 3.334900379180908, bias 1.0604636669158936\n",
      "epoch: 3, loss: 830.2999877929688, weight: 1.0148327350616455, bias 0.9922628402709961\n",
      "epoch: 4, loss: 438.8524169921875, weight: 2.6817996501922607, bias 1.0425218343734741\n",
      "epoch: 5, loss: 236.7615203857422, weight: 1.4840211868286133, bias 1.0076650381088257\n",
      "epoch: 6, loss: 132.4291229248047, weight: 2.3446059226989746, bias 1.0339646339416504\n",
      "epoch: 7, loss: 78.56572723388672, weight: 1.7262253761291504, bias 1.0163217782974243\n",
      "epoch: 8, loss: 50.75775909423828, weight: 2.170504093170166, bias 1.0302516222000122\n",
      "epoch: 9, loss: 36.4012336730957, weight: 1.8512457609176636, bias 1.0214954614639282\n",
      "epoch: 10, loss: 28.989229202270508, weight: 2.0806007385253906, bias 1.029038906097412\n",
      "epoch: 11, loss: 25.162382125854492, weight: 1.9157683849334717, bias 1.0248701572418213\n",
      "epoch: 12, loss: 23.186473846435547, weight: 2.034165620803833, bias 1.0291162729263306\n",
      "epoch: 13, loss: 22.166126251220703, weight: 1.9490584135055542, bias 1.027315616607666\n",
      "epoch: 14, loss: 21.639110565185547, weight: 2.010172128677368, bias 1.0298590660095215\n",
      "epoch: 15, loss: 21.366771697998047, weight: 1.9662237167358398, bias 1.0292805433273315\n",
      "epoch: 16, loss: 21.22591781616211, weight: 1.997764229774475, bias 1.030944585800171\n",
      "epoch: 17, loss: 21.15294647216797, weight: 1.9750648736953735, bias 1.0309966802597046\n",
      "epoch: 18, loss: 21.115009307861328, weight: 1.991337537765503, bias 1.032206416130066\n",
      "epoch: 19, loss: 21.095176696777344, weight: 1.9796085357666016, bias 1.0325838327407837\n",
      "epoch: 20, loss: 21.084684371948242, weight: 1.9879988431930542, bias 1.0335586071014404\n",
      "epoch: 21, loss: 21.07901382446289, weight: 1.981933355331421, bias 1.034103512763977\n",
      "epoch: 22, loss: 21.075830459594727, weight: 1.9862544536590576, bias 1.034956693649292\n",
      "epoch: 23, loss: 21.073938369750977, weight: 1.9831126928329468, bias 1.0355877876281738\n",
      "epoch: 24, loss: 21.07270050048828, weight: 1.9853330850601196, bias 1.0363779067993164\n",
      "epoch: 25, loss: 21.071819305419922, weight: 1.9837009906768799, bias 1.037053108215332\n"
     ]
    }
   ],
   "execution_count": 15
  },
  {
   "metadata": {
    "ExecuteTime": {
     "end_time": "2024-09-05T23:00:02.877827Z",
     "start_time": "2024-09-05T23:00:02.757697Z"
    }
   },
   "cell_type": "code",
   "source": [
    "plt.plot(range(epochs), losses)\n",
    "plt.ylabel('MSE Loss')\n",
    "plt.xlabel('Epoch')"
   ],
   "id": "77199fbf08b9c05c",
   "outputs": [
    {
     "data": {
      "text/plain": [
       "Text(0.5, 0, 'Epoch')"
      ]
     },
     "execution_count": 16,
     "metadata": {},
     "output_type": "execute_result"
    },
    {
     "data": {
      "text/plain": [
       "<Figure size 640x480 with 1 Axes>"
      ],
      "image/png": "[encoded data removed]"
     },
     "metadata": {},
     "output_type": "display_data"
    }
   ],
   "execution_count": 16
  },
  {
   "metadata": {
    "ExecuteTime": {
     "end_time": "2024-09-05T23:00:02.884536Z",
     "start_time": "2024-09-05T23:00:02.878835Z"
    }
   },
   "cell_type": "code",
   "source": [
    "x = np.linspace(0, 50, 50)\n",
    "current_weight = model.linear.weight.item()\n",
    "current_bias = model.linear.bias.item()\n",
    "predicted_y = current_weight*x + current_bias"
   ],
   "id": "da91190edec4e59f",
   "outputs": [],
   "execution_count": 17
  },
  {
   "metadata": {
    "ExecuteTime": {
     "end_time": "2024-09-05T23:00:03.017492Z",
     "start_time": "2024-09-05T23:00:02.888551Z"
    }
   },
   "cell_type": "code",
   "source": [
    "plt.scatter(X.numpy(), y.numpy())\n",
    "plt.plot(x, predicted_y, 'r')"
   ],
   "id": "3e808d17535ca4b",
   "outputs": [
    {
     "data": {
      "text/plain": [
       "[<matplotlib.lines.Line2D at 0x17bb32c08d0>]"
      ]
     },
     "execution_count": 18,
     "metadata": {},
     "output_type": "execute_result"
    },
    {
     "data": {
      "text/plain": [
       "<Figure size 640x480 with 1 Axes>"
      ],
      "image/png": "[encoded data removed]"
     },
     "metadata": {},
     "output_type": "display_data"
    }
   ],
   "execution_count": 18
  }
 ],
 "metadata": {
  "kernelspec": {
   "display_name": "Python 3",
   "language": "python",
   "name": "python3"
  },
  "language_info": {
   "codemirror_mode": {
    "name": "ipython",
    "version": 2
   },
   "file_extension": ".py",
   "mimetype": "text/x-python",
   "name": "python",
   "nbconvert_exporter": "python",
   "pygments_lexer": "ipython2",
   "version": "2.7.6"
  }
 },
 "nbformat": 4,
 "nbformat_minor": 5
}
