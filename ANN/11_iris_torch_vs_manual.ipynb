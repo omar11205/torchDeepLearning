{
 "cells": [
  {
   "metadata": {},
   "cell_type": "markdown",
   "source": [
    "## PyTorch vs Manual Model for Classification\n",
    "In this section I would compare the performance of a classification task using PyTorch instances and an instance of the used NNetwork class with the IRIS dataset (lately used to train MNIST dataset). \n",
    "First I will use Stochastic Gradient Descend as optimizer and Sigmod activation function since these are used in the original Manual Model. The output of the output layer was evaluated with a np.argmax as equivalent to softmax activation function. The architecture was [4, 30, 3]\n",
    "The same configuration is used to train the same preprocesed dataset but with PyTorch using Secuential.\n",
    "\n",
    "Notes:\n",
    "\n",
    "- LabelEncoder is used with CrossEntropyLoss and LogSoftMax\n",
    "- OneHotEncoder is used with most optimizers and SoftMax"
   ],
   "id": "2f07c154770dca3a"
  },
  {
   "metadata": {},
   "cell_type": "markdown",
   "source": [
    "### Manual model\n",
    "Source: http://neuralnetworksanddeeplearning.com/chap1.html"
   ],
   "id": "6347a4b842739b1"
  },
  {
   "metadata": {},
   "cell_type": "code",
   "source": [
    "import numpy as np\n",
    "import pandas as pd\n",
    "from sklearn.model_selection import train_test_split\n",
    "from sklearn.preprocessing import OneHotEncoder, StandardScaler\n",
    "from sklearn.metrics import classification_report"
   ],
   "id": "a7ca61191d755c55",
   "outputs": [],
   "execution_count": null
  },
  {
   "metadata": {},
   "cell_type": "code",
   "source": [
    "# Seed for reproducibility\n",
    "np.random.seed(42)\n",
    "\n",
    "# Define the sigmoid function and its derivative\n",
    "def sigmoid(z):\n",
    "    return 1.0 / (1.0 + np.exp(-z))\n",
    "\n",
    "def sigmoid_prime(z):\n",
    "    return sigmoid(z) * (1 - sigmoid(z))"
   ],
   "id": "ee65ea076762599a",
   "outputs": [],
   "execution_count": null
  },
  {
   "metadata": {},
   "cell_type": "code",
   "source": [
    "# Neural Network Class\n",
    "class NNetwork(object):\n",
    "    def __init__(self, sizes):\n",
    "        self.num_layers = len(sizes)\n",
    "        self.sizes = sizes\n",
    "        self.biases = [np.random.randn(y, 1) for y in sizes[1:]]\n",
    "        self.weights = [np.random.randn(y, x) for x, y in zip(sizes[:-1], sizes[1:])]\n",
    "\n",
    "    def feedforward(self, a):\n",
    "        for b, w in zip(self.biases, self.weights):\n",
    "            a = sigmoid(np.dot(w, a) + b)\n",
    "        return a\n",
    "\n",
    "    def evaluate(self, test_data):\n",
    "        test_results = [(np.argmax(self.feedforward(x)), np.argmax(y)) for (x, y) in test_data]\n",
    "        return sum(int(x == y) for (x, y) in test_results)\n",
    "\n",
    "    def cost_derivative(self, output_activations, y):\n",
    "        return (output_activations - y)\n",
    "\n",
    "    def backprop(self, x, y):\n",
    "        nabla_b = [np.zeros(b.shape) for b in self.biases]\n",
    "        nabla_w = [np.zeros(w.shape) for w in self.weights]\n",
    "        activation = x\n",
    "        activations = [x]\n",
    "        zs = []\n",
    "        for b, w in zip(self.biases, self.weights):\n",
    "            z = np.dot(w, activation) + b\n",
    "            zs.append(z)\n",
    "            activation = sigmoid(z)\n",
    "            activations.append(activation)\n",
    "        delta = self.cost_derivative(activations[-1], y) * sigmoid_prime(zs[-1])\n",
    "        nabla_b[-1] = delta\n",
    "        nabla_w[-1] = np.dot(delta, activations[-2].transpose())\n",
    "        for l in range(2, self.num_layers):\n",
    "            z = zs[-l]\n",
    "            sp = sigmoid_prime(z)\n",
    "            delta = np.dot(self.weights[-l + 1].transpose(), delta) * sp\n",
    "            nabla_b[-l] = delta\n",
    "            nabla_w[-l] = np.dot(delta, activations[-l - 1].transpose())\n",
    "        return (nabla_b, nabla_w)\n",
    "\n",
    "    def update_mini_batch(self, mini_batch, eta_learning_rate):\n",
    "        nabla_b = [np.zeros(b.shape) for b in self.biases]\n",
    "        nabla_w = [np.zeros(w.shape) for w in self.weights]\n",
    "        for x, y in mini_batch:\n",
    "            delta_nabla_b, delta_nabla_w = self.backprop(x, y)\n",
    "            nabla_b = [nb + dnb for nb, dnb in zip(nabla_b, delta_nabla_b)]\n",
    "            nabla_w = [nw + dnw for nw, dnw in zip(nabla_w, delta_nabla_w)]\n",
    "        self.weights = [w - (eta_learning_rate / len(mini_batch)) * nw for w, nw in zip(self.weights, nabla_w)]\n",
    "        self.biases = [b - (eta_learning_rate / len(mini_batch)) * nb for b, nb in zip(self.biases, nabla_b)]\n",
    "\n",
    "    def sgd(self, training_data, epochs, mini_batch_size, eta_learning_rate, test_data=None):\n",
    "        training_data = list(training_data)\n",
    "        n = len(training_data)\n",
    "        if test_data:\n",
    "            test_data = list(test_data)\n",
    "            n_test = len(test_data)\n",
    "        for j in range(epochs):\n",
    "            np.random.shuffle(training_data)\n",
    "            mini_batches = [training_data[k:k + mini_batch_size] for k in range(0, n, mini_batch_size)]\n",
    "            for mini_batch in mini_batches:\n",
    "                self.update_mini_batch(mini_batch, eta_learning_rate)\n",
    "            if test_data:\n",
    "                print(f'Epoch {j}: {self.evaluate(test_data)} / {n_test}')\n",
    "            else:\n",
    "                print(f'Epoch {j} complete')"
   ],
   "id": "1c18a5df17a37651",
   "outputs": [],
   "execution_count": null
  },
  {
   "metadata": {},
   "cell_type": "code",
   "source": [
    "# Load and preprocess the IRIS dataset\n",
    "def load_iris_data():\n",
    "    df = pd.read_csv('data/iris.csv', na_values=[\"NA\", \"?\"])\n",
    "    X = df[['sepal_l', 'sepal_w', 'petal_l', 'petal_w']].values.astype(np.float32)\n",
    "    y = df['species'].values\n",
    "\n",
    "    # Encoding the labels in y\n",
    "    encoder = OneHotEncoder(sparse_output=False)\n",
    "    y_encoded = encoder.fit_transform(y.reshape(-1, 1)).astype(np.float32)\n",
    "\n",
    "    # Split training and validation data\n",
    "    x_train, x_test, y_train, y_test = train_test_split(X, y_encoded, test_size=0.2, random_state=42)\n",
    "\n",
    "    # Normalize x set\n",
    "    scaler = StandardScaler()\n",
    "    x_train = scaler.fit_transform(x_train)\n",
    "    x_test = scaler.transform(x_test)\n",
    "\n",
    "    return x_train, x_test, y_train, y_test\n",
    "\n",
    "def iris_data_wrapper(X, y):\n",
    "    inputs = [np.reshape(x, (4, 1)) for x in X]\n",
    "    results = [np.reshape(y_i, (3, 1)) for y_i in y]\n",
    "    data = list(zip(inputs, results))\n",
    "    print(data[0])\n",
    "    return data"
   ],
   "id": "22cdbc7b8abfb233",
   "outputs": [],
   "execution_count": null
  },
  {
   "metadata": {},
   "cell_type": "code",
   "source": [
    "# Load normalized and encoded data\n",
    "x_train, x_test, y_train, y_test = load_iris_data()\n",
    "\n",
    "# Prepare data for NNetwork\n",
    "train_data = iris_data_wrapper(x_train, y_train)\n",
    "test_data = iris_data_wrapper(x_test, y_test)"
   ],
   "id": "24b0177a37a299bd",
   "outputs": [],
   "execution_count": null
  },
  {
   "metadata": {},
   "cell_type": "code",
   "source": [
    "# Initialize and train the network\n",
    "net = NNetwork([4, 30, 3])\n",
    "net.sgd(train_data, 30, 10, 3.0, test_data=test_data)"
   ],
   "id": "beeeb447f8876572",
   "outputs": [],
   "execution_count": null
  },
  {
   "metadata": {},
   "cell_type": "code",
   "source": [
    "# Function to get the model's predictions and compare with the actual labels\n",
    "def compare_outputs(net, test_data):\n",
    "    predictions = []\n",
    "    actuals = []\n",
    "    for x, y in test_data:\n",
    "        predicted = np.argmax(net.feedforward(x))\n",
    "        actual = np.argmax(y)\n",
    "        predictions.append(predicted)\n",
    "        actuals.append(actual)\n",
    "        print(f'Predicted: {predicted}, Actual: {actual}')\n",
    "\n",
    "    return predictions, actuals\n",
    "\n",
    "# Compare outputs on the test data\n",
    "predictions, actuals = compare_outputs(net, test_data)\n",
    "\n",
    "# Calculate and print the accuracy\n",
    "correct_predictions = sum(int(p == a) for p, a in zip(predictions, actuals))\n",
    "total_samples = len(test_data)\n",
    "accuracy = correct_predictions / total_samples\n",
    "print(f'Accuracy: {accuracy * 100:.2f}%')\n",
    "\n",
    "# Since the labels are integers (0, 1, 2), they directly map to the class indices\n",
    "print(classification_report(actuals, predictions, target_names=['Iris-setosa', 'Iris-versicolor', 'Iris-virginica']))"
   ],
   "id": "44cd77aaaa0d1c33",
   "outputs": [],
   "execution_count": null
  },
  {
   "metadata": {},
   "cell_type": "markdown",
   "source": "## PyTorch model",
   "id": "21952eac801f17b5"
  },
  {
   "metadata": {
    "ExecuteTime": {
     "end_time": "2024-07-26T16:13:07.533560Z",
     "start_time": "2024-07-26T16:13:02.545497Z"
    }
   },
   "cell_type": "code",
   "source": [
    "import numpy as np\n",
    "import torch\n",
    "import pandas as pd\n",
    "from sklearn.model_selection import train_test_split\n",
    "from sklearn.preprocessing import OneHotEncoder, StandardScaler\n",
    "from torch import nn\n",
    "from torch.utils.data import DataLoader, TensorDataset"
   ],
   "id": "7718252bcf3586ac",
   "outputs": [],
   "execution_count": 1
  },
  {
   "metadata": {
    "ExecuteTime": {
     "end_time": "2024-07-26T16:13:10.618184Z",
     "start_time": "2024-07-26T16:13:10.610819Z"
    }
   },
   "cell_type": "code",
   "source": [
    "# Load and preprocess the IRIS dataset\n",
    "def load_iris_data():\n",
    "    df = pd.read_csv('data/iris.csv', na_values=[\"NA\", \"?\"])\n",
    "    X = df[['sepal_l', 'sepal_w', 'petal_l', 'petal_w']].values.astype(np.float32)\n",
    "\n",
    "    # Encoding the labels in y\n",
    "    encoder = OneHotEncoder(sparse_output=False)\n",
    "    y_encoded = encoder.fit_transform(df[\"species\"].values.reshape(-1, 1))\n",
    "    print(f\"Y encoded: {y_encoded}\")\n",
    "    # Split training and validation data\n",
    "    x_train, x_test, y_train, y_test = train_test_split(X, y_encoded, test_size=0.2, random_state=42)\n",
    "    species = df['species'].unique()\n",
    "\n",
    "    # Normalize x set\n",
    "    scaler = StandardScaler()\n",
    "    x_train = scaler.fit_transform(x_train)\n",
    "    x_test = scaler.transform(x_test)\n",
    "    \n",
    "    return x_train, x_test, y_train, y_test, species"
   ],
   "id": "260f39a590c5959e",
   "outputs": [],
   "execution_count": 2
  },
  {
   "metadata": {
    "ExecuteTime": {
     "end_time": "2024-07-26T16:13:11.841664Z",
     "start_time": "2024-07-26T16:13:11.810958Z"
    }
   },
   "cell_type": "code",
   "source": [
    "# select the training device\n",
    "device = \"cpu\"\n",
    "\n",
    "# load and normalize data\n",
    "x_train, x_test, y_train, y_test, species = load_iris_data()\n",
    "\n",
    "# numpy to tensor\n",
    "x_train = torch.tensor(x_train, device=device, dtype=torch.float32)\n",
    "y_train = torch.tensor(y_train, device=device, dtype=torch.float32)\n",
    "\n",
    "x_test = torch.tensor(x_test, device=device, dtype=torch.float32)\n",
    "y_test = torch.tensor(y_test, device=device, dtype=torch.float32)\n",
    "\n",
    "# create torch datasets\n",
    "batch_size = 16\n",
    "\n",
    "dataset_train = TensorDataset(x_train, y_train)\n",
    "dataloader_train = DataLoader(dataset_train, batch_size=batch_size, shuffle=True)\n",
    "\n",
    "dataset_test = TensorDataset(x_test, y_test)\n",
    "dataloader_test = DataLoader(dataset_test, batch_size=batch_size, shuffle=True)"
   ],
   "id": "3052933ff032ff0c",
   "outputs": [
    {
     "name": "stdout",
     "output_type": "stream",
     "text": [
      "Y encoded: [[1. 0. 0.]\n",
      " [1. 0. 0.]\n",
      " [1. 0. 0.]\n",
      " [1. 0. 0.]\n",
      " [1. 0. 0.]\n",
      " [1. 0. 0.]\n",
      " [1. 0. 0.]\n",
      " [1. 0. 0.]\n",
      " [1. 0. 0.]\n",
      " [1. 0. 0.]\n",
      " [1. 0. 0.]\n",
      " [1. 0. 0.]\n",
      " [1. 0. 0.]\n",
      " [1. 0. 0.]\n",
      " [1. 0. 0.]\n",
      " [1. 0. 0.]\n",
      " [1. 0. 0.]\n",
      " [1. 0. 0.]\n",
      " [1. 0. 0.]\n",
      " [1. 0. 0.]\n",
      " [1. 0. 0.]\n",
      " [1. 0. 0.]\n",
      " [1. 0. 0.]\n",
      " [1. 0. 0.]\n",
      " [1. 0. 0.]\n",
      " [1. 0. 0.]\n",
      " [1. 0. 0.]\n",
      " [1. 0. 0.]\n",
      " [1. 0. 0.]\n",
      " [1. 0. 0.]\n",
      " [1. 0. 0.]\n",
      " [1. 0. 0.]\n",
      " [1. 0. 0.]\n",
      " [1. 0. 0.]\n",
      " [1. 0. 0.]\n",
      " [1. 0. 0.]\n",
      " [1. 0. 0.]\n",
      " [1. 0. 0.]\n",
      " [1. 0. 0.]\n",
      " [1. 0. 0.]\n",
      " [1. 0. 0.]\n",
      " [1. 0. 0.]\n",
      " [1. 0. 0.]\n",
      " [1. 0. 0.]\n",
      " [1. 0. 0.]\n",
      " [1. 0. 0.]\n",
      " [1. 0. 0.]\n",
      " [1. 0. 0.]\n",
      " [1. 0. 0.]\n",
      " [1. 0. 0.]\n",
      " [0. 1. 0.]\n",
      " [0. 1. 0.]\n",
      " [0. 1. 0.]\n",
      " [0. 1. 0.]\n",
      " [0. 1. 0.]\n",
      " [0. 1. 0.]\n",
      " [0. 1. 0.]\n",
      " [0. 1. 0.]\n",
      " [0. 1. 0.]\n",
      " [0. 1. 0.]\n",
      " [0. 1. 0.]\n",
      " [0. 1. 0.]\n",
      " [0. 1. 0.]\n",
      " [0. 1. 0.]\n",
      " [0. 1. 0.]\n",
      " [0. 1. 0.]\n",
      " [0. 1. 0.]\n",
      " [0. 1. 0.]\n",
      " [0. 1. 0.]\n",
      " [0. 1. 0.]\n",
      " [0. 1. 0.]\n",
      " [0. 1. 0.]\n",
      " [0. 1. 0.]\n",
      " [0. 1. 0.]\n",
      " [0. 1. 0.]\n",
      " [0. 1. 0.]\n",
      " [0. 1. 0.]\n",
      " [0. 1. 0.]\n",
      " [0. 1. 0.]\n",
      " [0. 1. 0.]\n",
      " [0. 1. 0.]\n",
      " [0. 1. 0.]\n",
      " [0. 1. 0.]\n",
      " [0. 1. 0.]\n",
      " [0. 1. 0.]\n",
      " [0. 1. 0.]\n",
      " [0. 1. 0.]\n",
      " [0. 1. 0.]\n",
      " [0. 1. 0.]\n",
      " [0. 1. 0.]\n",
      " [0. 1. 0.]\n",
      " [0. 1. 0.]\n",
      " [0. 1. 0.]\n",
      " [0. 1. 0.]\n",
      " [0. 1. 0.]\n",
      " [0. 1. 0.]\n",
      " [0. 1. 0.]\n",
      " [0. 1. 0.]\n",
      " [0. 1. 0.]\n",
      " [0. 1. 0.]\n",
      " [0. 0. 1.]\n",
      " [0. 0. 1.]\n",
      " [0. 0. 1.]\n",
      " [0. 0. 1.]\n",
      " [0. 0. 1.]\n",
      " [0. 0. 1.]\n",
      " [0. 0. 1.]\n",
      " [0. 0. 1.]\n",
      " [0. 0. 1.]\n",
      " [0. 0. 1.]\n",
      " [0. 0. 1.]\n",
      " [0. 0. 1.]\n",
      " [0. 0. 1.]\n",
      " [0. 0. 1.]\n",
      " [0. 0. 1.]\n",
      " [0. 0. 1.]\n",
      " [0. 0. 1.]\n",
      " [0. 0. 1.]\n",
      " [0. 0. 1.]\n",
      " [0. 0. 1.]\n",
      " [0. 0. 1.]\n",
      " [0. 0. 1.]\n",
      " [0. 0. 1.]\n",
      " [0. 0. 1.]\n",
      " [0. 0. 1.]\n",
      " [0. 0. 1.]\n",
      " [0. 0. 1.]\n",
      " [0. 0. 1.]\n",
      " [0. 0. 1.]\n",
      " [0. 0. 1.]\n",
      " [0. 0. 1.]\n",
      " [0. 0. 1.]\n",
      " [0. 0. 1.]\n",
      " [0. 0. 1.]\n",
      " [0. 0. 1.]\n",
      " [0. 0. 1.]\n",
      " [0. 0. 1.]\n",
      " [0. 0. 1.]\n",
      " [0. 0. 1.]\n",
      " [0. 0. 1.]\n",
      " [0. 0. 1.]\n",
      " [0. 0. 1.]\n",
      " [0. 0. 1.]\n",
      " [0. 0. 1.]\n",
      " [0. 0. 1.]\n",
      " [0. 0. 1.]\n",
      " [0. 0. 1.]\n",
      " [0. 0. 1.]\n",
      " [0. 0. 1.]\n",
      " [0. 0. 1.]]\n"
     ]
    }
   ],
   "execution_count": 3
  },
  {
   "metadata": {
    "ExecuteTime": {
     "end_time": "2024-07-26T16:13:13.019872Z",
     "start_time": "2024-07-26T16:13:13.011029Z"
    }
   },
   "cell_type": "code",
   "source": "print(len(species))",
   "id": "19b4441f7638888",
   "outputs": [
    {
     "name": "stdout",
     "output_type": "stream",
     "text": [
      "3\n"
     ]
    }
   ],
   "execution_count": 4
  },
  {
   "metadata": {
    "ExecuteTime": {
     "end_time": "2024-07-26T16:13:14.246432Z",
     "start_time": "2024-07-26T16:13:14.237781Z"
    }
   },
   "cell_type": "code",
   "source": [
    "# Pytorch model using Secuential\n",
    "model = nn.Sequential(\n",
    "    nn.Linear(x_train.shape[1], 30),\n",
    "    nn.Sigmoid(),\n",
    "    nn.Linear(30, len(species)),\n",
    "    nn.Softmax(dim=1)\n",
    ")"
   ],
   "id": "d16112a615edddf9",
   "outputs": [],
   "execution_count": 5
  },
  {
   "metadata": {
    "ExecuteTime": {
     "end_time": "2024-07-26T16:13:17.236910Z",
     "start_time": "2024-07-26T16:13:15.716688Z"
    }
   },
   "cell_type": "code",
   "source": [
    "loss_fn = nn.MSELoss()\n",
    "\n",
    "optimizer = torch.optim.SGD(model.parameters(), lr=3)"
   ],
   "id": "5ba4711831684b4f",
   "outputs": [],
   "execution_count": 6
  },
  {
   "metadata": {
    "ExecuteTime": {
     "end_time": "2024-07-26T16:13:18.354102Z",
     "start_time": "2024-07-26T16:13:18.168763Z"
    }
   },
   "cell_type": "code",
   "source": [
    "# Training loop\n",
    "num_epochs = 30\n",
    "for epoch in range(num_epochs):\n",
    "    model.train()\n",
    "    for batch_x, batch_y in dataloader_train:\n",
    "        optimizer.zero_grad()\n",
    "        outputs = model(batch_x)\n",
    "        loss = loss_fn(outputs, batch_y)\n",
    "        loss.backward()\n",
    "        optimizer.step()\n",
    "    \n",
    "    # Print loss for every epoch\n",
    "    print(f\"Epoch {epoch+1}/{num_epochs}, Loss: {loss.item()}\")\n"
   ],
   "id": "363410b4ddc6a621",
   "outputs": [
    {
     "name": "stdout",
     "output_type": "stream",
     "text": [
      "Epoch 1/30, Loss: 0.14309106767177582\n",
      "Epoch 2/30, Loss: 0.1917189210653305\n",
      "Epoch 3/30, Loss: 0.03181104362010956\n",
      "Epoch 4/30, Loss: 0.08225158601999283\n",
      "Epoch 5/30, Loss: 0.019021781161427498\n",
      "Epoch 6/30, Loss: 0.0162745900452137\n",
      "Epoch 7/30, Loss: 0.10030723363161087\n",
      "Epoch 8/30, Loss: 0.0672171488404274\n",
      "Epoch 9/30, Loss: 0.052516818046569824\n",
      "Epoch 10/30, Loss: 0.02624068595468998\n",
      "Epoch 11/30, Loss: 0.016457010060548782\n",
      "Epoch 12/30, Loss: 0.030427031219005585\n",
      "Epoch 13/30, Loss: 0.009953872300684452\n",
      "Epoch 14/30, Loss: 0.00733126001432538\n",
      "Epoch 15/30, Loss: 0.05865040794014931\n",
      "Epoch 16/30, Loss: 0.02733949013054371\n",
      "Epoch 17/30, Loss: 0.035035815089941025\n",
      "Epoch 18/30, Loss: 0.034509118646383286\n",
      "Epoch 19/30, Loss: 0.004441320896148682\n",
      "Epoch 20/30, Loss: 0.002584404544904828\n",
      "Epoch 21/30, Loss: 0.01274974923580885\n",
      "Epoch 22/30, Loss: 0.05057146027684212\n",
      "Epoch 23/30, Loss: 0.01773739792406559\n",
      "Epoch 24/30, Loss: 0.026749292388558388\n",
      "Epoch 25/30, Loss: 0.025101276114583015\n",
      "Epoch 26/30, Loss: 0.0008668289519846439\n",
      "Epoch 27/30, Loss: 0.005969901103526354\n",
      "Epoch 28/30, Loss: 0.005144394468516111\n",
      "Epoch 29/30, Loss: 0.0017707450315356255\n",
      "Epoch 30/30, Loss: 0.0063833571039140224\n"
     ]
    }
   ],
   "execution_count": 7
  },
  {
   "metadata": {
    "ExecuteTime": {
     "end_time": "2024-07-26T16:13:25.526092Z",
     "start_time": "2024-07-26T16:13:25.505910Z"
    }
   },
   "cell_type": "code",
   "source": [
    "# Evaluation\n",
    "from sklearn.metrics import accuracy_score, precision_score, recall_score, f1_score\n",
    "\n",
    "# Set model to evaluation mode\n",
    "model.eval()\n",
    "\n",
    "# Initialize lists to hold true and predicted values\n",
    "true_labels = []\n",
    "predicted_labels = []\n",
    "\n",
    "# Disable gradient calculation for evaluation\n",
    "with torch.no_grad():\n",
    "    for batch_x, batch_y in dataloader_test:\n",
    "        outputs = model(batch_x)\n",
    "        _, predicted = torch.max(outputs, 1)\n",
    "        true_labels.extend(batch_y.argmax(dim=1).cpu().numpy())\n",
    "        predicted_labels.extend(predicted.cpu().numpy())\n",
    "\n",
    "# Convert lists to numpy arrays\n",
    "true_labels = np.array(true_labels)\n",
    "predicted_labels = np.array(predicted_labels)\n",
    "\n",
    "# Calculate evaluation metrics\n",
    "accuracy = accuracy_score(true_labels, predicted_labels)\n",
    "precision = precision_score(true_labels, predicted_labels, average='weighted')\n",
    "recall = recall_score(true_labels, predicted_labels, average='weighted')\n",
    "f1 = f1_score(true_labels, predicted_labels, average='weighted')\n",
    "\n",
    "# Print evaluation metrics\n",
    "print(f\"Accuracy: {accuracy}\")\n",
    "print(f\"Precision: {precision}\")\n",
    "print(f\"Recall: {recall}\")\n",
    "print(f\"F1 Score: {f1}\")"
   ],
   "id": "800367c47e75c40f",
   "outputs": [
    {
     "name": "stdout",
     "output_type": "stream",
     "text": [
      "Accuracy: 1.0\n",
      "Precision: 1.0\n",
      "Recall: 1.0\n",
      "F1 Score: 1.0\n"
     ]
    }
   ],
   "execution_count": 8
  },
  {
   "metadata": {},
   "cell_type": "code",
   "source": "",
   "id": "fa47f5e2166d3a19",
   "outputs": [],
   "execution_count": null
  }
 ],
 "metadata": {
  "kernelspec": {
   "display_name": "Python 3",
   "language": "python",
   "name": "python3"
  },
  "language_info": {
   "codemirror_mode": {
    "name": "ipython",
    "version": 2
   },
   "file_extension": ".py",
   "mimetype": "text/x-python",
   "name": "python",
   "nbconvert_exporter": "python",
   "pygments_lexer": "ipython2",
   "version": "2.7.6"
  }
 },
 "nbformat": 4,
 "nbformat_minor": 5
}
